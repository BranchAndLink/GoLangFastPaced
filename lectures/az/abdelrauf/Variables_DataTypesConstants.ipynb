{
 "cells": [
  {
   "cell_type": "markdown",
   "id": "1db6b0c8-b0b5-4b9f-84f7-7890661751f4",
   "metadata": {},
   "source": [
    "### Variables, Types and"
   ]
  },
  {
   "cell_type": "markdown",
   "id": "987dc6e6-705c-4695-a065-28947222a430",
   "metadata": {},
   "source": [
    "### Əsas Primitiv Tiplər. Yaddaşda ölçüsünə və ayrılmasına və yerinə təsir edir."
   ]
  },
  {
   "cell_type": "markdown",
   "id": "c09f2edd-9131-463d-848c-a42bcca2ab05",
   "metadata": {},
   "source": [
    "| Tip  | İzah | Qiymət nümunə |\n",
    "| --- | --- | --- |\n",
    "| int | tam ədədlər | 2, 0, -999|\n",
    "|float32 | kəsr ədədlər | 3.5545, -9.5|\n",
    "|float64 | kəsr ədədlər daha dəqiq hesablamalar üçün 8 baytliq  | 16000001.5, -9.5|\n",
    "|complex64| kompleks ədədlər | 5+4i, 5, i|\n",
    "|complex128| kompleks ədədlər | 5+4i, 5, i|\n",
    "|string| dırnaq işarəsi \" və ya \\` daxilində simvol ardıcıllığı| \"salam\", \"-sds-\", \\`bir neçə sətir\\`|\n",
    "|bool | dogru ve ya yanlis, bul mentiqi| true, false |\n",
    "| byte (uint8 alias))| müsbət 8bit lik , 1baytliq ədəd| 2, 5, [0,255] arası ədəd|\n",
    "|rune (int32 alias)| istenilen simvollar , unikod smilecs ve s| 'a','z', '👍' |\n",
    "|int8| tam ədəd 1 baytliq 8 bitlik| -128 127 [-128,127]|\n",
    "|uint8| 8bit lik müsbət ədəd | 0 255 [0,255] aralığında|\n",
    "|int16, int32, int64| 16,32,64 bitlik||\n",
    "|uint16,uint32,uint64| 16,32,64 bitlik müsbət| 0-dan 2^bit_sayi-1 aralığında ədədlər|"
   ]
  },
  {
   "cell_type": "markdown",
   "id": "18f3ae7a-92a3-4ecb-b39b-0b25c6e0453c",
   "metadata": {},
   "source": [
    "## Dəyişənlər  (Variable)\n",
    "\n",
    "#### **Dəyişən adları üçün qayda**\n",
    "- Dəyişən adı a-z A-Z 0-9 ve _  və hərf olan unikod simvolları ola bilər. Yəni digərləri boşluq və s simvollar ola bilməz.  \n",
    "  Unikod hərflərə icazə olduğundan **dəyişənləri azərbaycanca da** yazmaq olar\n",
    "- Dəyişən adı hərflə və ya _ altdan-xəttlə başlaya bilər. ədədlə yox\n",
    "- Dəyişən adlarında böyük kiçik hərfləri fərqlilik yaradır. Yəni ( uzunluq Uzunluq uZunluq ) dəyişənləri fərqlidir\n",
    "- Dəyişən adlarında Golang dilinin özəl sözlərini istifadə etmək olmaz. Məsələn: for\n",
    "\n",
    "##### Ad yazılımında standardlar\n",
    "- **Camel case**. Nümunə: mənimDəyişəninAdı, fiqurunUzunluğu\n",
    "- **Pascal Case**. Nümunə: MənimDəyişəninAdı, FiqurunUzunluğu\n",
    "- **Snake case**. Nümunə: mənim_dəyişənin_adı, fiqurun_uzunluğu\n",
    " \n",
    "#### Dəyişən elanı\n",
    "\n",
    "<pre>\n",
    "    Qeyd: [ ] işarəsi daxilində olanlar buraxıla bilinər.\n",
    "    Qeyd: Tip buraxılan elanlarda Go ən uyğun tipi özü müəyyən edir ( type inference)\n",
    "\n",
    "    var ad [tip]   \n",
    "    var ad [tip] = qiymet    \n",
    "    var ad = qiymet  \n",
    "    ad := qiymet\n",
    "\n",
    "    var ad1, ad2 ,.. = ad1_qiymət, ad2_qiymət, ..  \n",
    "    ad1, ad2 ,.. := ad1_qiymət, ad2_qiymət, ..                                      \n",
    "\n",
    "    var (\n",
    "        ad1 [tip1]\n",
    "        ad2 [tip2] = ad2_qiymət\n",
    "        ad3 [tip3] = ad3_qiymət  \n",
    "        ...\n",
    "    )\n",
    "\n",
    "    //eyni tipli bir neçəsi\n",
    "    var ad1, ad2 ,.. [eyni_tip] = ad1_qiymət, ad2_qiymət, ..\n",
    "    Nümunə: var a,b,c int = 4,5,7\n",
    "\n",
    "</pre>\n"
   ]
  },
  {
   "cell_type": "code",
   "execution_count": 65,
   "id": "b43912a0-71f2-4ad6-93d0-b1dafbbd470a",
   "metadata": {},
   "outputs": [
    {
     "name": "stdout",
     "output_type": "stream",
     "text": [
      "Sadə yazı 3.5 40\n"
     ]
    }
   ],
   "source": [
    "import \"fmt\"\n",
    "\n",
    "func main(){\n",
    "  var uzunluq float32 = 3.5\n",
    "  var adamların_sayı = 40\n",
    "  metn := \"Sadə yazı\"\n",
    "  fmt.Println(metn, uzunluq, adamların_sayı)\n",
    "\n",
    "}"
   ]
  },
  {
   "cell_type": "code",
   "execution_count": 66,
   "id": "a4b22e01-e30f-41c5-bd4f-5cf3ff14c065",
   "metadata": {},
   "outputs": [
    {
     "name": "stdout",
     "output_type": "stream",
     "text": [
      "Sadə yazı 3.5 40\n"
     ]
    }
   ],
   "source": [
    "%%\n",
    "  var uzunluq,adamların_sayı,mətn   = 3.5, 40, \"Sadə yazı\"\n",
    "  fmt.Println(mətn, uzunluq, adamların_sayı)"
   ]
  },
  {
   "cell_type": "code",
   "execution_count": 67,
   "id": "e97623c5-11da-4822-8146-61c72ad4b458",
   "metadata": {},
   "outputs": [
    {
     "name": "stdout",
     "output_type": "stream",
     "text": [
      "3.5 40 Sadə yazı\n"
     ]
    }
   ],
   "source": [
    "%%\n",
    "  uzunluq,adamların_sayı,mətn   := 3.5, 40, \"Sadə yazı\"\n",
    "  fmt.Println(uzunluq,adamların_sayı,mətn)"
   ]
  },
  {
   "cell_type": "code",
   "execution_count": 68,
   "id": "e3c892fb",
   "metadata": {},
   "outputs": [
    {
     "name": "stdout",
     "output_type": "stream",
     "text": [
      "Sadə yazı 3.5 40\n"
     ]
    }
   ],
   "source": [
    "%%\n",
    "var (\n",
    "\tuzunluq float32 = 3.5\n",
    "\tadamların_sayı = 40\n",
    "\tmətn string = \"Sadə yazı\" \n",
    ")\n",
    "fmt.Println(mətn, uzunluq, adamların_sayı)"
   ]
  },
  {
   "cell_type": "markdown",
   "id": "20485880",
   "metadata": {},
   "source": [
    "#### var və := arasında fərqlər\n",
    "| var | := |\n",
    "| --- |---|\n",
    "| funksiya daxilində və xaricində istifadə etmək olur | Yalnız funksiya daxilində istifadə etmək olur|\n",
    "|dəyişən elanı və ilkin qiymət ayrı ayrı qeyd etmək olur| elan və ilkin qiymət eyni sətirdə olur|"
   ]
  },
  {
   "cell_type": "markdown",
   "id": "d6b18f9b-8562-48e5-9061-e0ef2b2cd254",
   "metadata": {},
   "source": [
    "###  '=' Mənimsətmə əməliyyatı ilə dəyişənin qiymətini sonradan da dəyişə bilirik  \n",
    "(*Proqramçı Qeydi: = riyazi bərabərliklə eyni anlam daşıması üçün dəyişən immutable (dəyişilməsi icazə verilməyən) olmalıdır, əks halda bu əməliyyata bərabərdir demək yanlışdır*)"
   ]
  },
  {
   "cell_type": "code",
   "execution_count": 69,
   "id": "ac9a7c3f-ba71-4ae5-adc0-084ae1cc2834",
   "metadata": {},
   "outputs": [
    {
     "name": "stdout",
     "output_type": "stream",
     "text": [
      "Sadə yazı 99.5 40\n"
     ]
    }
   ],
   "source": [
    "%%\n",
    "   uzunluq,adamların_sayı,mətn   := 3.5, 40, \"Sadə yazı\"\n",
    "  uzunluq = 99.5\n",
    "  fmt.Println(mətn, uzunluq, adamların_sayı)"
   ]
  },
  {
   "cell_type": "markdown",
   "id": "84c0da03",
   "metadata": {},
   "source": [
    "Go dilində əgər dəyişən elan edilibsə mütləq istifadə edilməlidir"
   ]
  },
  {
   "cell_type": "code",
   "execution_count": 70,
   "id": "a03da24e",
   "metadata": {},
   "outputs": [
    {
     "data": {
      "text/html": [
       "\n",
       "<style>\n",
       ".gonb-error-location {\n",
       "\tbackground: var(--jp-error-color2);  \n",
       "\tborder-radius: 3px;\n",
       "\tborder-style: dotted;\n",
       "\tborder-width: 1px;\n",
       "\tborder-color: var(--jp-border-color2);\n",
       "}\n",
       ".gonb-error-location:hover {\n",
       "\tborder-width: 2px;\n",
       "\tborder-style: solid;\n",
       "\tborder-color: var(--jp-border-color2);\n",
       "}\n",
       ".gonb-error-context {\n",
       "\tdisplay: none;\n",
       "}\n",
       ".gonb-error-location:hover + .gonb-error-context {\n",
       "\tbackground: var(--jp-dialog-background);  \n",
       "\tborder-radius: 3px;\n",
       "\tborder-style: solid;\n",
       "\tborder-width: 1px;\n",
       "\tborder-color: var(--jp-border-color2);\n",
       "\tdisplay: block;\n",
       "\twhite-space: pre;\n",
       "\tfont-family: monospace;\n",
       "}\n",
       ".gonb-error-line {\n",
       "\tborder-radius: 3px;\n",
       "\tborder-style: dotted;\n",
       "\tborder-width: 1px;\t\n",
       "\tborder-color: var(--jp-border-color2);\n",
       "\tbackground-color: var(--jp-rendermime-error-background);\n",
       "\tfont-weight: bold;\n",
       "}\n",
       ".gonb-cell-line-info {\n",
       "\tbackground: var(--jp-layout-color2);\n",
       "\tcolor: #999;\n",
       "\tmargin: 0.1em;\n",
       "\tborder: 1px solid var(--jp-border-color1);\n",
       "\tpadding-left: 0.2em;\n",
       "\tpadding-right: 0.2em;\n",
       "}\n",
       "</style>\n",
       "<div class=\"lm-Widget p-Widget lm-Panel p-Panel jp-OutputArea-child\">\n",
       "<div class=\"lm-Widget p-Widget jp-RenderedText jp-mod-trusted jp-OutputArea-output\" data-mime-type=\"application/vnd.jupyter.stderr\" style=\"font-family: monospace;\">\n",
       "\n",
       "\n",
       "<span style=\"white-space: pre;\"> # gonb_a54331cb</span>\n",
       "\n",
       "<br/>\n",
       "\n",
       "<span class=\"gonb-cell-line-info\">Cell[70]: Line 2</span>\n",
       "<span class=\"gonb-error-location\">./main.go:58:2: </span> a declared and not used\n",
       "<div class=\"gonb-error-context\">\n",
       "\n",
       "func main() {\n",
       "\tflag.Parse()\n",
       "<div class=\"gonb-error-line\">\ta:=8\n",
       "</div>\n",
       "}\n",
       "\n",
       "</div>\n",
       "\n",
       "<br/>\n",
       "\n",
       "\n",
       "<span style=\"white-space: pre;\"> </span>\n",
       "\n",
       "<br/>\n",
       "\n",
       "</div>\n"
      ]
     },
     "metadata": {},
     "output_type": "display_data"
    },
    {
     "ename": "ERROR",
     "evalue": "failed to run \"/usr/local/go/bin/go build -o /tmp/gonb_a54331cb/gonb_a54331cb\": exit status 1",
     "output_type": "error",
     "traceback": [
      "failed to run \"/usr/local/go/bin/go build -o /tmp/gonb_a54331cb/gonb_a54331cb\": exit status 1"
     ]
    }
   ],
   "source": [
    "%%\n",
    "a:=8"
   ]
  },
  {
   "cell_type": "markdown",
   "id": "a92ff0d8",
   "metadata": {},
   "source": [
    "Əgər dəyişəni istifadə etməyəcəyiksə _ adı verə bilərik. Qeyd: bu zaman iqnor etdiyimizdən əlavə dəyişən olmalıdır"
   ]
  },
  {
   "cell_type": "code",
   "execution_count": null,
   "id": "d22cf313",
   "metadata": {},
   "outputs": [
    {
     "name": "stdout",
     "output_type": "stream",
     "text": [
      "77"
     ]
    }
   ],
   "source": [
    "%%\n",
    "a,_ := 77, 5\n",
    "fmt.Print(a)"
   ]
  },
  {
   "cell_type": "markdown",
   "id": "b6dca48d-c577-42f6-b968-9d8fb5a5f4cc",
   "metadata": {},
   "source": [
    "#### Konstant Sabit , Proqramda sabit deyishilmeyen qiymetler uchun istifade edirik"
   ]
  },
  {
   "cell_type": "markdown",
   "id": "3882e71e-016a-4dea-8ba7-922c3559ffe5",
   "metadata": {},
   "source": [
    "<pre>\n",
    "    const ad = qiymət  \n",
    "    const ad [tip] = qiymət\n",
    "\n",
    "    const(\n",
    "        ad = qiymət1\n",
    "        ad1   // blok içində dəyəsiz vermək olur. ya əvvəlkinin qiymətini alacaq ya da iota varsa sıra dəyəri alacaq\n",
    "        ad2 = qiymət2\n",
    "    )\n",
    "</pre>"
   ]
  },
  {
   "cell_type": "markdown",
   "id": "c1ec69a9-2091-4af9-b52b-27ab46cb1c87",
   "metadata": {},
   "source": [
    "**Konstant** sonradan dəyişmək olmaz"
   ]
  },
  {
   "cell_type": "code",
   "execution_count": null,
   "id": "1d9f7a91-e457-441b-9b3a-cd4f5108eb39",
   "metadata": {},
   "outputs": [
    {
     "name": "stdout",
     "output_type": "stream",
     "text": [
      "Pi ededi  3.14 Bakı Azərbaycan\n"
     ]
    }
   ],
   "source": [
    "%%\n",
    "const pi = 3.14\n",
    "const (\n",
    "\tpaytaxt = \"Bakı\"\n",
    "\tölkə = \"Azərbaycan\"\n",
    ")\n",
    "fmt.Println(\"Pi ededi \", pi, paytaxt, ölkə)"
   ]
  },
  {
   "cell_type": "markdown",
   "id": "76f87b5f",
   "metadata": {},
   "source": [
    "**iota** konstant generatoru. Bəzən biz ardıcıl əlaqəli konstant elan etmək istəyirik.   \n",
    "Bunun üçün biz tam ədəd olan iota identifikatorundan istifadə edə bilərik.   \n",
    "iota konstant bloku daxilində 0 dəyəri alır və ondan ardıcıllıq vermək üçün istifadə edə bilərik.   \n",
    "İstifadə nümunələrinə baxaq\n",
    "\n"
   ]
  },
  {
   "cell_type": "code",
   "execution_count": null,
   "id": "67dce5ff",
   "metadata": {},
   "outputs": [
    {
     "name": "stdout",
     "output_type": "stream",
     "text": [
      "0 1 2 6\n"
     ]
    }
   ],
   "source": [
    "const (\n",
    "\tBazar  = iota  // 0\n",
    "\tBazarErtəsi    // 1\n",
    "\tÇərşənbəAxşamı // 2\n",
    "\tÇərşənbə       // 3\n",
    "\tCüməAxşamı     // 4\n",
    "\tCümə           // 5\n",
    "\tŞənbə          // 6\n",
    ")\n",
    "\n",
    "%%\n",
    "fmt.Println(Bazar, BazarErtəsi, ÇərşənbəAxşamı, Şənbə)"
   ]
  },
  {
   "cell_type": "markdown",
   "id": "6142c459",
   "metadata": {},
   "source": [
    "blok daxilində bir neçə iota verdiyimizdə olan davranışa baxsaq görərik ki, ardıcıllıq ilkinə nisbətdəç sıraya əsasən təyin edilir."
   ]
  },
  {
   "cell_type": "code",
   "execution_count": null,
   "id": "2eb488c0",
   "metadata": {},
   "outputs": [
    {
     "name": "stdout",
     "output_type": "stream",
     "text": [
      "55 55 2 4 7 9\n"
     ]
    }
   ],
   "source": [
    "const (\n",
    "\theçnə = 55\n",
    "\ttəkrar    // blok içində heçnə vermədiyimizdən əvvəlkinin dəyərini götürüb\n",
    "\tiki  = iota  // 2\n",
    "\t_    // 3 // _ işarəsi lazımsız deməkdir. və bir neçə dəfə istifadə edə bilirik\n",
    "\tdörd // 4\n",
    "\t_       // 5\n",
    "\t_     // 6\n",
    "\tyeddi  = iota         // 7\n",
    "\t_  //8\n",
    "\tdoqquz          // 9\n",
    ")\n",
    "\n",
    "%%\n",
    "fmt.Println(heçnə, təkrar,  iki , dörd, yeddi, doqquz)"
   ]
  },
  {
   "cell_type": "markdown",
   "id": "bd2f6fdb",
   "metadata": {},
   "source": [
    "iota ilə birgə riyazi əməllər edib fəqrli konstant də vermək olar. sadəlik üçün + əməlini istifad edəcəyik."
   ]
  },
  {
   "cell_type": "code",
   "execution_count": null,
   "id": "caac5f89",
   "metadata": {},
   "outputs": [
    {
     "name": "stdout",
     "output_type": "stream",
     "text": [
      "99 2\n"
     ]
    }
   ],
   "source": [
    "const (\n",
    "\tg = iota + 99  //0 + 99\n",
    "\tt = iota + 1   // 1 + 1\n",
    ")\n",
    "%%\n",
    "fmt.Println(g, t)"
   ]
  },
  {
   "cell_type": "markdown",
   "id": "924c3f51",
   "metadata": {},
   "source": [
    "blok içində olmayan konstantlar üçün iota elə ilkin sıra dəyərini alır. yəni 0"
   ]
  },
  {
   "cell_type": "code",
   "execution_count": null,
   "id": "aa5f4232",
   "metadata": {},
   "outputs": [
    {
     "name": "stdout",
     "output_type": "stream",
     "text": [
      "0 33 0 33\n"
     ]
    }
   ],
   "source": [
    "const w = iota  // w == 0\n",
    "const x = 33\n",
    "const y = iota  // y == 0\n",
    "const z = x\n",
    "%%\n",
    "fmt.Println(w, x, y, z)"
   ]
  },
  {
   "cell_type": "markdown",
   "id": "90f9296f-f1b3-403b-9c20-8a7518364317",
   "metadata": {},
   "source": [
    "### Bir tipdən digər (çevrilə bilən) tipə aşkar keçirmək üsulu"
   ]
  },
  {
   "cell_type": "markdown",
   "id": "99f06b76-1b91-45d4-b573-eab47f55f491",
   "metadata": {},
   "source": [
    "**tip( dəyişənin_adı)**"
   ]
  },
  {
   "cell_type": "code",
   "execution_count": null,
   "id": "01592a79-873f-4ea4-864c-622e8de2193c",
   "metadata": {},
   "outputs": [
    {
     "name": "stdout",
     "output_type": "stream",
     "text": [
      "3\n"
     ]
    }
   ],
   "source": [
    "%%\n",
    "uzunluq:=3.5\n",
    "var tam_uzunluq int = int(uzunluq)\n",
    "fmt.Println(tam_uzunluq)"
   ]
  },
  {
   "cell_type": "markdown",
   "id": "a4f91144",
   "metadata": {},
   "source": [
    "<h4 style=\"color:red\"><b>var  dəyişən elanında ilkin qiymətlənmə ardıcıllığı.</b></h4>\n",
    "ilkin qiymətləndirmədə  əgər bir dəyişən digər dəyişəndən asılı olduqda ardıcıllıq dəyişən elanına görə yox <b>asılıllığa görə olur</b>"
   ]
  },
  {
   "cell_type": "code",
   "execution_count": null,
   "id": "e9013772",
   "metadata": {},
   "outputs": [
    {
     "name": "stdout",
     "output_type": "stream",
     "text": [
      "5 9\n"
     ]
    }
   ],
   "source": [
    "%%\n",
    "var a int = c\n",
    "var c int = 9\n",
    "fmt.Println(a,c)\n"
   ]
  },
  {
   "cell_type": "code",
   "execution_count": null,
   "id": "367b8dcc",
   "metadata": {},
   "outputs": [
    {
     "name": "stdout",
     "output_type": "stream",
     "text": [
      "9 6 9 6\n"
     ]
    }
   ],
   "source": [
    "%%\n",
    "var (\n",
    "\ta int = c\n",
    "\tb int = d\n",
    "\td int = 6\n",
    "\tc int = 9\n",
    ")\n",
    "\n",
    "fmt.Println(a,b,c,d)"
   ]
  },
  {
   "cell_type": "code",
   "execution_count": null,
   "id": "d78b3a37",
   "metadata": {},
   "outputs": [
    {
     "name": "stdout",
     "output_type": "stream",
     "text": [
      "9 4 5 5 kjkjk\n"
     ]
    }
   ],
   "source": [
    "\n",
    "var (\n",
    "\ta = c + b  // == 9\n",
    "\tb = f()    // == 4\n",
    "\tc = f()    // == 5\n",
    "\td = 3      // == 5  \n",
    ")\n",
    "\n",
    "func f() int {\n",
    "\td++\n",
    "\treturn d\n",
    "}\n",
    "\n",
    "%%\n",
    "fmt.Println(a,b,c,d )\n"
   ]
  }
 ],
 "metadata": {
  "kernelspec": {
   "display_name": "Go (gonb)",
   "language": "go",
   "name": "gonb"
  },
  "language_info": {
   "codemirror_mode": "",
   "file_extension": ".go",
   "mimetype": "",
   "name": "go",
   "nbconvert_exporter": "",
   "pygments_lexer": "",
   "version": "go1.20.5"
  }
 },
 "nbformat": 4,
 "nbformat_minor": 5
}
