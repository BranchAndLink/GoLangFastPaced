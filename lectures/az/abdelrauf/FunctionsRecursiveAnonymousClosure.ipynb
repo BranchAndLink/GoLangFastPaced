{
 "cells": [
  {
   "cell_type": "markdown",
   "metadata": {},
   "source": [
    "#### First Class Function (1-ci sinif funksiyalar)   \n",
    "\n",
    "Go dilində funksiyalar 1-ci sinifdir. Bu o deməkdir ki, funksiyalar dəyişənə mənimsədilə, digər funksiyaya ötürülə, nəticə kimi qaytarıla bilinir.  \n",
    "Dediklərimizi misallarla göstərək   \n"
   ]
  },
  {
   "cell_type": "markdown",
   "metadata": {},
   "source": [
    "Funksiya dəyişən kimi"
   ]
  },
  {
   "cell_type": "code",
   "execution_count": 108,
   "metadata": {},
   "outputs": [
    {
     "name": "stdout",
     "output_type": "stream",
     "text": [
      "func(int) int\n",
      "60\n"
     ]
    }
   ],
   "source": [
    "func Go(h int) int {\n",
    "    return h + 5\n",
    "}\n",
    "\n",
    "%%\n",
    "funksiya := Go\n",
    "fmt.Printf(\"%T\\n\", funksiya)\n",
    "fmt.Println(funksiya(55))"
   ]
  },
  {
   "cell_type": "markdown",
   "metadata": {},
   "source": [
    "Funksiya arqument kimi"
   ]
  },
  {
   "cell_type": "code",
   "execution_count": 109,
   "metadata": {},
   "outputs": [
    {
     "name": "stdout",
     "output_type": "stream",
     "text": [
      "Toplama 56\n",
      "Vurma 12700800\n"
     ]
    }
   ],
   "source": [
    "func DoCalc( operator func(int, int) int, initial int,  args ...int) (netice int) {\n",
    "\n",
    "    netice = initial\n",
    "\n",
    "    for _, x:= range args {\n",
    "        netice = operator(netice, x)\n",
    "    }\n",
    "    return\n",
    "}\n",
    "\n",
    "func Toplama (x, y int) int {\n",
    "    return x+y\n",
    "}\n",
    "\n",
    "func Vurma (x, y int) int {\n",
    "    return x*y\n",
    "}\n",
    "\n",
    "%%\n",
    "\n",
    "ededler := [...] int {4,5,6,7,8,9,7,5,3,2}\n",
    "\n",
    "fmt.Println( \"Toplama\", DoCalc(Toplama, 0, ededler[:]...))\n",
    "fmt.Println( \"Vurma\",  DoCalc(Vurma, 1, ededler[:]...))\n"
   ]
  },
  {
   "cell_type": "markdown",
   "metadata": {},
   "source": [
    "Funksiya nəticə kimi"
   ]
  },
  {
   "cell_type": "code",
   "execution_count": 110,
   "metadata": {},
   "outputs": [
    {
     "name": "stdout",
     "output_type": "stream",
     "text": [
      "Toplama 56\n",
      "Vurma 12700800\n"
     ]
    }
   ],
   "source": [
    "func Funksiya ( op string )  func(int, int) int  {\n",
    "\n",
    "    switch op {\n",
    "        case \"+\":\n",
    "        return Toplama\n",
    "        case \"*\":\n",
    "        return Vurma\n",
    "        default:\n",
    "        return Toplama\n",
    "    }\n",
    "\n",
    "}\n",
    "\n",
    "%%\n",
    "ededler := [...] int {4,5,6,7,8,9,7,5,3,2}\n",
    "\n",
    "fmt.Println( \"Toplama\", DoCalc(Funksiya(\"+\"), 0, ededler[:]...))\n",
    "fmt.Println( \"Vurma\",  DoCalc(Funksiya(\"*\"), 1, ededler[:]...))"
   ]
  },
  {
   "cell_type": "markdown",
   "metadata": {},
   "source": [
    "##### Anonymous Function (Anonim funksiya) \n",
    "\n",
    "Bəzən müvəqqəti adsız funksiya düzəltmək istəyirik. Bu zaman anonim funksiyadan (və ya lambda-dan) istifadə edə bilərik.   \n",
    "Bu funksiyanı istənilən yerdə elan edə bilməmimiz işimizi asanlaşdırır\n"
   ]
  },
  {
   "cell_type": "code",
   "execution_count": 111,
   "metadata": {},
   "outputs": [
    {
     "name": "stdout",
     "output_type": "stream",
     "text": [
      "func(int) int\n",
      "60\n"
     ]
    }
   ],
   "source": [
    "%%\n",
    "funksiya := func (h int) int {\n",
    "\treturn h + 5\n",
    "}\n",
    "fmt.Printf(\"%T\\n\", funksiya)\n",
    "fmt.Println(funksiya(55))"
   ]
  },
  {
   "cell_type": "code",
   "execution_count": 112,
   "metadata": {},
   "outputs": [
    {
     "name": "stdout",
     "output_type": "stream",
     "text": [
      "Toplama 56\n",
      "Vurma 12700800\n"
     ]
    }
   ],
   "source": [
    "\n",
    "\n",
    "%%\n",
    "sechim := func ( op string )  func(int, int) int  {\n",
    "\n",
    "    switch op {\n",
    "        case \"+\":\n",
    "        return func(x,y int) int {\n",
    "\t\t\treturn x + y\n",
    "\t\t}\n",
    "        case \"*\":\n",
    "        return  func(x,y int) int {\n",
    "\t\t\treturn x * y\n",
    "\t\t}\n",
    "        default:\n",
    "        return  func(x,y int) int {\n",
    "\t\t\treturn x + y\n",
    "\t\t}\n",
    "    }\n",
    "\n",
    "}\n",
    "ededler := [...] int {4,5,6,7,8,9,7,5,3,2}\n",
    "\n",
    "fmt.Println( \"Toplama\", DoCalc(sechim(\"+\"), 0, ededler[:]...))\n",
    "fmt.Println( \"Vurma\",  DoCalc(sechim(\"*\"), 1, ededler[:]...))"
   ]
  },
  {
   "cell_type": "code",
   "execution_count": 113,
   "metadata": {},
   "outputs": [
    {
     "name": "stdout",
     "output_type": "stream",
     "text": [
      "Hello GoLang\n"
     ]
    }
   ],
   "source": [
    "%%\n",
    "func(name string) {\n",
    "\tfmt.Println(\"Hello\",name)\n",
    "}(\"GoLang\")"
   ]
  },
  {
   "cell_type": "markdown",
   "metadata": {},
   "source": [
    "Funksiya əgər digər funksiyaları arqument kimi götürüb və ya nəticə kimi qaytarırsa   \n",
    "ona **High Order functions** deyirik."
   ]
  },
  {
   "cell_type": "markdown",
   "metadata": {},
   "source": [
    "##### Closure  (klojr)\n",
    "Closure dedikdə funksiya xaricində olan dəyişənləri funksiya daxilində (arqument kimi verilmədən) işlətmək imkanı nəzərdə tutulur.  \n",
    "Bu özəllik bizə bir çox məsələləri daha sadə həll etməyə imkan  verəcək.   \n",
    "\n"
   ]
  },
  {
   "cell_type": "code",
   "execution_count": 114,
   "metadata": {},
   "outputs": [
    {
     "name": "stdout",
     "output_type": "stream",
     "text": [
      "Hello Golang\n"
     ]
    }
   ],
   "source": [
    "%%\n",
    "name := \"Golang\"\n",
    "func() {\n",
    "\tfmt.Println(\"Hello\",name)\n",
    "}()"
   ]
  },
  {
   "cell_type": "markdown",
   "metadata": {},
   "source": [
    "Aşağıdakı misalda toplayan() funksiyası cem dəyişənini özündə saxlayan closure qaytaracaq.   \n",
    "Nəticə etibarilə hər dəfə closure-i çağırdıqda cem dəyişəcək"
   ]
  },
  {
   "cell_type": "code",
   "execution_count": 115,
   "metadata": {},
   "outputs": [
    {
     "name": "stdout",
     "output_type": "stream",
     "text": [
      "5\n",
      "10\n",
      "15\n"
     ]
    }
   ],
   "source": [
    "\n",
    "func toplayan() func(int) int {\n",
    "\tcem := 0\n",
    "\treturn func(x int) int {\n",
    "\t\tcem += x\n",
    "\t\treturn cem\n",
    "\t}\n",
    "}\n",
    "\n",
    "%%\n",
    "s:=toplayan()\n",
    "fmt.Println(s(5))\n",
    "fmt.Println(s(5))\n",
    "fmt.Println(s(5))"
   ]
  },
  {
   "cell_type": "markdown",
   "metadata": {},
   "source": [
    "Yuxarıda öyrəndiklərimizi tətbiq etməklə bəzi maraqlı funksiyalar yığaq"
   ]
  },
  {
   "cell_type": "markdown",
   "metadata": {},
   "source": [
    "Funksiyaların kompozisiyası. Mürəkkən funksiya"
   ]
  },
  {
   "cell_type": "code",
   "execution_count": 116,
   "metadata": {},
   "outputs": [
    {
     "name": "stdout",
     "output_type": "stream",
     "text": [
      "~~228~~\n"
     ]
    }
   ],
   "source": [
    "func MurekkebFunksiya( f func(x int) float64, g  func (x float64) string )   func(int) string {\n",
    "\treturn func(x int) string {\n",
    "\t\treturn g(f(x))\n",
    "\t}\n",
    "}\n",
    "\n",
    "%%\n",
    "f:= func(x int) float64 {\n",
    "\treturn float64(x)/2.0\n",
    "}\n",
    "g:= func(x float64) string {\n",
    "\tmetn := fmt.Sprintf(\"~~%g~~\", x) \n",
    "\treturn metn\n",
    "}\n",
    "mmm := MurekkebFunksiya(f,g)\n",
    "fmt.Println(mmm(456))"
   ]
  },
  {
   "cell_type": "markdown",
   "metadata": {},
   "source": [
    "Filter funksiyası arqument kimi"
   ]
  },
  {
   "cell_type": "code",
   "execution_count": 117,
   "metadata": {},
   "outputs": [
    {
     "name": "stdout",
     "output_type": "stream",
     "text": [
      "[-2 -8 8 5 0 1 9 7 55 66 7 -3 -5 6] [8 5 1 9 7 55 66 7 6] [55 66]\n"
     ]
    }
   ],
   "source": [
    "type Filter  func(int) bool\n",
    "\n",
    "func SliceFilterInPlace(a []int, filterFunk Filter) (len int) {\n",
    "    for _, x := range a {\n",
    "       if filterFunk(x) {\n",
    "\t\t\ta[len] = x\n",
    "\t\t\tlen++\n",
    "\t   }\n",
    "\t}\n",
    "\t\n",
    "\treturn\n",
    "}\n",
    "\n",
    "func SliceFilter(a []int, filterFunk Filter) [] int {\n",
    "\tslice := make([]int, 0, len(a)/2)\n",
    "    for _, x := range a {\n",
    "       if filterFunk(x) {\n",
    "\t\t\tslice = append(slice, x)\n",
    "\t   }\n",
    "\t}\n",
    "\t\n",
    "\treturn slice\n",
    "}\n",
    "%%\n",
    "\n",
    "vals := []int{-2, -8, 8, 5, 99, 0, 1, 9, 7, 55, 66, 7, -3, -5, 6, 111}\n",
    "lenx := SliceFilterInPlace(vals, func (x int) bool {\n",
    "\treturn x<77\n",
    "})\n",
    "\n",
    "filtered := SliceFilter(vals[:lenx], func (x int ) bool {\n",
    "\treturn x>0\n",
    "})\n",
    "filtered2 := SliceFilter(filtered, func (x int ) bool {\n",
    "\treturn x>10\n",
    "})\n",
    "fmt.Println(vals[:lenx], filtered, filtered2)"
   ]
  },
  {
   "cell_type": "markdown",
   "metadata": {},
   "source": [
    "Currying. \n",
    "Currying dedikdə Funksiyanın arqumentlərini ardıcıl vermə bacarığı nəzrədə tutulur.    \n",
    "Haskell kimi dillərdə adi funksiya bu özəlliyə sahibdir.  \n",
    "Go dilində biz bu özəlliyi bildiklərimizlə əldə edə bilərik. \n",
    "Arqumentləri sıra ilə tətbiq etmək.  \n",
    "Qeyd: Bundan daha yaxşı istifadə üçün **curry aid paketlərdən** istifadə etmək lazımdır."
   ]
  },
  {
   "cell_type": "code",
   "execution_count": 124,
   "metadata": {},
   "outputs": [
    {
     "name": "stdout",
     "output_type": "stream",
     "text": [
      "main.CR4 30\n",
      "main.CR3 30\n",
      "main.CR2 30\n",
      "main.CR1 30\n",
      "func() int 30\n",
      "(8+8+2) * 55 = 990\n"
     ]
    }
   ],
   "source": [
    "type CR1 func (int) int\n",
    "type CR2 func (int, int) int\n",
    "type CR3 func (int, int, int) int\n",
    "type CR4 func (int, int, int, int) int\n",
    "\n",
    "func (f CR1) Curry( arg int )  func() int {\n",
    "\treturn func () int {\n",
    "\t   return  f(arg)\n",
    "\t}\n",
    "}\n",
    "\n",
    "func (f CR2) Curry( arg int )  CR1 {\n",
    "     return func (h int) int {\n",
    "\t\treturn  f(arg, h)\n",
    "\t }\n",
    "}\n",
    "\n",
    "func (f CR3) Curry( arg int )  CR2 {\n",
    "\treturn func ( x, y int) int  {\n",
    "\t   return  f(arg, x, y)\n",
    "\t}\n",
    "}\n",
    "\n",
    "func (f CR4) Curry( arg int ) CR3 {\n",
    "\treturn func ( x, y, z int) int {\n",
    "\t   return  f(arg, x, y, z)\n",
    "\t}\n",
    "}\n",
    "\n",
    "%%\n",
    "var fn CR4  = func(x,y,z, d int) int {\n",
    "\treturn (x+y +z )*d\n",
    "}\n",
    "fn4 := fn.Curry(4)\n",
    "fn4_5 := fn4.Curry(5)\n",
    "fn4_5_6 := fn4_5.Curry(6)\n",
    "fn4_5_6_2 := fn4_5_6.Curry(2)\n",
    "fmt.Printf(\"%T %v\\n\",fn,  fn(4,5,6,2))\n",
    "fmt.Printf(\"%T %v\\n\",fn4,  fn4(5,6,2))\n",
    "fmt.Printf(\"%T %v\\n\",fn4_5,  fn4_5(6,2)) \n",
    "fmt.Printf(\"%T %v\\n\",fn4_5_6,  fn4_5_6(2))\n",
    "fmt.Printf(\"%T %v\\n\",fn4_5_6_2,  fn4_5_6_2())\n",
    "fn882 := fn.Curry(8).Curry(8).Curry(2)\n",
    "fmt.Printf(\"(8+8+2) * 55 = %v\\n\",fn882(55))"
   ]
  },
  {
   "cell_type": "markdown",
   "metadata": {},
   "source": [
    "#### Rekursion (Rekursiya) \n",
    "Funksiya əgər daxildə öz funksiyasını çağırırsa buna rekursiya deyilir. Həmçinin Əgər funksiya çağırdığı funksiyalardan biri də təzədən onu çağırırsa  \n",
    "rekursiya baş verir. Rekursiv funksiyalarla biz bəzi alqoritmik məsələləri həll edə bilirik.   \n",
    "Lakin nəzərə almaq lazımdır ki rekursiya (call stack) stek yaddaşın dolmasına səbəb olur.   \n",
    "(<span style=\"color:red\">Qeyd GO-da hələki rekursiv funksiyalar (tail recursion optimization) <b>optimallaş-ma-dığından</b> alqoritmik həlləri for iterasiyası ilə yığmaq məsləhətdir</span>)"
   ]
  },
  {
   "cell_type": "code",
   "execution_count": 119,
   "metadata": {},
   "outputs": [
    {
     "name": "stderr",
     "output_type": "stream",
     "text": [
      "720"
     ]
    }
   ],
   "source": [
    "func faktorial(n int) int {\n",
    "    if n == 0 {\n",
    "        return 1\n",
    "    }\n",
    "    return n * faktorial(n-1)\n",
    "}\n",
    "\n",
    "%%\n",
    "print(faktorial(6))"
   ]
  },
  {
   "cell_type": "code",
   "execution_count": 120,
   "metadata": {},
   "outputs": [
    {
     "name": "stderr",
     "output_type": "stream",
     "text": [
      "11145"
     ]
    }
   ],
   "source": [
    "func cem( a [] int) int {\n",
    "\tif len(a) <2 {\n",
    "\t\treturn a[0]\n",
    "\t}\n",
    "\treturn a[0] + cem(a[1:])\n",
    "}\n",
    "\n",
    "%%\n",
    "print(cem([]int{1,2,3,4,5,6,7,8,9,100,1000,10000}))"
   ]
  },
  {
   "cell_type": "markdown",
   "metadata": {},
   "source": [
    "Aşağıdakı misalda  anonim closure funksiyasında rekursiyanı vermək üçün fibonacci dəyişənini var ilə **əvvəlcədən** bəyan etməli oluruq.  \n",
    "Əks halda closure-mız funksiyanı təyin edə bilmir.  "
   ]
  },
  {
   "cell_type": "code",
   "execution_count": 121,
   "metadata": {},
   "outputs": [
    {
     "name": "stderr",
     "output_type": "stream",
     "text": [
      "610"
     ]
    }
   ],
   "source": [
    "%%\n",
    "var fibonacci func(n int) int\n",
    "fibonacci = func(n int) int {\n",
    "\tif n < 2 {\n",
    "\t\treturn n\n",
    "\t} \n",
    "\treturn fibonacci(n-1) + fibonacci(n-2)\n",
    "}\n",
    "print(fibonacci(15))"
   ]
  },
  {
   "cell_type": "markdown",
   "metadata": {},
   "source": [
    "Fibonnaci misalında təkrar hesablamalar üçün memoization(yaddaş) texnikasını əlavə edə bilərik"
   ]
  },
  {
   "cell_type": "code",
   "execution_count": 122,
   "metadata": {},
   "outputs": [
    {
     "name": "stderr",
     "output_type": "stream",
     "text": [
      "610"
     ]
    }
   ],
   "source": [
    "%%\n",
    "var fibonacci func(n int) int\n",
    "var yaddash = make(map[int]int)\n",
    "\n",
    "fibonacci = func(n int) int  {\n",
    " if n < 2 {\n",
    "  return n\n",
    " }\n",
    " //eger hesablama varsa yaddash-dan gotur\n",
    " if v, ok := yaddash[n]; ok {\n",
    "  return v\n",
    " }\n",
    " result := fibonacci(n-1) + fibonacci(n-2)\n",
    " yaddash[n] = result\n",
    " return result\n",
    "}\n",
    "print(fibonacci(15))\n"
   ]
  }
 ],
 "metadata": {
  "kernelspec": {
   "display_name": "Go (gonb)",
   "language": "go",
   "name": "gonb"
  },
  "language_info": {
   "codemirror_mode": "",
   "file_extension": ".go",
   "mimetype": "",
   "name": "go",
   "nbconvert_exporter": "",
   "pygments_lexer": "",
   "version": "go1.20.5"
  },
  "orig_nbformat": 4
 },
 "nbformat": 4,
 "nbformat_minor": 2
}
