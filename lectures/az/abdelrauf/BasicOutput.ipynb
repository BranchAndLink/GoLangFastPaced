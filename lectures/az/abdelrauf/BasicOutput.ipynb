{
 "cells": [
  {
   "attachments": {},
   "cell_type": "markdown",
   "metadata": {},
   "source": [
    "### BASIC INPUT OUTPUT"
   ]
  },
  {
   "attachments": {},
   "cell_type": "markdown",
   "metadata": {},
   "source": [
    "Sadə proqramlarda giriş və əks etdirmə üsullarına baxaq.  \n",
    "  \n",
    "Ümumən, ilk öncə stdin stderr stdout anlamlarını qısa şərh edək."
   ]
  },
  {
   "attachments": {},
   "cell_type": "markdown",
   "metadata": {},
   "source": [
    "- stdin - Standart giriş (Standard Input) proqramın daxil olan məlumatı oxuduğu kommunikasiya kanalıdır.  \n",
    "- stdout - Standart çıxış (Standard Output) proqramın xaric olan məlumatı yazdığı kommunikasiya kanalıdır.  \n",
    "- stderr - Standart xəta (Standard Error) proqramın xaric olan xəta məlumatlarını yazdığı kommunikasiya kanalıdır.  \n",
    "\n",
    "\n",
    "Bunları həmçinin axın (stream) adlandıra bilərik.  \n",
    "Linux-da ümumən isə fayl sözünü də işlədə bilərik.  \n",
    "Bu zaman stdin, stdout, stderr -in fayl deskriptorları da olacaq. Fayl deskriptoru deyəndə açılan fayla xas ədəd nəzərdə tutulur.  \n",
    "\n",
    "Proses yarananda 3 standard fayl axını yaranır.  \n",
    "\n",
    "|Fayl desktiptoru| Standard fayl axını|\n",
    "|:---:|:---:|\n",
    "| 0 | stdin   |\n",
    "| 1 | stdout   |\n",
    "| 2 | stderr |  \n",
    "\n",
    "\n",
    "\n",
    "<pre>\n",
    "             |         |    -> stdout\n",
    "stdin  --->  | proqram |\n",
    "             |         |    -> stderr\n",
    "\n",
    "</pre>\n",
    "\n",
    "Adi halda axınlar belə bağlanır. \n",
    "\n",
    "- stdin  - klaviaturaya (keyboard)  \n",
    "- stdout - konsol ekranına   \n",
    "- stderr - konsol ekranına  \n",
    "\n",
    "\n"
   ]
  },
  {
   "attachments": {},
   "cell_type": "markdown",
   "metadata": {},
   "source": [
    "Shell-də program icra etdikdə fərqli yerlərə də bağlamaq olar.\n",
    "\n",
    "Meselen:   \n",
    "```bash\n",
    "./bizim_program  <input_fayl.txt   1>output.txt  2> error.txt   \n",
    "```\n",
    "Burada \n",
    "\n",
    "stdin - input_fayl.txt   \n",
    "stdout - output.txt  \n",
    "stderr - error.txt faylına bağlanır.\n"
   ]
  },
  {
   "attachments": {},
   "cell_type": "markdown",
   "metadata": {},
   "source": [
    "#### Golang -de output"
   ]
  },
  {
   "attachments": {},
   "cell_type": "markdown",
   "metadata": {},
   "source": [
    "Bunun üçün \"fmt\" standard kitabxanasından istifade edirik.\n",
    "\n",
    "```Go\n",
    "func Print(a ...any) (n int, err error)\n",
    "func Println(a ...any) (n int, err error)\n",
    "func Printf(format string, a ...any) (n int, err error)\n",
    "\n",
    "Burada Arqumentlər:\n",
    "  a istənilen tip və sayda dəyişən\n",
    "  format - format mətni\n",
    "Funksiya qaytarır:\n",
    "  n - yazılmış bayt sayı\n",
    "  err - xəta. Baş vermədikdə nil olur\n",
    "```\n"
   ]
  },
  {
   "cell_type": "code",
   "execution_count": 28,
   "metadata": {},
   "outputs": [],
   "source": [
    "import \"fmt\""
   ]
  },
  {
   "attachments": {},
   "cell_type": "markdown",
   "metadata": {},
   "source": [
    "İndi ise ekrana yazı verək. \n",
    "```Go \n",
    "fmt.Println \n",
    "```\n",
    "Qeyd edək ki, o dəyişənlərin qiymətlərini stdout-a yazanda arasına \" \" boşluq əlavə edəcək.   \n",
    "Sonuna isə yeni sətir əlavə olunur.  "
   ]
  },
  {
   "cell_type": "code",
   "execution_count": 29,
   "metadata": {},
   "outputs": [
    {
     "name": "stdout",
     "output_type": "stream",
     "text": [
      "Salam Dünya\n",
      "Salam Azərbaycan\n",
      "44 2023 5.789\n"
     ]
    }
   ],
   "source": [
    "%%\n",
    "fmt.Println(\"Salam\",\"Dünya\")\n",
    "fmt.Println(\"Salam\",\"Azərbaycan\")\n",
    "fmt.Println(44, 2023, 5.789)"
   ]
  },
  {
   "attachments": {},
   "cell_type": "markdown",
   "metadata": {},
   "source": [
    "```Go \n",
    "fmt.Print \n",
    "``` \n",
    "Bu da eyni işi görür. Ancaq string qiymətlərinin sonuna boşluq, və ümumi sonluğa yeni sətir əlavə etmir. "
   ]
  },
  {
   "cell_type": "code",
   "execution_count": 30,
   "metadata": {},
   "outputs": [
    {
     "name": "stdout",
     "output_type": "stream",
     "text": [
      "SalamDünyaSalamAzərbaycan44 2023 5.789"
     ]
    }
   ],
   "source": [
    "%%\n",
    "fmt.Print(\"Salam\",\"Dünya\")\n",
    "fmt.Print(\"Salam\",\"Azərbaycan\")\n",
    "fmt.Print(44, 2023, 5.789)"
   ]
  },
  {
   "attachments": {},
   "cell_type": "markdown",
   "metadata": {},
   "source": [
    "Yeni sətir və boşluqları özümüz əlavə etmək istədikdə:\n",
    "<pre> \n",
    "' ' - boşluq \n",
    "&#92;n  - yeni sətir \n",
    "&#92;&#92;  - geri sləş &#92; \n",
    "&#92;t  - tab \n",
    "&#92;n&#92;r  - yeni sətir (windows üçün)\n",
    "&#92;\" - dırnaq\n",
    "</pre>\n",
    "\n",
    "Burada &#92; geri sləş vasitəsilə həmin yazıla bilinməyən simvolları veririk.  \n",
    "Həmçinin geri sləş-in özünü vermək üçün iki dəfə &#92;&#92; istifadə etmişik.  \n",
    "Həmçinin string tipimizin qiyməti \" içərisində olduğundan onu da &#92;-lə veririk. "
   ]
  },
  {
   "cell_type": "code",
   "execution_count": 31,
   "metadata": {},
   "outputs": [
    {
     "name": "stdout",
     "output_type": "stream",
     "text": [
      "Salam Dünya\n",
      "Salam \"Azərbaycan\"\n",
      "44 2023 5.789"
     ]
    }
   ],
   "source": [
    "%%\n",
    "fmt.Print(\"Salam \",\"Dünya\\n\")\n",
    "fmt.Print(\"Salam \",\"\\\"Azərbaycan\\\"\\n\")\n",
    "fmt.Print(44, 2023, 5.789)"
   ]
  },
  {
   "attachments": {},
   "cell_type": "markdown",
   "metadata": {},
   "source": [
    "##### Formatlı print \n",
    "```Go\n",
    "fmt.Printf\n",
    "```"
   ]
  },
  {
   "attachments": {},
   "cell_type": "markdown",
   "metadata": {},
   "source": [
    "Bəzi Formatlara baxaq:"
   ]
  },
  {
   "attachments": {},
   "cell_type": "markdown",
   "metadata": {},
   "source": [
    "|  format |  əks etdirmə şəkli |\n",
    "|---|---|\n",
    "| %b  |  ikili sayda |\n",
    "| %o  |  8-lik say sistemində |\n",
    "|  %O | 8-lik say sistemi o prefiksi ilə  |\n",
    "| %d  |  10-luq sayda  |\n",
    "|  %x |  16-lıq sayda 1 baytı iki simvolla  [0-9a-f]|\n",
    "| %X  | 16-lıq say  1 baytı iki simvolla, lakin  böyük hərflə [0-9A-F]|\n",
    "|  %g |  onluq kəsr ədədləri kimi |\n",
    "|  %s |  mətn ve simvollar ardıcıllığı |\n",
    "|  %t |  bul üçün true false kimi|\n",
    "|%e| elmi riyazi formatda|\n",
    "|%v | təyin edilən tipin formatına uyğun|\n",
    "|\t%#v | Go sintaksis formatına uygun|\n",
    "|%T | arqumentin Tipi|\n",
    "|%c | simvol |\n",
    "|%q|  simvol və ya simvol ardıcıllığı dırnaq daxilində|\n",
    "|%+q|  simvol və ya simvol ardıcıllığı dırnaq daxilində, ASCII-dən fərqli simvolları \\ ilə əks etdirir|\n",
    "|%U| unikod|\n",
    "|%#U| unikod + simvol |\n",
    "|%p| pointer|\n"
   ]
  },
  {
   "cell_type": "code",
   "execution_count": 3,
   "metadata": {},
   "outputs": [
    {
     "name": "stdout",
     "output_type": "stream",
     "text": [
      "Formatlı əks 3, 3.85, 3.850000e+00, 👍Mətn, 3.85, 👍Mətn\n",
      "Formatlı əks 3.85, float64, \"👍Mətn\", \"\\U0001f44dM\\u0259tn\", '👍', U+1F44D, U+1F44D '👍'\n"
     ]
    }
   ],
   "source": [
    "%%\n",
    "h := 3.85\n",
    "mətn := \"👍Mətn\"\n",
    "simvol := '👍'\n",
    "\n",
    "fmt.Printf(\"Formatlı əks %d, %g, %e, %s, %v, %v\\n\", int(h), h, h, mətn, h, mətn)\n",
    "fmt.Printf(\"Formatlı əks %#v, %T, %q, %+q, %q, %U, %#U\\n\", h, h, mətn, mətn, simvol, simvol, simvol)"
   ]
  },
  {
   "attachments": {},
   "cell_type": "markdown",
   "metadata": {},
   "source": [
    "\n",
    "Bundan əlavə aşağıdakı format dəyişimlərindən də istifadə etmək olar. \n",
    "\n",
    "|  Görüntü | Format dəyişimi  | izah   |\n",
    "|---|---|---|\n",
    "|  |'#'\t| alternativ format yaradır:  Məsələn: 0b (%#b) ikilik, 0x 16-lıq %#x  və s\n",
    "| '&nbsp;24' | '%&nbsp;', '%&nbsp;d'| boşluq əlavə edir. formatlar: '% d', '% x', '% X'\n",
    "| '41 6C 6D 61 6C C4 B1'  |   '%&nbsp;', '%&nbsp;X' | 16-lıq sayda bir bayt iki simvolla və aralarında boşluqla |\n",
    "| '+24'  | '%+', '%+d' |  işarəli ədəd ,yalnız (%q və %d ilə işlənir) |\n",
    "| '\\U0001f44dM\\u0259tn'  | '%+', '%+q' |  %q ilə işlənib ASCII simvol  |\n",
    "| '&nbsp;&nbsp;&nbsp;&nbsp;20'  | '%{n}d' , '%4d' | n sayda olub sağa sıxılmış yazı (nümunədə 4 sayda)   |\n",
    "| '15&nbsp;&nbsp;&nbsp;&nbsp;'  |  '%-{n}d', '%-4d' |  n sayda sola sıxılmış yazı (nümunədə 4 sayda)|\n",
    "|  '0025' | '%0{n}d', '%02d' | n sayda 0 əlavə (nümunədə 2 sayda)|\n",
    "|'122.15'   | '%.{m}f', '%.2f'  |  m sayda onluqdan sonrakı kəsr hissə sayı |\n",
    "| '  122.46'  |   '%{n}.{m}f'| n sayda ümumi uzunluq sayı, m sayda kəsr hissə sayı|\n"
   ]
  },
  {
   "cell_type": "code",
   "execution_count": 6,
   "metadata": {},
   "outputs": [
    {
     "name": "stdout",
     "output_type": "stream",
     "text": [
      "616C6D61 və ya 0X616C6D61 \n",
      "U+1F44D və ya U+1F44D '👍' \n",
      "\"👍Mətn\" və ya \"\\U0001f44dM\\u0259tn\" \n",
      "   Al |   sat | 3.45000 | A 44 \n",
      "416C6D616CC4B1 \n",
      "41 6C 6D 61 6C C4 B1 \n"
     ]
    }
   ],
   "source": [
    "%%\n",
    "mətn := \"👍Mətn\"\n",
    "fmt.Printf(\"%X və ya %#X \\n\", \"alma\", \"alma\")\n",
    "fmt.Printf(\"%U və ya %#U \\n\", '👍', '👍')\n",
    "fmt.Printf(\"%q və ya %+q \\n\", mətn, mətn)\n",
    "fmt.Printf(\"%5s | %5s | %7.5f | A% d \\n\",\"Al\", \"sat\", 3.45, 44)\n",
    "fmt.Printf(\"%X \\n\",\"Almalı\")  \n",
    "fmt.Printf(\"% X \\n\",\"Almalı\") "
   ]
  },
  {
   "cell_type": "code",
   "execution_count": 34,
   "metadata": {},
   "outputs": [
    {
     "name": "stdout",
     "output_type": "stream",
     "text": [
      "Al    | sat   | 3.45000 \n",
      "Vur   | yix   | 3.45000 \n"
     ]
    }
   ],
   "source": [
    "%%\n",
    "fmt.Printf(\"%-5s | %-5s | %7.5f \\n\",\"Al\", \"sat\", 3.45)\n",
    "fmt.Printf(\"%-5s | %-5s | %7.5f \\n\",\"Vur\", \"yix\", 3.45)"
   ]
  },
  {
   "cell_type": "markdown",
   "metadata": {},
   "source": [
    "Bundan başqa həmin format dəyişimlərində olan ədədləri də dəyişən kimi verə bilərik.  \n",
    "Buna dəyişim ədədlərini [arqumentin_indeksi + 1]*, formatı isə [arqumentin_indeksi + 1]format verməklə nail ola bilərik.  "
   ]
  },
  {
   "cell_type": "code",
   "execution_count": 35,
   "metadata": {},
   "outputs": [
    {
     "name": "stdout",
     "output_type": "stream",
     "text": [
      "12.0000\n",
      "12.0000\n",
      "Al         |\n",
      "Al         |\n"
     ]
    }
   ],
   "source": [
    "%%\n",
    "fmt.Printf(\"%6.4f\\n\", 12.0)\n",
    "fmt.Printf(\"%[3]*.[2]*[1]f\\n\", 12.0, 4, 6) //[1]f 12.0, [2]* 4, [3]* isə 6\n",
    "\n",
    "fmt.Printf(\"%-10s |\\n\", \"Al\")\n",
    "fmt.Printf(\"%-[2]*[1]s |\\n\", \"Al\", 10) //[1]s AL, [2]* isə 10 "
   ]
  },
  {
   "cell_type": "markdown",
   "metadata": {},
   "source": [
    "%v Vasitəsilə Go dili tipə uyğun formatı təyin edir. \n",
    "Həmçinin bununla mürəkkəb tipləri də çıxara bilirik.   \n",
    "%#v isə Go sintaksisinə uyğun əks etdirir.\n"
   ]
  },
  {
   "cell_type": "code",
   "execution_count": 10,
   "metadata": {},
   "outputs": [
    {
     "name": "stdout",
     "output_type": "stream",
     "text": [
      "55, 55.789, (5+4i), [4 5 6]\n",
      "55, 55.789, (5+4i), [3]int{4, 5, 6}\n"
     ]
    }
   ],
   "source": [
    "%%\n",
    "fmt.Printf(\"%v, %v, %v, %v\\n\", 55, 55.789, 5 + 4i, [...]int{4, 5, 6})\n",
    "fmt.Printf(\"%#v, %#v, %#v, %#v\\n\", 55, 55.789, 5 + 4i, [...]int{4, 5, 6})"
   ]
  },
  {
   "cell_type": "markdown",
   "metadata": {},
   "source": [
    "Əgər format-ı səhv versək xəta baş verir və o yazıda da ( %! işarəsi ilə) görsənir.  \n",
    "Məsələn: ədəd formatına string versək "
   ]
  },
  {
   "cell_type": "code",
   "execution_count": 12,
   "metadata": {},
   "outputs": [
    {
     "name": "stdout",
     "output_type": "stream",
     "text": [
      "%!d(string=hi)"
     ]
    }
   ],
   "source": [
    "%%\n",
    "fmt.Printf(\"%d\", \"hi\")"
   ]
  },
  {
   "attachments": {},
   "cell_type": "markdown",
   "metadata": {},
   "source": [
    "##### stdout, stderr-i özümüz yönləndirək  \n",
    "(Qeyd: digər açdığımız fayla da yönləndirə bilərik)   \n",
    "Bunun üçün Fprintf -dən istifadə edirik.  \n",
    "Əslən Printf elə Fprintf stdout-dur.   "
   ]
  },
  {
   "cell_type": "code",
   "execution_count": 8,
   "metadata": {},
   "outputs": [],
   "source": [
    "// os paketini import edək.  \n",
    "import \"os\""
   ]
  },
  {
   "cell_type": "code",
   "execution_count": 9,
   "metadata": {},
   "outputs": [
    {
     "name": "stderr",
     "output_type": "stream",
     "text": [
      "Hello stderr\n"
     ]
    },
    {
     "name": "stdout",
     "output_type": "stream",
     "text": [
      "Hello stdout\n"
     ]
    }
   ],
   "source": [
    "%%\n",
    "fmt.Fprintln(os.Stdout, \"Hello stdout\")\n",
    "fmt.Fprintln(os.Stderr, \"Hello stderr\")"
   ]
  },
  {
   "cell_type": "markdown",
   "metadata": {},
   "source": [
    "Go-da fmt paketi yerinə **print, println** builtin funksiyalarını da istifadə etmək olar."
   ]
  },
  {
   "cell_type": "code",
   "execution_count": 10,
   "metadata": {},
   "outputs": [
    {
     "name": "stderr",
     "output_type": "stream",
     "text": [
      "builtin print  99\n",
      "88\n"
     ]
    }
   ],
   "source": [
    "%%\n",
    "print(\"builtin print  \")\n",
    "println(99)\n",
    "println(88)"
   ]
  }
 ],
 "metadata": {
  "kernelspec": {
   "display_name": "Go (gonb)",
   "language": "go",
   "name": "gonb"
  },
  "language_info": {
   "codemirror_mode": "",
   "file_extension": ".go",
   "mimetype": "",
   "name": "go",
   "nbconvert_exporter": "",
   "pygments_lexer": "",
   "version": "go1.20.5"
  },
  "orig_nbformat": 4
 },
 "nbformat": 4,
 "nbformat_minor": 2
}
