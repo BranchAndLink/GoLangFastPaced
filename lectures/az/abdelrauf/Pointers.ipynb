{
 "cells": [
  {
   "cell_type": "markdown",
   "metadata": {},
   "source": [
    "### Pointer\n",
    "\n",
    "Pointer yaddaşda hər hansı bir tip üçün ayrılan yerin ünvanını saxlayır. Həmin tipə pointer-in əsas tipi deyilir.   \n",
    "\n",
    "Pointer tipi:  * Esas_Tip   \n",
    "\n",
    "Göründüyü kimi Tip-in əvvəlinə * artırmaqla pointer tipini təyin edirik.   \n",
    "Adi elan edildikə pointer tipi nil saxlayır. nil o demekdir ki pointer heç bir address saxlamır və boşluğa işarə edir.   \n",
    "(Qeyd: C dilində ədəd olaraq null ( Go nil ) dedikdə 0 addressi nəzərdə tutulur. Çünki bir çox sistemlərdə 0 virtual addressi fiziki yaddaşa map olmur və ona müraciət xətaya səbəb olur.   \n",
    " Lakin məntiq olaraq nil 0 deyil. )   \n",
    "\n",
    "\n"
   ]
  },
  {
   "cell_type": "markdown",
   "metadata": {},
   "source": [
    "Bir neçə pointer tipinə  nümunə yazaq   \n",
    "```Go\n",
    "var ptrToStr  *string\n",
    "var ptrToInt *int\n",
    "var ptrToStr *struct {\n",
    "    m int\n",
    "    k float32\n",
    "}\n",
    "\n",
    "\n",
    "```"
   ]
  },
  {
   "cell_type": "code",
   "execution_count": 295,
   "metadata": {},
   "outputs": [
    {
     "name": "stdout",
     "output_type": "stream",
     "text": [
      "<nil> <nil> <nil>\n"
     ]
    }
   ],
   "source": [
    "%%\n",
    "var ptrToStr  *string\n",
    "var ptrToInt *int\n",
    "var ptrToStruct *struct {\n",
    "    m int\n",
    "    k float32\n",
    "}\n",
    "fmt.Println(ptrToStr, ptrToInt, ptrToStruct)\n"
   ]
  },
  {
   "cell_type": "markdown",
   "metadata": {},
   "source": [
    "Pointer tipini nəyəsə işarə etməsi üçün ona hər hansı real dəyişənin addresini mənimsədə bilərik.   \n",
    "Bunun üçün & işarəsindən istifadə edirik.  "
   ]
  },
  {
   "cell_type": "code",
   "execution_count": 296,
   "metadata": {},
   "outputs": [
    {
     "name": "stdout",
     "output_type": "stream",
     "text": [
      "k-in ünvanı  0xc0000a2000\n"
     ]
    }
   ],
   "source": [
    "%%\n",
    "var ptrToInt *int\n",
    "k := 999\n",
    "ptrToInt = &k\n",
    "fmt.Println(\"k-in ünvanı \", ptrToInt)"
   ]
  },
  {
   "cell_type": "markdown",
   "metadata": {},
   "source": [
    "Pointer tipinin işarə etdiyi əsas tipdə olanın qiymətini dəyişmək üçün isə * istifadə edirik. Buna dereference deyilir. \n"
   ]
  },
  {
   "cell_type": "code",
   "execution_count": 297,
   "metadata": {},
   "outputs": [
    {
     "name": "stdout",
     "output_type": "stream",
     "text": [
      "999\n",
      "888 888\n"
     ]
    }
   ],
   "source": [
    "%%\n",
    "var ptrToInt *int\n",
    "k := 999\n",
    "fmt.Println( k)\n",
    "ptrToInt = &k\n",
    "*ptrToInt = 888\n",
    "fmt.Println( *ptrToInt, k)"
   ]
  },
  {
   "cell_type": "markdown",
   "metadata": {},
   "source": [
    "Qeyd edəki ki əgər pointer boşluğa işarə edirsə onu dereference etmək xətaya səbəb olacaq "
   ]
  },
  {
   "cell_type": "code",
   "execution_count": 298,
   "metadata": {},
   "outputs": [
    {
     "name": "stderr",
     "output_type": "stream",
     "text": [
      "panic: runtime error: invalid memory address or nil pointer dereference\n",
      "[signal SIGSEGV: segmentation violation code=0x1 addr=0x0 pc=0x48c681]\n",
      "\n",
      "goroutine 1 [running]:\n",
      "main.main()\n",
      "\t \u001b[7m[[ Cell [298] Line 3 ]]\u001b[0m /tmp/gonb_7a8e7f4d/main.go:22 +0x61\n",
      "exit status 2\n"
     ]
    }
   ],
   "source": [
    "%%\n",
    "var ptrToInt *int \n",
    "fmt.Println( *ptrToInt) "
   ]
  },
  {
   "cell_type": "markdown",
   "metadata": {},
   "source": [
    "Go dilində C dilindən fərqli olaraq pointer məhdud imkanlara malikdir. Pointer dəyişəni üzərində **riyazi əməliyyatlar aparmaq olmur**.  \n",
    "Go dilində bu özəlliyi əldə etmək üçün **unsafe** paketindən istifadə etməli oluruq. Onu növbəti dərslərdə nəzərdən keçirəcəyik.  "
   ]
  },
  {
   "cell_type": "markdown",
   "metadata": {},
   "source": [
    "Biz bilirik Go dilində funksiyaya arqumentlər sürəti ilə (kopyası ilə) ötürülür.   \n",
    "Lakin bəzən dəyişəni funksiyaya həm arqument kimi ötürüb həm də onu daxildə dəyişmək ehtiyacımız yaranır.  \n",
    "Bu zaman pointer-dən istifadə edə bilərik.  "
   ]
  },
  {
   "cell_type": "code",
   "execution_count": 299,
   "metadata": {},
   "outputs": [
    {
     "name": "stdout",
     "output_type": "stream",
     "text": [
      "14641\n"
     ]
    }
   ],
   "source": [
    "func modify(a *int) {\n",
    "\t*a = *a + 10 * *a // *a + 10 * (*a) \n",
    "}\n",
    "\n",
    "%%\n",
    "a:=11\n",
    "modify(&a)\n",
    "modify(&a)\n",
    "modify(&a)\n",
    "fmt.Println(a)"
   ]
  },
  {
   "cell_type": "markdown",
   "metadata": {},
   "source": [
    "Yuxarıdakı misaldan sonra Scan və onun bacılarında nə üçün & istifadə etdiyimiz anlaşılır.  "
   ]
  },
  {
   "cell_type": "markdown",
   "metadata": {},
   "source": [
    "Go dilində həmçinin qeyd etmişdik ki bəzi tiplər (slice, map..) reference tip-dir.   \n",
    "Bu o deməkdir ki Onlar da həmçinin pointer-dirlər və real data struktura göstərici saxlayırlar.   \n",
    "Reference və pointer sinonim sözlərdir. Bəzi dillərdə (C++) reference daha ciddi məhdud xarakter daşıyır. "
   ]
  },
  {
   "cell_type": "markdown",
   "metadata": {},
   "source": [
    "Əvvəl qeyd etdik ki, pointer dəyişəni adi  halda nil olur. Ona görə istifadə üçün onu real dəyişənə işarə edirik.   \n",
    "Lakin çox zaman biz istəyirik ki əsas tipdə   yaddaş ayrılsın və bizim pointer onun ünvanını saxlasın.   \n",
    "Bunun üçün built-in funksiya olan **new** dan istifadə edirik.  \n",
    "```Go\n",
    "  new(Type)\n",
    "```"
   ]
  },
  {
   "cell_type": "code",
   "execution_count": 300,
   "metadata": {},
   "outputs": [
    {
     "name": "stdout",
     "output_type": "stream",
     "text": [
      "0xc0000a2000 899\n"
     ]
    }
   ],
   "source": [
    "%%\n",
    "var a *int = new(int)\n",
    "*a = 889\n",
    "*a += 10\n",
    "fmt.Println(a, *a)"
   ]
  },
  {
   "cell_type": "markdown",
   "metadata": {},
   "source": [
    "Bu new-dan əslən bir çox məsələlərdə ekvivalent bəyanlar üçün də istifadə edə bilərik.  \n",
    "Məsələn biz make-lə slice hazırlamaq əvəzinə new ilə array alıb onun slice-ın ala bilərik. \n"
   ]
  },
  {
   "cell_type": "code",
   "execution_count": 301,
   "metadata": {},
   "outputs": [
    {
     "name": "stdout",
     "output_type": "stream",
     "text": [
      "50 100\n",
      "50 100\n"
     ]
    }
   ],
   "source": [
    "%%\n",
    "var slice_len50_cap100 = make([]int, 50, 100)\n",
    "var slice_len50_cap100_2ci_usul =  new([100]int)[0:50]\n",
    "\n",
    "fmt.Println(len(slice_len50_cap100), cap(slice_len50_cap100))\n",
    "fmt.Println(len(slice_len50_cap100_2ci_usul), cap(slice_len50_cap100_2ci_usul))"
   ]
  },
  {
   "cell_type": "markdown",
   "metadata": {},
   "source": [
    "Go dilində funksiya daxilində yaradılmış dəyişənin addresini pointer olaraq qaytarmaq normal hal sayılır.  \n",
    "(Qeyd edək ki Bu C/C++ dilində stack lokal dəyişəninə işarə olduğundan kobud xətadır )"
   ]
  },
  {
   "cell_type": "code",
   "execution_count": 302,
   "metadata": {},
   "outputs": [
    {
     "name": "stdout",
     "output_type": "stream",
     "text": [
      "0xc0000220c8 550\n"
     ]
    }
   ],
   "source": [
    "func itsOk() *int {\n",
    "\ta:=500\n",
    "\n",
    "\treturn &a\n",
    "}\n",
    "\n",
    "\n",
    "%%\n",
    "ptrToH := itsOk()\n",
    "*ptrToH += 50\n",
    "fmt.Println(ptrToH, *ptrToH)"
   ]
  },
  {
   "cell_type": "markdown",
   "metadata": {},
   "source": [
    "O üzdən bəzən new-suz belə lokal dəyişən yaradıb onun addresini pointerə mənimsədib işləmək normaldır.   \n",
    "Həmçinin nəzərə almaq lazımdır ki Go kompilyatoru bizə əlavə * dereference əməliyyatı aparmadan belə işləməyə imkan verir.  "
   ]
  },
  {
   "cell_type": "code",
   "execution_count": 303,
   "metadata": {},
   "outputs": [
    {
     "name": "stdout",
     "output_type": "stream",
     "text": [
      "[44 0 0 0 0 5 0 0 0 0]\n"
     ]
    }
   ],
   "source": [
    "%%\n",
    "//lokal anonim yaratdığımız array-in addresini birbaşa mənimsədək\n",
    "ptrToArray := & [10]int{}\n",
    "(*ptrToArray)[0] = 44\n",
    "// Go dili * dereference etmədən belə bizi başa düşəcək\n",
    "ptrToArray[5] = 5\n",
    "fmt.Println(*ptrToArray)\n",
    "\n"
   ]
  },
  {
   "cell_type": "markdown",
   "metadata": {},
   "source": [
    "Qeyd etdiyimiz struktur üçün də keçərlidir. Və onda da üzv dəyişən üçün əlavə * əməliyyat aparmaq lazım deyil.  \n"
   ]
  },
  {
   "cell_type": "code",
   "execution_count": 304,
   "metadata": {},
   "outputs": [
    {
     "name": "stdout",
     "output_type": "stream",
     "text": [
      "{44 5.5}\n"
     ]
    }
   ],
   "source": [
    "%%\n",
    "//lokal anonim yaratdığımız strukt-un addresini birbaşa mənimsədək\n",
    "ptrToStruct := & struct {\n",
    "    m int\n",
    "    n float32\n",
    "}{}\n",
    "(*ptrToStruct).m = 44\n",
    "// Go dili * dereference etmədən belə bizi başa düşəcək\n",
    "ptrToStruct.n = 5.5\n",
    "fmt.Println(*ptrToStruct)"
   ]
  },
  {
   "cell_type": "markdown",
   "metadata": {},
   "source": [
    "lakin bilmək lazımdır ki **new** ilə **reference tip** elan etdikdə lokal anonim dəyişənin addresini götürməyimizdən fərqli olaraq inisializasiya olunmamış yaddaşla işləyirik"
   ]
  },
  {
   "cell_type": "code",
   "execution_count": 305,
   "metadata": {},
   "outputs": [
    {
     "name": "stdout",
     "output_type": "stream",
     "text": [
      "false true\n",
      "0 0\n"
     ]
    }
   ],
   "source": [
    "%%\n",
    "p1 := &[]int{}    // p1  [5]int{} inisializasiya olun-muş slice-a işarə edir.\n",
    "p2 := new([]int)  // p2  inisializasiya olun-ma-mış slice-a işarə edir. nil olur.\n",
    "fmt.Println(*p1 == nil,  *p2 == nil)\n",
    "fmt.Println(len(*p1), len(*p2))\n"
   ]
  },
  {
   "cell_type": "markdown",
   "metadata": {},
   "source": [
    "Pointerdən Pointerə işarələr"
   ]
  },
  {
   "cell_type": "code",
   "execution_count": 306,
   "metadata": {},
   "outputs": [
    {
     "name": "stdout",
     "output_type": "stream",
     "text": [
      "555\n"
     ]
    }
   ],
   "source": [
    "%%\n",
    "var h int\n",
    "var ptr_h *int = &h\n",
    "var ptr_ptr_h **int = &ptr_h\n",
    "var ptr_ptr_ptr_h ***int = &ptr_ptr_h\n",
    "\n",
    "***ptr_ptr_ptr_h = 555\n",
    "fmt.Println(h)\n"
   ]
  },
  {
   "cell_type": "code",
   "execution_count": 307,
   "metadata": {},
   "outputs": [
    {
     "name": "stdout",
     "output_type": "stream",
     "text": [
      "898\n"
     ]
    }
   ],
   "source": [
    "%% \n",
    "var h int = 898\n",
    "var ptr_ptr_X **int = new( *int)\n",
    "*ptr_ptr_X = &h\n",
    "fmt.Println( **ptr_ptr_X)\n"
   ]
  },
  {
   "cell_type": "markdown",
   "metadata": {},
   "source": [
    "& və * ardıcıllığı.  \n",
    "**Qeyd bu cür kod yazılışı düzgün deyil.**     \n",
    "Sadəcə bu iki operatorun bir-birinə əks olduğuna nümunə üçün qeyd edirik.   "
   ]
  },
  {
   "cell_type": "code",
   "execution_count": 308,
   "metadata": {},
   "outputs": [
    {
     "name": "stdout",
     "output_type": "stream",
     "text": [
      "444\n",
      "444\n",
      "444\n",
      "444\n"
     ]
    }
   ],
   "source": [
    "%%\n",
    "var h = 444\n",
    "fmt.Println(*&h)\n",
    "fmt.Println(*&*&h)\n",
    "fmt.Println(*&*&*&h)\n",
    "fmt.Println(*&*&*&*&h)"
   ]
  }
 ],
 "metadata": {
  "kernelspec": {
   "display_name": "Go (gonb)",
   "language": "go",
   "name": "gonb"
  },
  "language_info": {
   "codemirror_mode": "",
   "file_extension": ".go",
   "mimetype": "",
   "name": "go",
   "nbconvert_exporter": "",
   "pygments_lexer": "",
   "version": "go1.20.5"
  },
  "orig_nbformat": 4
 },
 "nbformat": 4,
 "nbformat_minor": 2
}
