{
 "cells": [
  {
   "cell_type": "markdown",
   "metadata": {},
   "source": [
    "### Generics\n",
    "\n",
    "Bəzən biz funksiya və yeni mürəkkəb tip quranda onun istifadə etdiyi parametrlərin və   \n",
    "dəyişənlərin tipini istifadə zamanı müəyyən edilməsini istəyirik.  \n",
    "Aydın məsələdir ki bu boş interfeysdən fərqli olaraq daha sürətli olacaq.  \n",
    "Buna Go dilində bir çox dillərdə olduğu kimi generics type deyilən yanaşma ilə nail olunur.  \n",
    "Go dilinin yeni versiyalarında (>=1.18) artıq bunu istifadə etmək mümkündür. "
   ]
  },
  {
   "cell_type": "markdown",
   "metadata": {},
   "source": [
    "Tip elan edilməsinə yenidən baxaq:  \n",
    "<pre>\n",
    "\n",
    " \n",
    "type ad [TipParametri] tip \n",
    "\n",
    "Burada TipParametri:\n",
    "[ ] arasında ad və Məhdudiyyət cütlüklərindən ibarət olan siyahı olur\n",
    "Məsələn [T Constraint], [T Məhdudiyyət1, V Məhdudiyyət2, ...]\n",
    "\n",
    "(Tip Məhdudiyyətlərini aşağıda xüsusi bölmədə izah edəcəyik.  )\n",
    "\n",
    "Yeni tipimizə metod vermək üçün  \n",
    "\n",
    "func (x * ad[T]) metod_adı(parametrlər... ) nəticə... { ...}\n",
    "\n",
    "</pre>\n",
    "\n",
    "Həmçinin generic funksiya elan edilməsinə baxaq:\n",
    "<pre>\n",
    "\n",
    "func G[T Constraint](p T) { ... }\n",
    "\n",
    "</pre>"
   ]
  },
  {
   "cell_type": "markdown",
   "metadata": {},
   "source": [
    "Hələki tip məhdudiyyəti kimi **any** götürək hansı ki bütün tipləri götürür.  \n",
    "Onda Generics-ə nümunə olaraq bunları göstərə bilərik  \n",
    "```Go\n",
    "//generic List\n",
    "type List[T any] struct {\n",
    "\tnext  *List[T]\n",
    "\tvalue T\n",
    "}\n",
    "\n",
    "// List[T] biz üçün metod vermə qaydasına nümunə\n",
    "func (l *List[T]) Len() int  { ... }\n",
    "\n",
    "//generic Print funksiyamız\n",
    "func Print[T any](s []T) {\n",
    "    for _, v := range s {\n",
    "        fmt.Println(v)\n",
    "    }\n",
    "}\n",
    "\n",
    "```"
   ]
  },
  {
   "cell_type": "code",
   "execution_count": 4,
   "metadata": {},
   "outputs": [
    {
     "name": "stdout",
     "output_type": "stream",
     "text": [
      "1\n",
      "2\n",
      "3\n",
      "alma\n",
      "banan\n",
      "kivi\n"
     ]
    }
   ],
   "source": [
    "\n",
    "func Print[T any](s []T) {\n",
    "    for _, v := range s {\n",
    "        fmt.Println(v)\n",
    "    }\n",
    "}\n",
    "\n",
    "%%\n",
    "Print[int]([]int{1, 2, 3})\n",
    "Print[string]([]string{\"alma\",\"banan\", \"kivi\"})"
   ]
  },
  {
   "cell_type": "markdown",
   "metadata": {},
   "source": [
    "Yuxarıdakı çağırış tərzini sadələşdirmək də olar.  \n",
    "Go bizim yerimizə parametrdən tipi təyin edəcək.  \n"
   ]
  },
  {
   "cell_type": "code",
   "execution_count": 20,
   "metadata": {},
   "outputs": [
    {
     "name": "stdout",
     "output_type": "stream",
     "text": [
      "alma\n",
      "banan\n",
      "kivi\n",
      "armud\n"
     ]
    }
   ],
   "source": [
    "%%\n",
    "Print([]string{\"alma\",\"banan\", \"kivi\", \"armud\"})"
   ]
  },
  {
   "cell_type": "markdown",
   "metadata": {},
   "source": [
    "#### Type Contraints  (Tip məhdudiyyətləri)  \n",
    "\n",
    "Tip məhdudiyyəti müvafiq tip parametri üçün icazə verilən tip arqumentlər dəstini təyin edir.  \n",
    "Bu dəstəklənən əməliyyatlara nəzarət edən interfeysdir.  \n",
    "\n",
    "Tərifdən də aydın olur ki biz niyə any istifadə etmişik. Çünki any boş interfeysdir.  \n",
    "\n",
    "Aşağıdakı tip məhdudiyyətlərinin elanına fikir verək  \n",
    "<pre>\n",
    "[T any]  //[T interface{}]\n",
    "[T interface{[]P}]\n",
    "[T interface{~int}]\n",
    "[T interface{int|string}]\n",
    "</pre>"
   ]
  },
  {
   "cell_type": "markdown",
   "metadata": {},
   "source": [
    "Fikir verdinizsə digər interfeys yazıları bizə tanış deyil.  \n",
    "Biz interfeys daxilində ya boşluq ya da funksiya (func-suz) elanı istifadə edirdik.  \n",
    "Bu tip interfeys sadə interfeysdən fərqlidir və buna ümumi interfeys deyirik. (General İnterface)"
   ]
  },
  {
   "cell_type": "markdown",
   "metadata": {},
   "source": [
    "##### General Interface (Ümumi interfeys)  \n",
    "Ümumi interfeysin elanı.  \n",
    "Asan olsun deyə qaydalar şəklində yox göstərməklə təyin nümunlərinə baxaq:  \n",
    "```Go\n",
    "// Interfeys yalnız \"tip\" tipini əhatə edir.\n",
    "interface {\n",
    "\ttip\n",
    "}\n",
    "// Məsələn:\n",
    "interface {\n",
    "\tint\n",
    "}\n",
    "\n",
    "// Interfeys alt tipi \"tip\" olan bütün tipləri əhatə edir.\n",
    "// yəni alt tipi \"tip\" olan bütün tiplər interfeysin tip çoxluğunda olur.\n",
    "interface {\n",
    "\t~tip\n",
    "}\n",
    "\n",
    "// Məsələn:\n",
    "interface {\n",
    "\t~int\n",
    "}\n",
    "// MyInt alt tipi int olduğundan interfeys tərəfindən qəbul olunacaq\n",
    "type MyInt int \n",
    "\n",
    "\n",
    "// Interfeys alt tipi \"tip\" olan və həmçinin \"metod_adı\" metodu elan edilmiş tipləri əhatə edir.  \n",
    "// yəni interfeysin tip çoxluğunda olur.\n",
    "interface {\n",
    "\t~tip\n",
    "\tmetod_adı(parameterlər) nəticələr\n",
    "}\n",
    "\n",
    "// Məsələn:\n",
    "interface {\n",
    "\t~int\n",
    "\tString() string\n",
    "}\n",
    "type MyInt2 int\n",
    "\n",
    "func (v MyInt2) String() string {\n",
    "    ...\n",
    "}\n",
    "\n",
    "// Aşağıdakı misalda isə heç bir tip əhatə olunmayacaq. Çünki bir tipin həm int, həm string tipi olması mümkün deyil.\n",
    "interface {\n",
    "\tint\n",
    "\tstring\n",
    "}\n",
    "\n",
    "//Qeyd edək ki | məntiqi və ya bağlayıcısı ilə də məhdudiyyət interfeysi hazırlaya bilərik\n",
    "\n",
    "// Interfeys \"tip1\" və ya \"tip2\" və ya \"tip3\" tipini əhatə edir.\n",
    "interface {\n",
    "\ttip1 | tip2 | tip3\n",
    "}\n",
    "\n",
    "// Məsələn:\n",
    "\n",
    "//alt tipi int və ya string olan tiplər\n",
    "interface {\n",
    "\t~int | string\n",
    "}\n",
    "\n",
    "\n",
    "// https://pkg.go.dev/golang.org/x/exp/constraints \n",
    "type Signed interface {\n",
    "\t~int | ~int8 | ~int16 | ~int32 | ~int64\n",
    "}\n",
    "\n",
    "type Unsigned interface {\n",
    "\t~uint | ~uint8 | ~uint16 | ~uint32 | ~uint64 | ~uintptr\n",
    "}\n",
    "\n",
    "type Integer interface {\n",
    "\tSigned | Unsigned\n",
    "}\n",
    "\n",
    "```\n"
   ]
  },
  {
   "cell_type": "markdown",
   "metadata": {},
   "source": [
    "Daha dəqiq və ətraflı qaydalar və istifadə toplumu üçün dilə baxa bilərsiniz.  \n",
    "https://go.dev/ref/spec#Interface_types"
   ]
  },
  {
   "cell_type": "markdown",
   "metadata": {},
   "source": [
    "Qeyd edək ki, bəzi tip məhdudiyyətlərini sadə üsulla da elan edə bilərik.   \n",
    "Məsələn:  \n",
    "<pre>\n",
    "[T []P]                      // = [T interface{[]P}]\n",
    "[T int]                     // = [T interface{int}]\n",
    "[T ~int]                     // = [T interface{~int}]\n",
    "[T int|string]               // = [T interface{int|string}]\n",
    "</pre>\n",
    "\n",
    "(Qeyd: bu halda [T int] -də int-i tip yox, tip məhdudiyyəti kimi başa düşmək daha düzgündür) \n",
    "\n",
    "Amma  nəzərə almaq lazımdır ki bu sadələşdirmə \n",
    "qarışıqlığa səbəb olsa onda onu xüsusi üsulla qeyd etmək lazımdır.  \n",
    "Məsələn aşağıdakı C məhdudiyyəti üçün qarışıqlıq yarana bilər.  \n",
    "\n",
    "<pre>\n",
    "type X1[P *C] ..\n",
    "type X2[P (C)] ...\n",
    "type X3[P *C|Q] ...\n",
    "</pre>\n",
    "\n",
    "Bu qarşılıqlığı aradan qaldırmaq üçün ya təzədən məhdudiyyətləri interface{} almaq, ya da \",\" işarəsini sonuna əlavə etmək lazımdır  \n",
    "<pre>\n",
    "type X1[P interface{*C}] ...\n",
    "type X1[P *C,] ...\n",
    "</pre>\n",
    "\n",
    "Dediyimiz qarşılıqlığa aid real nümunə verək və çıxan səhvə baxaq:"
   ]
  },
  {
   "cell_type": "code",
   "execution_count": 24,
   "metadata": {},
   "outputs": [
    {
     "data": {
      "text/html": [
       "\n",
       "<style>\n",
       ".gonb-err-location {\n",
       "\tbackground: var(--jp-err-color2);  \n",
       "\tborder-radius: 3px;\n",
       "\tborder-style: dotted;\n",
       "\tborder-width: 1px;\n",
       "\tborder-color: var(--jp-border-color2);\n",
       "}\n",
       ".gonb-err-location:hover {\n",
       "\tborder-width: 2px;\n",
       "\tborder-style: solid;\n",
       "\tborder-color: var(--jp-border-color2);\n",
       "}\n",
       ".gonb-err-context {\n",
       "\tdisplay: none;\n",
       "}\n",
       ".gonb-err-location:hover + .gonb-err-context {\n",
       "\tbackground: var(--jp-dialog-background);  \n",
       "\tborder-radius: 3px;\n",
       "\tborder-style: solid;\n",
       "\tborder-width: 1px;\n",
       "\tborder-color: var(--jp-border-color2);\n",
       "\tdisplay: block;\n",
       "\twhite-space: pre;\n",
       "\tfont-family: monospace;\n",
       "}\n",
       ".gonb-err-line {\n",
       "\tborder-radius: 3px;\n",
       "\tborder-style: dotted;\n",
       "\tborder-width: 1px;\t\n",
       "\tborder-color: var(--jp-border-color2);\n",
       "\tbackground-color: var(--jp-rendermime-err-background);\n",
       "\tfont-weight: bold;\n",
       "}\n",
       ".gonb-cell-line-info {\n",
       "\tbackground: var(--jp-layout-color2);\n",
       "\tcolor: #999;\n",
       "\tmargin: 0.1em;\n",
       "\tborder: 1px solid var(--jp-border-color1);\n",
       "\tpadding-left: 0.2em;\n",
       "\tpadding-right: 0.2em;\n",
       "}\n",
       "</style>\n",
       "<div class=\"lm-Widget p-Widget lm-Panel p-Panel jp-OutputArea-child\">\n",
       "<div class=\"lm-Widget p-Widget jp-RenderedText jp-mod-trusted jp-OutputArea-output\" data-mime-type=\"application/vnd.jupyter.stderr\" style=\"font-family: monospace;\">\n",
       "\n",
       "\n",
       "<span style=\"white-space: pre;\"> # gonb_93df4279</span>\n",
       "\n",
       "<br/>\n",
       "\n",
       "<span class=\"gonb-cell-line-info\">Cell[24]: Line 1</span>\n",
       "<span class=\"gonb-err-location\">./main.go:11:11: </span> undefined: T\n",
       "<div class=\"gonb-err-context\">\n",
       "type List[T any] struct {\n",
       "    head, tail *element[T]\n",
       "}\n",
       "<div class=\"gonb-err-line\">type Lx [ T *int] struct {\n",
       "</div>\tval T\n",
       "}\n",
       "\n",
       "</div>\n",
       "\n",
       "<br/>\n",
       "\n",
       "<span class=\"gonb-cell-line-info\">Cell[24]: Line 1</span>\n",
       "<span class=\"gonb-err-location\">./main.go:11:14: </span> int (type) is not an expression\n",
       "<div class=\"gonb-err-context\">\n",
       "type List[T any] struct {\n",
       "    head, tail *element[T]\n",
       "}\n",
       "<div class=\"gonb-err-line\">type Lx [ T *int] struct {\n",
       "</div>\tval T\n",
       "}\n",
       "\n",
       "</div>\n",
       "\n",
       "<br/>\n",
       "\n",
       "<span class=\"gonb-cell-line-info\">Cell[24]: Line 2</span>\n",
       "<span class=\"gonb-err-location\">./main.go:12:6: </span> undefined: T\n",
       "<div class=\"gonb-err-context\">\n",
       "    head, tail *element[T]\n",
       "}\n",
       "type Lx [ T *int] struct {\n",
       "<div class=\"gonb-err-line\">\tval T\n",
       "</div>}\n",
       "type element[T any] struct {\n",
       "\n",
       "</div>\n",
       "\n",
       "<br/>\n",
       "\n",
       "\n",
       "<span style=\"white-space: pre;\"> </span>\n",
       "\n",
       "<br/>\n",
       "\n",
       "</div>\n"
      ]
     },
     "metadata": {},
     "output_type": "display_data"
    },
    {
     "ename": "ERROR",
     "evalue": "failed to run \"/usr/local/go/bin/go build -o /tmp/gonb_93df4279/gonb_93df4279\": exit status 1",
     "output_type": "error",
     "traceback": [
      "failed to run \"/usr/local/go/bin/go build -o /tmp/gonb_93df4279/gonb_93df4279\": exit status 1"
     ]
    }
   ],
   "source": [
    "type Lx [ T *int] struct {\n",
    "\tval T\n",
    "}"
   ]
  },
  {
   "cell_type": "markdown",
   "metadata": {},
   "source": [
    "Gördüyünüz kimi Go bunu düzgün parse edə bilmədi. Bu adətən o zaman baş verirki  \n",
    "yazılış ifadəyə oxşayır. İndi isə həmin problemi aradan qaldıran yazılışa baxaq:"
   ]
  },
  {
   "cell_type": "code",
   "execution_count": 6,
   "metadata": {},
   "outputs": [],
   "source": [
    "// Normal interface{ } içində elanla\n",
    "type Lx [ T interface{*int}] struct {\n",
    "\tval T\n",
    "}"
   ]
  },
  {
   "cell_type": "code",
   "execution_count": 3,
   "metadata": {},
   "outputs": [],
   "source": [
    "// Əlavə vergül yazmaqla\n",
    "type Lx [ T *int,] struct {\n",
    "\tval T\n",
    "}"
   ]
  },
  {
   "cell_type": "markdown",
   "metadata": {},
   "source": [
    "##### comparable\n",
    "Go dilində any interfeysi ilə yanaşı comparable interfeys məhdudiyyəti var.  \n",
    "comparable məhdudiyyətinin əhatə etdiyi tiplər üzərində  müqayisə əməliyyatlarını ( ==, != ) həyata keçirmək mümkündür.  \n",
    "Əks halda həmin tip comparable interfeys çoxluğuna daxil olmur. \n",
    "(Go 1.20-dən any də comparable tipin interfeys çoxluğundadır)  "
   ]
  },
  {
   "cell_type": "code",
   "execution_count": 21,
   "metadata": {},
   "outputs": [
    {
     "name": "stdout",
     "output_type": "stream",
     "text": [
      "false\n",
      "true\n"
     ]
    }
   ],
   "source": [
    "func beraber[T comparable](x, y T) bool {\n",
    "    if x == y {\n",
    "        return true\n",
    "    }\n",
    "    return false\n",
    "} \n",
    "\n",
    "%%\n",
    "var a,b int\n",
    "a=5\n",
    "b=8\n",
    "fmt.Println(beraber[int](a,b))\n",
    "fmt.Println(beraber(b, b))\n"
   ]
  },
  {
   "cell_type": "markdown",
   "metadata": {},
   "source": [
    "Məsələn bilirik ki funksiya tipləri müqayisə olunmur. "
   ]
  },
  {
   "cell_type": "code",
   "execution_count": 32,
   "metadata": {},
   "outputs": [
    {
     "data": {
      "text/html": [
       "\n",
       "<style>\n",
       ".gonb-err-location {\n",
       "\tbackground: var(--jp-err-color2);  \n",
       "\tborder-radius: 3px;\n",
       "\tborder-style: dotted;\n",
       "\tborder-width: 1px;\n",
       "\tborder-color: var(--jp-border-color2);\n",
       "}\n",
       ".gonb-err-location:hover {\n",
       "\tborder-width: 2px;\n",
       "\tborder-style: solid;\n",
       "\tborder-color: var(--jp-border-color2);\n",
       "}\n",
       ".gonb-err-context {\n",
       "\tdisplay: none;\n",
       "}\n",
       ".gonb-err-location:hover + .gonb-err-context {\n",
       "\tbackground: var(--jp-dialog-background);  \n",
       "\tborder-radius: 3px;\n",
       "\tborder-style: solid;\n",
       "\tborder-width: 1px;\n",
       "\tborder-color: var(--jp-border-color2);\n",
       "\tdisplay: block;\n",
       "\twhite-space: pre;\n",
       "\tfont-family: monospace;\n",
       "}\n",
       ".gonb-err-line {\n",
       "\tborder-radius: 3px;\n",
       "\tborder-style: dotted;\n",
       "\tborder-width: 1px;\t\n",
       "\tborder-color: var(--jp-border-color2);\n",
       "\tbackground-color: var(--jp-rendermime-err-background);\n",
       "\tfont-weight: bold;\n",
       "}\n",
       ".gonb-cell-line-info {\n",
       "\tbackground: var(--jp-layout-color2);\n",
       "\tcolor: #999;\n",
       "\tmargin: 0.1em;\n",
       "\tborder: 1px solid var(--jp-border-color1);\n",
       "\tpadding-left: 0.2em;\n",
       "\tpadding-right: 0.2em;\n",
       "}\n",
       "</style>\n",
       "<div class=\"lm-Widget p-Widget lm-Panel p-Panel jp-OutputArea-child\">\n",
       "<div class=\"lm-Widget p-Widget jp-RenderedText jp-mod-trusted jp-OutputArea-output\" data-mime-type=\"application/vnd.jupyter.stderr\" style=\"font-family: monospace;\">\n",
       "\n",
       "\n",
       "<span style=\"white-space: pre;\"> # gonb_93df4279</span>\n",
       "\n",
       "<br/>\n",
       "\n",
       "<span class=\"gonb-cell-line-info\">Cell[32]: Line 5</span>\n",
       "<span class=\"gonb-err-location\">./main.go:56:21: </span> func() int does not satisfy comparable\n",
       "<div class=\"gonb-err-context\">\n",
       "\tflag.Parse()\n",
       "\ta:= func() int {return 5}\n",
       "\tb:= func() int {return 8}\n",
       "<div class=\"gonb-err-line\">\tfmt.Println(beraber(a,b))\n",
       "</div>\n",
       "\n",
       "\n",
       "</div>\n",
       "\n",
       "<br/>\n",
       "\n",
       "\n",
       "<span style=\"white-space: pre;\"> </span>\n",
       "\n",
       "<br/>\n",
       "\n",
       "</div>\n"
      ]
     },
     "metadata": {},
     "output_type": "display_data"
    },
    {
     "ename": "ERROR",
     "evalue": "failed to run \"/usr/local/go/bin/go build -o /tmp/gonb_93df4279/gonb_93df4279\": exit status 1",
     "output_type": "error",
     "traceback": [
      "failed to run \"/usr/local/go/bin/go build -o /tmp/gonb_93df4279/gonb_93df4279\": exit status 1"
     ]
    }
   ],
   "source": [
    " \n",
    "%%\n",
    "a:= func() int {return 5}\n",
    "b:= func() int {return 8}\n",
    "fmt.Println(beraber(a,b))\n"
   ]
  },
  {
   "cell_type": "markdown",
   "metadata": {},
   "source": [
    "Təəssüf ki, Go dilində öz tipimizi comparable çoxluğuna əlavə etmək üçün elan  \n",
    "etdiyimiz tip üçün xüsusi == != metodlarını əlavə edə bilmirik.  Bu xüsusi qaydalara əsasən təyin edilir.  \n",
    "Məsələn struct tipimizin bütün eleməntləri müqayisə edilən olduqda bizim struct da comparable interfeys çoxluğuna daxil olur.  \n",
    "Tam qaydaları   \n",
    "https://go.dev/ref/spec#Comparison_operators bölməsində tapmaq olar\n"
   ]
  },
  {
   "cell_type": "markdown",
   "metadata": {},
   "source": [
    "Generics-ə aid List nümunəsinə baxaq.  \n",
    "Bu nümunə https://gobyexample.com/generics götürülüb"
   ]
  },
  {
   "cell_type": "code",
   "execution_count": 22,
   "metadata": {},
   "outputs": [
    {
     "name": "stdout",
     "output_type": "stream",
     "text": [
      "list: [10 13 23]\n"
     ]
    }
   ],
   "source": [
    "type List[T any] struct {\n",
    "    head, tail *element[T]\n",
    "}\n",
    "type element[T any] struct {\n",
    "    next *element[T]\n",
    "    val  T\n",
    "} \n",
    "func (lst *List[T]) Push(v T) {\n",
    "    if lst.tail == nil {\n",
    "        lst.head = &element[T]{val: v}\n",
    "        lst.tail = lst.head\n",
    "    } else {\n",
    "        lst.tail.next = &element[T]{val: v}\n",
    "        lst.tail = lst.tail.next\n",
    "    }\n",
    "}\n",
    "func (lst *List[T]) GetAll() []T {\n",
    "    var elems []T\n",
    "    for e := lst.head; e != nil; e = e.next {\n",
    "        elems = append(elems, e.val)\n",
    "    }\n",
    "    return elems\n",
    "}\n",
    "\n",
    "%%\n",
    "lst := List[int]{}\n",
    "lst.Push(10)\n",
    "lst.Push(13)\n",
    "lst.Push(23)\n",
    "fmt.Println(\"list:\", lst.GetAll())"
   ]
  }
 ],
 "metadata": {
  "kernelspec": {
   "display_name": "Go (gonb)",
   "language": "go",
   "name": "gonb"
  },
  "language_info": {
   "codemirror_mode": "",
   "file_extension": ".go",
   "mimetype": "",
   "name": "go",
   "nbconvert_exporter": "",
   "pygments_lexer": "",
   "version": "go1.20.5"
  },
  "orig_nbformat": 4
 },
 "nbformat": 4,
 "nbformat_minor": 2
}
