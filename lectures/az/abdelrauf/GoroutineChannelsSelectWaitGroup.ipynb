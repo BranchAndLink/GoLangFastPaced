{
 "cells": [
  {
   "cell_type": "markdown",
   "metadata": {},
   "source": [
    "### Goroutine\n",
    "\n",
    "Goroutine parallel eyni anda bir neçə funksiyanı icra etmək üçündür.  \n",
    "\n"
   ]
  },
  {
   "cell_type": "markdown",
   "metadata": {},
   "source": [
    "Goroutine-ləri istifad etmək üçün funksiya çağırışlarının əvvəlinə go sözünü əlavə edirik.  \n",
    "defer kimi bunda da funksiyaya verilən arqumentlərin qiymətləndirilməsi çağırış anında baş verir.  \n",
    "Funksiyanın icrası isə yeni goroutine-də baş verir.  \n",
    "```\n",
    "\n",
    "go funksiyamız(a, b, ...)\n",
    "\n",
    "```\n"
   ]
  },
  {
   "cell_type": "code",
   "execution_count": 14,
   "metadata": {},
   "outputs": [
    {
     "name": "stderr",
     "output_type": "stream",
     "text": [
      "0 )  ++++++\n",
      "0 )  Dünya\n",
      "0 )  Salam\n"
     ]
    },
    {
     "name": "stderr",
     "output_type": "stream",
     "text": [
      "1 )  Salam\n",
      "1 )  ++++++\n",
      "1 )  Dünya\n",
      "2 )  Dünya\n",
      "2 )  Salam\n",
      "0 )  ++++++\n",
      "3 )  Salam\n",
      "0 )  ++++++\n",
      "4 )  Salam\n",
      "1 )  ++++++\n",
      "5 )  Salam\n",
      "6 )  Salam\n"
     ]
    }
   ],
   "source": [
    "import \"time\"\n",
    "\n",
    "func MyRoutine(söz string, times int) {\n",
    "\tfor i:=0; i< times; i++ {\n",
    "\t\tprintln(i, \") \", söz)\n",
    "\t\t//fasilə\n",
    "\t\ttime.Sleep(50 * time.Millisecond)\n",
    "\t}\n",
    "   \n",
    "}\n",
    "\n",
    "func main() {\n",
    "\tgo MyRoutine(\"Salam\", 7)\n",
    "\tgo MyRoutine(\"Dünya\", 3)\n",
    "\tMyRoutine(\"++++++\", 2)\n",
    "\ttime.Sleep(10 * time.Millisecond)\n",
    "\tMyRoutine(\"++++++\", 1)\n",
    "\ttime.Sleep(10 * time.Millisecond)\n",
    "\tMyRoutine(\"++++++\", 2)\n",
    "\ttime.Sleep(200 * time.Millisecond)\n",
    "}"
   ]
  },
  {
   "cell_type": "markdown",
   "metadata": {},
   "source": [
    "##### Go planlaşdırıcı(scheduler)  \n",
    "Go planlaşdırıcı çoxlu sayda goroutinlərin icrasını nizamlayır. Go planlaşdırıcı Go runtime tərkib hissəsidir.  \n",
    "Bu əməliyyat sisteminin verdiyi thread-lərə (parallel icra axınları) nisbətdə daha yüngüldür.  \n",
    "Həmçinin goroutine-lər arası keçidlər də daha tez və sürətlidir.  \n"
   ]
  },
  {
   "cell_type": "code",
   "execution_count": 31,
   "metadata": {},
   "outputs": [
    {
     "name": "stdout",
     "output_type": "stream",
     "text": [
      "NumGoroutine 5\n",
      "GOMAXPROCS 2\n",
      "NumCPU 2\n",
      "0 ) Yupiter\n",
      "0 ) Salam\n",
      "0 ) Baku\n",
      "0 ) Mars\n",
      "1 ) Salam\n",
      "1 ) Mars\n",
      "1 ) Baku\n",
      "1 ) Yupiter\n"
     ]
    }
   ],
   "source": [
    "func MyRoutine(söz string, times int) {\n",
    "\tfor i:=0; i< times; i++ {\n",
    "\t\tfmt.Println(i, \")\", söz)\n",
    "\t\t//fasilə\n",
    "\t\ttime.Sleep(500 * time.Millisecond)\n",
    "\t}\n",
    "   \n",
    "}\n",
    "\n",
    "func main() {\n",
    "\tvar sözlər = [...] string {\"Salam\", \"Baku\", \"Mars\", \"Yupiter\"}\n",
    "\tfor _, s := range sözlər {\n",
    "\t\tgo MyRoutine(s, 2) \n",
    "\t}\n",
    "\tfmt.Println(\"NumGoroutine\", runtime.NumGoroutine())\n",
    "\tfmt.Println(\"GOMAXPROCS\", runtime.GOMAXPROCS(-1))\n",
    "\tfmt.Println(\"NumCPU\", runtime.NumCPU())\n",
    "\ttime.Sleep(2000 * time.Millisecond)\n",
    "}"
   ]
  },
  {
   "cell_type": "markdown",
   "metadata": {},
   "source": [
    "Qeyd edək ki, runtime.GOMAXPROCS(-1) eynianda icra edə biləcək maximum məntiqi Cpu nüvələrini göstərir.  \n",
    "Göründüyü kimi bu adi halda sistemdə olan nüvə sayına bərabərdir.  \n",
    "Ümumilikdə qeyd edək ki, Go planlaşdırıcı icra edilən goroutine-lərin hamısı üçün vaxt ayırmasına şərait yaratmağa çalışacaq.  \n",
    "Həmçinin Goroutine daxilində primitiv sinxronlaşma blokları, sistem, io çağırışlar olduqda digər goroutine icrasına keçid ola bilər. Bu məsələlər adətən parallel məntiqi nüvə sayı 1 və ya az olduqda, goroutine sayı isə həddindən artıq olanda vacib olur.   \n",
    "Bu mövzuya xüsusi baxış lazım olduğundan gələcəkdə dərindən nəzərdən keçirəcəyik."
   ]
  },
  {
   "cell_type": "markdown",
   "metadata": {},
   "source": [
    "### Goroutine-lərlə işləmə"
   ]
  },
  {
   "cell_type": "markdown",
   "metadata": {},
   "source": [
    "Yuxarıdakı misallarda biz gözləmə ilə fasilə verirdik. \n",
    "Fasilə vermədiyimiz halda nə baş verəcəyini nəzərdən keçirək"
   ]
  },
  {
   "cell_type": "code",
   "execution_count": 32,
   "metadata": {},
   "outputs": [
    {
     "name": "stdout",
     "output_type": "stream",
     "text": [
      "0 ) ++++++\n",
      "1 ) ++++++\n",
      "0 ) ++++++\n",
      "0 ) ++++++\n",
      "1 ) ++++++\n"
     ]
    }
   ],
   "source": [
    "func MyRoutine(söz string, times int) {\n",
    "\tfor i:=0; i< times; i++ {\n",
    "\t\tfmt.Println(i, \")\", söz) \n",
    "\t} \n",
    "   \n",
    "}\n",
    "\n",
    "func main() {\n",
    "\tgo MyRoutine(\"Salam\", 7)\n",
    "\tgo MyRoutine(\"Dünya\", 3)\n",
    "\tMyRoutine(\"++++++\", 2) \n",
    "\tMyRoutine(\"++++++\", 1) \n",
    "\tMyRoutine(\"++++++\", 2) \n",
    "}"
   ]
  },
  {
   "cell_type": "markdown",
   "metadata": {},
   "source": [
    "Fikir verdiksə əsas main goroutine-i bitdikdən sonra proqram çıxır. \n",
    "Proqram digər goroutine-lərə vaxt ayrılmağa macal tapmır.  \n",
    "Aydın məsələdir ki, main çıxmamışdan əvvəl goroutine-lərin icrasının bitməsini də gözləmək \n",
    "daha düzgün olardı.  \n",
    "Bundan başqa goroutinlər bir birilə necə əlaqə saxlaya və eyni dəyişənə problemsiz müraciəto barədə də qısa danışaq. \n",
    "Belə ki, Goroutine də icra edilən funksiyalar eyni yaddaş fəzasını əhatə edir.  \n",
    "Ona görə ortaq dəyişənlərin dəyişdirilməsi \n",
    "məlumat pozğunluğuna səbəb ola bilər (data race - məlumat dəyişimi üçün yarış). O səbəbdən həmin məlumatın dəyişdirilməsi  \n",
    "sinxronlaşdırılmalıdır. "
   ]
  },
  {
   "cell_type": "markdown",
   "metadata": {},
   "source": [
    "#### Channels (kanallar)"
   ]
  },
  {
   "cell_type": "markdown",
   "metadata": {},
   "source": [
    "Channel dedikdə tipə sahib kanal nəzərdə tutulur. Adi halda bu kanal iki istiqamətlidir. Yəni ona həm yaza \n",
    "həmdə ondan oxuya bilərik. \n",
    "Channel elanı aşağıdakı kimi olur. \n",
    "```Go\n",
    "// kanal := make(chan Tip)\n",
    "// var kanal2 chan Tip //inisializasiya olunmadığından nil-dir\n",
    "// kanal2 =  make(chan Tip)\n",
    "\n",
    "kanal := make(chan string)\n",
    "var kanal2 chan string\n",
    "kanal2 = make(chan string)\n",
    "\n",
    "```\n",
    "Channel-ə yazmaq və oxumaq üçün <- operatorundan istifadə edirik.  \n",
    "Oxun istiqaməti yazı və ya oxuma olduğunu göstərir\n",
    "```Go\n",
    "kanal <- v    // kanal Channel-inə v məlumatını göndər \n",
    "z := <- kanal  // kanal Channel-dən məlumatı oxu və z dəyişəninə mənimsət \n",
    "\n",
    "```\n",
    "\n",
    "Adi halda Channel-ə oxu və yazı əməliyyatı digər tərəfin istifadə edəcəyi anadək blok olur.  \n",
    "Bu səbəbdən Channel vasitəsilə biz goroutine-ləri nəinki bir birilə əlaqələndirə həm də sinxronlaşdıra bilərik.  \n"
   ]
  },
  {
   "cell_type": "code",
   "execution_count": 17,
   "metadata": {},
   "outputs": [
    {
     "name": "stdout",
     "output_type": "stream",
     "text": [
      "<nil>\n",
      "0xc000082060\n"
     ]
    }
   ],
   "source": [
    "%%\n",
    "//Qeyd: sadə elan etdikdə kanal inisializasiya olunmur və nil-dir\n",
    "var kanal2 chan string\n",
    "fmt.Println(kanal2)\n",
    "kanal2 = make(chan string)\n",
    "fmt.Println(kanal2)\n"
   ]
  },
  {
   "cell_type": "code",
   "execution_count": 3,
   "metadata": {},
   "outputs": [
    {
     "name": "stderr",
     "output_type": "stream",
     "text": [
      "fatal error: all goroutines are asleep - deadlock!\n",
      "\n",
      "goroutine 1 [chan send (nil chan)]:\n",
      "main.main()\n",
      "\t/tmp/gonb_e784b3b9/main.go:11 +0x65\n",
      "exit status 2\n"
     ]
    }
   ],
   "source": [
    "%%\n",
    "var kanal2 chan string\n",
    "kanal2 <- \"blok deadlock\""
   ]
  },
  {
   "cell_type": "markdown",
   "metadata": {},
   "source": [
    "\n",
    "Channel-i ```close``` builtin funksiyası ilə bağlamaq olur. Bu zaman yadda saxlamaq lazımdır ki, \n",
    "bağlanmış kanala göndərmək xəta ilə nəticələnir.  Adətən channel əgər for dövrəsi içində oxuyursa bağlama \n",
    "zamanı o dövrdən çıxacaq. Ümumən isə channel-i bağlama vacib deyil, sadəcə for range loop üçün əhəmiyyət kəsb edir. \n",
    "channel-in bağlandığını başqa cür isə belə yoxlamaq olar. \n",
    "```Go\n",
    "\n",
    "v, işləkdir := <-kanal \n",
    "\n",
    "if !işləkdir {\n",
    "    print(\"kanal bağlıdır\" )\n",
    "}\n",
    "\n",
    "```"
   ]
  },
  {
   "cell_type": "code",
   "execution_count": 37,
   "metadata": {},
   "outputs": [
    {
     "name": "stdout",
     "output_type": "stream",
     "text": [
      "Akif\n",
      "Zakir\n",
      "Samir\n",
      "Sona\n",
      "Vahid\n",
      "Əli\n",
      "Səid\n"
     ]
    },
    {
     "name": "stderr",
     "output_type": "stream",
     "text": [
      "göndərmələrdə keçən vaxt 3004ms"
     ]
    }
   ],
   "source": [
    "func İcracıAsanXidmət(növbə chan string) { \n",
    "\tfor adam := range növbə {\n",
    "        fmt.Println(adam)\n",
    "\t\t//sanki iş görürük\n",
    "\t\ttime.Sleep(500 * time.Millisecond)\n",
    "    }\n",
    "   \n",
    "}\n",
    "\n",
    "func main() {\n",
    "\tkanal := make(chan string)\n",
    "\tgo İcracıAsanXidmət(kanal)\n",
    "\tvar t = time.Now().UnixMilli()\n",
    "\tkanal <- \"Akif\"\n",
    "\tkanal <- \"Zakir\"\n",
    "\tkanal <- \"Samir\"\n",
    "\tkanal <- \"Sona\"\n",
    "\tkanal <- \"Vahid\"\n",
    "\tkanal <- \"Əli\"\n",
    "\tkanal <- \"Səid\"\n",
    "\tt = time.Now().UnixMilli() - t\n",
    "\tclose(kanal)\n",
    "\tprint(\"göndərmələrdə keçən vaxt \", t, \"ms\")\n",
    "\ttime.Sleep(100 * time.Millisecond)\n",
    "}"
   ]
  },
  {
   "cell_type": "markdown",
   "metadata": {},
   "source": [
    "Qedy edək ki, kanallara həmçinin **bufferləşmiş** də ola bilər. Bu zaman kanala yazmalar buffer tam dolanda bloklanır. \n",
    "\n",
    "\n",
    "```Go\n",
    "kanal := make(chan string, 100)\n",
    "\n",
    "```\n",
    "Gəlin eyni misalda göndərmələrdə bloklanma olmadığını və az vaxt almasını yoxlayaq. "
   ]
  },
  {
   "cell_type": "code",
   "execution_count": 38,
   "metadata": {},
   "outputs": [
    {
     "name": "stderr",
     "output_type": "stream",
     "text": [
      "göndərmələrdə keçən vaxt 0ms"
     ]
    },
    {
     "name": "stdout",
     "output_type": "stream",
     "text": [
      "Akif\n",
      "Zakir\n",
      "Samir\n",
      "Sona\n",
      "Vahid\n",
      "Əli\n",
      "Səid\n"
     ]
    }
   ],
   "source": [
    "func main() {\n",
    "\tkanal := make(chan string, 100)\n",
    "\tgo İcracıAsanXidmət(kanal)\n",
    "\tvar t = time.Now().UnixMilli()\n",
    "\tkanal <- \"Akif\"\n",
    "\tkanal <- \"Zakir\"\n",
    "\tkanal <- \"Samir\"\n",
    "\tkanal <- \"Sona\"\n",
    "\tkanal <- \"Vahid\"\n",
    "\tkanal <- \"Əli\"\n",
    "\tkanal <- \"Səid\"\n",
    "\tt = time.Now().UnixMilli() - t\n",
    "\tclose(kanal)\n",
    "\tprint(\"göndərmələrdə keçən vaxt \", t, \"ms\")\n",
    "\ttime.Sleep(5 * time.Second)\n",
    "}"
   ]
  },
  {
   "cell_type": "markdown",
   "metadata": {},
   "source": [
    "Yuxarıdakı misalda channel ikitərəfli olduğundan hər iki tərəf həm göndərə həm də \n",
    "oxuya bilər. Bu çox zaman arzuolunmazdır. Bəzən biz istəyirik bir tərəf yalnız oxua bilsin. \n",
    "Və bir tərəf yalnız yaza bilsin. Həmçinin bu halda ona göndərmələr və kanal bağlanması da bir tərəfin məsuliyyətində olur.  \n",
    "```Go\n",
    "\n",
    "var adiKanal chan string // kanala hər kəs yaza, ondan oxuya və ya onu bağlaya bilər\n",
    "var oxuKanalı <-chan string // kanaldan oxuya bilər lakin  yaza bağlaya bilməz\n",
    "var yazıKanalı chan<- string  // kanala yaza, ya onu bağlaya bilər. Lakin ondan oxuya bilməz\n",
    "\n",
    "readOnly := make(<-chan string) // oxu\n",
    "sendOnly := make(chan<- string) // yazı\n",
    "\n",
    "\n",
    "```"
   ]
  },
  {
   "cell_type": "code",
   "execution_count": 39,
   "metadata": {},
   "outputs": [
    {
     "name": "stdout",
     "output_type": "stream",
     "text": [
      "Akif\n",
      "Zakir\n",
      "Samir\n",
      "Sona\n",
      "Vahid\n",
      "Əli\n",
      "Səid\n"
     ]
    },
    {
     "name": "stderr",
     "output_type": "stream",
     "text": [
      "göndərmələrdə keçən vaxt 3004ms"
     ]
    }
   ],
   "source": [
    "func İcracıAsanXidmət(növbəOxuKanalı <-chan string) { \n",
    "\tfor adam := range növbəOxuKanalı {\n",
    "        fmt.Println(adam)\n",
    "\t\t//sanki iş görürük\n",
    "\t\ttime.Sleep(500 * time.Millisecond)\n",
    "    }\n",
    "   \n",
    "}\n",
    "\n",
    "func main() {\n",
    "\tkanal := make(chan string)\n",
    "\tgo İcracıAsanXidmət(kanal)\n",
    "\tvar t = time.Now().UnixMilli()\n",
    "\tkanal <- \"Akif\"\n",
    "\tkanal <- \"Zakir\"\n",
    "\tkanal <- \"Samir\"\n",
    "\tkanal <- \"Sona\"\n",
    "\tkanal <- \"Vahid\"\n",
    "\tkanal <- \"Əli\"\n",
    "\tkanal <- \"Səid\"\n",
    "\tt = time.Now().UnixMilli() - t\n",
    "\tclose(kanal)\n",
    "\tprint(\"göndərmələrdə keçən vaxt \", t, \"ms\")\n",
    "\ttime.Sleep(100 * time.Millisecond)\n",
    "}"
   ]
  },
  {
   "cell_type": "markdown",
   "metadata": {},
   "source": [
    "Qeyd edək ki, baxmayaraq ki kanal channel-i ikitərəfli elan olunub, goroutine funksiyasına verilən arqument daxildə\n",
    "yalnız birtərəfli oxu kanalı olur. channel reference olduğundan aydın məsələ hər ikisinin alt kanalı eynidir. \n",
    "\n",
    "```Go\n",
    "\n",
    "var kanal chan string\n",
    "var növbəOxuKanalı <-chan string\n",
    "\n",
    "kanal = make(chan string)\n",
    "\n",
    "növbəOxuKanalı = kanal //hər ikisi altda eyni kanalı saxlasa da növbəOxuKanalı yalnız oxuya bilər\n",
    "\n",
    "```"
   ]
  },
  {
   "cell_type": "markdown",
   "metadata": {},
   "source": [
    "Kanal üzərində əməliyyatlar və nəticələri:\n",
    " \n",
    "\n",
    "\"Əməliyyat\" | Kanalın vəziyyəti      | Nəticə\n",
    "----------|--------------------|-------------\n",
    "Oxumaq      | nil                | Bloka Deadlock-a düşür\n",
    "_         |Açıq və boş deyil  | qiyməti oxuyur\n",
    "_         | Açıq və boş| Bloka düşür\n",
    "_         | Bağlı              | default qiymət, false qaytarır\n",
    "_         | Yalnız Yazı kanalı        | Kompilyasiya xətası\n",
    "Yazmaq     | nil                | Bloka Deadlock-a düşür\n",
    "_         | Açıq və doludur      | Bloka düşür\n",
    "_         | Açıq və dolu deyil  | Kanala yazır\n",
    "_         | Bağlı              | panic\n",
    "_         | Yalnız Oxu kanalı       | Kompilyasiya xətası\n",
    "Bağlamaq (Close)     | nil                | panic \n",
    "_         | Açıq və boş deyil | kanalı bağlayır; oxuma kanal boşalana kimi uğurla davam edir, sonra default qiymətlə nəticələnir\n",
    "_         | Açıq və boş     | kanalı bağlayır; oxuma default qiymətlə nəticələnir\n",
    "_         | Bağlı              | panic"
   ]
  },
  {
   "cell_type": "markdown",
   "metadata": {},
   "source": [
    "#### Select\n",
    "\n",
    "Select vasitəsilə biz bir neçə kanallarda baş verən kommunikasiya əməliyyatlarını izləyə və gözləyə bilərik. Həmçinin default halını da əlavə etsək, bu zaman default hissə digər əməliyyatlarda bloka düşmə olduğu halda işə düşəcək. \n",
    "\n",
    "```Go\n",
    "select {\n",
    "    case s <- v:\n",
    "        fmt.Println(\"Göndər:\", v)\n",
    "    case vr := <-r:\n",
    "        fmt.Println(\"Oxu:\", vr) \n",
    "    default:\n",
    "    // yuxarıdakılar blok olduğu halda icra et\n",
    "}\n",
    "\n",
    "\n",
    "```\n",
    "\n"
   ]
  },
  {
   "cell_type": "markdown",
   "metadata": {},
   "source": [
    "<span style=\"color:red\"> Diqqət edin ki select bloku heçnəsiz və ya nil kanallarla icra edilsə tam bloka və deadlock-a düşür </span>\n"
   ]
  },
  {
   "cell_type": "code",
   "execution_count": 21,
   "metadata": {},
   "outputs": [
    {
     "name": "stderr",
     "output_type": "stream",
     "text": [
      "fatal error: all goroutines are asleep - deadlock!\n",
      "\n",
      "goroutine 1 [select (no cases)]:\n",
      "main.main()\n",
      "\t/tmp/gonb_bb7e8f5b/main.go:21 +0x5a\n",
      "exit status 2\n"
     ]
    }
   ],
   "source": [
    "%%\n",
    "select {\n",
    "\t\n",
    "}"
   ]
  },
  {
   "cell_type": "markdown",
   "metadata": {},
   "source": [
    "Select-ə aid nümunəyə baxaq: "
   ]
  },
  {
   "cell_type": "code",
   "execution_count": 40,
   "metadata": {},
   "outputs": [
    {
     "name": "stdout",
     "output_type": "stream",
     "text": [
      "Sona  növbəyə durur\n",
      "Akif  növbəyə durur\n",
      "~~~ Sona ~~~\n",
      "~~~ Sona ~~~  işi bitib, yola salınır\n",
      "~~~ Akif ~~~\n",
      "Vahid  növbəyə durur\n",
      "~~~ Akif ~~~  işi bitib, yola salınır\n",
      "~~~ Vahid ~~~\n",
      "Zakir  növbəyə durur\n",
      "~~~ Vahid ~~~  işi bitib, yola salınır\n",
      "~~~ Zakir ~~~\n",
      "~~~ Zakir ~~~  işi bitib, yola salınır\n",
      "icraçı istirahet edir\n",
      "Əli  növbəyə durur\n",
      "Samir  növbəyə durur\n",
      "~~~ Əli ~~~\n",
      "~~~ Əli ~~~  işi bitib, yola salınır\n",
      "~~~ Samir ~~~\n",
      "~~~ Samir ~~~  işi bitib, yola salınır\n"
     ]
    }
   ],
   "source": [
    "\n",
    "func İcracıAsanXidmət(növbəOxuKanalı <-chan string) {\n",
    "\tfor {\n",
    "\t\tselect {\n",
    "\t\tcase adam, ok := <-növbəOxuKanalı:\n",
    "\t\t\tif !ok {\n",
    "\t\t\t\tbreak\n",
    "\t\t\t}\n",
    "\t\t\tfmt.Println(\"~~~\", adam, \"~~~\")\n",
    "\t\t\ttime.Sleep(50 * time.Millisecond)\n",
    "\t\t\tfmt.Println(\"~~~\", adam, \"~~~\", \" işi bitib, yola salınır\")\n",
    "\t\tdefault:\n",
    "\t\t\tfmt.Println(\"icraçı istirahet edir\")\n",
    "\t\t\ttime.Sleep(100 * time.Millisecond)\n",
    "\n",
    "\t\t}\n",
    "\n",
    "\t}\n",
    "\n",
    "}\n",
    "\n",
    "func main() {\n",
    "\tkanal := make(chan string)\n",
    "\tgo İcracıAsanXidmət(kanal)\n",
    "\tvar arr = [...]string{\"Akif\", \"Zakir\", \"Samir\"}\n",
    "\tvar arr1 = [...]string{\"Sona\", \"Vahid\", \"Əli\"}\n",
    "\tgo func() {\n",
    "\t\tfor _, el := range arr {\n",
    "\t\t\tfmt.Println(el, \" növbəyə durur\")\n",
    "\t\t\tkanal <- el\n",
    "\t\t\ttime.Sleep(100 * time.Millisecond)\n",
    "\t\t}\n",
    "\t}()\n",
    "\n",
    "\tfor _, el := range arr1 {\n",
    "\t\tfmt.Println(el, \" növbəyə durur\")\n",
    "\t\tkanal <- el\n",
    "\t\ttime.Sleep(100 * time.Millisecond)\n",
    "\t}\n",
    "\tclose(kanal)\n",
    "\ttime.Sleep(1000 * time.Millisecond)\n",
    "}\n"
   ]
  },
  {
   "cell_type": "markdown",
   "metadata": {},
   "source": [
    "Ümumən Select və channel-dən ehtiyatla istifadə etmək lazımdır.  \n",
    "\n",
    "Qeyd edək ki, biz əlavə channel-dən goroutine-in bitmə siqnalı kimi istifadə edə və main-dən o halda çıxa bilərik.  \n",
    "Lakin bunun üçün sync primitivlərdən WaitGroup istifadə etmək olar."
   ]
  },
  {
   "cell_type": "markdown",
   "metadata": {},
   "source": [
    "#### sync.WaitGroup (gözləmə qrupu) \n",
    "sync paketində olan WaitGroup la tanış olaq. \n",
    "\n",
    "Biz indiyə kimi gözləmə kimi fasilə istifadə edirdik (time.Sleep).  \n",
    "İndi isə daha düzgün üsulla gözləməni həyata keçirək.\n",
    "\n",
    " | metod | izah |\n",
    " |---|---|\n",
    "|Add(n int) |WaitGroup sayını n sayda artırır\n",
    "|Done()\t |WaitGroup sayını 1 vahid azaldır, Bunu goroutine-in bitdiyini göstərmək üçün istifadə edəcəyik\n",
    "|Wait()\t| WaitGroup sayı 0 olana qədər bloka düşür."
   ]
  },
  {
   "cell_type": "code",
   "execution_count": 30,
   "metadata": {},
   "outputs": [
    {
     "name": "stderr",
     "output_type": "stream",
     "text": [
      "0 )  ++++++\n",
      "0 )  Dünya\n",
      "0 )  Salam\n",
      "1 )  Salam\n",
      "1 )  ++++++\n",
      "1 )  Dünya\n",
      "2 )  Dünya\n",
      "2 )  ++++++\n",
      "2 )  Salam\n",
      "3 )  Salam\n",
      "3 )  Dünya\n"
     ]
    }
   ],
   "source": [
    "import \"sync\"\n",
    "\n",
    "func MyRoutine(söz string, times int, wg *sync.WaitGroup) {\n",
    "\tif wg!=nil {\n",
    "\t\tdefer wg.Done()\n",
    "\t}\n",
    "\tfor i:=0; i< times; i++ {\n",
    "\t\tprintln(i, \") \", söz)\n",
    "\t\ttime.Sleep(70 * time.Millisecond)\n",
    "\t} \n",
    "   \n",
    "}\n",
    "\n",
    "func main() {\n",
    "\twg := new(sync.WaitGroup)\n",
    "    wg.Add(2)\n",
    "\tgo MyRoutine(\"Salam\", 4, wg)\n",
    "\tgo MyRoutine(\"Dünya\", 4, wg)\n",
    "\tMyRoutine(\"++++++\", 3, nil)  \n",
    "\n",
    "\twg.Wait()\n",
    "}"
   ]
  },
  {
   "cell_type": "markdown",
   "metadata": {},
   "source": [
    "sync paketində digər sinxronlaşdırma primitivləri ilə daha sonra tanış olacağıq."
   ]
  }
 ],
 "metadata": {
  "kernelspec": {
   "display_name": "Go (gonb)",
   "language": "go",
   "name": "gonb"
  },
  "language_info": {
   "codemirror_mode": "",
   "file_extension": ".go",
   "mimetype": "",
   "name": "go",
   "nbconvert_exporter": "",
   "pygments_lexer": "",
   "version": "go1.20.5"
  },
  "orig_nbformat": 4
 },
 "nbformat": 4,
 "nbformat_minor": 2
}
