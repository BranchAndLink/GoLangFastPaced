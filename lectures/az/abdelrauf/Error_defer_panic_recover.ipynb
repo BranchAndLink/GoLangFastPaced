{
 "cells": [
  {
   "cell_type": "markdown",
   "metadata": {},
   "source": [
    "### Error (Xəta) \n",
    "\n",
    "Ümumən, proqramlaşdırmada xətaların idarə edilməsi önəmlidir.  \n",
    "Bu səbəbdən Go dilində universal blokda təyin edilən error builtin tipi var.   \n",
    "Bu error tipi interfeysdir.  \n",
    "```Go\n",
    "type error interface {\n",
    "    Error() string\n",
    "}\n",
    "``` "
   ]
  },
  {
   "cell_type": "markdown",
   "metadata": {},
   "source": [
    "Biz bu interfeyslə dolayı olsa da Basic Input Output fəslində qarşılaşmışdıq.  \n",
    "Məsələn: \n",
    "```Go\n",
    "func Scan(a ...any) (n int, err error)\n",
    "```\n",
    "\n",
    "Məsələn burada ədəd yerinə fərqli bir şey yazsaq  \n",
    "\"expected integer\" xətası baş verəcək."
   ]
  },
  {
   "cell_type": "code",
   "execution_count": 20,
   "metadata": {},
   "outputs": [
    {
     "name": "stdout",
     "output_type": "stream",
     "text": [
      "expected integer\n"
     ]
    }
   ],
   "source": [
    "import (\n",
    "\t\"fmt\"\n",
    "\t\"github.com/janpfeifer/gonb/gonbui\"\n",
    ")\n",
    "%%\n",
    "gonbui.RequestInput(\"Eded daxil et: \", false)\n",
    "var x int\n",
    "_, err := fmt.Scan(&x) \n",
    "if err !=nil {\n",
    "\tfmt.Println(err)\n",
    "}"
   ]
  },
  {
   "cell_type": "markdown",
   "metadata": {},
   "source": [
    "İnterfeysimiz sadədir. Aydın məsələdir ki, bunu implementasiya etmək rahatdır.  \n",
    "Lakin çox zaman bizə elə mətn qaytaran error və onunla əlaqəli funksiyalar bəs edir, hansı ki errors və fmt package-də var. \n",
    "```Go\n",
    "// errorString   error-un sadə implementasiyası .\n",
    "type errorString struct {\n",
    "    s string\n",
    "}\n",
    "\n",
    "func (e *errorString) Error() string {\n",
    "    return e.s\n",
    "}\n",
    "```\n",
    "Onun istifadəsinə baxaq\n"
   ]
  },
  {
   "cell_type": "code",
   "execution_count": 21,
   "metadata": {},
   "outputs": [
    {
     "name": "stdout",
     "output_type": "stream",
     "text": [
      "*errors.errorString Xeta#1\n",
      "*errors.errorString Xeta#2\n"
     ]
    }
   ],
   "source": [
    "import (\n",
    "\t\"fmt\"\n",
    "\t\"errors\"\n",
    ")\n",
    "\n",
    "%%\n",
    "\n",
    "err1 := errors.New(\"Xeta#1\")\n",
    "fmt.Printf(\"%T %v\\n\", err1, err1)\n",
    "err2 := fmt.Errorf(\"Xeta#%d\", 2)\n",
    "fmt.Printf(\"%T %v\\n\", err2, err2)"
   ]
  },
  {
   "cell_type": "markdown",
   "metadata": {},
   "source": [
    "errors və fmt package üzrə digər metodlara aid nümunəyə baxaq.  \n",
    "Xüsusilə  real kodlama zamanı səhvləri yuxarı ötürməyimizdə kömək edən aşağıdakı  \n",
    "qayda ilə bağlamaya almaq və açmaq məsələsinə baxaq.  "
   ]
  },
  {
   "cell_type": "code",
   "execution_count": 22,
   "metadata": {},
   "outputs": [
    {
     "name": "stdout",
     "output_type": "stream",
     "text": [
      "{\n",
      " Xeta#2 (Xeta#1 ) \n",
      "}\n",
      "{\n",
      " Xeta#3 (Xeta#2 (Xeta#1 ) ) \n",
      "}\n",
      "Xeta#2 (Xeta#1 )\n",
      "Xeta#1\n"
     ]
    }
   ],
   "source": [
    "%%\n",
    "err1 := errors.New(\"Xeta#1\")  \n",
    "//fmt.Errorf %w ilə error bağlaması düzəldə bilərik\n",
    "\n",
    "err_wrapped := fmt.Errorf(\"Xeta#2 (%w )\" , err1 ) \n",
    "fmt.Println(\"{\\n\",err_wrapped,\"\\n}\")\n",
    "err_wrapped2 := fmt.Errorf(\"Xeta#3 (%w )\" , err_wrapped ) \n",
    "\n",
    "fmt.Println(\"{\\n\",err_wrapped2,\"\\n}\")\n",
    "\n",
    "//bağlamanı açaq\n",
    "err_unwrapped2 := errors.Unwrap(err_wrapped2)\n",
    "fmt.Println(err_unwrapped2 )\n",
    "err_unwrapped1 := errors.Unwrap(err_unwrapped2)\n",
    "fmt.Println(err_unwrapped1 )\n"
   ]
  },
  {
   "cell_type": "markdown",
   "metadata": {},
   "source": [
    "Və son olaraq öz error tipimizə aid nümunəyə baxaq.  \n",
    "(Sadəlik üçün burda bütün hallarda xəta qaytarırıq.)"
   ]
  },
  {
   "cell_type": "code",
   "execution_count": 23,
   "metadata": {},
   "outputs": [
    {
     "name": "stdout",
     "output_type": "stream",
     "text": [
      "hemishe_xetali_ikinci_funksiya xeta [msg:{xeta mesajimiz}, kod:{44}]\n"
     ]
    }
   ],
   "source": [
    "type BizimXeta struct {\n",
    "    xeta_mesaji string\n",
    "\txeta_kodu int\n",
    "}\n",
    "\n",
    "func (bx *BizimXeta) Error() string {\n",
    "\treturn fmt.Sprintf(\"msg:{%v}, kod:{%d}\", bx.xeta_mesaji, bx.xeta_kodu)\n",
    "}\n",
    "\n",
    "func hemishe_xetali() error {\n",
    "\treturn &BizimXeta{\"xeta mesajimiz\", 44}\n",
    "}\n",
    "\n",
    "func hemishe_xetali_ikinci_funksiya() error {\n",
    "\tret := hemishe_xetali()\n",
    "   return fmt.Errorf(\"hemishe_xetali_ikinci_funksiya xeta [%w]\", ret)\n",
    "}\n",
    "\n",
    "%%\n",
    "err := hemishe_xetali_ikinci_funksiya()\n",
    "\n",
    "fmt.Println(err) \n"
   ]
  },
  {
   "cell_type": "markdown",
   "metadata": {},
   "source": [
    "Errors və fmt paketini, həmçinin bu mövzunu daha ətraflı və geniş nəzərdən keçirmək üçün   \n",
    "https://go.dev/blog/error-handling-and-go   \n",
    "https://pkg.go.dev/errors   \n",
    "https://pkg.go.dev/fmt#Errorf  "
   ]
  },
  {
   "cell_type": "markdown",
   "metadata": {},
   "source": [
    "### Defer  (Təxirə salma)\n",
    "**defer** ifadəsi ilə funksiya bloku daxilində olan funksiya çağırışlarını siyahıya alıb icrasını təxirə salmaq olur.  \n",
    "Həmin siyahıdakı funksiya çağırışlarının icrası funksiya blokundan return ilə çıxdıqdan sonra baş verir.  \n",
    "Defer adətən müxtəlif resurslarla işlədiyimiz zaman onların düzgün azad edilməsində işimizə yarayır. (Məsələn: File-larla işlədikdə)  \n",
    "İndi isə defer-in işləmə xüsusiyyətlərini sadalayaq:  \n"
   ]
  },
  {
   "cell_type": "markdown",
   "metadata": {},
   "source": [
    "1.  defer edilmiş funksiya çağırışlarının arqumentlərinin qiymətləndirilməsi defer çağrıldığı anda həyata keçir\n",
    "2.  siyahıya alınmış funksiya çağırışları lifo(last in first out) sıralaması ilə icra edilir. Yəni sonuncu ilk icra edilir. \n",
    "3.  defer edilmiş funksiya çağırışları içərisində adlı nəticə dəyişənlərini həm istifadə edə həm də onlara oxuyub mənimsədə bilərik.  \n",
    "( return-dən sonra icra edildiyini unutma)."
   ]
  },
  {
   "cell_type": "markdown",
   "metadata": {},
   "source": [
    "1-ciyə aid nümunəyə baxaq"
   ]
  },
  {
   "cell_type": "code",
   "execution_count": 24,
   "metadata": {},
   "outputs": [
    {
     "name": "stdout",
     "output_type": "stream",
     "text": [
      "--- 1\n",
      "defer icra 0\n"
     ]
    }
   ],
   "source": [
    "func a() {\n",
    "    i := 0\n",
    "    defer fmt.Println(\"defer icra\", i)\n",
    "    i++\n",
    "\tfmt.Println(\"---\", i)\n",
    "    return\n",
    "}\n",
    "%%\n",
    "a()"
   ]
  },
  {
   "cell_type": "markdown",
   "metadata": {},
   "source": [
    "2-ciyə aid nümunə"
   ]
  },
  {
   "cell_type": "code",
   "execution_count": 25,
   "metadata": {},
   "outputs": [
    {
     "name": "stdout",
     "output_type": "stream",
     "text": [
      "deferred funksiya 3\n",
      "deferred funksiya 2\n",
      "deferred funksiya 1\n",
      "deferred funksiya 0\n"
     ]
    }
   ],
   "source": [
    "func b() {\n",
    "    for i := 0; i < 4; i++ {\n",
    "        defer fmt.Println(\"deferred funksiya\", i)\n",
    "    }\n",
    "}\n",
    "%%\n",
    "b()"
   ]
  },
  {
   "cell_type": "markdown",
   "metadata": {},
   "source": [
    "3-cüyə aid nümunə:"
   ]
  },
  {
   "cell_type": "code",
   "execution_count": null,
   "metadata": {},
   "outputs": [
    {
     "name": "stdout",
     "output_type": "stream",
     "text": [
      "2\n"
     ]
    }
   ],
   "source": [
    "func c() (i int) {\n",
    "    defer func() { i++ }()\n",
    "    return 1\n",
    "}\n",
    "\n",
    "%%\n",
    "ret:= c()\n",
    "fmt.Println(ret)"
   ]
  },
  {
   "cell_type": "markdown",
   "metadata": {},
   "source": [
    "#### Panic və Recover\n",
    "Go dilində **panic** builtin funksiyası vasitəsilə proqramın normal icrası dayanır.   \n",
    "Nəticə etibarilə panic baş verən funksiyada defer edilmiş funksiya çağırışları icra edilir və  \n",
    "geri qayıdır. Geri qayıdılan funksiyada yenə həmin iş təkrarlanır.  Bu proses  proqramdan  \n",
    "çıxışa səbəb olana kimi davam edir.   \n",
    "Qeyd edək ki panic kodda istifadə edilməsilə yanaşı, həmçinin məşhur runtime(icra prosesində) xətalar zamanı da baş verir. "
   ]
  },
  {
   "cell_type": "code",
   "execution_count": null,
   "metadata": {},
   "outputs": [
    {
     "name": "stderr",
     "output_type": "stream",
     "text": [
      "panic: runtime error: integer divide by zero\n",
      "\n",
      "goroutine 1 [running]:\n",
      "main.main()\n",
      "\t \u001b[7m[[ Cell [2] Line 4 ]]\u001b[0m /tmp/gonb_f39407f7/main.go:12 +0x5a\n",
      "exit status 2\n"
     ]
    }
   ],
   "source": [
    "%%\n",
    "h:=456\n",
    "z:=0\n",
    "//Qeyd h/0 birbaşa yazsaq ağıllı GO kompilyasiya zamanı problemdən xəbər verəcək\n",
    "h=h/z "
   ]
  },
  {
   "cell_type": "code",
   "execution_count": 8,
   "metadata": {},
   "outputs": [
    {
     "name": "stdout",
     "output_type": "stream",
     "text": [
      "3\n"
     ]
    },
    {
     "name": "stderr",
     "output_type": "stream",
     "text": [
      "panic: runtime error: index out of range [5] with length 5\n",
      "\n",
      "goroutine 1 [running]:\n",
      "main.main()\n",
      "\t \u001b[7m[[ Cell [8] Line 4 ]]\u001b[0m /tmp/gonb_f39407f7/main.go:13 +0x12b\n",
      "exit status 2\n"
     ]
    }
   ],
   "source": [
    "%%\n",
    "var h =   [...] int {1,2,3,4,5}\n",
    "fmt.Println(h[2]) \n",
    "fmt.Println(h[h[4]]) "
   ]
  },
  {
   "cell_type": "code",
   "execution_count": 27,
   "metadata": {},
   "outputs": [
    {
     "name": "stdout",
     "output_type": "stream",
     "text": [
      "defer#hemishe_panic\n",
      "defer#caller\n"
     ]
    },
    {
     "name": "stderr",
     "output_type": "stream",
     "text": [
      "panic: gözlənilməz xəta\n",
      "\n",
      "goroutine 1 [running]:\n",
      "main.hemishe_panic()\n",
      "\t \u001b[7m[[ Cell [27] Line 3 ]]\u001b[0m /tmp/gonb_f39407f7/main.go:42 +0x73\n",
      "main.caller()\n",
      "\t \u001b[7m[[ Cell [27] Line 8 ]]\u001b[0m /tmp/gonb_f39407f7/main.go:33 +0x70\n",
      "main.main()\n",
      "\t \u001b[7m[[ Cell [27] Line 12 ]]\u001b[0m /tmp/gonb_f39407f7/main.go:57 +0x5e\n",
      "exit status 2\n"
     ]
    }
   ],
   "source": [
    "func hemishe_panic() {\n",
    "\tdefer fmt.Println(\"defer#hemishe_panic\")\n",
    "\tpanic(\"gözlənilməz xəta\")\n",
    "}\n",
    "\n",
    "func caller() {\n",
    "\tdefer fmt.Println(\"defer#caller\")\n",
    "\themishe_panic()\n",
    "}\n",
    "\n",
    "%%\n",
    "caller()\n",
    "//görsənməyəcək\n",
    "fmt.Println(\"davam\")"
   ]
  },
  {
   "cell_type": "markdown",
   "metadata": {},
   "source": [
    "##### recover    \n",
    "Bəzən bəzi runtime xətalarını həll etməklə proqramın icrasını dayandırma-maq daha münasib sayılır.  \n",
    "Bu hallar üçün biz **recover** funksiyasından istifadə edə bilərik.  \n",
    "Qeyd edək ki, recover defer edilmiş funksiya çağırışları içində əhəmiyyət kəsb edir.  \n",
    "Əgər proqramın icrası əsasında panic baş vermişsə recover həmin panic kəmiyyətini götürür və icra prosesi normal qaydada davam edir.  \n",
    "Həmçinin heç bir şey baş verməyibsə bu halda recover sadəcə nil qaytarır və əks təsirə səbəb olmur.   \n"
   ]
  },
  {
   "cell_type": "code",
   "execution_count": 28,
   "metadata": {},
   "outputs": [
    {
     "name": "stdout",
     "output_type": "stream",
     "text": [
      "4\n",
      "Xəta runtime error: integer divide by zero\n",
      "0\n",
      "davam\n"
     ]
    }
   ],
   "source": [
    "func division (a,b int) int {\n",
    "\treturn a/b\n",
    "}\n",
    "\n",
    "func caller(a,b int) int{\n",
    "\tdefer func(){\n",
    "\t\tif ret:=recover(); ret !=nil {\n",
    "\t\t\tfmt.Println(\"Xəta\", ret)\n",
    "\t\t}\n",
    "\t}()\n",
    "\treturn division(a,b)\n",
    "}\n",
    "\n",
    "%%\n",
    "fmt.Println(caller(44,11))\n",
    "fmt.Println(caller(44,0))\n",
    "fmt.Println(\"davam\")"
   ]
  },
  {
   "cell_type": "code",
   "execution_count": 29,
   "metadata": {},
   "outputs": [
    {
     "name": "stdout",
     "output_type": "stream",
     "text": [
      "defer#hemishe_panic\n",
      "defer#caller\n",
      "gözlənilməz xəta\n",
      "davam\n"
     ]
    }
   ],
   "source": [
    "func hemishe_panic() {\n",
    "\tdefer fmt.Println(\"defer#hemishe_panic\")\n",
    "\tpanic(\"gözlənilməz xəta\")\n",
    "}\n",
    "\n",
    "func caller() {\n",
    "\tdefer func(){\n",
    "\t\tfmt.Println(\"defer#caller\")\n",
    "\t\tret:=recover()\n",
    "\t\tif ret!=nil {\n",
    "\t\t\tfmt.Println(ret)\n",
    "\t\t}\n",
    "\t}()\n",
    "\themishe_panic()\n",
    "}\n",
    "\n",
    "%%\n",
    "caller()\n",
    "//görsənəcək\n",
    "fmt.Println(\"davam\")"
   ]
  },
  {
   "cell_type": "markdown",
   "metadata": {},
   "source": [
    "Qeyd:\n",
    "Proqramda normal gözlənilən xətalar üçün error-dan istifadə etmək lazımdır.  \n",
    "Məsələn, istifadəçi tərəfindən daxil edilən məlumatın düzgünlüyü və s.   \n",
    "Lakin gözlənilməyən və ya proqramın dayandırılmasını labüd edən xətalar üçün panic istifadə etmək daha məsləhətdir."
   ]
  }
 ],
 "metadata": {
  "kernelspec": {
   "display_name": "Go (gonb)",
   "language": "go",
   "name": "gonb"
  },
  "language_info": {
   "codemirror_mode": "",
   "file_extension": ".go",
   "mimetype": "",
   "name": "go",
   "nbconvert_exporter": "",
   "pygments_lexer": "",
   "version": "go1.20.5"
  },
  "orig_nbformat": 4
 },
 "nbformat": 4,
 "nbformat_minor": 2
}
