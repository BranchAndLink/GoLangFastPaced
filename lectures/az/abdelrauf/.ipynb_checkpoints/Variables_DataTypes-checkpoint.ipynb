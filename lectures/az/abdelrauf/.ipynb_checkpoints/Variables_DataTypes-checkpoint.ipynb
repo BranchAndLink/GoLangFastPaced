{
 "cells": [
  {
   "cell_type": "markdown",
   "id": "1db6b0c8-b0b5-4b9f-84f7-7890661751f4",
   "metadata": {},
   "source": [
    "### Variables, Types and"
   ]
  },
  {
   "cell_type": "markdown",
   "id": "987dc6e6-705c-4695-a065-28947222a430",
   "metadata": {},
   "source": [
    "###### Tipler"
   ]
  },
  {
   "cell_type": "markdown",
   "id": "c09f2edd-9131-463d-848c-a42bcca2ab05",
   "metadata": {},
   "source": [
    "| Tip  | Izah | Qiymet |\n",
    "| --- | --- | --- |\n",
    "| int | tam ededler | 2, 0, -999|\n",
    "|float32 | kesr ededler | 3.5545, -9.5|\n",
    "|float64 | kesr ededler daha deqiq hesablamalar ucun 8 baytliq  | 16000001.5, -9.5|\n",
    "|complex| kompleks ededler | 5+4i, 5, i|\n",
    "|string| dirnaq isharesi arasinda simvol ardicilligi| \"salam\", \"-sds-\"|\n",
    "|bool | dogru ve ya yanlis, bul mentiqi| true, false |\n",
    "| byte| musbet 8bit lik , 1baytliq eded| 2, 5, [0,255] arasi eded|\n",
    "|rune| istenilen simvollar , unikod smilecs ve s| 'a','z', '👍' |\n",
    "|int8| tam eded 1 baytliq 8 bitlik| -128 127 [-128,127]|\n",
    "|uint8| 8bit lik musbet eded | 0 255 [0,255] araliginda|\n",
    "|int16, int32, int64| 16,32,64 bitlik||\n",
    "|uint16,uint32,uint64| 16,32,64 bitlik musbet| 0-dan 2^bit_sayi-1 diapozonda ededler|"
   ]
  },
  {
   "cell_type": "markdown",
   "id": "18f3ae7a-92a3-4ecb-b39b-0b25c6e0453c",
   "metadata": {},
   "source": [
    "## Deyishen elani\n",
    "\n",
    "var [ad] [tip]   \n",
    "var [ad] [tip] = qiymet    \n",
    "var [ad] = qiymet  \n",
    "[ad] := qiymet\n"
   ]
  },
  {
   "cell_type": "code",
   "execution_count": 9,
   "id": "b43912a0-71f2-4ad6-93d0-b1dafbbd470a",
   "metadata": {},
   "outputs": [
    {
     "name": "stdout",
     "output_type": "stream",
     "text": [
      "Sade yazi 3.5 40\n"
     ]
    }
   ],
   "source": [
    "import \"fmt\"\n",
    "\n",
    "func main(){\n",
    "  var uzunluq float32 = 3.5\n",
    "  var adamlarin_sayi = 40\n",
    "  metn := \"Sade yazi\"\n",
    "  fmt.Println(metn, uzunluq, adamlarin_sayi)\n",
    "\n",
    "}"
   ]
  },
  {
   "cell_type": "markdown",
   "id": "2b568bae-c822-464b-93ae-449bdf19efcd",
   "metadata": {},
   "source": [
    "var [ad1], [ad2] ,.. = [ad1_wiymeti], [ad2_qiymeti}, ..  \n",
    "[ad1], [ad2] ,.. := [ad1_wiymeti], [ad2_qiymeti}, ..                                      "
   ]
  },
  {
   "cell_type": "code",
   "execution_count": 11,
   "id": "a4b22e01-e30f-41c5-bd4f-5cf3ff14c065",
   "metadata": {},
   "outputs": [
    {
     "name": "stdout",
     "output_type": "stream",
     "text": [
      "Sade yazi 3.5 40\n"
     ]
    }
   ],
   "source": [
    "%%\n",
    "  var uzunluq,adamlarin_sayi,metn   = 3.5, 40, \"Sade yazi\"\n",
    "  fmt.Println(metn, uzunluq, adamlarin_sayi)"
   ]
  },
  {
   "cell_type": "code",
   "execution_count": 12,
   "id": "e97623c5-11da-4822-8146-61c72ad4b458",
   "metadata": {},
   "outputs": [
    {
     "name": "stdout",
     "output_type": "stream",
     "text": [
      "Sade yazi 3.5 40\n"
     ]
    }
   ],
   "source": [
    "%%\n",
    "  uzunluq,adamlarin_sayi,metn   := 3.5, 40, \"Sade yazi\"\n",
    "  fmt.Println(metn, uzunluq, adamlarin_sayi)"
   ]
  },
  {
   "cell_type": "markdown",
   "id": "d6b18f9b-8562-48e5-9061-e0ef2b2cd254",
   "metadata": {},
   "source": [
    "###  '=' deyishen uchun Menimsetme emeliyyatidir. ve deyishenin qiymetini sonradan deyishe bilirik   \n",
    "##### Qeyd: = riyazi beraberlikle eyni anlam dashimasi uchun deyishen immutable (deyishile bilinmeyen) olmalidir, eks halda bu emeliyyata beraberdir demek sehvdir"
   ]
  },
  {
   "cell_type": "code",
   "execution_count": 14,
   "id": "ac9a7c3f-ba71-4ae5-adc0-084ae1cc2834",
   "metadata": {},
   "outputs": [
    {
     "name": "stdout",
     "output_type": "stream",
     "text": [
      "Sade yazi 99.5 40\n"
     ]
    }
   ],
   "source": [
    "%%\n",
    "  uzunluq,adamlarin_sayi,metn   := 3.5, 40, \"Sade yazi\"\n",
    "  uzunluq = 99.5\n",
    "  fmt.Println(metn, uzunluq, adamlarin_sayi)"
   ]
  },
  {
   "cell_type": "markdown",
   "id": "b6dca48d-c577-42f6-b968-9d8fb5a5f4cc",
   "metadata": {},
   "source": [
    "#### Konstant , Proqramda sabit deyishilmeyen qiymetler uchun istifade edirik"
   ]
  },
  {
   "cell_type": "markdown",
   "id": "3882e71e-016a-4dea-8ba7-922c3559ffe5",
   "metadata": {},
   "source": [
    "const [ad] = qiymet  460"
   ]
  },
  {
   "cell_type": "markdown",
   "id": "c1ec69a9-2091-4af9-b52b-27ab46cb1c87",
   "metadata": {},
   "source": [
    "#### Konstanti sonradan deyishmek xetadir"
   ]
  },
  {
   "cell_type": "code",
   "execution_count": 16,
   "id": "1d9f7a91-e457-441b-9b3a-cd4f5108eb39",
   "metadata": {},
   "outputs": [
    {
     "name": "stdout",
     "output_type": "stream",
     "text": [
      "Pi ededi  3.14\n"
     ]
    }
   ],
   "source": [
    "%%\n",
    "const pi = 3.14\n",
    "fmt.Println(\"Pi ededi \", pi)"
   ]
  },
  {
   "cell_type": "markdown",
   "id": "90f9296f-f1b3-403b-9c20-8a7518364317",
   "metadata": {},
   "source": [
    "### Bir tipden diger tipe askar kecirmek"
   ]
  },
  {
   "cell_type": "markdown",
   "id": "99f06b76-1b91-45d4-b573-eab47f55f491",
   "metadata": {},
   "source": [
    "\\[tip\\]( [deyishen_adi])"
   ]
  },
  {
   "cell_type": "code",
   "execution_count": 17,
   "id": "01592a79-873f-4ea4-864c-622e8de2193c",
   "metadata": {},
   "outputs": [
    {
     "name": "stdout",
     "output_type": "stream",
     "text": [
      "3\n"
     ]
    }
   ],
   "source": [
    "%%\n",
    "uzunluq:=3.5\n",
    "var tam_uzunluq int = int(uzunluq)\n",
    "fmt.Println(tam_uzunluq)"
   ]
  },
  {
   "cell_type": "code",
   "execution_count": null,
   "id": "6e081410-1ba9-4ce9-9972-bc1c6e6858ec",
   "metadata": {},
   "outputs": [],
   "source": []
  }
 ],
 "metadata": {
  "kernelspec": {
   "display_name": "Go (gonb)",
   "language": "go",
   "name": "gonb"
  },
  "language_info": {
   "codemirror_mode": "",
   "file_extension": ".go",
   "mimetype": "",
   "name": "go",
   "nbconvert_exporter": "",
   "pygments_lexer": "",
   "version": "go1.20.5"
  }
 },
 "nbformat": 4,
 "nbformat_minor": 5
}
