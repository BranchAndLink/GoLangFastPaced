{
 "cells": [
  {
   "cell_type": "markdown",
   "metadata": {},
   "source": [
    "### Basic Interface (Sadə interfeys)\n",
    "\n",
    "Sadə interfeys dedikdə  metodlar siyahısı (boş siyahı daxilolmaqla) nəzərdə tutulur.   \n",
    "Bu metodları əgər tip üçün müəyyən edilibsə onda həmin tip interfeysin çoxluğunda olur.  \n",
    "Məhz bu cəhətdən boş interfeysin tiplər çoxluğu bütün tiplərdir.  \n",
    "<pre>\n",
    "[type AD] interface {\n",
    "    [metod1..]\n",
    "    [metod2...]\n",
    "    ...\n",
    "}\n",
    "Burada:\n",
    "[ ] - məcburi olmayan yazı\n",
    "metod - funksiyalar (func açar sözsüz).   \n",
    "Qeyd: Funksiya adı _ (blank) və təkrar olmamalıdır\n",
    "\n",
    "</pre>\n",
    "\n",
    "```Go\n",
    "interface {\n",
    "\tRead([]byte) (int, error)\n",
    "\tWrite([]byte) (int, error)\n",
    "\tClose() error\n",
    "}\n",
    "\n",
    "interface {\n",
    "\tString() string\n",
    "\tString() string  // qadağandır: String adı unikal deyil\n",
    "\t_(x int)         // qadağandır: metod adı _ olmamalıdır\n",
    "}\n",
    "```\n"
   ]
  },
  {
   "cell_type": "markdown",
   "metadata": {},
   "source": [
    "Bildirdiyimiz kimi, Hər hansı tip üçün interfeysdə əks olunan metodları bəyan edilibsə o həmin interfeysin   \n",
    "çoxluğuna daxil olur.   \n",
    "\n",
    "```Go\n",
    "type Locker interface {\n",
    "\tLock()\n",
    "\tUnlock()\n",
    "}\n",
    "// T tipi\n",
    "\n",
    "func (p T) Lock() { … }\n",
    "func (p T) Unlock() { … }\n",
    "\n",
    "```\n",
    "\n",
    "Burada T tipi Locker interfeysinə tam uyğun gəlir.  "
   ]
  },
  {
   "cell_type": "markdown",
   "metadata": {},
   "source": [
    "#### Boş interfeys  \n",
    "\n",
    "Yuxarıda qeyd etdiyimiz kimi heç bir metodu olmayan boş sade interfeysdir.  \n",
    "Bütün tiplər bu interfeysin çoxluğunda olur. \n",
    "```Go\n",
    "interface{}\n",
    "```\n",
    "**any** boş interfeys tip üçün alias (sinonim) kimi istifadə edilir."
   ]
  },
  {
   "cell_type": "markdown",
   "metadata": {},
   "source": [
    "#### Interfeysin istifadəsi.   \n",
    "\n",
    "Yuxarıda qeyd etdik ki, interfeysin metodlarının hamısını bəyan edən tip onun çoxluğunda olur.   \n",
    "Bu o deməkdir ki, biz interfeys tipində olan dəyişənə həmin tipdə olan qiyməti mənimsədə bilərik.  \n",
    "Bu tiplərə interfeysin **dinamik tip**ləri deyilir.\n",
    "İnterfeysin çoxluğunda bir neçə tip olduğundan onlar üçün polimorfizm yaratmış oluruq.  \n",
    "Yəni bu tiplə bir neçə tipi eyni qaydada işlədə bilirik.    \n",
    "Sadə halda interfeysin qiyməti nil olur və həmçinin qeyd edək ki, interfeys reference tip-dir.   \n",
    "\n",
    "```Go\n",
    "\n",
    "var x interface{}  // x qiyməti nil-dir və statik tipi interface{}\n",
    "var v *T           // v qiyməti nil, statik tipi *T\n",
    "x = 42             // x qiyməti 42, dinamik tipi int\n",
    "x = v              // x qiyməti (*T)(nil), dinamik tipi *T\n",
    "\n",
    "```\n",
    "\n",
    "Dediklərimizə nümunələr göstərək.  "
   ]
  },
  {
   "cell_type": "code",
   "execution_count": 6,
   "metadata": {},
   "outputs": [
    {
     "name": "stdout",
     "output_type": "stream",
     "text": [
      "<nil>\n",
      "Kvadrat sahə: 1936 perimetr: 176\n",
      "Düzbucaqlı sahə: 2475 perimetr: 2475\n",
      "Çevrə Dairə sahə: 1661.06 perimetr: 144.44\n"
     ]
    }
   ],
   "source": [
    "type Hendese interface {\n",
    "    perimetr() float32\n",
    "    sahe() float32 \n",
    "    fiqurun_adı() string\n",
    "}\n",
    "\n",
    "\n",
    "type Kvadrat struct {\n",
    "    teref float32\n",
    "}\n",
    "\n",
    "type Duzbucaqli struct {\n",
    "    uzunluq float32\n",
    "    en float32\n",
    "}\n",
    "\n",
    "const (\n",
    "    Pi float32 = 3.14\n",
    ")\n",
    "\n",
    "type Cevre struct {\n",
    "    radius float32\n",
    "}\n",
    "\n",
    "func (p Kvadrat) perimetr() float32 {\n",
    "    return 4.0 * p.teref\n",
    "}\n",
    "\n",
    "func (p Kvadrat) sahe() float32 {\n",
    "    return p.teref * p.teref\n",
    "}\n",
    "\n",
    "func (p Kvadrat) fiqurun_adı() string {\n",
    "    return \"Kvadrat\"\n",
    "}\n",
    "\n",
    "func (p Duzbucaqli) perimetr() float32 {\n",
    "    return p.uzunluq * p.en\n",
    "}\n",
    "\n",
    "func (p Duzbucaqli) sahe() float32 {\n",
    "    return p.uzunluq * p.en\n",
    "}\n",
    "\n",
    "func (p Duzbucaqli) fiqurun_adı() string {\n",
    "    return \"Düzbucaqlı\"\n",
    "}\n",
    "\n",
    "func (p Cevre) perimetr() float32 {\n",
    "    return 2.0 * Pi * p.radius\n",
    "}\n",
    "\n",
    "func (p Cevre) sahe() float32 {\n",
    "    return Pi * p.radius * p.radius\n",
    "}\n",
    "\n",
    "func (p Cevre) fiqurun_adı() string {\n",
    "    return \"Çevrə Dairə\"\n",
    "}\n",
    "\n",
    "\n",
    "%%\n",
    "\n",
    "kv := Kvadrat{teref:44}\n",
    "dz := Duzbucaqli{en:45, uzunluq:55}\n",
    "cv := Cevre{radius: 23}\n",
    "\n",
    "var x Hendese \n",
    "fmt.Println(x)\n",
    "x = kv\n",
    "fmt.Println(x.fiqurun_adı(), \"sahə:\", x.sahe(), \"perimetr:\",x.perimetr() )\n",
    "x = dz\n",
    "fmt.Println(x.fiqurun_adı(), \"sahə:\", x.sahe(), \"perimetr:\",x.perimetr() )\n",
    "x = cv\n",
    "fmt.Println(x.fiqurun_adı(), \"sahə:\", x.sahe(), \"perimetr:\",x.perimetr() )"
   ]
  },
  {
   "cell_type": "markdown",
   "metadata": {},
   "source": [
    "#### Type Assertions (Tipin təsdiqi), Type Switch \n",
    "\n",
    "Bu mövzuya bəsit də olsa flow controls-da toxunmuşduq.  \n",
    "Bəzən bizə interfeys dəyişəninin saxladığı qiymətin hansı dinamik tip olduğunu müəyyənləşdirib  \n",
    "ona uyğun hərəkət etmək lazım gəlir.   \n",
    "Bunun üçün Type assertions və ya Type switch-dən istifadə edirik.   \n",
    " \n",
    "Type Assertions üçün bu cür yazılışdan istifadə edirik.\n",
    "```Go\n",
    "//T tipi, x isə interfeysdir\n",
    "x.(T)\n",
    "\n",
    "```\n",
    "Burada x-in saxladığı qiymətin T dinamik tipində olması yoxlanılır.  \n",
    "Yoxlamanın nəticəsini 2 cür (qısa və xəta ilə birlikdə tam) mənimsədə bilərik.   \n",
    "```Go\n",
    "v := x.(T)\n",
    "\n",
    "```\n",
    "Yuxarıdakı halda x-in qiyməti T tipinə malik olmazsa xəta baş verəcək.    \n",
    "Ona görə çox zaman aşağıdakı mənimsətmədən istifadə edirik.  \n",
    "```Go\n",
    "v, ok := x.(T) // ok bool tipidir\n",
    "\n",
    "```\n",
    "Burada v uğurlu halda qiyməti, ok isə halın uğurlu olub olmamağını saxlayacaq.   \n",
    "\n",
    "Hər iki halda T tipi x-in dinamik tipi olmalıdır, yoxsa **kompilyasiya** xətası baş verəcək.\n",
    "\n",
    "Dediklərimizi nümunə ilə göstərək.  "
   ]
  },
  {
   "cell_type": "code",
   "execution_count": 7,
   "metadata": {},
   "outputs": [
    {
     "name": "stdout",
     "output_type": "stream",
     "text": [
      "main.Kvadrat {44} 44 \n"
     ]
    }
   ],
   "source": [
    "%%\n",
    "kv := Kvadrat{teref:44}\n",
    "var x Hendese = kv\n",
    "\n",
    "iii := x.(Kvadrat)\n",
    "fmt.Printf(\"%T %v %v \\n\", iii, iii, iii.teref)"
   ]
  },
  {
   "cell_type": "code",
   "execution_count": 8,
   "metadata": {},
   "outputs": [
    {
     "name": "stderr",
     "output_type": "stream",
     "text": [
      "panic: interface conversion: main.Hendese is main.Kvadrat, not main.Cevre\n",
      "\n",
      "goroutine 1 [running]:\n",
      "main.main()\n",
      "\t/tmp/gonb_78362d7f/main.go:68 +0x6f\n",
      "exit status 2\n"
     ]
    }
   ],
   "source": [
    "%%\n",
    "kv := Kvadrat{teref:44}\n",
    "var x Hendese = kv\n",
    "\n",
    "iii := x.(Cevre)\n",
    "fmt.Println(iii)"
   ]
  },
  {
   "cell_type": "code",
   "execution_count": 9,
   "metadata": {},
   "outputs": [
    {
     "name": "stdout",
     "output_type": "stream",
     "text": [
      "Cevre tipinde olani saxlamir\n"
     ]
    }
   ],
   "source": [
    "%%\n",
    "kv := Kvadrat{teref:44}\n",
    "var x Hendese = kv\n",
    "\n",
    "v, ok := x.(Cevre)\n",
    "if ok {\n",
    "\tfmt.Println(v)\n",
    "} else {\n",
    "\tfmt.Println( \"Cevre tipinde olani saxlamir\")\n",
    "}\n"
   ]
  },
  {
   "cell_type": "code",
   "execution_count": 10,
   "metadata": {},
   "outputs": [
    {
     "data": {
      "text/html": [
       "\n",
       "<style>\n",
       ".gonb-error-location {\n",
       "\tbackground: var(--jp-error-color2);  \n",
       "\tborder-radius: 3px;\n",
       "\tborder-style: dotted;\n",
       "\tborder-width: 1px;\n",
       "\tborder-color: var(--jp-border-color2);\n",
       "}\n",
       ".gonb-error-location:hover {\n",
       "\tborder-width: 2px;\n",
       "\tborder-style: solid;\n",
       "\tborder-color: var(--jp-border-color2);\n",
       "}\n",
       ".gonb-error-context {\n",
       "\tdisplay: none;\n",
       "}\n",
       ".gonb-error-location:hover + .gonb-error-context {\n",
       "\tbackground: var(--jp-dialog-background);  \n",
       "\tborder-radius: 3px;\n",
       "\tborder-style: solid;\n",
       "\tborder-width: 1px;\n",
       "\tborder-color: var(--jp-border-color2);\n",
       "\tdisplay: block;\n",
       "\twhite-space: pre;\n",
       "\tfont-family: monospace;\n",
       "}\n",
       ".gonb-error-line {\n",
       "\tborder-radius: 3px;\n",
       "\tborder-style: dotted;\n",
       "\tborder-width: 1px;\t\n",
       "\tborder-color: var(--jp-border-color2);\n",
       "\tbackground-color: var(--jp-rendermime-error-background);\n",
       "\tfont-weight: bold;\n",
       "}\n",
       ".gonb-cell-line-info {\n",
       "\tbackground: var(--jp-layout-color2);\n",
       "\tcolor: #999;\n",
       "\tmargin: 0.1em;\n",
       "\tborder: 1px solid var(--jp-border-color1);\n",
       "\tpadding-left: 0.2em;\n",
       "\tpadding-right: 0.2em;\n",
       "}\n",
       "</style>\n",
       "<div class=\"lm-Widget p-Widget lm-Panel p-Panel jp-OutputArea-child\">\n",
       "<div class=\"lm-Widget p-Widget jp-RenderedText jp-mod-trusted jp-OutputArea-output\" data-mime-type=\"application/vnd.jupyter.stderr\" style=\"font-family: monospace;\">\n",
       "\n",
       "\n",
       "<span style=\"white-space: pre;\"> # gonb_78362d7f</span>\n",
       "\n",
       "<br/>\n",
       "\n",
       "<span class=\"gonb-cell-line-info\">Cell[10]: Line 4</span>\n",
       "<span class=\"gonb-error-location\">./main.go:67:11: </span> impossible type assertion: x.(HerHansiTip)\n",
       "<div class=\"gonb-error-context\">\n",
       "func main() {\n",
       "\tflag.Parse()\n",
       "\tvar x Hendese\n",
       "<div class=\"gonb-error-line\">\t_, ok := x.(HerHansiTip)\n",
       "</div>\tif  ok {\n",
       "\t   fmt.Println(&#34;ok&#34;)\n",
       "\n",
       "</div>\n",
       "\n",
       "<br/>\n",
       "\n",
       "\n",
       "<span style=\"white-space: pre;\"> \tHerHansiTip does not implement Hendese (missing method fiqurun_adı)</span>\n",
       "\n",
       "<br/>\n",
       "\n",
       "\n",
       "<span style=\"white-space: pre;\"> </span>\n",
       "\n",
       "<br/>\n",
       "\n",
       "</div>\n"
      ]
     },
     "metadata": {},
     "output_type": "display_data"
    },
    {
     "ename": "ERROR",
     "evalue": "failed to run \"/usr/local/go/bin/go build -o /tmp/gonb_78362d7f/gonb_78362d7f\": exit status 1",
     "output_type": "error",
     "traceback": [
      "failed to run \"/usr/local/go/bin/go build -o /tmp/gonb_78362d7f/gonb_78362d7f\": exit status 1"
     ]
    }
   ],
   "source": [
    "type HerHansiTip int \n",
    "%%\n",
    "var x Hendese\n",
    "_, ok := x.(HerHansiTip)\n",
    "if  ok {\n",
    "   fmt.Println(\"ok\")\n",
    "}"
   ]
  },
  {
   "cell_type": "code",
   "execution_count": null,
   "metadata": {},
   "outputs": [
    {
     "name": "stdout",
     "output_type": "stream",
     "text": [
      "kvadratin terefi: 44\n",
      "Kvadrat sahə: 1936 perimetr: 176\n",
      "Duzbucaqli en: 45 uzunluq: 55\n",
      "Düzbucaqlı sahə: 2475 perimetr: 2475\n",
      "Cevrenin radiusu: 23\n",
      "Çevrə Dairə sahə: 1661.06 perimetr: 144.44\n"
     ]
    }
   ],
   "source": [
    "func  goster(x Hendese) {\n",
    "\t\n",
    "\tif x == nil {\n",
    "\t\treturn\n",
    "\t}\n",
    "    if kv, ok:= x.(Kvadrat); ok {\n",
    "\t\t//kvadratdır\n",
    "\t\tfmt.Println(\"kvadratin terefi:\", kv.teref )\n",
    "\t} else if cv,ok:=x.(Cevre); ok {\n",
    "\t\t//cevre\n",
    "\t\tfmt.Println(\"Cevrenin radiusu:\", cv.radius )\n",
    "\t} else if v,ok:=x.(Duzbucaqli); ok {\n",
    "\t\tfmt.Println(\"Duzbucaqli en:\", v.en, \"uzunluq:\", v.uzunluq )\n",
    "\t}\n",
    "\tfmt.Println(x.fiqurun_adı(), \"sahə:\", x.sahe(), \"perimetr:\",x.perimetr() )\n",
    "}\n",
    "\n",
    "%%\n",
    "\n",
    "kv := Kvadrat{teref:44}\n",
    "dz := Duzbucaqli{en:45, uzunluq:55}\n",
    "cv := Cevre{radius: 23}\n",
    "goster(kv)\n",
    "goster(dz)\n",
    "goster(cv)"
   ]
  },
  {
   "cell_type": "markdown",
   "metadata": {},
   "source": [
    "##### Type Switch (Tip seçim)\n",
    "\n",
    "```Go\n",
    "// deyishen ifadəsinin saxladığı qiymətin nil və ya hansı dinamik tip  \n",
    "// olmasının müəyyən edilməsi\n",
    "switch deyishen.(type) {\n",
    "// cases\n",
    "}\n",
    "\n",
    "Burada:\n",
    "switch də yoxlanılan deyishen.(type) kimi yazılır\n",
    "deyishen interfeys tip olmalıdır\n",
    "case-lər isə:\n",
    "nil,\n",
    "deyishen interfeysinin dinamik tipləri\n",
    "və təkrarlanmayan olmalıdır. \n",
    "```\n",
    "Type switch-ə aid nümunəni boş interfeys üçün göstərək."
   ]
  },
  {
   "cell_type": "code",
   "execution_count": null,
   "metadata": {},
   "outputs": [
    {
     "name": "stdout",
     "output_type": "stream",
     "text": [
      "type  bool ve ya string -dir\n",
      "33\n",
      "float64 55.5\n",
      "x nil-dir <nil>\n"
     ]
    }
   ],
   "source": [
    "//qeyd any ele interface{} deməkdir\n",
    "func gosterUmumi( x any){\n",
    "\n",
    "switch i := x.(type) {\n",
    "case nil:\n",
    "\tfmt.Println(\"x nil-dir\", i)               //  i-in tipi x (interface{}) esl tipi olacaq\n",
    "case int:\n",
    "\tfmt.Println(i)                            // i-in tipi: int\n",
    "case float64:\n",
    "\tfmt.Println(\"float64\", i)                        // // i-in tipi: float64\n",
    "case func(int) float64:\n",
    "\tfmt.Printf(\"func(int) float64 : %T\\n\",i)  // i-in tipi: func(int) float64\n",
    "case bool, string:\n",
    "\tfmt.Println(\"type  bool ve ya string -dir\")  //  i-in tipi x (interface{}) esl tipi olacaq\n",
    "default:\n",
    "\tfmt.Println(\"bilinmeyen tip\")     //  i-in tipi x (interface{}) esl tipi olacaq\n",
    "}\n",
    "}\n",
    "\n",
    "%%\n",
    "x:=\"hello\"\n",
    "y:=33\n",
    "z:=55.5\n",
    "gosterUmumi(x)\n",
    "gosterUmumi(y)\n",
    "gosterUmumi(z)\n",
    "gosterUmumi(nil)"
   ]
  },
  {
   "cell_type": "markdown",
   "metadata": {},
   "source": [
    "#### Embeded Interface  \n",
    "\n",
    "Strukt-da olduğu kimi interfeysə də bir T interfeysin daxilində digər bir neçə interfeysi embed etmək olur.   \n",
    "T interfeysi həm öz metodlarının həm də embed etdiyi interfeys metodlarını bəyan edən tiplər çoxluğuna malik olur.   \n",
    "Bu zaman fikir vermək lazımdır ki embed olan interfeyslərdə olan metodlarda oxşar funksiyalar eyni quruluşda olsunlar.  \n",
    "Əks halda bu **kompilyasiya** xətasına səbəb olacaq. "
   ]
  },
  {
   "cell_type": "code",
   "execution_count": null,
   "metadata": {},
   "outputs": [],
   "source": [
    "type Reader interface {\n",
    "\tRead(p []byte) (n int, err error)\n",
    "\tClose() error\n",
    "}\n",
    "\n",
    "type Writer interface {\n",
    "\tWrite(p []byte) (n int, err error)\n",
    "\tClose() error\n",
    "}\n",
    "\n",
    "// ReadWriter metodları Read, Write, Close.\n",
    "type ReadWriter interface {\n",
    "\tReader  // Reader-in metodları\n",
    "\tWriter  // Üriter-in metodları\n",
    "}"
   ]
  },
  {
   "cell_type": "markdown",
   "metadata": {},
   "source": [
    "Məsələn eyniadlı metodda əgər quruluş fərqi olsa"
   ]
  },
  {
   "cell_type": "code",
   "execution_count": null,
   "metadata": {},
   "outputs": [
    {
     "data": {
      "text/html": [
       "\n",
       "<style>\n",
       ".gonb-error-location {\n",
       "\tbackground: var(--jp-error-color2);  \n",
       "\tborder-radius: 3px;\n",
       "\tborder-style: dotted;\n",
       "\tborder-width: 1px;\n",
       "\tborder-color: var(--jp-border-color2);\n",
       "}\n",
       ".gonb-error-location:hover {\n",
       "\tborder-width: 2px;\n",
       "\tborder-style: solid;\n",
       "\tborder-color: var(--jp-border-color2);\n",
       "}\n",
       ".gonb-error-context {\n",
       "\tdisplay: none;\n",
       "}\n",
       ".gonb-error-location:hover + .gonb-error-context {\n",
       "\tbackground: var(--jp-dialog-background);  \n",
       "\tborder-radius: 3px;\n",
       "\tborder-style: solid;\n",
       "\tborder-width: 1px;\n",
       "\tborder-color: var(--jp-border-color2);\n",
       "\tdisplay: block;\n",
       "\twhite-space: pre;\n",
       "\tfont-family: monospace;\n",
       "}\n",
       ".gonb-error-line {\n",
       "\tborder-radius: 3px;\n",
       "\tborder-style: dotted;\n",
       "\tborder-width: 1px;\t\n",
       "\tborder-color: var(--jp-border-color2);\n",
       "\tbackground-color: var(--jp-rendermime-error-background);\n",
       "\tfont-weight: bold;\n",
       "}\n",
       ".gonb-cell-line-info {\n",
       "\tbackground: var(--jp-layout-color2);\n",
       "\tcolor: #999;\n",
       "\tmargin: 0.1em;\n",
       "\tborder: 1px solid var(--jp-border-color1);\n",
       "\tpadding-left: 0.2em;\n",
       "\tpadding-right: 0.2em;\n",
       "}\n",
       "</style>\n",
       "<div class=\"lm-Widget p-Widget lm-Panel p-Panel jp-OutputArea-child\">\n",
       "<div class=\"lm-Widget p-Widget jp-RenderedText jp-mod-trusted jp-OutputArea-output\" data-mime-type=\"application/vnd.jupyter.stderr\" style=\"font-family: monospace;\">\n",
       "\n",
       "\n",
       "<span style=\"white-space: pre;\"> # gonb_be9688dd</span>\n",
       "\n",
       "<br/>\n",
       "\n",
       "<span class=\"gonb-cell-line-info\">Cell[43]: Line 2</span>\n",
       "<span class=\"gonb-error-location\">./main.go:23:2: </span> duplicate method Close\n",
       "<div class=\"gonb-error-context\">\n",
       "    teref float32\n",
       "}\n",
       "type ReadCloser interface {\n",
       "<div class=\"gonb-error-line\">\tReader   // Reader-in metodları\n",
       "</div>\tClose()  //  Reader.Close və Close eyniadlıdır, lakin quruluş fərqi var deyə yol verilməzdir\n",
       "}\n",
       "\n",
       "</div>\n",
       "\n",
       "<br/>\n",
       "\n",
       "<span class=\"gonb-cell-line-info\">Cell[43]: Line 3</span>\n",
       "<span class=\"gonb-error-location\">\t./main.go:24:2: </span> other declaration of Close\n",
       "<div class=\"gonb-error-context\">\n",
       "}\n",
       "type ReadCloser interface {\n",
       "\tReader   // Reader-in metodları\n",
       "<div class=\"gonb-error-line\">\tClose()  //  Reader.Close və Close eyniadlıdır, lakin quruluş fərqi var deyə yol verilməzdir\n",
       "</div>}\n",
       "type ReadWriter interface {\n",
       "\n",
       "</div>\n",
       "\n",
       "<br/>\n",
       "\n",
       "\n",
       "<span style=\"white-space: pre;\"> </span>\n",
       "\n",
       "<br/>\n",
       "\n",
       "</div>\n"
      ]
     },
     "metadata": {},
     "output_type": "display_data"
    },
    {
     "ename": "ERROR",
     "evalue": "failed to run \"/usr/local/go/bin/go build -o /tmp/gonb_be9688dd/gonb_be9688dd\": exit status 1",
     "output_type": "error",
     "traceback": [
      "failed to run \"/usr/local/go/bin/go build -o /tmp/gonb_be9688dd/gonb_be9688dd\": exit status 1"
     ]
    }
   ],
   "source": [
    "type ReadCloser interface {\n",
    "\tReader   // Reader-in metodları\n",
    "\tClose()  //  Reader.Close və Close eyniadlıdır, lakin quruluş fərqi var deyə yol verilməzdir\n",
    "}"
   ]
  },
  {
   "cell_type": "markdown",
   "metadata": {},
   "source": [
    "<span style=\"color:red\">Qeyd edək ki,</span> interfeysi həmçinin biz məhdudiyyət vermək üçün də istifadə edə bilirik.  \n",
    "Lakin bu sadə interfeysdən fərqlənir və Generics mövzusuna aid oluğundan onu o mövzuda öyrənəcəyik. "
   ]
  }
 ],
 "metadata": {
  "kernelspec": {
   "display_name": "Go (gonb)",
   "language": "go",
   "name": "gonb"
  },
  "language_info": {
   "codemirror_mode": "",
   "file_extension": ".go",
   "mimetype": "",
   "name": "go",
   "nbconvert_exporter": "",
   "pygments_lexer": "",
   "version": "go1.20.5"
  },
  "orig_nbformat": 4
 },
 "nbformat": 4,
 "nbformat_minor": 2
}
