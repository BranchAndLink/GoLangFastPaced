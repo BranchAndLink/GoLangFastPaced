{
 "cells": [
  {
   "cell_type": "markdown",
   "id": "9b9368b4-1b1a-4f4a-9ecd-a3a2cbe38c25",
   "metadata": {},
   "source": [
    "GO dilinin sintaksisi\n",
    "==\n",
    "Go programlaşdırma dilində kodun mətni */.go formatında faylda olur.\n",
    "Go faylında package elanı, modul və paketlərin daxil edilməsi(import), funksiyalar, əmrlər(statements) və ifadələr(expressions) olur. Məsələn:\n",
    "        \n",
    "        package main\n",
    "        import \"fmt\"\n",
    "\n",
    "        func main() {\n",
    "            fmt.Println(\"Hello World!\")\n",
    "        }\n"
   ]
  },
  {
   "cell_type": "markdown",
   "id": "3a0fb8bc",
   "metadata": {},
   "source": [
    "Buradakı misalda kodun \"main\" paketinə aid olduğu göstərilir. Daha sonra koda standart \"fmt\" paketi daxil edilir. Bu paket Go dilinin əsas kitabxanası (library) hesab olunur və içərisində mühim funksiyalar və standart giriş/çıxış (std input/output) mövcuddur.\n",
    "Sonra main funksiyası başladılır və içərisində standart çıxışla ekrana salamalama mətni çıxarılır. Sonrakı bölmələrdə bu mövzular daha çox izah olunacaq.\n",
    "\n"
   ]
  },
  {
   "cell_type": "markdown",
   "id": "e5dd0fc2",
   "metadata": {},
   "source": [
    "Comments (Şərhlər)\n",
    "===\n",
    "\n",
    "Şərhlər (comments) hər bir proqramlaşdırma dilində kodun işləməyinə heçbir təsiri olmayan, lakin çox önəmli bir hissədir.\n",
    "Onun vasitəsilə kodun mühim hissələrində proqramçı öz qeydlərini yazır. Bu qeydlər həm özünə, həm də koda baxan digər şəxslərə bir xatırlatma, aydınlatma rolunu oynayır.\n",
    "Şərhlər proqram işləyərkən heç bir rol oynamır. Ancaq kodun içində qeyri məhdud sayda yazıla bilər.\n",
    "İki forması mövcuddur: \n",
    "- ***Birsətirli***: // (iki çəp xətt) işarəsindən sonra sətrin sonuna qədər yazılan mətn şərh sayılır.\n",
    "- ***Çoxsətirli***: /* (çəp xətt və ulduz) işarəsindən sonra */ işarəsi gələnə qədər olan blok şərh sayılır. Bir neçə sətri əhatə edə bilər. Məsələn:\n",
    " "
   ]
  },
  {
   "cell_type": "code",
   "execution_count": null,
   "id": "42118c80",
   "metadata": {
    "vscode": {
     "languageId": "plaintext"
    }
   },
   "outputs": [],
   "source": [
    "// Bu birsətirli şərhdir.\n",
    "package main\n",
    "import (\"fmt\")\n",
    "\n",
    "func main() {\n",
    "  \n",
    "  /* Bu isə\n",
    "  çoxsətirli şərhdir.\n",
    "  Hələ də davam edir... \n",
    "  Burada şərhi bitiririk */\n",
    "\n",
    "  fmt.Println(\"Hello World!\")\n",
    "}"
   ]
  },
  {
   "cell_type": "markdown",
   "id": "5e167a0d",
   "metadata": {},
   "source": [
    "Data Types   *(Verilənlər Tipi)*\n",
    "===\n",
    "\n",
    "Verilənlər tipi hər bir proqramlaşdırma dilinin ən mühim mövzularındandır. \n",
    "Go dili statik tiplidir. Bu o deməkdir ki, bir dəyişən(variable) müəyyən tipdə elan olunubsa yalnız o tip verilən(data) daşıya bilər.\n",
    "Dəyişən içində məlumat daşıyan bir qutudur. Yaddaşda müəyyən yer tutur. Onun ölçüsü içində daşıdığı tipə görə təyin olunur.\n",
    "Standarta uyğun olaraq bundan sonra izahı verilməklə beynəlxalq(ingiliscə) terminlərdən istifadə olunacaq.\n",
    "\n",
    "\n",
    "***GO*** dilində əsas 3 baza(primitiv) tip var:\n",
    "- **Bool** : Özündə iki boolean dəyər daşıyır. True və False (True həqiqət, müsbət dəyər, mövcudluq, False isə yalan, mənfi dəyər və yoxluq ifadə edir)\n",
    "- **Numeric** (ədədlər): Bura daxildir integer (tam ədədlər), float (kəsr ədədlər) və complex (kompleks ədədlər).\n",
    "- **String** (sətir/mətn): iki və daha artıq simvol, hərf string hesab olunur və kodda dırnaq işarəsi içində yazılır.\n"
   ]
  },
  {
   "cell_type": "markdown",
   "id": "c54c8aea",
   "metadata": {},
   "source": [
    "Boolean Data Type\n",
    "----\n",
    "Bu tipi elan etmək üçün *bool* açar sözündən istifadə olunur.\n",
    " >Açar sözlər dildə rezerv olunmuş kəlimələrdir. Dəyişən və funksiya adı kimi istifadə oluna bilməz. Açar sözlər dilin sintaksisinə aiddir və kodun hər bir hissəsində istifadə olunur. Məsələn: *import*, *if*, *func*.\n",
    " \n",
    "Bool tipi iki dəyər daşıyır: true və false. Əsasən şərt operatorunda ifadənin həqiqi olub olmadığını yoxlamaq üçün istifadə olunur.\n",
    "Default (başlanğıc sərbəst) dəyəri *false*-dır. \n"
   ]
  },
  {
   "cell_type": "code",
   "execution_count": null,
   "id": "4306c78c",
   "metadata": {
    "vscode": {
     "languageId": "plaintext"
    }
   },
   "outputs": [],
   "source": [
    "package main\n",
    "import (\"fmt\")\n",
    "\n",
    "func main() {\n",
    "  var dəyər1 bool = true // dəyər1 dəyişəni bool tipində elan olunub və true dəyəri mənimsədilib.\n",
    "  var dəyər2 bool // dəyər2 bool tipində elan olunub amma dəyər verilməyib.\n",
    "  \n",
    "  fmt.Println(dəyər1) // ekranda true çıxacaq\n",
    "  fmt.Println(dəyər2) // ekranda false çıxacaq (Başlanğıc dəyəri)\n",
    "}"
   ]
  },
  {
   "cell_type": "markdown",
   "id": "32814a82",
   "metadata": {},
   "source": [
    "Integer Data Types  *(Tam ədədlər)*\n",
    "---\n",
    "\n",
    "Integer tipinə tam ədədlər daxildir. Məsələn: 54, 0, -37, 945 və s.\n",
    "\n",
    "İnteger tipi iki cür olur: \n",
    "- signed integer, tam ədəd üçün default tipdir və *int* sözü ilə elan olunur. Bu tipə mənfi və müsbət tam ədədlər daxildir.\n",
    "- unsigned integer, bu tip *uint* sözü ilə elan olunur və yalnız mənfi olmayan tam ədədlər üçün istifadə olunur.\n",
    "\n",
    "Təfsilatı cədvəldə göstərilib:\n",
    "\n",
    "|Tip  |Ölçü  |Dəyər |\n",
    "|--|--|--|\n",
    "|int  |32 yaxud 64bit sistemə görə dəyişir  |-2147483648 ~ 2147483647 32bit sistemdə, <br> -9223372036854775808 ~ 9223372036854775807 64bit sistemdə |\n",
    "|int8|8bit / 1bayt|-128 ~ 127  |\n",
    "| int16 |16bit / 2bayt  |-32768 ~ 32767  |\n",
    "|int32  |32bit / 4bayt  |-2147483648 ~ 2147483647  |\n",
    "| int64 |64bit / 8bayt  | -9223372036854775808 ~ 9223372036854775807|\n",
    "|--|--|--|\n",
    "|uint  |32 yaxud 64bit sistemə görə dəyişir  |0 ~ 4294967295 32bit sistemdə, <br> 0 ~ 18446744073709551615 64bit sistemdə |\n",
    "|uint8|8bit / 1bayt|0 ~ 255  |\n",
    "| uint16 |16bit / 2bayt  |0 ~ 65535  |\n",
    "|uint32  |32bit / 4bayt  |0 ~ 4294967295  |\n",
    "| uint64 |64bit / 8bayt  | 0 ~ 18446744073709551615|\n",
    "\n",
    "Cədvəldə qeyd olunmuş tiplər dəyişənə veriləcək dəyərə görə təyin olunur.\n",
    "Əgər konkret tip verilməzsə tam ədədlər üçün standart tip **int** seçiləcək. integer tipi üçün standart dəyər sıfırdır."
   ]
  },
  {
   "cell_type": "code",
   "execution_count": null,
   "id": "defe071f",
   "metadata": {
    "vscode": {
     "languageId": "plaintext"
    }
   },
   "outputs": [],
   "source": [
    "package main\n",
    "import (\"fmt\")\n",
    "\n",
    "func main() {\n",
    "  var a int8 = 100\n",
    "  var b int16 = 5000\n",
    "  var c int\n",
    "  d := 3500\n",
    "  fmt.Printf(\"Type: %T, value: %v\\n\", a, a) // Type: int8, value: 100\n",
    "  fmt.Printf(\"Type: %T, value: %v\\n\", b, b) // Type: int16, value: 5000\n",
    "  fmt.Printf(\"Type: %T, value: %v\\n\", c, c) // Type: int, value: 0 (default dəyər)\n",
    "  fmt.Printf(\"Type: %T, value: %v\", d, d) // Type: int, value: 3500 (default tip)\n",
    "}"
   ]
  },
  {
   "cell_type": "markdown",
   "id": "1a6d6070",
   "metadata": {},
   "source": [
    "Float Data Types  *(Onluq kəsrlər)*\n",
    "---\n",
    "\n",
    "Float data tipləri mənfi və müsbət onluq kəsrləri qeyd etmək üçün istifadə olunur. Tam hissəni ayırmaq üçün nöqtədən istifadə olunur.\n",
    "\n",
    "Float ədədlər üçün iki tip istifadə olunur:\n",
    "| Tip | Ölçü  | Dəyər  |\n",
    "|--|--|--|\n",
    "|float32  |32bit  | -3.4e+38 ~ 3.4e+38. |\n",
    "| float64 |64bit  |-1.7e+308 ~ +1.7e+308.  |\n",
    "\n",
    "\n",
    "Veriləcək dəyərə görə *float32* və ya *float64* tipi seçilir. Default tip *float64*-dür. O daha çox dəyər aralığına malikdir. Float tipləri üçün default dəyər sıfırdır."
   ]
  },
  {
   "cell_type": "code",
   "execution_count": null,
   "id": "d85f31c1",
   "metadata": {
    "vscode": {
     "languageId": "plaintext"
    }
   },
   "outputs": [],
   "source": [
    "package main\n",
    "import (\"fmt\")\n",
    "\n",
    "func main() {\n",
    "  var x float32 = 123.78\n",
    "  var y float32\n",
    "  z := 79.65\n",
    "  fmt.Printf(\"Type: %T, value: %v\\n\", x, x) // Type: float32, value: 123.78\n",
    "  fmt.Printf(\"Type: %T, value: %v\\n\", y, y) // Type: float32, value: 0 (default dəyər 0)\n",
    "  fmt.Printf(\"Type: %T, value: %v\", z, z) // Type: float64, value: 79.65 (default tip float64)\n",
    "}"
   ]
  },
  {
   "cell_type": "markdown",
   "id": "94922585",
   "metadata": {},
   "source": [
    "String Data Type  *(Mətn tipi)*\n",
    "---\n",
    "\n",
    "String tipi simvol ardıcıllığı (mətn) yadda saxlamaq üçün istifadə olunur. Mütləq qoşa dırnaq işarəsi içində yazılır. Default dəyəri boş sətirdir."
   ]
  },
  {
   "cell_type": "code",
   "execution_count": null,
   "id": "11a9b534",
   "metadata": {
    "vscode": {
     "languageId": "plaintext"
    }
   },
   "outputs": [],
   "source": [
    "package main\n",
    "import (\"fmt\")\n",
    "\n",
    "func main() {\n",
    "  var txt1 string = \"Salam!\"\n",
    "  var txt2 string\n",
    "  txt3 := \"Dünya\"\n",
    "\n",
    "  fmt.Printf(\"Type: %T, value: %v\\n\", txt1, txt1) // Type: string, value: Salam!\n",
    "  fmt.Printf(\"Type: %T, value: %v\\n\", txt2, txt2) // Type: string, value:  (default dəyər boş sətir)\n",
    "  fmt.Printf(\"Type: %T, value: %v\\n\", txt3, txt3) // Type: string, value: Dünya (mətn üçün default tip avtomatik seçilib)\n",
    "}  "
   ]
  },
  {
   "cell_type": "markdown",
   "id": "fa1a77e4",
   "metadata": {},
   "source": [
    "Variables  *(Dəyişənlər)*\n",
    "===\n",
    "\n",
    "Dəyişənlər (variables) verilənlərin (data) dəyərini yadda saxlamaq üçün istifadə olunan konteynerdir. Dəyişən elan olunarkən onun tipi və ölçüsü elan olunan datanın tipinə uyğun təyin olunur. Müəyyən tip dəyər dəyişənə mənimsədilir və daha sonra dəyişən ilkin olaraq hansı tipdə elan olunubsa yalnız o tipdə dəyər qəbul edir."
   ]
  },
  {
   "cell_type": "markdown",
   "id": "aecf587c",
   "metadata": {},
   "source": [
    "Dəyişənin adı\n",
    "---\n",
    "Dəyişənə qısa (a, b, c və s.) yaxud geniş və izahlı ad (soyad, yaş, doğulduğu_yer və s.) verilə bilər.  \n",
    "İkinci variant daha münasibdir. Məna ifadə etməyən qısa adlar kod böyüdükcə unudula, çaşqınlıq yarada bilər.\n",
    "\n",
    "Dəyişən adları aşağıdakı qaydalara uyğun olmalıdır:\n",
    "- Dəyişən adı ancaq hərf, rəqəm və alt_xətt( _ ) işarəsindən ibarət ola bilər, lakin rəqəmlə başlaya bilməz.\n",
    "- Dəyişən adları reqistrə həssasdır. Yəni Şifrə, şifrə və ŞİFRƏ sistem tərəfindən fərqli dəyişən kimi qəbul olunur.\n",
    "- Dəyişən adlarında boşluq (space) ola bilməz.\n",
    "- Dildəki açar sözlər dəyişən adı kimi istifadə oluna bilməz. Məsələn if, import, func, string və s.\n",
    "- Dəyişən adı istənilən uzunluqda ola bilər.\n",
    "\n",
    "İki və daha çox sözdən ibarət adların oxunaqlı olması üçün 3 forma tövsiyyə olunur:\n",
    "- **Camel Case** = İlk söz istisna bütün sözlər böyük hərflə başlayır: ***mürəkkəbDəyişənAdı***\n",
    "- **Pascal Case** = Bütün sözlər böyük hərflə başlayır: ***MürəkkəbDəyişənAdı***\n",
    "- **Snake Case** = sözlər alt_xətt (underscore) vasitəsilə ayrılır: ***mürəkkəb_dəyişən_adı***"
   ]
  },
  {
   "cell_type": "markdown",
   "id": "fa154a74",
   "metadata": {},
   "source": [
    "Dəyişənlərin elan olunması(yaradılması)\n",
    "---\n",
    "\n",
    "GO proqramlaşdırma dilində dəyişənlər iki cür elan olunur:\n",
    "\n",
    "1. **var** açar sözü vasitəsilə.\n",
    "2. **:=** işarəsi vasitəsilə. \n",
    "\n",
    "#### **var** sözü ilə dəyişən üç formada elan oluna bilər: ####\n",
    "\n",
    "1.  ***var** dəyişənin_adı dəyişənin_tipi = dəyər* . \n",
    "> Burada var açar sözündən sonra dəyişənin adı, tipi qeyd olunur və mənimsətmə(\"=\") işarəsi ilə dəyər yazılır.<br>Dəyər əvvəlcədən bilinirsə dəyişən məhz bu formada təyin olunur.\n",
    "      \n",
    "        var avtomobil_1 string = \"Mercedes\" \n",
    "        var avtomobil_2 string = \"BMW\"\n",
    "        var buraxılış_ili int = 2015 \n",
    "2. ***var** dəyişənin_adı dəyişənin_tipi*. \n",
    "> Bu zaman dəyişən elan olunur, lakin ona heçbir dəyər mənimsədilmir. Bu səbəbdən dəyişən tipinə uyğun olaraq default dəyər alır.  <br> **int** və **float** üçün bu dəyər sıfır, **string** üçün boş sətir(\"\"), **bool** üçün isə false-dır. \n",
    "\n",
    "        var sayğac uint /* sayğac adlı dəyişən elan olunur və dəyər verilmir. Default dəyər olaraq sıfır təyin olunur.*/\n",
    "        var sayğac_dəyişib bool /* sayğac_dəyişib adlı dəyişənə bool tipi verilib. Dəyər verilmədiyinə görə default dəyər olan false təyin olunub.*/\n",
    "\n",
    "3. ***var** dəyişənin_adı = dəyər*\n",
    "> Bu formada dəyişənin adına birbaşa dəyər mənimsədilib. Belə halda dəyişənin tipi mənimsədilən dəyərə uyğun sistem tərəfindən təxmin edilir(inferred from value).\n",
    "     \n",
    "        var oğlan = \"Əlövsət\"  /* dəyişənin tipi string təyin olunub. */\n",
    "        var qız = \"Bənövşə\"  /* eyni şəkildə */\n",
    "        var oğlan_yaş = 15  /* dəyişənin tipi int təyin olunub */\n",
    "        var qız_yaş = 13  /* eyni şəkildə */ \n"
   ]
  },
  {
   "cell_type": "markdown",
   "id": "74cfc5cf",
   "metadata": {},
   "source": [
    "#### **:=** işarəsi ilə dəyişənin elan edilməsi ####\n",
    "*dəyişənin_adı := dəyər* \n",
    "> Bu formada **var** sözü istifadə olunmur, dəyər **:=** işarəsi ilə birbaşa dəyişənə mənimsədilir. Tip dəyərə görə kompilyator tərəfindən təyin olunur(inferred)\n",
    "\n",
    "        ölkə := \"Azərbaycan\" /* tip string olaraq təyin olunub */\n",
    "        tarixi := 1918 /* tip int olaraq təyin olunub. */\n",
    "> **var** açar sözündən fərqli olaraq **:=** işarəsi ilə elan olunduqda dəyişən yalnız funksiyanın içində elan edilə bilər və həmçinin dəyər dərhal qeyd edilməlidir.\n",
    "        \n",
    "        "
   ]
  },
  {
   "cell_type": "markdown",
   "id": "acbc5de5",
   "metadata": {},
   "source": [
    "### **Çox sayda dəyişənin bir sətirdə elan edilməsi**  ###\n",
    "\n",
    "        var ad1, ad2, ad3, ad4 string = \"Hikmət\", \"Roma\", \"Vasif\", \"Validə\"\n",
    "\n",
    "> Misaldakı kimi tip qeyd edilibə bütün dəyişənlər bu tipdə yaradılır və mənimsədilən dəyər yalnız bu tipdə ola bilər.<br>\n",
    "Əgər tip qeyd edilməzsə istənilən tipdə dəyər verilə bilər. Hər dəyişənin tipi ona verilən dəyərə uyğun təyin olunur. := işarəsindən də istifadə oluna bilər.\n",
    "\n",
    "        var ad1, ad2, yaş1, yaş2 = \"Nərgiz\", \"Xəyal\", 17, 20\n",
    "        şəxs, boy, çəki := \"Fərid\", 186, 106\n",
    "\n",
    "Həmçinin **var** bloku açılaraq istənilən sayda dəyişən blokun içində elan edilə bilər. Bu forma daha çox dekorativ xarakterlidir və kodun oxunaqlığını artırır.\n",
    "    \n",
    "        package main\n",
    "        import (\"fmt\")\n",
    "\n",
    "        func main() {\n",
    "           var (\n",
    "           a int\n",
    "           b int = 1\n",
    "           c string = \"hello\"\n",
    "           )\n",
    "\n",
    "        fmt.Println(a)\n",
    "        fmt.Println(b)\n",
    "        fmt.Println(c)\n",
    "        }\n"
   ]
  }
 ],
 "metadata": {
  "kernelspec": {
   "display_name": "Go (gonb)",
   "language": "go",
   "name": "gonb"
  },
  "language_info": {
   "codemirror_mode": "",
   "file_extension": ".go",
   "mimetype": "",
   "name": "go",
   "nbconvert_exporter": "",
   "pygments_lexer": "",
   "version": "go1.20.5"
  }
 },
 "nbformat": 4,
 "nbformat_minor": 5
}
