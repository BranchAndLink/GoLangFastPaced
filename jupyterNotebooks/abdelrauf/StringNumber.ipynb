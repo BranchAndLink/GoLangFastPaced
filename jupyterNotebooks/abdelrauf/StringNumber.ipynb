{
 "cells": [
  {
   "cell_type": "markdown",
   "metadata": {},
   "source": [
    "#### Go-da string və ədəd tipləri bir birinə çevirmək\n",
    "\n",
    "Bunun üçün biz **strconv** və ya **fmt** paketini istifadə edəcəyik\n"
   ]
  },
  {
   "cell_type": "code",
   "execution_count": 76,
   "metadata": {},
   "outputs": [],
   "source": [
    "import \"fmt\"\n",
    "import \"strconv\""
   ]
  },
  {
   "cell_type": "markdown",
   "metadata": {},
   "source": [
    "``` Go\n",
    "func Atoi(s string) (int, error)   \n",
    "``` \n",
    "ədəd mətnini tam ədədə çevirir  və həmin tipdəki ədəd və xəta qaytarır. Xəta baş vermədikdə xəta nil olur   \n",
    "\n",
    "``` Go\n",
    "func ParseInt(s string, base int, bitSize int) (i int64, err error) \n",
    "````\n",
    "Bu funksiya vasitəsilə isə istənilən əsaslı ədədi tam ədəd çevirmək olur \n"
   ]
  },
  {
   "cell_type": "code",
   "execution_count": 77,
   "metadata": {},
   "outputs": [
    {
     "name": "stdout",
     "output_type": "stream",
     "text": [
      "string int 4566\n",
      "string int64 45ab 17835\n"
     ]
    }
   ],
   "source": [
    "%%\n",
    "a_metn:= \"4566\"\n",
    "b_metn:= \"45AB\"\n",
    "a, xeta1:=strconv.Atoi(a_metn)\n",
    "if xeta1 != nil {\n",
    "\tfmt.Println(xeta1)\n",
    "}\n",
    "b, xeta2:=strconv.ParseInt(b_metn, 16, 32)\n",
    "if xeta2 != nil {\n",
    "\tfmt.Println(xeta2)\n",
    "}\n",
    "fmt.Printf(\"%T %T %v\\n\", a_metn, a, a )\n",
    "fmt.Printf(\"%T %T %x %v\\n\", b_metn, b, b, b)\n",
    "\n"
   ]
  },
  {
   "cell_type": "markdown",
   "metadata": {},
   "source": [
    "```Go\n",
    "func ParseFloat(s string, bitSize int) (float64, error)\n",
    "```\n",
    "Mətn ədədini float tipə çevirmək  \n",
    "bitSize 32 olduqda nəticə yenə float64 olsa da onu float32-ə dəyişilmədən çevirmək olur  "
   ]
  },
  {
   "cell_type": "code",
   "execution_count": 78,
   "metadata": {},
   "outputs": [
    {
     "name": "stdout",
     "output_type": "stream",
     "text": [
      "string float64 456.455\n"
     ]
    }
   ],
   "source": [
    "%%\n",
    "b_metn:= \"456.455\" \n",
    "b, xeta:=strconv.ParseFloat(b_metn, 64)\n",
    "if xeta != nil {\n",
    "\tfmt.Println(xeta)\n",
    "} \n",
    "fmt.Printf(\"%T %T %v\\n\", b_metn, b, b )\n",
    "\n"
   ]
  },
  {
   "cell_type": "markdown",
   "metadata": {},
   "source": [
    "Digər konversiyalar üçün strconv paketini incələyin"
   ]
  },
  {
   "cell_type": "markdown",
   "metadata": {},
   "source": [
    "**fmt** paketi və formatlarla mətn ədədini ədəd tipə çevirək  \n",
    "\n",
    "Bunun üçün Sscanf dən istifadə edəcəyik. Bunun vasitəsilə dəqiq bildiyimiz mətn içərisindəki ədədi də rahat çevirmək olar\n",
    "```Go\n",
    "func Sscanf(str string, format string, a ...any) (n int, err error)\n",
    "```"
   ]
  },
  {
   "cell_type": "code",
   "execution_count": 79,
   "metadata": {},
   "outputs": [
    {
     "name": "stdout",
     "output_type": "stream",
     "text": [
      "string float64 456.455\n",
      "string int 56\n"
     ]
    }
   ],
   "source": [
    "%%\n",
    "b_metn:= \"456.455\" \n",
    "c_metn:= \"armud:56kq\"\n",
    "var b float64\n",
    "var c int\n",
    "_, xeta:=fmt.Sscanf(b_metn, \"%g\", &b)\n",
    "if xeta != nil {\n",
    "\tfmt.Println(xeta)\n",
    "} \n",
    "fmt.Printf(\"%T %T %v\\n\", b_metn, b, b)\n",
    "_, xeta1:=fmt.Sscanf(c_metn, \"armud:%dkq\", &c)\n",
    "if xeta1 != nil {\n",
    "\tfmt.Println(xeta1)\n",
    "} \n",
    "fmt.Printf(\"%T %T %v\\n\", c_metn, c , c)"
   ]
  },
  {
   "cell_type": "markdown",
   "metadata": {},
   "source": [
    "Ədədi mətnə çevirmək"
   ]
  },
  {
   "cell_type": "markdown",
   "metadata": {},
   "source": [
    "```Go\n",
    "func Sprintf(format string, a ...any) string\n",
    "```"
   ]
  },
  {
   "cell_type": "code",
   "execution_count": 80,
   "metadata": {},
   "outputs": [
    {
     "name": "stdout",
     "output_type": "stream",
     "text": [
      "float64 string 456.45 \n"
     ]
    }
   ],
   "source": [
    "%%\n",
    "var g=456.45\n",
    "var h string\n",
    "//BasicOutput-dan bildiyimiz kimi v tipe uygunlugu ozu teyin edir\n",
    "h = fmt.Sprintf(\"%v\", g)\n",
    "fmt.Printf(\"%T %T %v \\n\",g, h, h)"
   ]
  },
  {
   "cell_type": "code",
   "execution_count": 81,
   "metadata": {},
   "outputs": [
    {
     "name": "stdout",
     "output_type": "stream",
     "text": [
      "float64 string 456.45 \n"
     ]
    }
   ],
   "source": [
    "%%\n",
    "var g=456.45\n",
    "var h string\n",
    "//%g float tipi\n",
    "h = fmt.Sprintf(\"%g\", g)\n",
    "fmt.Printf(\"%T %T %v \\n\",g, h, h)"
   ]
  },
  {
   "cell_type": "markdown",
   "metadata": {},
   "source": [
    "```Go\n",
    "//tam eded uchun\n",
    "func Itoa(i int) string\n",
    "//istenilen esasli\n",
    "func FormatInt(i int64, base int) string\n",
    "//float\n",
    "func FormatFloat(f float64, fmt byte, prec, bitSize int) string\n",
    "//complex\n",
    "func FormatComplex(c complex128, fmt byte, prec, bitSize int) string\n",
    "\n",
    "Burada:\n",
    "base - tam ədəddə əsas\n",
    "fmt - format-dan bildiklərimiz %  işarəsiz. 'e', 'E', 'f', 'g', 'G', 'x', and 'X' \n",
    "prec -1 verməklə float-a çevirəndə ən az rəqəm sayısına nail oluruq\n",
    "bitSize - bit ölçüsü\n",
    "```"
   ]
  },
  {
   "cell_type": "code",
   "execution_count": 84,
   "metadata": {},
   "outputs": [
    {
     "name": "stdout",
     "output_type": "stream",
     "text": [
      "float64 string 456.45 \n"
     ]
    }
   ],
   "source": [
    "%%\n",
    "var g=456.45\n",
    "var h string \n",
    "h = strconv.FormatFloat(g, 'g', -1 ,64)\n",
    "fmt.Printf(\"%T %T %v \\n\",g, h, h)"
   ]
  },
  {
   "cell_type": "code",
   "execution_count": 85,
   "metadata": {},
   "outputs": [
    {
     "name": "stdout",
     "output_type": "stream",
     "text": [
      "int string 45 \n"
     ]
    }
   ],
   "source": [
    "%%\n",
    "var g=45\n",
    "var h string \n",
    "h = strconv.Itoa(g)\n",
    "fmt.Printf(\"%T %T %v \\n\",g, h, h)"
   ]
  }
 ],
 "metadata": {
  "kernelspec": {
   "display_name": "Go (gonb)",
   "language": "go",
   "name": "gonb"
  },
  "language_info": {
   "codemirror_mode": "",
   "file_extension": ".go",
   "mimetype": "",
   "name": "go",
   "nbconvert_exporter": "",
   "pygments_lexer": "",
   "version": "go1.20.5"
  },
  "orig_nbformat": 4
 },
 "nbformat": 4,
 "nbformat_minor": 2
}
