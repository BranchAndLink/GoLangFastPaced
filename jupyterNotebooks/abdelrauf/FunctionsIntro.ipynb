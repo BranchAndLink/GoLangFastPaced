{
 "cells": [
  {
   "cell_type": "markdown",
   "metadata": {},
   "source": [
    "### Funksiyalar ( Functions)  Sadə Giriş\n",
    "Funksiyalar proqrami sadələşdirir və eyni işi gördüyündən bir neçə dəfə çağırmağa imkan verir.  \n"
   ]
  },
  {
   "cell_type": "markdown",
   "metadata": {},
   "source": [
    "```Go\n",
    "func FunksiyaninAdı ( [parametr listi]) [nəticə listi] {\n",
    "    kodlar...\n",
    "    return [nəticə listi]\n",
    "}\n",
    "```\n",
    "\n",
    "Burada:\n",
    " - parametr listi arqument adları və tipləridir   \n",
    " - nəitcə listi də funksiyanın qaytardığı tiplər listidir   \n",
    " nəticədə həmçinin qaytarılan adları qeyd edilə bilər.   \n",
    " Bu zaman həmin dəyişənlər mənimsədildikdə return-də qeyd edilmir.   \n",
    " - return funksiyadan çağrılan bloka qayıtmaq və nəticəni qaytarmaq üçündür.   \n",
    " - { } içində funksiyanın görəcəyi kodlar olur və buna funksiyanın özəyi bədəni deyilir (Function body)\n",
    "\n",
    "\n",
    "Parametr listi \n",
    "  - boşluq - bu zaman funksiya arqumentsiz olur   \n",
    "  - arg1 tip1, arg2 tip2, ..    \n",
    "  - arg1, arg2, arg3,.. tipi // hamısı eyni tip   \n",
    "  - args ...tip  //variadic arqument ... 3 nöqtə ilə verilir , istənilən sayda eyni tipli arqument. Slice kimi baxıla bilər   \n",
    "\n",
    "Nəticə listi\n",
    "  - boşluq - bu zaman funskiya heç nə qaytarmır     \n",
    "  - tip1  -  funksiya tip1 tipində nəticə qaytarır. return tip1_tipində_nəticə     \n",
    "  - (tip1, tip2, ..) -  funksiya çoxlu tipdə (tuple) nəticə qaytarır return tip1_tipində_nəticə, tip2_tipində_nəticə, ..    \n",
    "  - (ad1 tip1, ad2 tip2, ..) - funksiya adlı nəticəsi olduğundan həmin dəyişənlərə mənimsətmək və return ilə geri qaytarmaq olur   \n",
    "  - (ad1 , ad2, ad3, ... tip) - yuxarıdakı kimi, sadəcə eyni tip olduğundan qısa yazılış    \n",
    "\n"
   ]
  },
  {
   "cell_type": "markdown",
   "metadata": {},
   "source": [
    "Funskiya Çağrıldıqda \n",
    "\n",
    "[neticeler, .. = ]FunksiyaninAdı ( [arqumentlər listi])"
   ]
  },
  {
   "cell_type": "markdown",
   "metadata": {},
   "source": [
    "Nümunələrə baxaq"
   ]
  },
  {
   "cell_type": "code",
   "execution_count": 27,
   "metadata": {},
   "outputs": [
    {
     "name": "stdout",
     "output_type": "stream",
     "text": [
      "Salam\n",
      "Salam\n",
      "Salam\n"
     ]
    }
   ],
   "source": [
    "import \"fmt\"\n",
    "func salamDe(){\n",
    "\tfmt.Println(\"Salam\")\n",
    "}\n",
    "\n",
    "%%\n",
    "salamDe()\n",
    "salamDe()\n",
    "salamDe()"
   ]
  },
  {
   "cell_type": "code",
   "execution_count": 28,
   "metadata": {},
   "outputs": [
    {
     "name": "stdout",
     "output_type": "stream",
     "text": [
      "Salam Dunya\n",
      "Salam Go\n"
     ]
    }
   ],
   "source": [
    "func salamDe( ad string) {\n",
    "\tfmt.Println(\"Salam\", ad)\n",
    "}\n",
    "\n",
    "%%\n",
    "salamDe(\"Dunya\")\n",
    "salamDe(\"Go\")"
   ]
  },
  {
   "cell_type": "code",
   "execution_count": 29,
   "metadata": {},
   "outputs": [
    {
     "name": "stdout",
     "output_type": "stream",
     "text": [
      "Salam Dunya\n",
      "Wa aleykum assalam \n"
     ]
    }
   ],
   "source": [
    "func salamDe( ad string) string{\n",
    "\tfmt.Println(\"Salam\", ad)\n",
    "\n",
    "\treturn \"Wa aleykum assalam \"\n",
    "}\n",
    "\n",
    "%%\n",
    "netice := salamDe(\"Dunya\")\n",
    "fmt.Println(netice)"
   ]
  },
  {
   "cell_type": "code",
   "execution_count": 30,
   "metadata": {},
   "outputs": [
    {
     "name": "stdout",
     "output_type": "stream",
     "text": [
      "18\n"
     ]
    }
   ],
   "source": [
    "func topla( a int,b int,c int) int {\n",
    "\treturn a +b +c\n",
    "}\n",
    "\n",
    "%%\n",
    "fmt.Println(topla(5,6,7))"
   ]
  },
  {
   "cell_type": "code",
   "execution_count": 31,
   "metadata": {},
   "outputs": [
    {
     "name": "stdout",
     "output_type": "stream",
     "text": [
      "18\n"
     ]
    }
   ],
   "source": [
    "func topla( a,b,c int) int {\n",
    "\treturn a +b +c\n",
    "}\n",
    "\n",
    "%%\n",
    "fmt.Println(topla(5,6,7))"
   ]
  },
  {
   "cell_type": "code",
   "execution_count": 32,
   "metadata": {},
   "outputs": [
    {
     "name": "stdout",
     "output_type": "stream",
     "text": [
      "salam Go\n",
      "Wa aleykum assalam. \n",
      "Neticemiz:  18\n"
     ]
    }
   ],
   "source": [
    "func salamDeVeTopla(ad string, a,b,c int) (string,  int){\n",
    "    fmt.Println(\"salam\", ad)\n",
    "\treturn \"Wa aleykum assalam. \\nNeticemiz: \",  a +b +c\n",
    "}\n",
    "\n",
    "%%\n",
    "fmt.Println (salamDeVeTopla(\"Go\", 5, 6, 7) )"
   ]
  },
  {
   "cell_type": "code",
   "execution_count": 33,
   "metadata": {},
   "outputs": [
    {
     "name": "stdout",
     "output_type": "stream",
     "text": [
      "Toplama: 17 Vurma: 72\n"
     ]
    }
   ],
   "source": [
    "func toplaVeVurAyriliqda( a, b int) (int, int){\n",
    "\treturn a+b, a*b\n",
    "}\n",
    "\n",
    "%%\n",
    "toplama, vurma := toplaVeVurAyriliqda(8,9)\n",
    "fmt.Println(\"Toplama:\",toplama,\"Vurma:\", vurma)"
   ]
  },
  {
   "cell_type": "code",
   "execution_count": 34,
   "metadata": {},
   "outputs": [
    {
     "name": "stdout",
     "output_type": "stream",
     "text": [
      "Toplama: 17 Vurma: 72\n"
     ]
    }
   ],
   "source": [
    "func toplaVeVurAyriliqda( a, b int) (toplama_netice int, vurma_netice int){\n",
    "\ttoplama_netice = a+b\n",
    "\tvurma_netice = a*b\n",
    "\treturn\n",
    "}\n",
    "\n",
    "%%\n",
    "toplama, vurma := toplaVeVurAyriliqda(8,9)\n",
    "fmt.Println(\"Toplama:\",toplama,\"Vurma:\", vurma)"
   ]
  },
  {
   "cell_type": "code",
   "execution_count": 35,
   "metadata": {},
   "outputs": [
    {
     "name": "stdout",
     "output_type": "stream",
     "text": [
      "Toplama: 17 Vurma: 72\n"
     ]
    }
   ],
   "source": [
    "func toplaVeVurAyriliqda( a, b int) (toplama_netice, vurma_netice int){\n",
    "\ttoplama_netice = a+b\n",
    "\tvurma_netice = a*b\n",
    "\treturn\n",
    "}\n",
    "\n",
    "%%\n",
    "toplama, vurma := toplaVeVurAyriliqda(8,9)\n",
    "fmt.Println(\"Toplama:\",toplama,\"Vurma:\", vurma)"
   ]
  },
  {
   "cell_type": "markdown",
   "metadata": {},
   "source": [
    "Variadic arqumentlə. Burada array və slice-ı vermək qaydasını da göstərəcəyik. Array və slice o biri dərslərdə olacaq."
   ]
  },
  {
   "cell_type": "code",
   "execution_count": 36,
   "metadata": {},
   "outputs": [
    {
     "name": "stdout",
     "output_type": "stream",
     "text": [
      "0\n",
      "3\n",
      "7\n",
      "42\n",
      "35\n",
      "35\n"
     ]
    }
   ],
   "source": [
    "func topla( ededler ... int) int{\n",
    "\tnetice:=0\n",
    "\tfor _, k := range ededler {\n",
    "\t\tnetice += k\n",
    "\t}\n",
    "\treturn netice\n",
    "}\n",
    "\n",
    "%%\n",
    "fmt.Println(topla())\n",
    "fmt.Println(topla(3))\n",
    "fmt.Println(topla(3,4))\n",
    "fmt.Println(topla(3,4,5,6,7,8,9))\n",
    "\n",
    "//Array Ve Slice Variadic function-a vermek qaydasi.\n",
    "//Array ad[:]...\n",
    "var arr [5]int = [5]int{5,6,7,8,9}\n",
    "fmt.Println(topla(arr[:]...))\n",
    "//Slice   ad...\n",
    "var slice []int = []int{5,6,7,8,9}\n",
    "fmt.Println(topla(slice...))"
   ]
  },
  {
   "cell_type": "markdown",
   "metadata": {},
   "source": [
    "Funksiyanı digər funksiya dəyişəninə mənimsədikdə bir növ onun alias-ını sinonimini almış oluruq"
   ]
  },
  {
   "cell_type": "code",
   "execution_count": 37,
   "metadata": {},
   "outputs": [
    {
     "name": "stdout",
     "output_type": "stream",
     "text": [
      "19\n",
      "19\n"
     ]
    }
   ],
   "source": [
    "func topla( a int,b int,c int) int {\n",
    "\treturn a +b +c\n",
    "}\n",
    "\n",
    "%%\n",
    "ustegel:=topla\n",
    "yaz:=fmt.Println\n",
    "//var ile elan etmek\n",
    "var addition func(int,int,int)int = topla\n",
    "yaz(ustegel(5,6,8))\n",
    "yaz(addition(5,6,8))"
   ]
  },
  {
   "cell_type": "markdown",
   "metadata": {},
   "source": [
    "Go dilində dillə hazır gələn funksiyalar da var. Builtin functions.  \n",
    "Onları müvafiq bölmələrdə öyrənəcəyik <span style=\"color:red\">len, close, make, new, append, copy, cap, delete, real, complex, imag, panic, recover, print, println  ve s</span>"
   ]
  },
  {
   "cell_type": "code",
   "execution_count": 38,
   "metadata": {},
   "outputs": [
    {
     "name": "stderr",
     "output_type": "stream",
     "text": [
      "builtin print"
     ]
    }
   ],
   "source": [
    "%%\n",
    "print(\"builtin print\")"
   ]
  },
  {
   "cell_type": "code",
   "execution_count": 39,
   "metadata": {},
   "outputs": [
    {
     "name": "stderr",
     "output_type": "stream",
     "text": [
      "+9.000000e+000\n",
      "+4.000000e+000\n",
      "-----\n"
     ]
    }
   ],
   "source": [
    "%%\n",
    "var g = 4 + 9i\n",
    "print(imag(g))\n",
    "print(\"\\n\")\n",
    "println(real(g))\n",
    "println(\"-----\")"
   ]
  },
  {
   "cell_type": "markdown",
   "metadata": {},
   "source": [
    "Qeyd. Funksiyada arqumentler by copy  (kopyası sürətilə) ötürülür. Yəni arqument dəyişildikdə ona heçnə olmur.   \n",
    "Ona görə funksiyadan kənarda olan dəyişəni dəyişmək üçün onun addresini Pointer istifadə etməklə ötürməliyik.   \n",
    "Amma yenə bu zaman da address kopya ilə ötürülür. Qaydada həminki qaydadır. Biz pointeri dəyişmirik."
   ]
  },
  {
   "cell_type": "code",
   "execution_count": 40,
   "metadata": {},
   "outputs": [
    {
     "name": "stdout",
     "output_type": "stream",
     "text": [
      "8\n",
      "16\n",
      "8\n"
     ]
    }
   ],
   "source": [
    "func Funksiya(a int){\n",
    "\ta+=8\n",
    "\tfmt.Println(a)\n",
    "}\n",
    "\n",
    "%%\n",
    "var g = 8\n",
    "fmt.Println(g)\n",
    "Funksiya(g)\n",
    "fmt.Println(g)"
   ]
  },
  {
   "cell_type": "code",
   "execution_count": 41,
   "metadata": {},
   "outputs": [
    {
     "name": "stdout",
     "output_type": "stream",
     "text": [
      "8\n",
      "16\n",
      "16\n"
     ]
    }
   ],
   "source": [
    "//Pointer gələcəkdə keçəcəyik\n",
    "func Funksiya(a *int){\n",
    "\t*a+=8\n",
    "\tfmt.Println(*a)\n",
    "}\n",
    "\n",
    "%%\n",
    "var g = 8\n",
    "fmt.Println(g)\n",
    "Funksiya(&g)\n",
    "fmt.Println(g)"
   ]
  },
  {
   "cell_type": "code",
   "execution_count": 42,
   "metadata": {},
   "outputs": [
    {
     "name": "stdout",
     "output_type": "stream",
     "text": [
      "[5 6 7]\n",
      "[18 6 7]\n",
      "[5 6 7]\n"
     ]
    }
   ],
   "source": [
    "func Funksiya( a [3]int){\n",
    "\ta[0] = a[0] + a[1] + a[2]\n",
    "\tfmt.Println(a)\n",
    "}\n",
    "\n",
    "%%\n",
    "g:=[3]int{5,6,7}\n",
    "fmt.Println(g)\n",
    "Funksiya(g)\n",
    "fmt.Println(g)\n",
    "\n"
   ]
  },
  {
   "cell_type": "code",
   "execution_count": 43,
   "metadata": {},
   "outputs": [
    {
     "name": "stdout",
     "output_type": "stream",
     "text": [
      "[5 6 7]\n",
      "[18 6 7]\n",
      "[18 6 7]\n"
     ]
    }
   ],
   "source": [
    "func Funksiya( a *[3]int){\n",
    "\t//array de (*a)[0] yazmayib qisa yazmaqla da Go basha dushur. a[0]\n",
    "\ta[0] = a[0] + a[1] + (*a)[2]\n",
    "\tfmt.Println(*a)\n",
    "}\n",
    "\n",
    "%%\n",
    "g:=[3]int{5,6,7}\n",
    "fmt.Println(g)\n",
    "Funksiya(&g)\n",
    "fmt.Println(g)"
   ]
  },
  {
   "cell_type": "markdown",
   "metadata": {},
   "source": [
    "ve ya pointer to array əvəzinə slice işlətsək"
   ]
  },
  {
   "cell_type": "code",
   "execution_count": 44,
   "metadata": {},
   "outputs": [
    {
     "name": "stdout",
     "output_type": "stream",
     "text": [
      "[5 6 7]\n",
      "[18 6 7]\n",
      "[18 6 7]\n"
     ]
    }
   ],
   "source": [
    "func Funksiya( a_slice []int){ \n",
    "\ta_slice[0] = a_slice[0] + a_slice[1] + a_slice[2]\n",
    "\tfmt.Println(a_slice)\n",
    "}\n",
    "\n",
    "%%\n",
    "g:=[3]int{5,6,7}\n",
    "fmt.Println(g)\n",
    "//chagirdiqda [:] ile slice\n",
    "Funksiya(g[:])\n",
    "fmt.Println(g)"
   ]
  }
 ],
 "metadata": {
  "kernelspec": {
   "display_name": "Go (gonb)",
   "language": "go",
   "name": "gonb"
  },
  "language_info": {
   "codemirror_mode": "",
   "file_extension": ".go",
   "mimetype": "",
   "name": "go",
   "nbconvert_exporter": "",
   "pygments_lexer": "",
   "version": "go1.20.5"
  },
  "orig_nbformat": 4
 },
 "nbformat": 4,
 "nbformat_minor": 2
}
