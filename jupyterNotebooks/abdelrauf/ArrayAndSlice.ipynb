{
 "cells": [
  {
   "cell_type": "markdown",
   "metadata": {},
   "source": [
    "#### Array. \n",
    "eyni tipli elementlər ardıcıllığını vermək üçün istifadə edilir. Yaddaşda ardıcıl yer tutur"
   ]
  },
  {
   "cell_type": "markdown",
   "metadata": {},
   "source": [
    "<pre>\n",
    "[say]tip{elementlər}   \n",
    "elan:\n",
    "var ad [say]tip   \n",
    "var ad [say]tip = [say]tip{elementlər}   \n",
    "var ad = [say]tip{elementlər}  \n",
    "ad := [say]tip{elementlər}  \n",
    "say Yerinə ... istifadə etsək element sayını özü yazır  \n",
    "\n",
    "[...]tip{elementlər}  \n",
    "\n",
    "{ } içindəki Elementləri tam yox spesifikdə vermək olar {index1: qiymet1. index2: qiymet2}. Bu zaman digərləri default olur \n",
    "\n",
    "Çox ölçülü :\n",
    "2d misalında \n",
    "[say1][say2] tip { {elementlər}, {elementlər}}\n",
    "</pre>"
   ]
  },
  {
   "cell_type": "code",
   "execution_count": 240,
   "metadata": {},
   "outputs": [
    {
     "name": "stdout",
     "output_type": "stream",
     "text": [
      "[0 0 0 0 0] [4 5 6 8 9] [0 0 6 0 9] [0 0 6 0 9] [2 5 6 7 8] [0 0 6 0 9] [0 0 6 0 9] [2 5 6 7 8] [0 0 6 0 9]\n",
      "[[1 2 3] [5 6 7] [4 5 9] [4 5 9]]\n",
      "[5]int [4][3]int\n"
     ]
    }
   ],
   "source": [
    "%%\n",
    "var g1 [5]int\n",
    "var g2 [5]int = [5]int {4,5,6,8,9}\n",
    "var g3 [5]int = [5]int {2:6, 4:9}\n",
    "var g4 = [5]int {2:6, 4:9}\n",
    "var g5 = [...]int {2,5,6,7,8}\n",
    "var g6 = [...]int {2:6, 4:9}\n",
    "\n",
    "a1 := [5]int {2:6, 4:9}\n",
    "a2 := [...]int {2,5,6,7,8}\n",
    "a3 := [...]int {2:6, 4:9}\n",
    "multi := [...][3]int{{1,2,3},{5,6,7},{4,5,9},{4,5,9}}\n",
    "fmt.Println(g1,g2,g3,g4,g5,g6,a1,a2,a3)\n",
    "fmt.Println(multi)\n",
    "fmt.Printf(\"%T %T\\n\", a2, multi)\n"
   ]
  },
  {
   "cell_type": "markdown",
   "metadata": {},
   "source": [
    "Array-in elementini dəyişmək üçün  [indeks] və mənimsətmə ilə edə bilərik"
   ]
  },
  {
   "cell_type": "code",
   "execution_count": 241,
   "metadata": {},
   "outputs": [
    {
     "name": "stdout",
     "output_type": "stream",
     "text": [
      "[77 0 0 56 0]\n",
      "[[1 2 3] [5 6 7] [4 5 9898] [4 5 9]]\n"
     ]
    }
   ],
   "source": [
    "%%\n",
    "var g1 [5]int\n",
    "g1[0] = 77\n",
    "g1[3] = 56\n",
    "multi := [...][3]int{{1,2,3},{5,6,7},{4,5,9},{4,5,9}}\n",
    "multi[2][2] = 9898\n",
    "fmt.Println(g1)\n",
    "fmt.Println(multi)\n"
   ]
  },
  {
   "cell_type": "markdown",
   "metadata": {},
   "source": [
    "**len** builtin Funksiya ilə ölçü və sayı almaq mümkündür. Array üçün də keçərlidir"
   ]
  },
  {
   "cell_type": "code",
   "execution_count": 242,
   "metadata": {},
   "outputs": [
    {
     "name": "stdout",
     "output_type": "stream",
     "text": [
      "5\n"
     ]
    }
   ],
   "source": [
    "%%\n",
    "var g5 = [...]int {2,5,6,7,8}\n",
    "fmt.Println(len(g5))"
   ]
  },
  {
   "cell_type": "markdown",
   "metadata": {},
   "source": [
    "Qeyd edək ki string tipi də əslində array tipinə oxşardır lakin eyni deyil. Sadəcə burda nəzərə almaq lazımdır ki ASCİİ simvollar olanda indekslər üst üstə düşür. \n",
    " Əks halda rune massivinə çevirmək və ya range istifadə lazımdır"
   ]
  },
  {
   "cell_type": "code",
   "execution_count": 243,
   "metadata": {},
   "outputs": [
    {
     "name": "stdout",
     "output_type": "stream",
     "text": [
      "14 77 101 110\n",
      "Say 14, M, e, n \n",
      "Say 14, Duzgun olmayan herf indeksleri ð, ,  \n",
      "0 - 😁 \n",
      "4 - 👍 \n",
      "8 - 😊 \n",
      "12 - a \n",
      "13 - l \n",
      "Say 5, 😁, 👍, 😊 \n",
      "%!(EXTRA int32=97)"
     ]
    }
   ],
   "source": [
    "%%\n",
    "var s= \"Men de arrayam\"\n",
    "fmt.Println(len(s), s[0],s[1], s[2])\n",
    "fmt.Printf(\"Say %d, %c, %c, %c \\n\",len(s), s[0],s[1], s[2])\n",
    "var ss = \"😁👍😊al\"\n",
    "fmt.Printf(\"Say %d, Duzgun olmayan herf indeksleri %c, %c, %c \\n\",len(ss), ss[0],ss[1], ss[2])\n",
    "for pos, x := range ss{\n",
    "\tfmt.Printf(\"%d - %c \\n\", pos, x)\n",
    "}\n",
    "runes := []rune(ss)\n",
    "fmt.Printf(\"Say %d, %c, %c, %c \\n\",len(runes), runes[0],runes[1], runes[2], runes[3])"
   ]
  },
  {
   "cell_type": "markdown",
   "metadata": {},
   "source": [
    "Array-ləri bir birinə mənimsətdikdə kopyalama (sürət alma) baş verir.   \n",
    "Ona görə funksiyaya verdikdə və s hallarda buna diqqət yetir.   \n",
    "Qeyd ya slice istifadə elə (hansı ki reference-dir(pointer)) ya pointer"
   ]
  },
  {
   "cell_type": "code",
   "execution_count": 244,
   "metadata": {},
   "outputs": [
    {
     "name": "stdout",
     "output_type": "stream",
     "text": [
      "[5 6 7 8 9]\n",
      "[99 6 7 8 9]\n",
      "5 != 99\n"
     ]
    }
   ],
   "source": [
    "%%\n",
    "s:=[...]int{5,6,7,8,9}\n",
    "d:=s\n",
    "d[0] = 99\n",
    "fmt.Println(s)\n",
    "fmt.Println(d)\n",
    "fmt.Println(s[0], \"!=\", d[0])\n"
   ]
  },
  {
   "cell_type": "markdown",
   "metadata": {},
   "source": [
    "**Elementlər sayı eyni olan Arraylər** üzərində müqayisə əməliyyatı olaraq == və != aparmaq olur. string-də isə hamısı olur.  "
   ]
  },
  {
   "cell_type": "code",
   "execution_count": 245,
   "metadata": {},
   "outputs": [
    {
     "name": "stdout",
     "output_type": "stream",
     "text": [
      "false\n",
      "true\n"
     ]
    }
   ],
   "source": [
    "%%\n",
    "s:=[...]int{5,6,7,8,9}\n",
    "d:=s \n",
    "d[0] = 99\n",
    "fmt.Println(s == d )\n",
    "fmt.Println(s != d )"
   ]
  },
  {
   "cell_type": "markdown",
   "metadata": {},
   "source": [
    "### Slice\n",
    "Slice arraydən fərqli olaraq **reference tipdir**. Yəni o böyüyə və kiçilə bilən bufferə (array) ə işarə saxlayır və nil-də ola bilər.   \n",
    "Elanı array-ə oxşayır. Array-dən slice almaq da mümkündür. Sonda fərqliliklərini qeyd edəcəyik      \n",
    "\n",
    " <pre>\n",
    "    var ad []tip   \n",
    "    var ad []tip = []tip{elementlər}   \n",
    "    var ad = []tip{elementlər}  \n",
    "    ad := []tip{elementlər}  \n",
    "    Çox ölçülü :\n",
    "    2d misalında \n",
    "    [][] tip { {elementlər}, {elementlər}}\n",
    "\n",
    " </pre>"
   ]
  },
  {
   "cell_type": "code",
   "execution_count": 246,
   "metadata": {},
   "outputs": [
    {
     "name": "stdout",
     "output_type": "stream",
     "text": [
      "[] [4 5 6 8 9] [0 0 6 0 9] [0 0 6 0 9] [0 0 6 0 9] [2 5 6 7 8] [0 0 6 0 9]\n",
      "[[1 2 3] [5 6 7] [4 5 99999] [4 5 9]]\n",
      "[5]int [4][3]int\n",
      "9999 == 9999\n"
     ]
    }
   ],
   "source": [
    "%%\n",
    "var g1 []int\n",
    "var g2 []int = []int {4,5,6,8,9}\n",
    "var g3 []int = []int {2:6, 4:9}\n",
    "var g4 = []int {2:6, 4:9} \n",
    "\n",
    "a1 := []int {2:6, 4:9}\n",
    "a2 := [...]int {2,5,6,7,8}\n",
    "a3 := [...]int {2:6, 4:9}\n",
    "multi := [...][3]int{{1,2,3},{5,6,7},{4,5,9},{4,5,9}}\n",
    "multi[2][2] = 99999\n",
    "fmt.Println(g1,g2,g3,g4,a1,a2,a3)\n",
    "fmt.Println(multi)\n",
    "fmt.Printf(\"%T %T\\n\", a2, multi)\n",
    "//reference tip olmagi\n",
    "ref_g:=g4\n",
    "ref_g[3]= 9999\n",
    "fmt.Println(ref_g[3], \"==\", g4[3])"
   ]
  },
  {
   "cell_type": "markdown",
   "metadata": {},
   "source": [
    "Slice-a yeni element əlavə edək və ya pozaq. \n",
    "append builtin. \n",
    "Qeyd edək ki **yeni bufer yarana bildiyindən** onu yenidən *öz slice-a mənimsətmək lazımdır*.  \n",
    " Əks halda yeni bizim slice köhne bufferə, təzəyə isə mənimsətdiyimiz baxır\n",
    "```Go\n",
    "   slice1 = append( slice1, elementler,...)\n",
    "   yeni_slice2 = append( slice1, elementler,...)\n",
    "   //slice add edəndə slice_adi... istifadə edilir\n",
    "   yeni_slice3 = append(slice1, yeni_slice2...)\n",
    "```"
   ]
  },
  {
   "cell_type": "code",
   "execution_count": 247,
   "metadata": {},
   "outputs": [
    {
     "name": "stdout",
     "output_type": "stream",
     "text": [
      "Say 5 elementler:  [0 0 6 0 9]\n",
      "Say 6 elementler:  [0 0 6 0 9 5]\n",
      "Say 9 elementler:  [0 0 6 0 9 5 5 88 99]\n",
      "kohne slice Say 9 elementler:  [0 0 6 0 9 5 5 88 99]\n",
      "Yeni slice Say 12 elementler:  [0 0 6 0 9 5 5 88 99 95 88 99]\n",
      "Birleshmis Yeni slice Say 21 elementler:  [0 0 6 0 9 5 5 88 99 95 88 99 0 0 6 0 9 5 5 88 99]\n"
     ]
    }
   ],
   "source": [
    "%% \n",
    "var g3 []int = []int {2:6, 4:9} \n",
    "\n",
    "fmt.Println(\"Say\", len(g3), \"elementler: \", g3)\n",
    "g3 = append(g3, 5)\n",
    "fmt.Println(\"Say\", len(g3), \"elementler: \", g3)\n",
    "g3 = append(g3, 5,88,99)\n",
    "fmt.Println(\"Say\", len(g3), \"elementler: \", g3)\n",
    "//ozune menimsetmesek \n",
    "yeni_slice:=append(g3, 95,88,99)\n",
    "fmt.Println(\"kohne slice Say\", len(g3), \"elementler: \", g3)\n",
    "fmt.Println(\"Yeni slice Say\", len(yeni_slice), \"elementler: \", yeni_slice)\n",
    "yeni_slice2 := append(yeni_slice, g3...)\n",
    "fmt.Println(\"Birleshmis Yeni slice Say\", len(yeni_slice2), \"elementler: \", yeni_slice2)"
   ]
  },
  {
   "cell_type": "markdown",
   "metadata": {},
   "source": [
    "Array-in slice-in almaq üçün arrayin_adi[başlangıc_index:son_index] istifadə edirik.\n",
    "Əgər [:] olduqda bütöv arrayə işarə edir.   \n",
    "Ümumən slice-i dəyişdikdə array-də dəyişilir. Lakin əgər slice-da artırma və s baş veribsə bu yeni bufferə də işarə edə bilər.   \n",
    "Slice saydan əlavə mümkün tutum həcmə də malik olur. Buna capacity deyilir cə cap builtin funksiyası vasitəsilə ala bilərik.  \n",
    "Qeyd Eynilə slice-dan da slice almaq olur. "
   ]
  },
  {
   "cell_type": "code",
   "execution_count": 248,
   "metadata": {},
   "outputs": [
    {
     "name": "stdout",
     "output_type": "stream",
     "text": [
      "say 5 tutum 5\n",
      "say 2 tutum 5\n",
      "say 2 tutum 3\n",
      "say 3 tutum 4\n",
      "[1 2 3 4 5]\n",
      "[1 2 999 4 5]\n"
     ]
    }
   ],
   "source": [
    "%%\n",
    "array:=[5]int{1,2,3,4,5}\n",
    "slice:=array[:]\n",
    "slice1:=array[0:2]\n",
    "slice2:=array[2:4]\n",
    "slice3:=array[1:4]\n",
    "\n",
    "fmt.Println(\"say\", len(slice), \"tutum\", cap(slice))\n",
    "fmt.Println(\"say\", len(slice1), \"tutum\", cap(slice1))\n",
    "fmt.Println(\"say\", len(slice2), \"tutum\", cap(slice2))\n",
    "fmt.Println(\"say\", len(slice3), \"tutum\", cap(slice3))\n",
    "\n",
    "fmt.Println(array)\n",
    "slice2[0] = 999\n",
    "//slice2 -de elav artim etmediyimizden o ele array bufferine isahre edir deye array de deyishilecek\n",
    "fmt.Println(array)\n",
    "\n"
   ]
  },
  {
   "cell_type": "markdown",
   "metadata": {},
   "source": [
    "```Go\n",
    "copy(dest_slice1, slice2)  //slice2 -i dest_slice1-e kopyalayir\n",
    "```"
   ]
  },
  {
   "cell_type": "code",
   "execution_count": 249,
   "metadata": {},
   "outputs": [
    {
     "name": "stdout",
     "output_type": "stream",
     "text": [
      "[1 2 5 6 10]\n",
      "[6 7 8 9 1 2 5 6]\n"
     ]
    }
   ],
   "source": [
    "%%\n",
    "slice1:=[]int{1,2,5,6}\n",
    "slice2:=[]int{6,7,8,9,10}\n",
    "slice3:=[]int{6,7,8,9,10,11,12,13}\n",
    "copy(slice2,slice1)\n",
    "fmt.Println(slice2)\n",
    "//sonuna kopy edek\n",
    "copy(slice3[len(slice3)-4:],slice1)\n",
    "fmt.Println(slice3)"
   ]
  },
  {
   "cell_type": "markdown",
   "metadata": {},
   "source": [
    "Slice- make  ilə yaratmaq  olur. make vasitəsilə bildiyiniz kimi tutumu əvvəlcədən vermək olur. və make initialize etdiyindən nil olmur. \n",
    "```Go\n",
    "make(T[], say)\n",
    "make(T[], say, tutum)\n",
    "\n",
    "```"
   ]
  },
  {
   "cell_type": "code",
   "execution_count": 250,
   "metadata": {},
   "outputs": [
    {
     "name": "stdout",
     "output_type": "stream",
     "text": [
      "[0 0 0 0 0] say: 5 tutum: 200\n"
     ]
    }
   ],
   "source": [
    "%%\n",
    "g:= make([]int, 5, 200)\n",
    "fmt.Println(g, \"say:\", len(g), \"tutum:\", cap(g))"
   ]
  },
  {
   "cell_type": "markdown",
   "metadata": {},
   "source": [
    "Slice sadəcə elan olunduqda nil olur. append nil Slice uzerinde de işləyir"
   ]
  },
  {
   "cell_type": "code",
   "execution_count": 251,
   "metadata": {},
   "outputs": [
    {
     "name": "stdout",
     "output_type": "stream",
     "text": [
      "nil?  true\n",
      "nil?  false\n",
      "nil?  false\n",
      "nil?  false\n",
      "[1 2 3]\n"
     ]
    }
   ],
   "source": [
    "%%\n",
    "var s0 []int\n",
    "s1 := []int{}\n",
    "s2 := make([]int,0)\n",
    "s3 := make([]int, 50, 200)\n",
    "fmt.Println(\"nil? \", s0 == nil)\n",
    "fmt.Println(\"nil? \", s1 == nil)\n",
    "fmt.Println(\"nil? \", s2 == nil)\n",
    "fmt.Println(\"nil? \", s3 == nil)\n",
    "s0 = append(s0,1,2,3)\n",
    "fmt.Println(s0)"
   ]
  },
  {
   "cell_type": "markdown",
   "metadata": {},
   "source": [
    "**Qeyd:** make istifadəsi tutum və sayı əvvəlcədən verməyə imkan verir. hansı ki   \n",
    "tutumun böyük olması append zamanı hər dəfə yeni buffer  yaranma şansını azaldır və performansa təsir edir.  \n",
    "\n",
    "\n",
    "append təqribən bu cür koda malikdir   \n",
    "```Go\n",
    "func Append(slice, data []byte) []byte {\n",
    "    l := len(slice)\n",
    "    if l + len(data) > cap(slice) {  // reallocate\n",
    "        // Allocate double what's needed, for future growth.\n",
    "        newSlice := make([]byte, (l+len(data))*2)\n",
    "        // The copy function is predeclared and works for any slice type.\n",
    "        copy(newSlice, slice)\n",
    "        slice = newSlice\n",
    "    }\n",
    "    slice = slice[0:l+len(data)]\n",
    "    copy(slice[l:], data)\n",
    "    return slice\n",
    "}\n",
    "```\n",
    "\n",
    "Bu koddan həm də görsənir ki nəyə görə dəyişimdən sonra eyni bufferə işarə etməyə bilər."
   ]
  },
  {
   "cell_type": "markdown",
   "metadata": {},
   "source": [
    "### Element pozmağa və slice-la işləmə zamanı ehtiyatlı olmağa nümunə.    \n",
    "##### Performance vs memory -aid nümunə. Həmçinin memory leak ehtimalı\n",
    "\n",
    "Əgər elementi pozmaq istəsək slice və append -dən, copy-dən bu cür sitifadə edeə bilərik:\n",
    "Lakin bilmək lazımdır ki aşağıdakı üsulda buffer köhnə böyük bufffer olduğundan yaddaşda azalma olmur.\n",
    "Bu isə bəzən arzuolunmaz haldır və <span style=\"color:red\">memory leak</span> kimi sayıla bilər.   \n",
    "Ancaq pozma zamanı yüni buffer yaranmadığından sürətli olur."
   ]
  },
  {
   "cell_type": "code",
   "execution_count": 252,
   "metadata": {},
   "outputs": [
    {
     "name": "stdout",
     "output_type": "stream",
     "text": [
      "[6 7 8 10]\n",
      "[6 7 8 9 10 11 13]\n"
     ]
    }
   ],
   "source": [
    "func SlicedanElementiPoz1(slice []int, index int) []int {\n",
    "\tif index <0 || index > len(slice)-1 {\n",
    "\t\treturn slice\n",
    "\t}\n",
    "\tslice_netice:=append(slice[:index], slice[index+1:]...)\n",
    "\treturn slice_netice\n",
    "}\n",
    "\n",
    "func SlicedanElementiPoz2(slice []int, index int) []int {\n",
    "\tif index <0 || index > len(slice)-1 {\n",
    "\t\treturn slice\n",
    "\t}\n",
    "\tcopy(slice[index:], slice[index+1:])\n",
    "    return slice[:len(slice)-1]\n",
    "}\n",
    "\n",
    "%%\n",
    "slice2:=[]int{6,7,8,9,10}\n",
    "slice3:=[]int{6,7,8,9,10,11,12,13} \n",
    "fmt.Println(SlicedanElementiPoz1(slice2, 3)) \n",
    "fmt.Println(SlicedanElementiPoz2(slice3, 6))"
   ]
  },
  {
   "cell_type": "markdown",
   "metadata": {},
   "source": [
    "Arzuolunmaz halı göstərək"
   ]
  },
  {
   "cell_type": "code",
   "execution_count": 253,
   "metadata": {},
   "outputs": [
    {
     "name": "stdout",
     "output_type": "stream",
     "text": [
      "1)\n",
      "Element tutumu %v 500\n",
      "Element tutumu Pozduqdan sonra 500, say : 12\n",
      "2)\n",
      "Element tutumu %v 500\n",
      "Element tutumu Pozduqdan sonra 500, say : 12\n"
     ]
    }
   ],
   "source": [
    "%%\n",
    "slice :=make([]int, 500)\n",
    "fmt.Println(\"1)\\nElement tutumu %v\", cap(slice))\n",
    "for i:=0;i<488;i++{\n",
    "\tslice = SlicedanElementiPoz1(slice, 1)\n",
    "}\n",
    "fmt.Printf(\"Element tutumu Pozduqdan sonra %v, say : %v\\n\", cap(slice), len(slice))\n",
    "\n",
    "slice2 :=make([]int, 500)\n",
    "fmt.Println(\"2)\\nElement tutumu %v\", cap(slice))\n",
    "for i:=0;i<488;i++{\n",
    "\tslice2 = SlicedanElementiPoz2(slice2, 1)\n",
    "}\n",
    "fmt.Printf(\"Element tutumu Pozduqdan sonra %v, say : %v\\n\", cap(slice2), len(slice2))\n"
   ]
  },
  {
   "cell_type": "markdown",
   "metadata": {},
   "source": [
    "Ona görə əgər pozma halları çoxdursa və **yaddaş həcmi önəmlidirsə**. \n",
    "- yeni buffer yaratmaq ən münasib variantdır. memory leak halını azaldır\n",
    "- diapozon pozma. sürət önəmlidirsə"
   ]
  },
  {
   "cell_type": "code",
   "execution_count": 254,
   "metadata": {},
   "outputs": [
    {
     "name": "stdout",
     "output_type": "stream",
     "text": [
      "1)\n",
      "Element tutumu %v 500\n",
      "Element tutumu Pozduqdan sonra 12, say : 12, [0 1 2 491 492 493 494 495 496 497 498 499]\n",
      "2)\n",
      "Element tutumu %v 500\n",
      "Element tutumu Diapozon Pozduqdan sonra 12, say : 12, [0 1 2 491 492 493 494 495 496 497 498 499]\n"
     ]
    }
   ],
   "source": [
    "func SlicedanElementiPozNoLeak(slice []int, index int) []int {\n",
    "\tif index <0 || index > len(slice)-1 {\n",
    "\t\treturn slice\n",
    "\t}\n",
    "\tvar new = make([]int, len(slice)-1)\n",
    "\tcopy(new, slice[:index])\n",
    "\tcopy(new[index:], slice[index+1:])\n",
    "    return new\n",
    "}\n",
    "\n",
    "func SlicedanRangePozNoLeak(slice []int, begin_index int, end_index int) []int {\n",
    "\tif begin_index <0 || begin_index > len(slice)-1 || begin_index>end_index {\n",
    "\t\treturn slice\n",
    "\t}\n",
    "\tif end_index>len(slice) {\n",
    "\t\tend_index = len(slice)\n",
    "\t}\n",
    "\tvar new = make([]int, len(slice)-(end_index-begin_index)) \n",
    "\tcopy(new, slice[:begin_index]) \n",
    "\tcopy(new[begin_index:], slice[end_index:])\n",
    "    return new\n",
    "}\n",
    "\n",
    "%%\n",
    "slice :=make([]int, 500)\n",
    "for i:=0;i<500;i++{\n",
    "\tslice[i]=i\n",
    "}\n",
    "fmt.Println(\"1)\\nElement tutumu %v\", cap(slice))\n",
    "for i:=0;i<488;i++{\n",
    "\tslice = SlicedanElementiPozNoLeak(slice, 3)\n",
    "}\n",
    "fmt.Printf(\"Element tutumu Pozduqdan sonra %v, say : %v, %v\\n\", cap(slice), len(slice), slice)\n",
    "\n",
    "slice1 :=make([]int, 500)\n",
    "for i:=0;i<500;i++{\n",
    "\tslice1[i]=i\n",
    "}\n",
    "fmt.Println(\"2)\\nElement tutumu %v\", cap(slice1)) \n",
    "slice1 = SlicedanRangePozNoLeak(slice1, 3, 3+488) \n",
    "fmt.Printf(\"Element tutumu Diapozon Pozduqdan sonra %v, say : %v, %v\\n\", cap(slice1), len(slice1), slice1)\n"
   ]
  },
  {
   "cell_type": "markdown",
   "metadata": {},
   "source": [
    "### Array və Slice arasında fərqlər. xülasə\n",
    "\n",
    "- Array ölçüsü statikdir. Slice artırmaq olur. Əgər tutum imkan verirsə eyni bufferə işarə edecək\n",
    "- Array value tipdir. Slice reference tipdir. Mənimsətmə və funksiyaya vermə zamanı dəyişim slice-da həmin buffer üzərində olur.   \n",
    "Array-də isə pointer istifadə etməsən kopyası üzərində olur. (<span style=\"color:red\">Funksiyalar bölməsində nümunə var</span>)"
   ]
  }
 ],
 "metadata": {
  "kernelspec": {
   "display_name": "Go (gonb)",
   "language": "go",
   "name": "gonb"
  },
  "language_info": {
   "codemirror_mode": "",
   "file_extension": ".go",
   "mimetype": "",
   "name": "go",
   "nbconvert_exporter": "",
   "pygments_lexer": "",
   "version": "go1.20.5"
  },
  "orig_nbformat": 4
 },
 "nbformat": 4,
 "nbformat_minor": 2
}
