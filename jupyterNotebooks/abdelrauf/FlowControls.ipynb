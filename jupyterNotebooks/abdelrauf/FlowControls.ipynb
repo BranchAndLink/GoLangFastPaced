{
 "cells": [
  {
   "cell_type": "markdown",
   "metadata": {},
   "source": [
    "### Şərt və dövr blokları"
   ]
  },
  {
   "cell_type": "markdown",
   "metadata": {},
   "source": [
    "## Blok {  } və dəyişənin görünməsi (scope)\n",
    "\n",
    "Go dilində blok fiqurlu mötərizə ilə bildirilir. Bu həmçinin dəyişənin görünmə dəirəsinə da təsir edir.   \n",
    "Blok içində ondan üst blokda elan olunmuş dəyişən də istifadə edilir.   \n",
    "Əgər dəyişən blokun içində təkrar elan edilibsə o blokun xaricindəki dəyişəni kölgəyə salacaq və blok üçün lokal sayılacaq.  \n"
   ]
  },
  {
   "cell_type": "code",
   "execution_count": 1,
   "metadata": {},
   "outputs": [
    {
     "name": "stdout",
     "output_type": "stream",
     "text": [
      "Sade yazi 1) 3.5 40 45\n",
      "Sade yazi 2)  9.5 44 85\n",
      "Sade yazi Ana blok)  4.5 40 88\n"
     ]
    }
   ],
   "source": [
    "%%\n",
    "var uzunluq float32 = 4.5\n",
    "var adamlarin_sayi = 40\n",
    "var azər = 88 \n",
    "{\n",
    "  var uzunluq float32 = 3.5 \n",
    "  var azər = 45 \n",
    "  metn := \"Sade yazi 1)\"\n",
    "  fmt.Println(metn, uzunluq, adamlarin_sayi, azər) \n",
    "}\n",
    "{\n",
    "  var uzunluq float32 = 9.5\n",
    "  var adamlarin_sayi = 44\n",
    "  var azər = 85 \n",
    "  metn := \"Sade yazi 2) \"\n",
    "  fmt.Println(metn, uzunluq, adamlarin_sayi, azər) \n",
    "} \n",
    "fmt.Println(\"Sade yazi Ana blok) \", uzunluq, adamlarin_sayi, azər)"
   ]
  },
  {
   "cell_type": "markdown",
   "metadata": {},
   "source": [
    "Təkrar Qeyd edək ki funksiya xaricində := ilə yox var ilə dəyişən elan edilməlidir"
   ]
  },
  {
   "cell_type": "code",
   "execution_count": 2,
   "metadata": {},
   "outputs": [
    {
     "name": "stdout",
     "output_type": "stream",
     "text": [
      "45\n"
     ]
    }
   ],
   "source": [
    "var h = 45\n",
    "//h:=5 //xeta\n",
    "func main(){\n",
    "\tfmt.Println(h)\n",
    "}"
   ]
  },
  {
   "cell_type": "markdown",
   "metadata": {},
   "source": [
    "### If Şərt bloku\n",
    "\n",
    "<pre>\n",
    "Bizim burda [ ] işarəsi daxilindəkilər buraxıla bilər\n",
    "\n",
    "if [Sadə elan kod \";\"] müqayisə və bul ifadəsi {\n",
    "\t//şərt ödəndikdə\n",
    "    kodlar...\n",
    "} [ else if müqayisə və bul ifadəsi {\n",
    "\t// ikinci şərt ödənildikdə\n",
    "    kodlar...\n",
    "} else if müqayisə və bul ifadəsi {\n",
    "\t// 3-cu şərt ödənildikdə\n",
    "    kodlar...\n",
    "....\n",
    "} else {\n",
    "    // digər hallarda\n",
    "\tkodlar...\n",
    "} ]\n",
    "\n",
    "Sadə kod elanı (Simple Statement) yerinə bunlar ola bilər:  \n",
    "     <b>Boşluq, İfadə, <- Kanal göndərməsi , ++ və ya -- operatoru,  Mənimsətmə, := ilə dəyişən elanı</b>\n",
    "</pre>"
   ]
  },
  {
   "cell_type": "markdown",
   "metadata": {},
   "source": [
    "<span style= \"color:red\">\n",
    "<pre>\n",
    "Go dilində fiqurlu mötərizələrin qoyulma qaydası pozula bilməz\n",
    "Məsələn\n",
    "if 5==5 {\n",
    "    fmt.Println(\"---\")\n",
    "}\n",
    "\n",
    "aşağıdakı kimi yazsaq xəta olacaq\n",
    "if 5==5 \n",
    "{\n",
    "    fmt.Println(\"---\")\n",
    "}\n",
    "</pre>\n",
    "</span>"
   ]
  },
  {
   "cell_type": "code",
   "execution_count": 3,
   "metadata": {},
   "outputs": [
    {
     "name": "stdout",
     "output_type": "stream",
     "text": [
      "--------\n"
     ]
    }
   ],
   "source": [
    "%%\n",
    "if 5==5 {\n",
    "\tfmt.Println(\"--------\")\n",
    "}"
   ]
  },
  {
   "cell_type": "code",
   "execution_count": 4,
   "metadata": {},
   "outputs": [
    {
     "data": {
      "text/html": [
       "\n",
       "<style>\n",
       ".gonb-error-location {\n",
       "\tbackground: var(--jp-error-color2);  \n",
       "\tborder-radius: 3px;\n",
       "\tborder-style: dotted;\n",
       "\tborder-width: 1px;\n",
       "\tborder-color: var(--jp-border-color2);\n",
       "}\n",
       ".gonb-error-location:hover {\n",
       "\tborder-width: 2px;\n",
       "\tborder-style: solid;\n",
       "\tborder-color: var(--jp-border-color2);\n",
       "}\n",
       ".gonb-error-context {\n",
       "\tdisplay: none;\n",
       "}\n",
       ".gonb-error-location:hover + .gonb-error-context {\n",
       "\tbackground: var(--jp-dialog-background);  \n",
       "\tborder-radius: 3px;\n",
       "\tborder-style: solid;\n",
       "\tborder-width: 1px;\n",
       "\tborder-color: var(--jp-border-color2);\n",
       "\tdisplay: block;\n",
       "\twhite-space: pre;\n",
       "\tfont-family: monospace;\n",
       "}\n",
       ".gonb-error-line {\n",
       "\tborder-radius: 3px;\n",
       "\tborder-style: dotted;\n",
       "\tborder-width: 1px;\t\n",
       "\tborder-color: var(--jp-border-color2);\n",
       "\tbackground-color: var(--jp-rendermime-error-background);\n",
       "\tfont-weight: bold;\n",
       "}\n",
       ".gonb-cell-line-info {\n",
       "\tbackground: var(--jp-layout-color2);\n",
       "\tcolor: #999;\n",
       "\tmargin: 0.1em;\n",
       "\tborder: 1px solid var(--jp-border-color1);\n",
       "\tpadding-left: 0.2em;\n",
       "\tpadding-right: 0.2em;\n",
       "}\n",
       "</style>\n",
       "<div class=\"lm-Widget p-Widget lm-Panel p-Panel jp-OutputArea-child\">\n",
       "<div class=\"lm-Widget p-Widget jp-RenderedText jp-mod-trusted jp-OutputArea-output\" data-mime-type=\"application/vnd.jupyter.stderr\" style=\"font-family: monospace;\">\n",
       "\n",
       "<span class=\"gonb-cell-line-info\">Cell[4]: Line 2</span>\n",
       "<span class=\"gonb-error-location\">/tmp/gonb_cc2f22da/main.go:4:1: </span> expected declaration, found 'if'\n",
       "<div class=\"gonb-error-context\">\n",
       "package main\n",
       "\n",
       "//xeta\n",
       "<div class=\"gonb-error-line\">if 5==5 \n",
       "</div>{\n",
       "\tfmt.Println(&#34;--------&#34;)\n",
       "\n",
       "</div>\n",
       "\n",
       "<br/>\n",
       "\n",
       "</div>\n"
      ]
     },
     "metadata": {},
     "output_type": "display_data"
    },
    {
     "ename": "ERROR",
     "evalue": "in goexec.ExecuteCell(): parsing go files in TempDir \"/tmp/gonb_cc2f22da\": /tmp/gonb_cc2f22da/main.go:4:1: expected declaration, found 'if'",
     "output_type": "error",
     "traceback": [
      "in goexec.ExecuteCell(): parsing go files in TempDir \"/tmp/gonb_cc2f22da\": /tmp/gonb_cc2f22da/main.go:4:1: expected declaration, found 'if'"
     ]
    }
   ],
   "source": [
    "//xeta\n",
    "if 5==5 \n",
    "{\n",
    "\tfmt.Println(\"--------\")\n",
    "}\n"
   ]
  },
  {
   "cell_type": "markdown",
   "metadata": {},
   "source": [
    "if Nümunələr"
   ]
  },
  {
   "cell_type": "code",
   "execution_count": null,
   "metadata": {},
   "outputs": [
    {
     "name": "stdout",
     "output_type": "stream",
     "text": [
      "7 < 12\n",
      "---Blokdan sonra----\n"
     ]
    }
   ],
   "source": [
    "%%\n",
    "if g:=7; g<12 {\n",
    "\tfmt.Println(g,\"<\", 12)\n",
    "}\n",
    "fmt.Println(\"---Blokdan sonra----\")"
   ]
  },
  {
   "cell_type": "code",
   "execution_count": null,
   "metadata": {},
   "outputs": [
    {
     "name": "stdout",
     "output_type": "stream",
     "text": [
      "---Blokdan sonra----\n"
     ]
    }
   ],
   "source": [
    "%%\n",
    "if g:=7; g>12 {\n",
    "\tfmt.Println(g,\">\", 12)\n",
    "}\n",
    "fmt.Println(\"---Blokdan sonra----\")"
   ]
  },
  {
   "cell_type": "code",
   "execution_count": null,
   "metadata": {},
   "outputs": [
    {
     "name": "stdout",
     "output_type": "stream",
     "text": [
      "7 > 12 deyil\n",
      "---Blokdan sonra----\n"
     ]
    }
   ],
   "source": [
    "%%\n",
    "var g = 7\n",
    "if g>12 {\n",
    "\tfmt.Println(g,\">\", 12)\n",
    "} else {\n",
    "\tfmt.Println(g,\">\", 12, \"deyil\")\n",
    "}\n",
    "fmt.Println(\"---Blokdan sonra----\")"
   ]
  },
  {
   "cell_type": "code",
   "execution_count": null,
   "metadata": {},
   "outputs": [
    {
     "name": "stdout",
     "output_type": "stream",
     "text": [
      "7 > 6\n",
      "---Blokdan sonra----\n"
     ]
    }
   ],
   "source": [
    "%%\n",
    "var g = 7\n",
    "if g>12 {\n",
    "\tfmt.Println(g,\">\", 12)\n",
    "} else if g>6{\n",
    "\tfmt.Println(g,\">\", 6)\n",
    "} \n",
    "fmt.Println(\"---Blokdan sonra----\")"
   ]
  },
  {
   "cell_type": "code",
   "execution_count": null,
   "metadata": {},
   "outputs": [
    {
     "name": "stdout",
     "output_type": "stream",
     "text": [
      "7 > 9 və ya 7 > 12 deyil\n",
      "---Blokdan sonra----\n"
     ]
    }
   ],
   "source": [
    "%% \n",
    "if g:=7;g>12 {\n",
    "\tfmt.Println(g,\">\", 12)\n",
    "} else if g>9{\n",
    "\tfmt.Println(g,\">\", 9)\n",
    "} else {\n",
    "\tfmt.Println(g,\">\", 9, \"və ya\", g, \">\", 12, \"deyil\")\n",
    "}\n",
    "fmt.Println(\"---Blokdan sonra----\")"
   ]
  },
  {
   "cell_type": "code",
   "execution_count": null,
   "metadata": {},
   "outputs": [
    {
     "name": "stdout",
     "output_type": "stream",
     "text": [
      "Cume\n"
     ]
    }
   ],
   "source": [
    "%%\n",
    "if gun:=5; gun==1{\n",
    "\tfmt.Println(\"Bazar ertesi\")\n",
    "} else if(gun==2){\n",
    "\tfmt.Println(\"Cersenbe axsami\")\n",
    "} else if(gun==3){\n",
    "\tfmt.Println(\"Cersenbe\")\n",
    "} else if(gun==4){\n",
    "\tfmt.Println(\"Cume axsami\")\n",
    "} else if(gun==5){\n",
    "\tfmt.Println(\"Cume\")\n",
    "} else if(gun==6){\n",
    "\tfmt.Println(\"Senbe\")\n",
    "} else if(gun==7){\n",
    "\tfmt.Println(\"Bazar\")\n",
    "} else  {\n",
    "\tfmt.Println(\"Hefte 7 gundur\")\n",
    "}"
   ]
  },
  {
   "cell_type": "markdown",
   "metadata": {},
   "source": [
    "#### Switch seçim və şərt bloku\n",
    "\n",
    "<pre>\n",
    "\n",
    "switch [Sadə elan \";\"] [ifadə] {  //Əgər ifadə yoxdursa bu true kimi qəbul olunur\n",
    "case ifadə listi:  \n",
    " kod...\n",
    " [fallthrough]\n",
    "[\n",
    "    case ifadə listi:\n",
    "      kod ...\n",
    "    ...\n",
    "]\n",
    "default: \n",
    "  kod...\n",
    "}\n",
    "\n",
    "ifadə listi müqayisə və bul operatorları və ya   \n",
    "Əgər yuxarıda switch-də dəyişən  varsa ona bərabər olanlar listi ola bilər.   \n",
    "Bu zaman fikir vermək lazımdır ki duplikatlar olmasın, çünki kompilyator tərəfindən qəbul edilməyəcək.\n",
    "\n",
    "default yəni heç biri olmadıqda həmin hissə yerinə yetirilir  \n",
    "\n",
    "fallthrough - Əgər bu qeyd edilsə, ondan sonra gələn case -də avtmomatik icra edilir\n",
    "\n",
    "switch c {\n",
    "    case 1:\n",
    "       fmt.Println(\"1\")\n",
    "    case 2,3,4:\n",
    "       fmt.Println(\"2,3,4\")\n",
    "    default:\n",
    "        fmt.Println(\"Digərləri\")\n",
    "}\n",
    "\n",
    "\n",
    "</pre>"
   ]
  },
  {
   "cell_type": "markdown",
   "metadata": {},
   "source": [
    "Nümunələrlə misal gətirək"
   ]
  },
  {
   "cell_type": "code",
   "execution_count": null,
   "metadata": {},
   "outputs": [
    {
     "name": "stdout",
     "output_type": "stream",
     "text": [
      "7 > 9 və ya 7 > 12 deyil\n"
     ]
    }
   ],
   "source": [
    "// if g:=7;g>12 {\n",
    "// \tfmt.Println(g,\">\", 12)\n",
    "// } else if g>9{\n",
    "// \tfmt.Println(g,\">\", 9)\n",
    "// } else {\n",
    "// \tfmt.Println(g,\">\", 9, \"və ya\", g, \">\", 12, \"deyil\")\n",
    "// }\n",
    "\n",
    "%%\n",
    "switch g:=7; {\n",
    "case g > 12:\n",
    "\tfmt.Println(g,\">\", 12)\n",
    "case g > 9 :\n",
    "\tfmt.Println(g,\">\", 9)\n",
    "default:\n",
    "\tfmt.Println(g,\">\", 9, \"və ya\", g, \">\", 12, \"deyil\")\n",
    "}"
   ]
  },
  {
   "cell_type": "code",
   "execution_count": null,
   "metadata": {},
   "outputs": [
    {
     "name": "stdout",
     "output_type": "stream",
     "text": [
      "10 > 9\n"
     ]
    }
   ],
   "source": [
    "%%\n",
    "var g = 10\n",
    "switch {\n",
    "case g > 12:\n",
    "\tfmt.Println(g,\">\", 12)\n",
    "case g > 9 :\n",
    "\tfmt.Println(g,\">\", 9)\n",
    "case g == 7 :\n",
    "\tfmt.Println(g, \"7 dir\")\n",
    "default:\n",
    "\tfmt.Println(g,\">\", 9, \"və ya\", g, \">\", 12, \"deyil\")\n",
    "}"
   ]
  },
  {
   "cell_type": "code",
   "execution_count": null,
   "metadata": {},
   "outputs": [
    {
     "name": "stdout",
     "output_type": "stream",
     "text": [
      "Cume\n"
     ]
    }
   ],
   "source": [
    "%%\n",
    "// if gun:=5; gun==1{\n",
    "// \tfmt.Println(\"Bazar ertesi\")\n",
    "// } else if(gun==2){\n",
    "// \tfmt.Println(\"Cersenbe axsami\")\n",
    "// } else if(gun==3){\n",
    "// \tfmt.Println(\"Cersenbe\")\n",
    "// } else if(gun==4){\n",
    "// \tfmt.Println(\"Cume axsami\")\n",
    "// } else if(gun==5){\n",
    "// \tfmt.Println(\"Cume\")\n",
    "// } else if(gun==6){\n",
    "// \tfmt.Println(\"Senbe\")\n",
    "// } else if(gun==7){\n",
    "// \tfmt.Println(\"Bazar\")\n",
    "// } else  {\n",
    "// \tfmt.Println(\"Hefte 7 gundur\")\n",
    "// }\n",
    "var gun = 5\n",
    "//switch gun:=5; gun {\n",
    "switch gun {\n",
    "case 1:\n",
    " \tfmt.Println(\"Bazar ertesi\")\n",
    "case 2:\n",
    "    fmt.Println(\"Cersenbe axsami\")\n",
    "case 3:\n",
    "    fmt.Println(\"Cersenbe\")\n",
    "case 4:\n",
    "    fmt.Println(\"Cume axsami\")\n",
    "case 5:\n",
    "    fmt.Println(\"Cume\")\n",
    "case 6:\n",
    "    fmt.Println(\"Senbe\")\n",
    "case 7:\n",
    "    fmt.Println(\"Bazar\")\n",
    "default:  \n",
    " \tfmt.Println(\"Hefte 7 gundur\") \n",
    "}"
   ]
  },
  {
   "cell_type": "code",
   "execution_count": null,
   "metadata": {},
   "outputs": [
    {
     "name": "stdout",
     "output_type": "stream",
     "text": [
      "is gunleri\n"
     ]
    }
   ],
   "source": [
    "%%\n",
    "switch gun:=4;gun {\n",
    "case 1,2,3,4,5:\n",
    "\tfmt.Println(\"is gunleri\")\n",
    "case 6:\n",
    "    fmt.Println(\"Senbe\")\n",
    "case 7:\n",
    "    fmt.Println(\"Bazar\")\n",
    "default:  \n",
    " \tfmt.Println(\"Hefte 7 gundur\") \n",
    "}"
   ]
  },
  {
   "cell_type": "code",
   "execution_count": null,
   "metadata": {},
   "outputs": [
    {
     "name": "stdout",
     "output_type": "stream",
     "text": [
      "Cume\n",
      "Senbe\n",
      "Bazar\n"
     ]
    }
   ],
   "source": [
    "%%\n",
    "switch gun:=5;gun {\n",
    "case 1,2,3,4 :\n",
    "\tfmt.Println(\"1,2,3,4\")\n",
    "case 5:\n",
    "\tfmt.Println(\"Cume\")\n",
    "\tfallthrough\n",
    "case 6:\n",
    "    fmt.Println(\"Senbe\")\n",
    "\tfallthrough\n",
    "case 7:\n",
    "    fmt.Println(\"Bazar\")\n",
    "default:  \n",
    " \tfmt.Println(\"Hefte 7 gundur\") \n",
    "}"
   ]
  },
  {
   "cell_type": "markdown",
   "metadata": {},
   "source": [
    "**(Type switch) Tip Switch bloku** və tip təyininə aid nümunə. \n",
    "<span style=\"color:red\"> Qeyd interface ve type assertions mövzusunda daha aydın olacaq.</span>\n",
    "\n",
    "<pre>\n",
    "Xüsusi Type switch\n",
    "\n",
    "x interface{} = menimsedilen dəyişən\n",
    "// adətən funskiya arqumenti kimi de vermek olur\n",
    "// func tipe_esasen_et(x interface{}) { }\n",
    "\n",
    "switch v := x.(type) {\n",
    "case T:\n",
    "    //  v T tipindedir\n",
    "case S:\n",
    "    //  v S tipindedir\n",
    "default:\n",
    "    // diger\n",
    "}\n",
    "\n",
    "<b>Burada adi switch-dən fərqli olaraq case x interfeysinə mənimsədilənin tipine uygun  bas verir</b>\n",
    "  := ilə həmin tipdə olan dəyişənə mənimsətmək olar\n",
    "  .(type)  bu switch-də  type assertion x.(T) siktaksisi ilə eyni olsa da x.(type) yəni <b>type sözünün işlətmək lazımdır</b>\n",
    "  case -də nil olub olmadığını yoxlamaq olur\n",
    "</pre>"
   ]
  },
  {
   "cell_type": "markdown",
   "metadata": {},
   "source": [
    "Əvvəlcə if else bloku və type Assertions ilə misala baxaq. Sonra onu Type Switch-lə daha qısa yazaq"
   ]
  },
  {
   "cell_type": "code",
   "execution_count": null,
   "metadata": {},
   "outputs": [
    {
     "name": "stdout",
     "output_type": "stream",
     "text": [
      "float64 3.56\n"
     ]
    }
   ],
   "source": [
    "%%\n",
    "var x interface{} = 3.56\n",
    "v := x  // x in qiymətini bir dəfə alırıq\n",
    "if v == nil {\n",
    "\ti := v                                 //  i-in tipi x (interface{}) esl tipi olacaq\n",
    "\tfmt.Println(\"x is nil\", i)\n",
    "} else if i, isInt := v.(int); isInt {\n",
    "\tfmt.Println(i)                            // i-in tipi: int\n",
    "} else if i, isFloat64 := v.(float64); isFloat64 {\n",
    "\tfmt.Println(\"float64\", i)                        // i-in tipi: float64\n",
    "} else if i, isFunc := v.(func(int) float64); isFunc {\n",
    "\tfmt.Printf(\"func(int) float64 : %T\\n\",i)                       // i-in tipi: func(int) float64\n",
    "} else {\n",
    "\t_, isBool := v.(bool)\n",
    "\t_, isString := v.(string)\n",
    "\tif isBool || isString {\n",
    "\t\ti := v                         // i-in tipi: x (interface{}) esl tipi olacaq\n",
    "\t\tfmt.Println(\"type  bool ve ya string -dir\", i)\n",
    "\t} else {\n",
    "\t\ti := v                         // i-in tipi: x (interface{}) esl tipi olacaq\n",
    "\t\tfmt.Println(\"bilinmeyen tip\", i)\n",
    "\t}\n",
    "}"
   ]
  },
  {
   "cell_type": "code",
   "execution_count": null,
   "metadata": {},
   "outputs": [
    {
     "name": "stdout",
     "output_type": "stream",
     "text": [
      "float64 3.56\n"
     ]
    }
   ],
   "source": [
    "%%\n",
    "var x interface{}= 3.56\n",
    "//Burada i:= deyiseni olsa da case tipe esasen bas verir\n",
    "switch i := x.(type) {\n",
    "case nil:\n",
    "\tfmt.Println(\"x is nil\", i)               //  i-in tipi x (interface{}) esl tipi olacaq\n",
    "case int:\n",
    "\tfmt.Println(i)                            // i-in tipi: int\n",
    "case float64:\n",
    "\tfmt.Println(\"float64\", i)                        // // i-in tipi: float64\n",
    "case func(int) float64:\n",
    "\tfmt.Printf(\"func(int) float64 : %T\\n\",i)  // i-in tipi: func(int) float64\n",
    "case bool, string:\n",
    "\tfmt.Println(\"type  bool ve ya string -dir\")  //  i-in tipi x (interface{}) esl tipi olacaq\n",
    "default:\n",
    "\tfmt.Println(\"bilinmeyen tip\")     //  i-in tipi x (interface{}) esl tipi olacaq\n",
    "}"
   ]
  },
  {
   "cell_type": "code",
   "execution_count": null,
   "metadata": {},
   "outputs": [
    {
     "name": "stdout",
     "output_type": "stream",
     "text": [
      "Metn"
     ]
    }
   ],
   "source": [
    "%%\n",
    "var i interface{} = \"salam\"\n",
    "switch i.(type) {\n",
    "case int:\n",
    "\tfmt.Printf(\"Tam eded\")\n",
    "case string:\n",
    "\tfmt.Printf(\"Metn\")\n",
    "default:\n",
    "\tfmt.Printf(\"diger tip\")\n",
    "}"
   ]
  },
  {
   "cell_type": "markdown",
   "metadata": {},
   "source": [
    "### For dövrlər\n",
    "<pre>\n",
    "\n",
    "for [muqayise] { \n",
    "     //muqayise buraxildiqda true olduğu üçün dövr daimi olur for true {}. dövrdən çıxma daxildə müəyyən edilə bilinər\n",
    "    kod...\n",
    "}\n",
    "//SadeKod: Sadə kod elanı (Simple Statement) \n",
    "for [dövrün əvvəlində icra edilən SadeKod] ; [muqayise]; [blok sonunda olan hər dəfə icra edilən SadeKod]{\n",
    "    //burada da hər hansı hissə buraxıla bilər. for ;; { } elə for {} for true{} kimi olacaq\n",
    "    kod...\n",
    "}\n",
    "//range ifadesi array string map channel ola bilər\n",
    "//string olduqda bu metni emele getiren simvollar olacaq\n",
    "for [deyisenler, := ] range ifade {\n",
    "    \n",
    "\n",
    "}\n",
    "<span style=\"color:red\">String tipinden digerlerinə nümunə həmin tipdə göstəriləcək</span>\n",
    "\n",
    "break [label]  bu ifadə blok daxilindən çıxmaq üçün istifadə olunur. \n",
    "Əgər label olsa çıxma həmin labelə edilir\n",
    "label bu cür verilir:\n",
    "// Ad ve iki nöqtə :\n",
    "Label_adi:\n",
    "continue [label]  bu ifadə blok daxilindən ondan sonra gələnləri adlayaraq davam etmək üçün istifadə olunur. \n",
    "Əgər label olsa həmin labelə edilir\n",
    "\n",
    "\n",
    "</pre>"
   ]
  },
  {
   "cell_type": "code",
   "execution_count": null,
   "metadata": {},
   "outputs": [
    {
     "name": "stdout",
     "output_type": "stream",
     "text": [
      "0, 1, 2, 3, 4, \n",
      "-------\n"
     ]
    }
   ],
   "source": [
    "%%\n",
    "i:=0\n",
    "for i<5 {\n",
    "\tfmt.Print(i, \", \")\n",
    "\ti+=1\n",
    "}\n",
    "fmt.Println(\"\\n-------\")"
   ]
  },
  {
   "cell_type": "code",
   "execution_count": null,
   "metadata": {},
   "outputs": [
    {
     "name": "stdout",
     "output_type": "stream",
     "text": [
      "0, 1, 2, 3, 4, \n",
      "-------\n"
     ]
    }
   ],
   "source": [
    "%%\n",
    "i:=0\n",
    "for  {\n",
    "\tfmt.Print(i, \", \")\n",
    "\ti+=1\n",
    "\tif i>4 {\n",
    "\t\tbreak;\n",
    "\t}\n",
    "}\n",
    "fmt.Println(\"\\n-------\")"
   ]
  },
  {
   "cell_type": "code",
   "execution_count": null,
   "metadata": {},
   "outputs": [
    {
     "name": "stdout",
     "output_type": "stream",
     "text": [
      "0, 1, 2, 3, 4, \n",
      "-------\n"
     ]
    }
   ],
   "source": [
    "%% \n",
    "for i:=0;i<5; i++{\n",
    "\tfmt.Print(i, \", \")\n",
    "}\n",
    "fmt.Println(\"\\n-------\")"
   ]
  },
  {
   "cell_type": "code",
   "execution_count": null,
   "metadata": {},
   "outputs": [
    {
     "name": "stdout",
     "output_type": "stream",
     "text": [
      "0, 1, 1 tek ededdir 2, 3, 3 tek ededdir 4, \n",
      "-------\n"
     ]
    }
   ],
   "source": [
    "%% \n",
    "for i:=0;i<5; i++{\n",
    "\tfmt.Print(i, \", \")\n",
    "    if i %2 == 0 {\n",
    "\t\tcontinue\n",
    "\t}\n",
    "\tfmt.Print(i, \" tek ededdir \")\n",
    "\n",
    "}\n",
    "fmt.Println(\"\\n-------\")"
   ]
  },
  {
   "cell_type": "code",
   "execution_count": null,
   "metadata": {},
   "outputs": [
    {
     "name": "stdout",
     "output_type": "stream",
     "text": [
      "0 1 2 3 4 \n",
      "-------\n",
      "10 11 12 13 14 \n",
      "-------\n",
      "--~~~---\n"
     ]
    }
   ],
   "source": [
    "%%\n",
    "for i:=0;i<2; i++{\n",
    "\tfor j:=0;j<5; j++{\n",
    "\t\tfmt.Print(i*10 + j, \" \") \n",
    "\t}\n",
    "\tfmt.Println(\"\\n-------\")\n",
    "}\n",
    "fmt.Println(\"--~~~---\")"
   ]
  },
  {
   "cell_type": "code",
   "execution_count": null,
   "metadata": {},
   "outputs": [
    {
     "name": "stdout",
     "output_type": "stream",
     "text": [
      "0 1 2 3 \n",
      "-------\n",
      "10 11 12 13 \n",
      "-------\n",
      "--~~~---\n"
     ]
    }
   ],
   "source": [
    "%%\n",
    "for i:=0;i<2; i++{\n",
    "\tfor j:=0;j<5; j++{\n",
    "\t\tfmt.Print(i*10 + j, \" \") \n",
    "\t\tif (j>2) {\n",
    "\t\t\tbreak; //j for-undan cixir\n",
    "\t\t}\n",
    "\t}\n",
    "\tfmt.Println(\"\\n-------\")\n",
    "}\n",
    "fmt.Println(\"--~~~---\")"
   ]
  },
  {
   "cell_type": "code",
   "execution_count": null,
   "metadata": {},
   "outputs": [
    {
     "name": "stdout",
     "output_type": "stream",
     "text": [
      "0 1 2 3 --~~~---\n"
     ]
    }
   ],
   "source": [
    "%%\n",
    "Label1:\n",
    "for i:=0;i<2; i++{\n",
    "\tfor j:=0;j<5; j++{\n",
    "\t\tfmt.Print(i*10 + j, \" \") \n",
    "\t\tif (j>2) {\n",
    "\t\t\tbreak Label1; //tam for-dan chixir\n",
    "\t\t\t//Qeyd baxmayaraq Label1 for-dan üstdədir   bir daha for-un içinə girmir\n",
    "\t\t}\n",
    "\t}\n",
    "\tfmt.Println(\"\\n-------\")\n",
    "}\n",
    "fmt.Println(\"--~~~---\")"
   ]
  },
  {
   "cell_type": "code",
   "execution_count": null,
   "metadata": {},
   "outputs": [
    {
     "name": "stdout",
     "output_type": "stream",
     "text": [
      "0 1 2 \n",
      "-------\n",
      "10 11 12 \n",
      "-------\n",
      "--~~~---\n"
     ]
    }
   ],
   "source": [
    "%%\n",
    "for i:=0;i<2; i++{\n",
    "\tfor j:=0;j<5; j++{\n",
    "\t\tif (j>2) {\n",
    "\t\t\tcontinue; \n",
    "\t\t}\n",
    "\t\tfmt.Print(i*10 + j, \" \") \n",
    "\n",
    "\t}\n",
    "\tfmt.Println(\"\\n-------\")\n",
    "}\n",
    "fmt.Println(\"--~~~---\")"
   ]
  },
  {
   "cell_type": "code",
   "execution_count": null,
   "metadata": {},
   "outputs": [
    {
     "name": "stdout",
     "output_type": "stream",
     "text": [
      "0 1 2 10 11 12 --~~~---\n"
     ]
    }
   ],
   "source": [
    "%%\n",
    "Label1:\n",
    "for i:=0;i<2; i++{\n",
    "\tfor j:=0;j<5; j++{\n",
    "\t\tif (j>2) {\n",
    "\t\t\tcontinue Label1; //ust for-ile davam edir \n",
    "\t\t\t//neticede fmt.Println(\"\\n-------\") hec vaxt gorunmur\n",
    "\t\t}\n",
    "\t\tfmt.Print(i*10 + j, \" \")\n",
    "\n",
    "\t}\n",
    "\tfmt.Println(\"\\n-------\")\n",
    "}\n",
    "fmt.Println(\"--~~~---\")"
   ]
  },
  {
   "cell_type": "code",
   "execution_count": 11,
   "metadata": {},
   "outputs": [
    {
     "name": "stdout",
     "output_type": "stream",
     "text": [
      "0 + 10 == 10, 1 + 9 == 10, 2 + 8 == 10, 3 + 7 == 10, 4 + 6 == 10, 5 + 5 == 10, 6 + 4 == 10, 7 + 3 == 10, 8 + 2 == 10, 9 + 1 == 10, \n",
      "---------\n"
     ]
    }
   ],
   "source": [
    "%%\n",
    "for i, j := 0, 10; i < 10; i, j = i+1, j-1 {\n",
    "\tfmt.Print(i , \" + \", j, \" == 10, \")\n",
    "}\n",
    "fmt.Println(\"\\n---------\")"
   ]
  },
  {
   "cell_type": "markdown",
   "metadata": {},
   "source": [
    "Goto Şərtsiz keçid.\n",
    "\n",
    "goto label  \n",
    "\n",
    "Fikir vermək lazımdır ki bu zaman hansısa dəyişən elanı kənarda qalmasın   \n",
    "<pre>\n",
    "goto L  // Xəta\n",
    "\tv := 3\n",
    "L:\n",
    "\n",
    "Həmçinin bir blokun içindən digər blokun( qonşu blokdursa) içinə necə gəldi atlanma mümkün deyil.\n",
    "\n",
    "{\n",
    "    got L\n",
    "}\n",
    "{\n",
    "    L:\n",
    "    fmt.Println(\"__\")\n",
    "}\n",
    "</pre>\n",
    "\n",
    "Baxmayaraq goto şərtsiz keçiddir onu şərtlə birləşdirə edə bilərik  \n"
   ]
  },
  {
   "cell_type": "code",
   "execution_count": null,
   "metadata": {},
   "outputs": [
    {
     "data": {
      "text/html": [
       "\n",
       "<style>\n",
       ".gonb-error-location {\n",
       "\tbackground: var(--jp-error-color2);  \n",
       "\tborder-radius: 3px;\n",
       "\tborder-style: dotted;\n",
       "\tborder-width: 1px;\n",
       "\tborder-color: var(--jp-border-color2);\n",
       "}\n",
       ".gonb-error-location:hover {\n",
       "\tborder-width: 2px;\n",
       "\tborder-style: solid;\n",
       "\tborder-color: var(--jp-border-color2);\n",
       "}\n",
       ".gonb-error-context {\n",
       "\tdisplay: none;\n",
       "}\n",
       ".gonb-error-location:hover + .gonb-error-context {\n",
       "\tbackground: var(--jp-dialog-background);  \n",
       "\tborder-radius: 3px;\n",
       "\tborder-style: solid;\n",
       "\tborder-width: 1px;\n",
       "\tborder-color: var(--jp-border-color2);\n",
       "\tdisplay: block;\n",
       "\twhite-space: pre;\n",
       "\tfont-family: monospace;\n",
       "}\n",
       ".gonb-error-line {\n",
       "\tborder-radius: 3px;\n",
       "\tborder-style: dotted;\n",
       "\tborder-width: 1px;\t\n",
       "\tborder-color: var(--jp-border-color2);\n",
       "\tbackground-color: var(--jp-rendermime-error-background);\n",
       "\tfont-weight: bold;\n",
       "}\n",
       ".gonb-cell-line-info {\n",
       "\tbackground: var(--jp-layout-color2);\n",
       "\tcolor: #999;\n",
       "\tmargin: 0.1em;\n",
       "\tborder: 1px solid var(--jp-border-color1);\n",
       "\tpadding-left: 0.2em;\n",
       "\tpadding-right: 0.2em;\n",
       "}\n",
       "</style>\n",
       "<div class=\"lm-Widget p-Widget lm-Panel p-Panel jp-OutputArea-child\">\n",
       "<div class=\"lm-Widget p-Widget jp-RenderedText jp-mod-trusted jp-OutputArea-output\" data-mime-type=\"application/vnd.jupyter.stderr\" style=\"font-family: monospace;\">\n",
       "\n",
       "\n",
       "<span style=\"white-space: pre;\"> # gonb_5bb6b08a</span>\n",
       "\n",
       "<br/>\n",
       "\n",
       "<span class=\"gonb-cell-line-info\">Cell[249]: Line 2</span>\n",
       "<span class=\"gonb-error-location\">./main.go:14:7: </span> goto L jumps over declaration of v at ./main.go:15:5\n",
       "<div class=\"gonb-error-context\">\n",
       "\n",
       "func main() {\n",
       "\tflag.Parse()\n",
       "<div class=\"gonb-error-line\">\tgoto L  // Xəta\n",
       "</div>\t\tv := 3\n",
       "\tL:\n",
       "\n",
       "</div>\n",
       "\n",
       "<br/>\n",
       "\n",
       "<span class=\"gonb-cell-line-info\">Cell[249]: Line 3</span>\n",
       "<span class=\"gonb-error-location\">./main.go:15:3: </span> v declared and not used\n",
       "<div class=\"gonb-error-context\">\n",
       "func main() {\n",
       "\tflag.Parse()\n",
       "\tgoto L  // Xəta\n",
       "<div class=\"gonb-error-line\">\t\tv := 3\n",
       "</div>\tL:\n",
       "\n",
       "\n",
       "</div>\n",
       "\n",
       "<br/>\n",
       "\n",
       "\n",
       "<span style=\"white-space: pre;\"> </span>\n",
       "\n",
       "<br/>\n",
       "\n",
       "</div>\n"
      ]
     },
     "metadata": {},
     "output_type": "display_data"
    },
    {
     "ename": "ERROR",
     "evalue": "failed to run \"/usr/local/go/bin/go build -o /tmp/gonb_5bb6b08a/gonb_5bb6b08a\": exit status 1",
     "output_type": "error",
     "traceback": [
      "failed to run \"/usr/local/go/bin/go build -o /tmp/gonb_5bb6b08a/gonb_5bb6b08a\": exit status 1"
     ]
    }
   ],
   "source": [
    "%%\n",
    "goto L  // Xəta\n",
    "\tv := 3\n",
    "L:"
   ]
  },
  {
   "cell_type": "code",
   "execution_count": null,
   "metadata": {},
   "outputs": [
    {
     "data": {
      "text/html": [
       "\n",
       "<style>\n",
       ".gonb-error-location {\n",
       "\tbackground: var(--jp-error-color2);  \n",
       "\tborder-radius: 3px;\n",
       "\tborder-style: dotted;\n",
       "\tborder-width: 1px;\n",
       "\tborder-color: var(--jp-border-color2);\n",
       "}\n",
       ".gonb-error-location:hover {\n",
       "\tborder-width: 2px;\n",
       "\tborder-style: solid;\n",
       "\tborder-color: var(--jp-border-color2);\n",
       "}\n",
       ".gonb-error-context {\n",
       "\tdisplay: none;\n",
       "}\n",
       ".gonb-error-location:hover + .gonb-error-context {\n",
       "\tbackground: var(--jp-dialog-background);  \n",
       "\tborder-radius: 3px;\n",
       "\tborder-style: solid;\n",
       "\tborder-width: 1px;\n",
       "\tborder-color: var(--jp-border-color2);\n",
       "\tdisplay: block;\n",
       "\twhite-space: pre;\n",
       "\tfont-family: monospace;\n",
       "}\n",
       ".gonb-error-line {\n",
       "\tborder-radius: 3px;\n",
       "\tborder-style: dotted;\n",
       "\tborder-width: 1px;\t\n",
       "\tborder-color: var(--jp-border-color2);\n",
       "\tbackground-color: var(--jp-rendermime-error-background);\n",
       "\tfont-weight: bold;\n",
       "}\n",
       ".gonb-cell-line-info {\n",
       "\tbackground: var(--jp-layout-color2);\n",
       "\tcolor: #999;\n",
       "\tmargin: 0.1em;\n",
       "\tborder: 1px solid var(--jp-border-color1);\n",
       "\tpadding-left: 0.2em;\n",
       "\tpadding-right: 0.2em;\n",
       "}\n",
       "</style>\n",
       "<div class=\"lm-Widget p-Widget lm-Panel p-Panel jp-OutputArea-child\">\n",
       "<div class=\"lm-Widget p-Widget jp-RenderedText jp-mod-trusted jp-OutputArea-output\" data-mime-type=\"application/vnd.jupyter.stderr\" style=\"font-family: monospace;\">\n",
       "\n",
       "\n",
       "<span style=\"white-space: pre;\"> # gonb_5bb6b08a</span>\n",
       "\n",
       "<br/>\n",
       "\n",
       "<span class=\"gonb-cell-line-info\">Cell[251]: Line 3</span>\n",
       "<span class=\"gonb-error-location\">./main.go:16:11: </span> goto L jumps into block starting at ./main.go:18:2\n",
       "<div class=\"gonb-error-context\">\n",
       "func main() {\n",
       "\tflag.Parse()\n",
       "\t{\n",
       "<div class=\"gonb-error-line\">\t    goto L\n",
       "</div>\t}\n",
       "\t{\n",
       "\n",
       "</div>\n",
       "\n",
       "<br/>\n",
       "\n",
       "\n",
       "<span style=\"white-space: pre;\"> </span>\n",
       "\n",
       "<br/>\n",
       "\n",
       "</div>\n"
      ]
     },
     "metadata": {},
     "output_type": "display_data"
    },
    {
     "ename": "ERROR",
     "evalue": "failed to run \"/usr/local/go/bin/go build -o /tmp/gonb_5bb6b08a/gonb_5bb6b08a\": exit status 1",
     "output_type": "error",
     "traceback": [
      "failed to run \"/usr/local/go/bin/go build -o /tmp/gonb_5bb6b08a/gonb_5bb6b08a\": exit status 1"
     ]
    }
   ],
   "source": [
    "%%\n",
    "{\n",
    "    goto L\n",
    "}\n",
    "{\n",
    "    L:\n",
    "    fmt.Println(\"__\")\n",
    "}"
   ]
  },
  {
   "cell_type": "code",
   "execution_count": 6,
   "metadata": {},
   "outputs": [
    {
     "name": "stdout",
     "output_type": "stream",
     "text": [
      "a\n",
      "c\n"
     ]
    }
   ],
   "source": [
    "%%\n",
    "fmt.Println(\"a\")\n",
    "    goto SON\n",
    "    fmt.Println(\"b\")\n",
    "SON:\n",
    "    fmt.Println(\"c\")"
   ]
  },
  {
   "cell_type": "code",
   "execution_count": 5,
   "metadata": {},
   "outputs": [
    {
     "name": "stdout",
     "output_type": "stream",
     "text": [
      "0, 1, 2, 3, 4, 5, 6, 7, 8, 9, \n",
      "-----\n"
     ]
    }
   ],
   "source": [
    "%%\n",
    "// for i:=0;i<10;i++{\n",
    "// \tfmt.Print(i, \", \")\n",
    "// }\n",
    "\n",
    "i:=0\n",
    "start:\n",
    "fmt.Print(i, \", \")\n",
    "i++\n",
    "if i<10 {\n",
    "\tgoto start\n",
    "}\n",
    "fmt.Println(\"\\n-----\")"
   ]
  }
 ],
 "metadata": {
  "kernelspec": {
   "display_name": "Go (gonb)",
   "language": "go",
   "name": "gonb"
  },
  "language_info": {
   "codemirror_mode": "",
   "file_extension": ".go",
   "mimetype": "",
   "name": "go",
   "nbconvert_exporter": "",
   "pygments_lexer": "",
   "version": "go1.20.5"
  },
  "orig_nbformat": 4
 },
 "nbformat": 4,
 "nbformat_minor": 2
}
