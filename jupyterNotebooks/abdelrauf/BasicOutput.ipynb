{
 "cells": [
  {
   "attachments": {},
   "cell_type": "markdown",
   "metadata": {},
   "source": [
    "### BASIC INPUT OUTPUT"
   ]
  },
  {
   "attachments": {},
   "cell_type": "markdown",
   "metadata": {},
   "source": [
    "Sade konsola giris çıxış əmirlərini öyərənək. Ümumən isə stdin stderr stdout söhbəti qısa şərh edək"
   ]
  },
  {
   "attachments": {},
   "cell_type": "markdown",
   "metadata": {},
   "source": [
    "Proses yarananda 3 standard fayl stream-i ona bağlanir\n",
    "- 0 - stdin  \n",
    "- 1 - stdout   \n",
    "- 2 - stderr   \n",
    "\n"
   ]
  },
  {
   "attachments": {},
   "cell_type": "markdown",
   "metadata": {},
   "source": [
    "<pre>\n",
    "             |         |    -> stdout\n",
    "stdin  --->  | proqram |\n",
    "             |         |    -> stderr\n",
    "\n",
    "</pre>"
   ]
  },
  {
   "attachments": {},
   "cell_type": "markdown",
   "metadata": {},
   "source": [
    "Sadə halda \n",
    "\n",
    "stdin adi halda keyboarda    \n",
    "stdout - konsol ekranına   \n",
    "stderr - konsol ekranına  bağlanır\n"
   ]
  },
  {
   "attachments": {},
   "cell_type": "markdown",
   "metadata": {},
   "source": [
    "Shell-de program run edildikde Bunu ferqli yerlere de baglamaq olur.\n",
    "\n",
    "Meselen:   \n",
    "\n",
    "./bizim_program  <input_fayl.txt   1>output.txt  2> error.txt   \n",
    "\n",
    "Burada \n",
    "\n",
    "stdin - input_fayl.txt   \n",
    "stdout - output.txt  \n",
    "stderr - error.txt faylina bağlanır\n"
   ]
  },
  {
   "attachments": {},
   "cell_type": "markdown",
   "metadata": {},
   "source": [
    "#### Golang -de output"
   ]
  },
  {
   "attachments": {},
   "cell_type": "markdown",
   "metadata": {},
   "source": [
    "Bunun üçün \"fmt\" standard kitabxanadan istifade edirik"
   ]
  },
  {
   "cell_type": "code",
   "execution_count": 1,
   "metadata": {},
   "outputs": [],
   "source": [
    "import \"fmt\""
   ]
  },
  {
   "attachments": {},
   "cell_type": "markdown",
   "metadata": {},
   "source": [
    "Indi ise ekrana nese verek\n",
    "fmt.Println - ekrana deyisenleri eks etdirir. Qeyd edek ki o deyishenlerin arasina \" \" boshluq elave edecek. Ve hemchinin ln -de yeni setir elave edir"
   ]
  },
  {
   "cell_type": "code",
   "execution_count": 2,
   "metadata": {},
   "outputs": [
    {
     "name": "stdout",
     "output_type": "stream",
     "text": [
      "Hello WORLD Pi 3.14\n",
      "Hello WORLD Pi 3.14\n"
     ]
    }
   ],
   "source": [
    "%%\n",
    "fmt.Println(\"Hello\",\"WORLD\", \"Pi\", 3.14)\n",
    "fmt.Println(\"Hello\",\"WORLD\", \"Pi\", 3.14)"
   ]
  },
  {
   "attachments": {},
   "cell_type": "markdown",
   "metadata": {},
   "source": [
    "Print - de eyni ishi gorur amma sona yeni setir ve bosluqlari elave etmir elave etmir"
   ]
  },
  {
   "cell_type": "code",
   "execution_count": 3,
   "metadata": {},
   "outputs": [
    {
     "name": "stdout",
     "output_type": "stream",
     "text": [
      "HelloWORLDPi3.14HelloWORLDPi3.14"
     ]
    }
   ],
   "source": [
    "%%\n",
    "fmt.Print(\"Hello\",\"WORLD\", \"Pi\", 3.14)\n",
    "fmt.Print(\"Hello\",\"WORLD\", \"Pi\", 3.14)"
   ]
  },
  {
   "attachments": {},
   "cell_type": "markdown",
   "metadata": {},
   "source": [
    "Eyni sheyi etmek uchun ozumuz etmeliyik. \"\\n\" - yeni setirdir \" \" - boshluqdur"
   ]
  },
  {
   "cell_type": "code",
   "execution_count": 4,
   "metadata": {},
   "outputs": [
    {
     "name": "stdout",
     "output_type": "stream",
     "text": [
      "Hello WORLD Pi 3.14\n",
      "Hello WORLD Pi 3.14\n"
     ]
    }
   ],
   "source": [
    "%%\n",
    "fmt.Print(\"Hello \",\"WORLD \", \"Pi \", 3.14, \"\\n\")\n",
    "fmt.Print(\"Hello \",\"WORLD \", \"Pi \", 3.14, \"\\n\")"
   ]
  },
  {
   "attachments": {},
   "cell_type": "markdown",
   "metadata": {},
   "source": [
    "##### Formatli print uchun fmt.Printf"
   ]
  },
  {
   "attachments": {},
   "cell_type": "markdown",
   "metadata": {},
   "source": [
    "Bezi Formatlara baxaq:"
   ]
  },
  {
   "attachments": {},
   "cell_type": "markdown",
   "metadata": {},
   "source": [
    "|  format |  menasi |\n",
    "|---|---|\n",
    "| %b  |  ikili sayda eks etdirmek |\n",
    "| %o  |  8-lik say sisteminde |\n",
    "|  %O | 8-lik say sistemi o prefixi ile  |\n",
    "| %d  |  10-lu sayda  |\n",
    "|  %x |  16-liq sayda eks etdirir 0-9A-F|\n",
    "| %X  | 16-liq say  |\n",
    "|  %g |  onluq kesr ededleri kimi eks etdirmek |\n",
    "|  %s |  metn ve simvollar ardicilligi |\n",
    "|  %t |  bul üçün true false eks etdirir |\n",
    "|%e| elmi riyazi formatda|\n",
    "|%v | default tipin formatina uygun|\n",
    "|\t%#v | Go sintaksis formatina uygun eks|\n",
    "|%T | arqumentin Tipi|\n",
    "|%c | simvol |\n",
    "|%q|  dirnaqda simvol|\n",
    "|%u| unikod|\n",
    "|%p| pointer eks etdirir|\n"
   ]
  },
  {
   "cell_type": "markdown",
   "metadata": {},
   "source": []
  },
  {
   "cell_type": "code",
   "execution_count": 5,
   "metadata": {},
   "outputs": [
    {
     "name": "stdout",
     "output_type": "stream",
     "text": [
      "Format li eks 3, 3.85, 3.850000e+00, Metn, 3.85, Metn , 3.85, float64,\n"
     ]
    }
   ],
   "source": [
    "%%\n",
    "h:=3.85\n",
    "metn:=\"Metn\"\n",
    "\n",
    "fmt.Printf(\"Format li eks %d, %g, %e, %s, %v, %v , %#v, %T,\\n\", int(h), h, h, metn, h, metn, h, h)"
   ]
  },
  {
   "attachments": {},
   "cell_type": "markdown",
   "metadata": {},
   "source": [
    "Formatda da ededler uchun %+d qoysaq isareni de gosterecek\n",
    "BUndan elave asagidaki deyishme usullarini da formatlara tetbiq etmek olar. Qeyd (_ isahresi boshlugu ve sixmani gostermek uchundur)\n",
    "\n",
    "|  Goruntu | FormatNumune  | Izah   |\n",
    "|---|---|---|\n",
    "| +24  |  %+d |  isareli eded ,yalniz edede aiddir |\n",
    "| __20  | %{n}d , %4d | 4 sayda olub saga sixir yazini   |\n",
    "| 15__  |  %-{n}d |  n sayda sola sixir ()  |\n",
    "|  0025 | %0{n}d  | n sayda 0 elave edir (eded formatina aiddir) |\n",
    "|122.15   | %.{n}f ,%.2f  |  n sayda onluqdan sonraki kesir hisse sayi, (kesir edede aiddir) |\n",
    "| __122.46  |   %{n}.{m}f| n sayda umumi uzunluq sayi, m sayda   kesir hisse sayi (kesir edede aiddir) |\n"
   ]
  },
  {
   "cell_type": "code",
   "execution_count": 6,
   "metadata": {},
   "outputs": [
    {
     "name": "stdout",
     "output_type": "stream",
     "text": [
      "   Al |   sat | 3.45000 \n",
      "  Vur |   yix | 3.45000 \n"
     ]
    }
   ],
   "source": [
    "%%\n",
    "fmt.Printf(\"%5s | %5s | %7.5f \\n\",\"Al\", \"sat\", 3.45)\n",
    "fmt.Printf(\"%5s | %5s | %7.5f \\n\",\"Vur\", \"yix\", 3.45)"
   ]
  },
  {
   "cell_type": "code",
   "execution_count": 7,
   "metadata": {},
   "outputs": [
    {
     "name": "stdout",
     "output_type": "stream",
     "text": [
      "Al    | sat   | 3.45000 \n",
      "Vur   | yix   | 3.45000 \n"
     ]
    }
   ],
   "source": [
    "%%\n",
    "//sola sixilmis, saga bosluq elave etmekle\n",
    "fmt.Printf(\"%-5s | %-5s | %7.5f \\n\",\"Al\", \"sat\", 3.45)\n",
    "fmt.Printf(\"%-5s | %-5s | %7.5f \\n\",\"Vur\", \"yix\", 3.45)"
   ]
  },
  {
   "attachments": {},
   "cell_type": "markdown",
   "metadata": {},
   "source": [
    "##### Bes nece edek ki stdout, stderr-i ozumuz sechek (Qeyd bu hemçinin öz açdığın fayla da aiddir)\n",
    "Bunun üçün Fprintf -dən istifadə edirik. Ve stdout stdin i vermek üçün    \n",
    "os paketini import edek\n",
    "Əslən Printf ele Fprintf stdout -dur"
   ]
  },
  {
   "cell_type": "code",
   "execution_count": 8,
   "metadata": {},
   "outputs": [],
   "source": [
    "import \"os\""
   ]
  },
  {
   "cell_type": "code",
   "execution_count": 9,
   "metadata": {},
   "outputs": [
    {
     "name": "stderr",
     "output_type": "stream",
     "text": [
      "Hello stderr\n"
     ]
    },
    {
     "name": "stdout",
     "output_type": "stream",
     "text": [
      "Hello stdout\n"
     ]
    }
   ],
   "source": [
    "%%\n",
    "fmt.Fprintln(os.Stdout, \"Hello stdout\")\n",
    "fmt.Fprintln(os.Stderr, \"Hello stderr\")"
   ]
  },
  {
   "attachments": {},
   "cell_type": "markdown",
   "metadata": {},
   "source": [
    "Eger komandamizi icra etsek 1> ile stdout-a yazilana basqa fayla 2> ile ise stderr-i basqa fayla yaz bileceyik.\n",
    "\n",
    "Qeyd linux, windows komanda cagirmalari, redirection bolmesini oxuyun"
   ]
  }
 ],
 "metadata": {
  "kernelspec": {
   "display_name": "Go (gonb)",
   "language": "go",
   "name": "gonb"
  },
  "language_info": {
   "codemirror_mode": "",
   "file_extension": ".go",
   "mimetype": "",
   "name": "go",
   "nbconvert_exporter": "",
   "pygments_lexer": "",
   "version": "go1.20.5"
  },
  "orig_nbformat": 4
 },
 "nbformat": 4,
 "nbformat_minor": 2
}
