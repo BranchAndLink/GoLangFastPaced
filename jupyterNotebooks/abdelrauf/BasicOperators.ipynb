{
 "cells": [
  {
   "cell_type": "markdown",
   "metadata": {},
   "source": [
    "## Sadə Operatorlar\n",
    "\n",
    "\n",
    "iki operand (əməl həyata keçirilən dəyişən ədəd və s) işlədilən operatorlara **binary operator**lar deyirik.     \n",
    "Məsələn toplama iki ədədin arasında işlədilir 5 + 9   \n",
    "tək operandın önündə işlənə bilən operatorlara **unary operator**lar deyirik.    \n",
    "Məsələn mənfi işarəsi  -8"
   ]
  },
  {
   "cell_type": "markdown",
   "metadata": {},
   "source": [
    "#### Hesablama operatorları"
   ]
  },
  {
   "cell_type": "markdown",
   "metadata": {},
   "source": [
    "+,-,*,/,%, ++, --"
   ]
  },
  {
   "cell_type": "markdown",
   "metadata": {},
   "source": [
    "+ bütün ədəd tipləri üçün işləyir və toplamadır.  <span style=\"color:red\">string tipi üçün də işləyir  lakin **birləşdirmə** əməliyyatı aparır</span>"
   ]
  },
  {
   "cell_type": "code",
   "execution_count": 364,
   "metadata": {},
   "outputs": [
    {
     "name": "stdout",
     "output_type": "stream",
     "text": [
      "11 12.37 Learn-Go (12+9i)\n"
     ]
    }
   ],
   "source": [
    "%%\n",
    "var (\n",
    "\ta ,b int = 5 ,6\n",
    "\tc, d float32 =  4.5, 7.87\n",
    "\te, h complex64 = 5, 7+9i\n",
    "\tm1, m2 = \"Learn-\", \"Go\"\n",
    ")\n",
    "\n",
    "fmt.Println(a+b, c + d, m1 + m2, e  + h)"
   ]
  },
  {
   "cell_type": "markdown",
   "metadata": {},
   "source": [
    "% modul bildirir və yalnız **tam ədədlər** üçün işləyir"
   ]
  },
  {
   "cell_type": "code",
   "execution_count": 365,
   "metadata": {},
   "outputs": [
    {
     "name": "stdout",
     "output_type": "stream",
     "text": [
      "2\n"
     ]
    }
   ],
   "source": [
    "%%\n",
    "d, m := 12 , 5\n",
    "\n",
    "fmt.Println(d%m)"
   ]
  },
  {
   "cell_type": "code",
   "execution_count": 366,
   "metadata": {},
   "outputs": [
    {
     "name": "stdout",
     "output_type": "stream",
     "text": [
      "18\n"
     ]
    }
   ],
   "source": [
    "%%\n",
    "a,b,c,d := 5, 4, 7, 14\n",
    "\n",
    "fmt.Println(a*b-d/c)"
   ]
  },
  {
   "cell_type": "markdown",
   "metadata": {},
   "source": [
    "**C dilindən fərqli olaraq ++ və -- operatoru **postfix** dir və ifadə içində yazılmır**. Dəyişənin qiymətini 1 vahid artırır və ya azaldır"
   ]
  },
  {
   "cell_type": "code",
   "execution_count": 367,
   "metadata": {},
   "outputs": [
    {
     "name": "stdout",
     "output_type": "stream",
     "text": [
      "1\n"
     ]
    }
   ],
   "source": [
    "%%\n",
    "i:=0\n",
    "i++\n",
    "i++\n",
    "i--\n",
    "fmt.Println(i)"
   ]
  },
  {
   "cell_type": "markdown",
   "metadata": {},
   "source": [
    "Bit üzrə operatorlar. Bu operatorlar yalnız **tam ədədlər üzərində** işləyir"
   ]
  },
  {
   "cell_type": "markdown",
   "metadata": {},
   "source": [
    "| Bit (İkili sayda) operatoru |İzahı|\n",
    "|---|---|\n",
    "| m & n| bit and, ədədin bitləri üzrə hər ikisi 1 olduqda 1 əksa halda 0|\n",
    "| m \\| n| bit or, hər ikisi 0 olduqda 0, qalan hallarda 1|\n",
    "|m ^ n | xor eyni olduqda 0 fərqli olduqda 1|\n",
    "|  ^n | n dəki bitlər əksinə çevrilir|\n",
    "|m &^ n | bit clear (and  not m & (^n)) n də 1 olan mərtəbələr m ədədində sıfırlanır|\n",
    "|m << n | m ədədini n sayda sola sürüşdürür|\n",
    "|m >> n | m ədədini n sayda sağa sürüşdürür|"
   ]
  },
  {
   "cell_type": "code",
   "execution_count": 368,
   "metadata": {},
   "outputs": [
    {
     "name": "stdout",
     "output_type": "stream",
     "text": [
      "0000010011010011(onluq: 1235)\n",
      "&\n",
      "0001000110111000(onluq: 4536)\n",
      "__________________\n",
      "0000000010010000  (onluq: 144)\n",
      "\n",
      "\n",
      "0000010011010011(onluq: 1235)\n",
      "|\n",
      "0001000110111000(onluq: 4536)\n",
      "__________________\n",
      "0001010111111011  (onluq: 5627)\n",
      "\n",
      "\n",
      "0000010011010011(onluq: 1235)\n",
      "^\n",
      "0001000110111000(onluq: 4536)\n",
      "__________________\n",
      "0001010101101011  (onluq: 5483)\n",
      "\n",
      "\n",
      "0000010011010011(onluq: 1235)\n",
      "&^\n",
      "0001000110111000(onluq: 4536)\n",
      "__________________\n",
      "0000010001000011  (onluq: 1091)\n",
      "\n",
      "\n"
     ]
    }
   ],
   "source": [
    "%%\n",
    "var a,b uint16 = 1235, 4536\n",
    "fmt.Printf(\"%016b(onluq: %d)\\n&\\n%016b(onluq: %d)\\n__________________\\n%016b  (onluq: %d)\\n\\n\\n\",a,a,b,b,a&b,a&b)\n",
    "fmt.Printf(\"%016b(onluq: %d)\\n|\\n%016b(onluq: %d)\\n__________________\\n%016b  (onluq: %d)\\n\\n\\n\",a,a,b,b,a|b,a|b)\n",
    "fmt.Printf(\"%016b(onluq: %d)\\n^\\n%016b(onluq: %d)\\n__________________\\n%016b  (onluq: %d)\\n\\n\\n\",a,a,b,b,a^b,a^b)\n",
    "fmt.Printf(\"%016b(onluq: %d)\\n&^\\n%016b(onluq: %d)\\n__________________\\n%016b  (onluq: %d)\\n\\n\\n\",a,a,b,b,a&^b,a&^b)\n"
   ]
  },
  {
   "cell_type": "code",
   "execution_count": 369,
   "metadata": {},
   "outputs": [
    {
     "name": "stdout",
     "output_type": "stream",
     "text": [
      "^\n",
      "0001000110111000(onluq: 4536)\n",
      "__________________\n",
      "1110111001000111  (onluq: 60999)\n",
      "\n",
      "\n",
      "0000010011010011(onluq: 1235)\n",
      ">>\n",
      "               3\n",
      "__________________\n",
      "0000000010011010  (onluq: 154)\n",
      "\n",
      "\n",
      "0000010011010011(onluq: 1235)\n",
      "<<\n",
      "               3\n",
      "__________________\n",
      "0010011010011000  (onluq: 9880)\n",
      "\n",
      "\n"
     ]
    }
   ],
   "source": [
    "%%\n",
    "var a,b, n uint16 = 1235, 4536, 3\n",
    "fmt.Printf(\"^\\n%016b(onluq: %d)\\n__________________\\n%016b  (onluq: %d)\\n\\n\\n\",b,b,^b,^b)\n",
    "fmt.Printf(\"%016b(onluq: %d)\\n>>\\n%16d\\n__________________\\n%016b  (onluq: %d)\\n\\n\\n\",a,a,n,a>>n,a>>n)\n",
    "fmt.Printf(\"%016b(onluq: %d)\\n<<\\n%16d\\n__________________\\n%016b  (onluq: %d)\\n\\n\\n\",a,a,n,a<<n,a<<n)"
   ]
  },
  {
   "cell_type": "markdown",
   "metadata": {},
   "source": [
    "Müqayisə operatorları   \n",
    "\n",
    "|operator|izahı|\n",
    "|---|---|\n",
    "|== |   bərabərdir|\n",
    "|!=  |  bərabər deyil|\n",
    "|<  |   kiçikdir|\n",
    "|<=  |  kiçik bərabərdir|\n",
    "|>  |   böyükdür|\n",
    "|>=  |  böyük bərabərdir|"
   ]
  },
  {
   "cell_type": "markdown",
   "metadata": {},
   "source": [
    "Ədəd tipləri və string müqayisə ediləndir. (string tipində kodlaşdırma hərf sırası müqayisəyə təsir edir).  \n",
    "Həmçinin array də müqayisə ediləndir.  \n",
    "Əgər struct tipinin bütün elementləri müqayisə ediləndirsə onlar da müqayisə ediləndir  \n",
    "Daha ətraflı spesifikasiyaya baxa bilərsiniz"
   ]
  },
  {
   "cell_type": "code",
   "execution_count": 370,
   "metadata": {},
   "outputs": [
    {
     "name": "stdout",
     "output_type": "stream",
     "text": [
      "102 > 100 :  true\n",
      "Ananas > Anar :  false\n"
     ]
    }
   ],
   "source": [
    "%%\n",
    "d,e := 102, 100\n",
    "s,v := \"Ananas\", \"Anar\"\n",
    "fmt.Println (d,\">\",e, \": \", d > e)\n",
    "fmt.Println (s,\">\", v, \": \", s > v)"
   ]
  },
  {
   "cell_type": "markdown",
   "metadata": {},
   "source": [
    "Məntiqi operatorlar  \n",
    "|operator|izahı|\n",
    "|---|---|\n",
    "| && |   məntiqi və. hər ikisi true olduqda true|\n",
    "| \\|\\|  |  məntiqi və ya. ikisindən biri true olduqda true.|\n",
    "| !  |   əksi true olduqda | "
   ]
  },
  {
   "cell_type": "code",
   "execution_count": 371,
   "metadata": {},
   "outputs": [
    {
     "name": "stdout",
     "output_type": "stream",
     "text": [
      "false\n",
      "true\n",
      "true\n"
     ]
    }
   ],
   "source": [
    "%%\n",
    "a,b := 12,11\n",
    "c,d := 9, 13\n",
    "\n",
    "fmt.Println(a>b && c>d)\n",
    "fmt.Println(a>b || c>d)\n",
    "fmt.Println( !(c>d) )"
   ]
  },
  {
   "cell_type": "markdown",
   "metadata": {},
   "source": [
    "Mənimsətmə operatorları\n",
    "\n",
    "|operator |\tnümunə |izah |\n",
    "|---|---|---|\n",
    "|=\t|x = y\t| x-ə y-in qiyməti mənimsənir\t|\n",
    "|+=\t|x += y\t| x = x + y\t|\n",
    "|-=\t|x -= y\t| x = x - y\t|\n",
    "|*=\t|x *= y\t| x = x * y\t|\n",
    "|/=\t|x /= y\t| x = x / y\t|\n",
    "|%=\t|x %= y\t| x = x % y\t|\n",
    "|&=\t|x &= y\t| x = x & y\t|\n",
    "|\\|=\t|x \\|= y\t| x = x \\| y\t|\n",
    "|^=\t|x ^= y\t| x = x ^ y\t|\n",
    "|>>=\t|x >>= y\t| x = x >> y\t|\n",
    "|<<=\t|x <<= y\t| x = x << y|"
   ]
  },
  {
   "cell_type": "markdown",
   "metadata": {},
   "source": [
    "Əlavə operatorlar"
   ]
  },
  {
   "cell_type": "markdown",
   "metadata": {},
   "source": [
    "Operatorların üstünlüyü və assosasitivliyi və tiplərə bağlılığı\n",
    "\n",
    " Ən üstdəki daha güclü operator sayılır. Məsələn * +-dən güclü olduğu üçün ilk öncə o yerinə yetirilir   \n",
    " Üstünlük yuxarıdan aşağıya doğru\n",
    "|kateqoriya \t|operator\t|assosasitivliyi|\n",
    "|---|---|---|\n",
    "|5. Əsasən Multiplikativ|\t*  /   % <<   >> & &^\t|Soldan Sağa|\n",
    "|4. Əsasən Additiv|\t+ -\t\\| ^ |Soldan Sağa|\n",
    "|3. Müqayisə|\t== != <  <=  >  >=\t|Soldan Sağa| \n",
    "|2. Məntiqi AND|\t&&\t|Soldan Sağa|\n",
    "|1. Məntiqi OR\t|\\|\\|\t|Soldan Sağa| "
   ]
  },
  {
   "cell_type": "markdown",
   "metadata": {},
   "source": [
    "Assosativlik eyni güclü operatorlarda hesablama və  həyata keçirmə ardıcıllığını göstərir. \n"
   ]
  },
  {
   "cell_type": "markdown",
   "metadata": {},
   "source": [
    "<span style=\"color:red\">**Proqramçı qeydi.** Bu cədvəl dillərdən dillərə dəyişilir. Ona görə digər dildən Go dilinə çevirəndə ordakı üstünlük cədvəlini nəzərdən keçirmək lazımdır.  \n",
    "Ümumən məsləhətdir ki mötərizələrdən istifadə edilsin.</span>"
   ]
  },
  {
   "cell_type": "code",
   "execution_count": 372,
   "metadata": {},
   "outputs": [
    {
     "name": "stdout",
     "output_type": "stream",
     "text": [
      "18/2*3 ifadesinde (18/2)*3 = 27 yoxsa 18/(2*3) = 3 ?\n",
      "Asosativlik soldan saga oldugu uchun\n",
      "netice:  27\n"
     ]
    }
   ],
   "source": [
    "%%\n",
    "var a,b,c  = 18, 2, 3\n",
    "\n",
    "netice := a / b *c  // (a/b)*c  yoxsa a/(b*c) ?\n",
    "fmt.Printf(\"%d/%d*%d ifadesinde (%d/%d)*%d = %d yoxsa %d/(%d*%d) = %d ?\\n\",a,b,c, a,b,c ,(a/b)*c ,a,b,c,a/(b*c))\n",
    "\n",
    "fmt.Println(\"Asosativlik soldan saga oldugu uchun\\nnetice: \", netice)"
   ]
  }
 ],
 "metadata": {
  "kernelspec": {
   "display_name": "Go (gonb)",
   "language": "go",
   "name": "gonb"
  },
  "language_info": {
   "codemirror_mode": "",
   "file_extension": ".go",
   "mimetype": "",
   "name": "go",
   "nbconvert_exporter": "",
   "pygments_lexer": "",
   "version": "go1.20.5"
  },
  "orig_nbformat": 4
 },
 "nbformat": 4,
 "nbformat_minor": 2
}
