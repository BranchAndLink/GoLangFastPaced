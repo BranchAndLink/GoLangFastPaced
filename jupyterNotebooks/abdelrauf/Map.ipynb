{
 "cells": [
  {
   "cell_type": "markdown",
   "metadata": {},
   "source": [
    "### Map. Assosativ Array. Dictionary. HashMap\n",
    "\n",
    "Go dilində bu data struktur dilin özündə gəlir. Map dedikdə key (açar) və ona bağlı value (qiymət) nəzərdə tutulur.   \n",
    "Bir növ açar sözü bilməklə ona bağlı qiyməti götürmək olur.   \n",
    "Bu map **nizamsızdır**. Əslən Array özü də map-ə bənzəyir sadəcə orada indeks açar rolunda çıxış edir və data struktur çox sadə olur.     \n",
    "map-də key tip **== !=** əməliyyatlarına malik tip ola bilər.  \n",
    "Bu səbədən dildə olan tiplərdən key olaraq slice, map, funksiya tipi çıxış edə bilmir. \n",
    "\n",
    "\n",
    "\n",
    "<pre>\n",
    "\n",
    "\n",
    " var  ad1  map [key tipi] value_tipi\n",
    " var  ad1  map [key tipi] value_tipi = map [key tipi] value_tipi { [achar1 : qiymet1, achar2 : qiymet2, ..]}\n",
    " var  ad1 = map [key tipi] value_tipi { [achar1 : qiymet1, achar2 : qiymet2, ..]}\n",
    " ad1 := map [key tipi] value_tipi { [achar1 : qiymet1, achar2 : qiymet2, ..]}\n",
    "\n",
    " key tipi [ ] mötərizəsi arasında qyed edilir.   \n",
    " Burda  map [key tipi] xaric [ ] mötərizə işarəsi istək və buraxıla bilinməyə işarədir\n",
    "\n",
    "</pre>"
   ]
  },
  {
   "cell_type": "markdown",
   "metadata": {},
   "source": [
    "map **reference** tipdir. Ona görə adi elan edildikdə nil ola bilər.  \n",
    "map make ilə də etmək olar. make vasitəsilə bildiyiniz kimi tutumu əvvəlcədən vermək olur. və make initialize etdiyindən nil olmur.  \n",
    "```Go\n",
    "make(map[key_tipi] value_tipi, [tutum] )  \n",
    "```  \n",
    "tutum - buraxıla bilinər\n",
    "\n"
   ]
  },
  {
   "cell_type": "code",
   "execution_count": 1,
   "metadata": {},
   "outputs": [
    {
     "name": "stdout",
     "output_type": "stream",
     "text": [
      "map[] nill? true\n",
      "map[Azerbaycan:Baki Irlandiya:Dublin] nill? false\n",
      "map[] nill? false\n"
     ]
    }
   ],
   "source": [
    "import \"fmt\"\n",
    "%%\n",
    "var paytaxt map[string] string \n",
    "\n",
    "var paytaxt2  = map[string] string {\"Azerbaycan\" : \"Baki\", \"Irlandiya\": \"Dublin\"}\n",
    "var paytaxt3 = make(map[string] string)\n",
    "fmt.Println(paytaxt, \"nill?\", paytaxt == nil)\n",
    "fmt.Println(paytaxt2, \"nill?\", paytaxt2 == nil)\n",
    "fmt.Println(paytaxt3, \"nill?\", paytaxt3 == nil)"
   ]
  },
  {
   "cell_type": "markdown",
   "metadata": {},
   "source": [
    "map -ə əlavə yeni açar və qiymət əlavə etmək üçün, həmçinin açar-ı yeni qiymətə bağlamaq üçün:\n",
    "```Go\n",
    "  deyishen[achar] = qiymet\n",
    "```"
   ]
  },
  {
   "cell_type": "code",
   "execution_count": 2,
   "metadata": {},
   "outputs": [
    {
     "name": "stdout",
     "output_type": "stream",
     "text": [
      "map[Azerbaycan:Baki Irlandiya:Dublin]\n",
      "map[Azerbaycan:Gozel Baki Ingiltere:London Irlandiya:Dublin]\n"
     ]
    }
   ],
   "source": [
    "%%\n",
    "paytaxt := map[string] string {\"Azerbaycan\" : \"Baki\", \"Irlandiya\": \"Dublin\"}\n",
    "fmt.Println(paytaxt)\n",
    "//yeni elave edek\n",
    "paytaxt[\"Ingiltere\"] = \"London\"\n",
    "//kohneni deyishek\n",
    "paytaxt[\"Azerbaycan\"] = \"Gozel Baki\"\n",
    "fmt.Println(paytaxt)"
   ]
  },
  {
   "cell_type": "markdown",
   "metadata": {},
   "source": [
    "Bezen map-ə nəsə əlavə etmədən onda həmin açar sözün olub olmadığını yoxlamaq lazım olur. \n",
    "Bunun üçün \n",
    "```Go\n",
    "qiymet, movcuddurmu = deyishen[achar]\n",
    "\n",
    "_, movcuddurmu = deyishen[achar]\n",
    "\n",
    "//movcuddurmu bool tipdə olur\n",
    "```"
   ]
  },
  {
   "cell_type": "code",
   "execution_count": 3,
   "metadata": {},
   "outputs": [
    {
     "name": "stdout",
     "output_type": "stream",
     "text": [
      "map[Azerbaycan:Baki Irlandiya:Dublin]\n",
      "string '' \n",
      "elave edek\n",
      "map[Azerbaycan:Baki Ingiltere:London Irlandiya:Dublin]\n",
      "map[Azerbaycan:Baki Ingiltere:London Irlandiya:Dublin]\n"
     ]
    }
   ],
   "source": [
    "%%\n",
    "paytaxt := map[string] string {\"Azerbaycan\" : \"Baki\", \"Irlandiya\": \"Dublin\"}\n",
    "fmt.Println(paytaxt)\n",
    "qiymet, varmi := paytaxt[\"Ingiltere\"]\n",
    "fmt.Printf(\"%T '%s' \\n\", qiymet, qiymet)\n",
    "if !varmi {\n",
    "\tfmt.Println(\"elave edek\")\n",
    "\tpaytaxt[\"Ingiltere\"] = \"London\"\n",
    "}\n",
    "fmt.Println(paytaxt)\n",
    "//skop qydalarina göre if daxilində etsək. hərdəfə yeni dəyişən adına ehtiyac olmayacaq\n",
    "if _, varmi2 := paytaxt[\"Brazilya\"]; varmi2 {\n",
    "\tfmt.Println(\"elave edek\")\n",
    "\tpaytaxt[\"Brazilya\"] = \"Braziliya\"\n",
    "}\n",
    "//skop qaydalarina göre if daxilində etsək. hərdəfə yeni dəyişən adına ehtiyac olmayacaq\n",
    "if _, varmi2 := paytaxt[\"Argentina\"]; varmi2 {\n",
    "\tfmt.Println(\"elave edek\")\n",
    "\tpaytaxt[\"Argentina\"] = \"Beunos Aeros\"\n",
    "}\n",
    "fmt.Println(paytaxt)"
   ]
  },
  {
   "cell_type": "markdown",
   "metadata": {},
   "source": [
    "map-dən hər hansı açar sözü pozmaq üçün delete builtin funksiyasını istifadə edə bilərik\n",
    "```Go\n",
    "delete(deyishen, achar)\n",
    "```"
   ]
  },
  {
   "cell_type": "code",
   "execution_count": 4,
   "metadata": {},
   "outputs": [
    {
     "name": "stdout",
     "output_type": "stream",
     "text": [
      "map[Azerbaycan:Baki Irlandiya:Dublin]\n",
      "map[Azerbaycan:Baki]\n"
     ]
    }
   ],
   "source": [
    "%%\n",
    "paytaxt := map[string] string {\"Azerbaycan\" : \"Baki\", \"Irlandiya\": \"Dublin\"}\n",
    "fmt.Println(paytaxt)\n",
    "delete(paytaxt, \"Irlandiya\")\n",
    "fmt.Println(paytaxt)"
   ]
  },
  {
   "cell_type": "markdown",
   "metadata": {},
   "source": [
    "map for range ilə:\n",
    "```Go\n",
    "for achar, qiymet := map_deyisheni{\n",
    "\t...\n",
    "}\n",
    "//tekce achar\n",
    "for achar  := map_deyisheni{\n",
    "\t...\n",
    "}\n",
    "\n",
    "//qiymet\n",
    "for achar, _  := map_deyisheni{\n",
    "\t...\n",
    "}\n",
    "```\n",
    "\n",
    "map-i **set** kimi unikal list kimi istifadə misalı  \n"
   ]
  },
  {
   "cell_type": "code",
   "execution_count": 5,
   "metadata": {},
   "outputs": [
    {
     "name": "stdout",
     "output_type": "stream",
     "text": [
      "apelsin\n",
      "alma\n",
      "armud\n",
      "banan\n",
      "kivi\n"
     ]
    }
   ],
   "source": [
    "%%\n",
    "set:= map[string] bool {}\n",
    "for _, x := range []string{\"alma\", \"armud\", \"alma\", \"armud\", \"banan\", \"kivi\", \"kivi\", \"apelsin\"}{\n",
    "\tset[x] = true\n",
    "}\n",
    "//unikallar\n",
    "for achar := range set {\n",
    "\tfmt.Println(achar)\n",
    "}\n",
    " "
   ]
  },
  {
   "cell_type": "markdown",
   "metadata": {},
   "source": [
    "map of slice misalı"
   ]
  },
  {
   "cell_type": "code",
   "execution_count": 6,
   "metadata": {},
   "outputs": [
    {
     "name": "stdout",
     "output_type": "stream",
     "text": [
      "Zakir: Bekir Ismayil \n",
      "Eli: Orxan Zakir \n",
      "Xabib: Ismayil Zakir \n"
     ]
    }
   ],
   "source": [
    "%%\n",
    "map_list:= map[string][]string {}\n",
    "map_list[\"Zakir\"]=[]string {\"Bekir\"}\n",
    "\n",
    "//append nil uzre ishleyir\n",
    "map_list[\"Eli\"]=append(map_list[\"Eli\"], \"Orxan\", \"Zakir\")\n",
    "map_list[\"Xabib\"]=append(map_list[\"Xabib\"], \"Ismayil\", \"Zakir\")\n",
    "map_list[\"Zakir\"]=append(map_list[\"Zakir\"], \"Ismayil\")\n",
    "\n",
    "for achar, qiymet := range map_list {\n",
    "\tfmt.Print(achar,\": \")\n",
    "\tfor _, dost := range qiymet {\n",
    "\t\tfmt.Print(dost, \" \")\n",
    "\t}\n",
    "\tfmt.Println()\n",
    "}"
   ]
  },
  {
   "cell_type": "markdown",
   "metadata": {},
   "source": [
    "<span style=\"color:red\"><b>Qeyd etdiyimiz kimi map nizamsızdır. Bu səbəbdən print fərqli çıxa bilər. Nizamlı map üçün əlavələrə(Go Ordered Map) baxmaq lazımdır. </b></style>"
   ]
  }
 ],
 "metadata": {
  "kernelspec": {
   "display_name": "Go (gonb)",
   "language": "go",
   "name": "gonb"
  },
  "language_info": {
   "codemirror_mode": "",
   "file_extension": ".go",
   "mimetype": "",
   "name": "go",
   "nbconvert_exporter": "",
   "pygments_lexer": "",
   "version": "go1.20.5"
  },
  "orig_nbformat": 4
 },
 "nbformat": 4,
 "nbformat_minor": 2
}
