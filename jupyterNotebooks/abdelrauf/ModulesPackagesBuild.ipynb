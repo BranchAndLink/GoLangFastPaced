{
 "cells": [
  {
   "cell_type": "markdown",
   "metadata": {},
   "source": [
    "#### Module   \n",
    "Module -  go.mod faylı ana papkada yerləşən bir neçə package-dən ibarətdir.   \n",
    "Go-da ```go mod``` əmri ilə module idarə edilir.   \n",
    "\n",
    "\n",
    "```go mod init module_adi```-lə module yaradaq"
   ]
  },
  {
   "cell_type": "code",
   "execution_count": 1,
   "metadata": {},
   "outputs": [
    {
     "name": "stderr",
     "output_type": "stream",
     "text": [
      "rm: cannot remove 'mymodule': No such file or directory\n",
      "exit status 1\n",
      "go: creating new go.mod: module github.com/yourname/mymodule\n"
     ]
    }
   ],
   "source": [
    "!rm -r mymodule\n",
    "!mkdir -p mymodule\n",
    "!cd mymodule && rm -rf go.mod && go mod init github.com/yourname/mymodule"
   ]
  },
  {
   "cell_type": "markdown",
   "metadata": {},
   "source": [
    "```go mod init``` \n",
    "go.mod faylını yaradacaq"
   ]
  },
  {
   "cell_type": "code",
   "execution_count": 2,
   "metadata": {},
   "outputs": [
    {
     "name": "stdout",
     "output_type": "stream",
     "text": [
      "module github.com/yourname/mymodule\n",
      "\n",
      "go 1.20\n"
     ]
    }
   ],
   "source": [
    "!cat mymodule/go.mod"
   ]
  },
  {
   "cell_type": "markdown",
   "metadata": {},
   "source": [
    "Əgər əlavə modullar varsa. \n",
    "```go mod tidy``` işə salsaq avtomatik go.mod-a əlavə edəcək"
   ]
  },
  {
   "cell_type": "markdown",
   "metadata": {},
   "source": [
    "#### Package.   \n",
    "\n",
    " Package - bağlama - bir və bir neçə fayldan  ibarət olub eyni təyinat üçün yazılmış kodları qruplaşdırmaq üçündür.   \n",
    " Həmçinin axtarış və kompilyasıya vaxtına da xeyli qənaət edir.  \n",
    " Faylın hansı package aid olmağını bu cür qeyd edə bilərik:  \n",
    " ```Go\n",
    " package packagin_adi\n",
    " ```  "
   ]
  },
  {
   "cell_type": "markdown",
   "metadata": {},
   "source": [
    "Package də olanları istifadə etmək üçün import sözündən istifadə edilir: \n",
    "\n",
    "```Go\n",
    "   import \"package_adi\" // Bu zaman bütün publik (export) olunmuş elementlərə package_adi.  daxil olunur\n",
    "   import alias \"package_adi\"// Bu zaman bütün publik (export) olunmuş elementlərə alias. ilə daxil olmaq olar\n",
    "   import \"packagin_urli\"\n",
    "   import . \"package_adi\" // Bu zaman bütün publik (export) olunmuş elementlərə package_adi. -siz daxil olmaq olur\n",
    "   import _ \"package_adi\" // Yalnız init funksiyası çağrılacaq\n",
    "\n",
    "   import (\n",
    "      ...  //blok elan bir neçə package\n",
    "   )\n",
    "```"
   ]
  },
  {
   "cell_type": "markdown",
   "metadata": {},
   "source": [
    "Package identifikatorun fərqliliyinə də səbəb olur. Yəni fərqli package də olan export olunmamış eyni adlı identifikatorlaq fərqli sayılır"
   ]
  },
  {
   "cell_type": "markdown",
   "metadata": {},
   "source": [
    "Package də export olunmuş identifikatorlar:\n",
    "- Böyük hərflə başlayırsa\n",
    "- package bloku içindədirsə, metod və ya field adıdırsa   \n",
    "sayılır.   \n",
    "\n",
    "Export olunmamış identifikatorlar package xaricində görsənmir."
   ]
  },
  {
   "cell_type": "markdown",
   "metadata": {},
   "source": [
    "#### Package initialization (inisializasiyalar - yəni işə salmaq üçün edilən üçün ilkin işlər)\n",
    "İlk öncə eyni proses import olunmuş package-lərdə gedəcək. Daha sonra həmin proses     \n",
    "- package bloku dəyişənləri inisializasiya olunacaq\n",
    "- init funksiyaları çağrılacaq.    \n",
    "\n",
    "init funksiyası məcburi deyil və **bir neçə dəfə** (hətta bir fayl daxilində) təyin oluna bilər .   \n",
    "Bütün bu proses ardıcıllıqla (sequentially) icra olunacaq .    "
   ]
  },
  {
   "cell_type": "markdown",
   "metadata": {},
   "source": [
    "Fiziki olaraq package adı papka adı ilə eyni olmalıdır. mymodule modulumuzda package1 adlı papka(qovluq) quraq   \n",
    "və orda aşağıdakı məzmunlu fayllar əlavə edək\n",
    "```Go\n",
    "//mymodule/package1/numune.go\n",
    "package package1\n",
    "import \"fmt\"\n",
    "\n",
    "func init(){\n",
    "  fmt.Println(\"init call\")\n",
    "}\n",
    "//bir neçə init call mümkündür\n",
    "func init(){\n",
    "  fmt.Println(\"init call ###\")\n",
    "}\n",
    "\n",
    "func Salam(str string)  {\n",
    " fmt.Println( str )\n",
    "}\n",
    "\n",
    "```\n",
    "```Go\n",
    "//mymodule/package1/numune2.go\n",
    "package package1\n",
    "\n",
    "import \"github.com/common-nighthawk/go-figure\"\n",
    "func Salam2(str string)  {\n",
    "  myFigure := figure.NewFigure(str, \"\", true)\n",
    "  myFigure.Print()\n",
    "}\n",
    "\n",
    "```"
   ]
  },
  {
   "cell_type": "code",
   "execution_count": 3,
   "metadata": {},
   "outputs": [],
   "source": [
    "!mkdir -p mymodule/package1\n",
    "!echo -e \"package package1\\n \\\n",
    "import \\\"fmt\\\"\\n  \\\n",
    "func init(){ \\n \\\n",
    "\tfmt.Println(\\\"init call\\\") \\n \\\n",
    "  } \\n \\\n",
    "  //bir neçə init call mümkündür \\n \\\n",
    "  func init(){ \\n \\\n",
    "\tfmt.Println(\\\"init call ###\\\") \\n \\\n",
    "  } \\n \\\n",
    "func Salam(str string)  {\\n\\\n",
    "\\tfmt.Println( str )\\n}\" >mymodule/package1/numune.go\n",
    "\n"
   ]
  },
  {
   "cell_type": "code",
   "execution_count": 4,
   "metadata": {},
   "outputs": [],
   "source": [
    "!echo -e \"package package1\\n \\\n",
    "import \\\"github.com/common-nighthawk/go-figure\\\"\\n  \\\n",
    "func Salam2(str string)  {\\n\\\n",
    "\\tmyFigure := figure.NewFigure(str, \\\"\\\", true) \\n \\\n",
    "\\tmyFigure.Print()\\n}\" > mymodule/package1/numune2.go"
   ]
  },
  {
   "cell_type": "markdown",
   "metadata": {},
   "source": [
    "go fmt ilə kodumuzun gözəl görsənməsi üçün format edək. Bunun üçün modulumuz olan qovluğun içinə girib ```go fmt .``` çağırırıq"
   ]
  },
  {
   "cell_type": "code",
   "execution_count": 5,
   "metadata": {},
   "outputs": [
    {
     "name": "stdout",
     "output_type": "stream",
     "text": [
      "numune.go\n",
      "numune2.go\n"
     ]
    }
   ],
   "source": [
    "!cd mymodule/package1 && go fmt ."
   ]
  },
  {
   "cell_type": "markdown",
   "metadata": {},
   "source": [
    "```go mod tidy``` ilə əlavə asılılıqları avtomatik əlavə edək. Əgər repo dursa onu go get -lə də etmək olar"
   ]
  },
  {
   "cell_type": "code",
   "execution_count": 6,
   "metadata": {},
   "outputs": [
    {
     "name": "stderr",
     "output_type": "stream",
     "text": [
      "go: finding module for package github.com/common-nighthawk/go-figure\n",
      "go: found github.com/common-nighthawk/go-figure in github.com/common-nighthawk/go-figure v0.0.0-20210622060536-734e95fb86be\n"
     ]
    }
   ],
   "source": [
    "!cd mymodule  && go mod tidy  "
   ]
  },
  {
   "cell_type": "markdown",
   "metadata": {},
   "source": [
    "go.mod faylımızın məzmunu bu cür olacaq."
   ]
  },
  {
   "cell_type": "code",
   "execution_count": 7,
   "metadata": {},
   "outputs": [
    {
     "name": "stdout",
     "output_type": "stream",
     "text": [
      "module github.com/yourname/mymodule\n",
      "\n",
      "go 1.20\n",
      "\n",
      "require github.com/common-nighthawk/go-figure v0.0.0-20210622060536-734e95fb86be\n"
     ]
    }
   ],
   "source": [
    "!cat mymodule/go.mod"
   ]
  },
  {
   "cell_type": "code",
   "execution_count": 8,
   "metadata": {},
   "outputs": [],
   "source": [
    "!cd mymodule/package1 && go build .\n"
   ]
  },
  {
   "cell_type": "markdown",
   "metadata": {},
   "source": [
    "\n",
    "Lakin bu **yayımlanan (publish edilən)  modul üçün keçərlidir**.  Necə ki biz github.com/common-nighthawk/go-figure repodan yüklədik  \n",
    "Gəlin GONB də **öz indicə yaratdığımız yayımlanmamış modulumuzu istifadə edək**.  \n",
    "(Qeyd: Eynilə siz yeni modul yaradıb orda da edə bilərsiniz. Sadəcə GONB üçün !* əlavəmizi ignor edin)\n",
    "\n",
    "Gonb bildiyimiz kimi temporary papkada ishleyir.      \n",
    "orada olan go.mod -a module-uzu elave edək və daxildəki lokal papkaya yönləndirək.   \n",
    "Bunun üçün biz go.mod faylında  require ilə əlavə edib həmçinin replace-direktivi ilə daxili papkaya və s yönləndirə bilərik.    \n",
    "direktivlərdən **retract toolchain exclude** da var   \n",
    "```\n",
    "require   module versiya \n",
    "require(\n",
    "    module1 versiya1\n",
    "    ....\n",
    ")\n",
    "\n",
    "\n",
    "replace module1 versiya => module2_yeni_path versiya\n",
    "\n",
    "``````\n",
    "Dediklərimizi edit-lə də etmək olar. Əgər modul publish olsa idi onu ```go get```-lə də götürmək olardı   \n",
    "```go mod edit```  help manualına əks etdirək\n",
    "\n"
   ]
  },
  {
   "cell_type": "code",
   "execution_count": 9,
   "metadata": {},
   "outputs": [
    {
     "name": "stdout",
     "output_type": "stream",
     "text": [
      "usage: go mod edit [editing flags] [-fmt|-print|-json] [go.mod]\n",
      "\n",
      "Edit provides a command-line interface for editing go.mod,\n",
      "for use primarily by tools or scripts. It reads only go.mod;\n",
      "it does not look up information about the modules involved.\n",
      "By default, edit reads and writes the go.mod file of the main module,\n",
      "but a different target file can be specified after the editing flags.\n",
      "\n",
      "The editing flags specify a sequence of editing operations.\n",
      "\n",
      "The -fmt flag reformats the go.mod file without making other changes.\n",
      "This reformatting is also implied by any other modifications that use or\n",
      "rewrite the go.mod file. The only time this flag is needed is if no other\n",
      "flags are specified, as in 'go mod edit -fmt'.\n",
      "\n",
      "The -module flag changes the module's path (the go.mod file's module line).\n",
      "\n",
      "The -require=path@version and -droprequire=path flags\n",
      "add and drop a requirement on the given module path and version.\n",
      "Note that -require overrides any existing requirements on path.\n",
      "These flags are mainly for tools that understand the module graph.\n",
      "Users should prefer 'go get path@version' or 'go get path@none',\n",
      "which make other go.mod adjustments as needed to satisfy\n",
      "constraints imposed by other modules.\n",
      "\n",
      "The -exclude=path@version and -dropexclude=path@version flags\n",
      "add and drop an exclusion for the given module path and version.\n",
      "Note that -exclude=path@version is a no-op if that exclusion already exists.\n",
      "\n",
      "The -replace=old[@v]=new[@v] flag adds a replacement of the given\n",
      "module path and version pair. If the @v in old@v is omitted, a\n",
      "replacement without a version on the left side is added, which applies\n",
      "to all versions of the old module path. If the @v in new@v is omitted,\n",
      "the new path should be a local module root directory, not a module\n",
      "path. Note that -replace overrides any redundant replacements for old[@v],\n",
      "so omitting @v will drop existing replacements for specific versions.\n",
      "\n",
      "The -dropreplace=old[@v] flag drops a replacement of the given\n",
      "module path and version pair. If the @v is omitted, a replacement without\n",
      "a version on the left side is dropped.\n",
      "\n",
      "The -retract=version and -dropretract=version flags add and drop a\n",
      "retraction on the given version. The version may be a single version\n",
      "like \"v1.2.3\" or a closed interval like \"[v1.1.0,v1.1.9]\". Note that\n",
      "-retract=version is a no-op if that retraction already exists.\n",
      "\n",
      "The -require, -droprequire, -exclude, -dropexclude, -replace,\n",
      "-dropreplace, -retract, and -dropretract editing flags may be repeated,\n",
      "and the changes are applied in the order given.\n",
      "\n",
      "The -go=version flag sets the expected Go language version.\n",
      "\n",
      "The -print flag prints the final go.mod in its text format instead of\n",
      "writing it back to go.mod.\n",
      "\n",
      "The -json flag prints the final go.mod file in JSON format instead of\n",
      "writing it back to go.mod. The JSON output corresponds to these Go types:\n",
      "\n",
      "\ttype Module struct {\n",
      "\t\tPath    string\n",
      "\t\tVersion string\n",
      "\t}\n",
      "\n",
      "\ttype GoMod struct {\n",
      "\t\tModule  ModPath\n",
      "\t\tGo      string\n",
      "\t\tRequire []Require\n",
      "\t\tExclude []Module\n",
      "\t\tReplace []Replace\n",
      "\t\tRetract []Retract\n",
      "\t}\n",
      "\n",
      "\ttype ModPath struct {\n",
      "\t\tPath       string\n",
      "\t\tDeprecated string\n",
      "\t}\n",
      "\n",
      "\ttype Require struct {\n",
      "\t\tPath string\n",
      "\t\tVersion string\n",
      "\t\tIndirect bool\n",
      "\t}\n",
      "\n",
      "\ttype Replace struct {\n",
      "\t\tOld Module\n",
      "\t\tNew Module\n",
      "\t}\n",
      "\n",
      "\ttype Retract struct {\n",
      "\t\tLow       string\n",
      "\t\tHigh      string\n",
      "\t\tRationale string\n",
      "\t}\n",
      "\n",
      "Retract entries representing a single version (not an interval) will have\n",
      "the \"Low\" and \"High\" fields set to the same value.\n",
      "\n",
      "Note that this only describes the go.mod file itself, not other modules\n",
      "referred to indirectly. For the full set of modules available to a build,\n",
      "use 'go list -m -json all'.\n",
      "\n",
      "Edit also provides the -C, -n, and -x build flags.\n",
      "\n",
      "See https://golang.org/ref/mod#go-mod-edit for more about 'go mod edit'.\n"
     ]
    }
   ],
   "source": [
    "!go help mod edit"
   ]
  },
  {
   "cell_type": "markdown",
   "metadata": {},
   "source": [
    "##### Gonb papkasinda etmək üçün !* istifadə edəcəyik   \n",
    "və əsasən asılılığı əlavə edib  \n",
    "```go mod edit -require=path@version```    \n",
    "sonra isə aşağıdakı ilə lokal path-a yönləndirəcəyik     \n",
    "```go mod edit -replace=path1@version=path2```   \n",
    "Bu cür etməklə yayımlanandan sonra replace-dən çıxara bilərik.  "
   ]
  },
  {
   "cell_type": "code",
   "execution_count": 10,
   "metadata": {},
   "outputs": [],
   "source": [
    "!echo ${PWD} >/tmp/curr_dir\n",
    "//versiyani v{eded}.{eded}.{eded}-metn kimi verek\n",
    "//go mod edit -require ile yeni asılılıq əlavə edirik\n",
    "!*go mod edit -require=github.com/yourname/mymodule@v0.0.0-unpublished\n",
    "//go mod edit -replace ile yeni asılılığı lokal papkaya yönləndirik\n",
    "!*CURR_DIR=`cat /tmp/curr_dir` && go mod edit -replace=\"github.com/yourname/mymodule@v0.0.0-unpublished\"=\"${CURR_DIR}/mymodule\""
   ]
  },
  {
   "cell_type": "markdown",
   "metadata": {},
   "source": [
    "GONB-in go.mod faylı belə olacaq:"
   ]
  },
  {
   "cell_type": "code",
   "execution_count": 11,
   "metadata": {},
   "outputs": [
    {
     "name": "stdout",
     "output_type": "stream",
     "text": [
      "module gonb_42b161cd\n",
      "\n",
      "go 1.20\n",
      "\n",
      "require github.com/yourname/mymodule v0.0.0-unpublished\n",
      "\n",
      "replace github.com/yourname/mymodule v0.0.0-unpublished => /workspaces/GoLangFastPaced/jupyterNotebooks/abdelrauf/mymodule\n"
     ]
    }
   ],
   "source": [
    "!*cat go.mod"
   ]
  },
  {
   "cell_type": "markdown",
   "metadata": {},
   "source": [
    "Alternativ olaraq GONB-in go.mod-a replace etmədən go workspacelə daxili lokal papkaya yönləndirmək olar.   \n",
    "bunun uchun ```go work``` komandasından istifadə edirik.   \n"
   ]
  },
  {
   "cell_type": "code",
   "execution_count": 12,
   "metadata": {},
   "outputs": [
    {
     "name": "stdout",
     "output_type": "stream",
     "text": [
      "\t- replace rule for module \"github.com/yourname/mymodule\" to local directory \"/workspaces/GoLangFastPaced/jupyterNotebooks/abdelrauf/mymodule\" already exists."
     ]
    },
    {
     "data": {
      "text/html": [
       "<b>List of files/directories being tracked:</b>\n",
       "<ul>\n",
       "<li>/workspaces/GoLangFastPaced/jupyterNotebooks/abdelrauf/mymodule</li>\n",
       "<li>/workspaces/GoLangFastPaced/jupyterNotebooks/abdelrauf/mymodule/package1</li>\n",
       "</ul>\n"
      ]
     },
     "metadata": {},
     "output_type": "display_data"
    }
   ],
   "source": [
    "//gobn limitiation-a gore mecbur fayla yazb ordan oxuyacagiq\n",
    "!echo ${PWD} >/tmp/curr_dir\n",
    "!*rm -f go.work && CURR_DIR=`cat /tmp/curr_dir`   && go work init && go work use . \"${CURR_DIR}/mymodule\"\n",
    "//ignore\n",
    "%goworkfix\n",
    "%track"
   ]
  },
  {
   "cell_type": "markdown",
   "metadata": {},
   "source": [
    "export etmək üçün funksiyanın ilk hərfini böyük işarə etdik. package1 papkasında və eyni qruplaşdırılan fayllar bir package-ə aid olacaq."
   ]
  },
  {
   "cell_type": "code",
   "execution_count": 13,
   "metadata": {},
   "outputs": [
    {
     "name": "stdout",
     "output_type": "stream",
     "text": [
      "init call\n",
      "init call ###\n",
      "BranchAndLink\n",
      "   ____    ___      _____      _      ____    _____     ____       _       ____   _____   ____\n",
      "  / ___|  / _ \\    |  ___|    / \\    / ___|  |_   _|   |  _ \\     / \\     / ___| | ____| |  _ \\\n",
      " | |  _  | | | |   | |_      / _ \\   \\___ \\    | |     | |_) |   / _ \\   | |     |  _|   | | | |\n",
      " | |_| | | |_| |   |  _|    / ___ \\   ___) |   | |     |  __/   / ___ \\  | |___  | |___  | |_| |\n",
      "  \\____|  \\___/    |_|     /_/   \\_\\ |____/    |_|     |_|     /_/   \\_\\  \\____| |_____| |____/\n"
     ]
    }
   ],
   "source": [
    "import (\n",
    "\t\"github.com/yourname/mymodule\"\n",
    "\t\"fmt\"\n",
    ")\n",
    "\n",
    "%%\n",
    "package1.Salam(\"BranchAndLink\")\n",
    "package1.Salam2(\"GO FAST PACED\")"
   ]
  },
  {
   "cell_type": "markdown",
   "metadata": {},
   "source": [
    "#### Program   \n",
    "tam icra edilə bilən proqram üçün package main və func main təyin edilməlidir.  \n",
    "Proqram üçün bu giriş başlanğıc nöqtəsi olacaq və yalnız bir dənə main olmalıdır   \n",
    "\n",
    "```Go\n",
    "package main\n",
    "\n",
    "\n",
    "func main(){\n",
    "    \n",
    "}\n",
    "\n",
    "```\n",
    "\n",
    "İcra zamanı package inisializasiya olur və sonra main funksiyası çağrılır.   \n",
    "Bu funksiyanın çağırışı qayıtdıqda, proqram çıxır. Bu zaman o (əsas olmayan) goroutinlərin tamamlanmasını gözləmir."
   ]
  },
  {
   "cell_type": "markdown",
   "metadata": {},
   "source": [
    "Daha ətraflı:   \n",
    "https://go.dev/ref/mod   \n",
    "https://go.dev/doc/tutorial/workspaces"
   ]
  }
 ],
 "metadata": {
  "kernelspec": {
   "display_name": "Go (gonb)",
   "language": "go",
   "name": "gonb"
  },
  "language_info": {
   "codemirror_mode": "",
   "file_extension": ".go",
   "mimetype": "",
   "name": "go",
   "nbconvert_exporter": "",
   "pygments_lexer": "",
   "version": "go1.20.5"
  },
  "orig_nbformat": 4
 },
 "nbformat": 4,
 "nbformat_minor": 2
}
