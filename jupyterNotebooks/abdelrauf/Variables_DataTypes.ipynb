{
 "cells": [
  {
   "cell_type": "markdown",
   "id": "1db6b0c8-b0b5-4b9f-84f7-7890661751f4",
   "metadata": {},
   "source": [
    "### Variables, Types and"
   ]
  },
  {
   "cell_type": "markdown",
   "id": "987dc6e6-705c-4695-a065-28947222a430",
   "metadata": {},
   "source": [
    "### Əsas Primitiv Tiplər. Yaddaşda ölçüsünə və ayrılmasına və yerinə təsir edir."
   ]
  },
  {
   "cell_type": "markdown",
   "id": "c09f2edd-9131-463d-848c-a42bcca2ab05",
   "metadata": {},
   "source": [
    "| Tip  | İzah | Qiymət nümunə |\n",
    "| --- | --- | --- |\n",
    "| int | tam ədədlər | 2, 0, -999|\n",
    "|float32 | kəsr ədədlər | 3.5545, -9.5|\n",
    "|float64 | kəsr ədədlər daha dəqiq hesablamalar üçün 8 baytliq  | 16000001.5, -9.5|\n",
    "|complex64| kompleks ədədlər | 5+4i, 5, i|\n",
    "|complex128| kompleks ədədlər | 5+4i, 5, i|\n",
    "|string| dırnaq işarəsi daxilində simvol ardıcıllığı| \"salam\", \"-sds-\"|\n",
    "|bool | dogru ve ya yanlis, bul mentiqi| true, false |\n",
    "| byte (uint8 alias))| müsbət 8bit lik , 1baytliq ədəd| 2, 5, [0,255] arası ədəd|\n",
    "|rune (int32 alias)| istenilen simvollar , unikod smilecs ve s| 'a','z', '👍' |\n",
    "|int8| tam ədəd 1 baytliq 8 bitlik| -128 127 [-128,127]|\n",
    "|uint8| 8bit lik müsbət ədəd | 0 255 [0,255] aralığında|\n",
    "|int16, int32, int64| 16,32,64 bitlik||\n",
    "|uint16,uint32,uint64| 16,32,64 bitlik müsbət| 0-dan 2^bit_sayi-1 aralığında ədədlər|"
   ]
  },
  {
   "cell_type": "markdown",
   "id": "18f3ae7a-92a3-4ecb-b39b-0b25c6e0453c",
   "metadata": {},
   "source": [
    "## Dəyişənlər  (Variable)\n",
    "\n",
    "#### **Dəyişən adları üçün qayda**\n",
    "- Dəyişən adı a-z A-Z 0-9 ve _  və hərf olan unikod simvolları ola bilər. Yəni digərləri boşluq və s simvollar ola bilməz.  \n",
    "  Unikod hərflərə icazə olduğundan **dəyişənləri azərbaycanca da** yazmaq olar\n",
    "- Dəyişən adı hərflə və ya _ altdan-xəttlə başlaya bilər. ədədlə yox\n",
    "- Dəyişən adlarında böyük kiçik hərfləri fərqlilik yaradır. Yəni ( uzunluq Uzunluq uZunluq ) dəyişənləri fərqlidir\n",
    "- Dəyişən adlarında Golang dilinin özəl sözlərini istifadə etmək olmaz. Məsələn: for\n",
    "\n",
    "##### Ad yazılımında standardlar\n",
    "- **Camel case**. Nümunə: mənimDəyişəninAdı, fiqurunUzunluğu\n",
    "- **Pascal Case**. Nümunə: MənimDəyişəninAdı, FiqurunUzunluğu\n",
    "- **Snake case**. Nümunə: mənim_dəyişənin_adı, fiqurun_uzunluğu\n",
    " \n",
    "#### Dəyişən elanı\n",
    "\n",
    "<pre>\n",
    "    var ad [tip]   \n",
    "    var ad [tip] = qiymet    \n",
    "    var ad = qiymet  \n",
    "    ad := qiymet\n",
    "\n",
    "    var ad1, ad2 ,.. = ad1_qiymət, ad2_qiymət, ..  \n",
    "    ad1, ad2 ,.. := ad1_qiymət, ad2_qiymət, ..                                      \n",
    "\n",
    "    var (\n",
    "        ad1 [tip1]\n",
    "        ad2 [tip2] = ad2_qiymət\n",
    "        ad3 [tip3] = ad3_qiymət  \n",
    "        ...\n",
    "    )\n",
    "\n",
    "    //eyni tipli bir neçəsi\n",
    "    var ad1, ad2 ,.. [eyni_tip] = ad1_qiymət, ad2_qiymət, ..\n",
    "    Nümunə: var a,b,c int = 4,5,7\n",
    "\n",
    "</pre>\n"
   ]
  },
  {
   "cell_type": "code",
   "execution_count": 1,
   "id": "b43912a0-71f2-4ad6-93d0-b1dafbbd470a",
   "metadata": {},
   "outputs": [
    {
     "name": "stdout",
     "output_type": "stream",
     "text": [
      "Sadə yazı 3.5 40\n"
     ]
    }
   ],
   "source": [
    "import \"fmt\"\n",
    "\n",
    "func main(){\n",
    "  var uzunluq float32 = 3.5\n",
    "  var adamların_sayı = 40\n",
    "  metn := \"Sadə yazı\"\n",
    "  fmt.Println(metn, uzunluq, adamların_sayı)\n",
    "\n",
    "}"
   ]
  },
  {
   "cell_type": "code",
   "execution_count": 2,
   "id": "a4b22e01-e30f-41c5-bd4f-5cf3ff14c065",
   "metadata": {},
   "outputs": [
    {
     "name": "stdout",
     "output_type": "stream",
     "text": [
      "Sadə yazı 3.5 40\n"
     ]
    }
   ],
   "source": [
    "%%\n",
    "  var uzunluq,adamların_sayı,mətn   = 3.5, 40, \"Sadə yazı\"\n",
    "  fmt.Println(mətn, uzunluq, adamların_sayı)"
   ]
  },
  {
   "cell_type": "code",
   "execution_count": 3,
   "id": "e97623c5-11da-4822-8146-61c72ad4b458",
   "metadata": {},
   "outputs": [
    {
     "name": "stdout",
     "output_type": "stream",
     "text": [
      "3.5 40 Sadə yazı\n"
     ]
    }
   ],
   "source": [
    "%%\n",
    "  uzunluq,adamların_sayı,mətn   := 3.5, 40, \"Sadə yazı\"\n",
    "  fmt.Println(uzunluq,adamların_sayı,mətn)"
   ]
  },
  {
   "cell_type": "code",
   "execution_count": 4,
   "id": "e3c892fb",
   "metadata": {},
   "outputs": [
    {
     "name": "stdout",
     "output_type": "stream",
     "text": [
      "Sadə yazı 3.5 40\n"
     ]
    }
   ],
   "source": [
    "%%\n",
    "var (\n",
    "\tuzunluq float32 = 3.5\n",
    "\tadamların_sayı = 40\n",
    "\tmətn string = \"Sadə yazı\" \n",
    ")\n",
    "fmt.Println(mətn, uzunluq, adamların_sayı)"
   ]
  },
  {
   "cell_type": "markdown",
   "id": "20485880",
   "metadata": {},
   "source": [
    "#### var və := arasında fərqlər\n",
    "| var | := |\n",
    "| --- |---|\n",
    "| funksiya daxilində və xaricində istifadə etmək olur | Yalnız funksiya daxilində istifadə etmək olur|\n",
    "|dəyişən elanı və ilkin qiymət ayrı ayrı qeyd etmək olur| elan və ilkin qiymət eyni sətirdə olur|"
   ]
  },
  {
   "cell_type": "markdown",
   "id": "d6b18f9b-8562-48e5-9061-e0ef2b2cd254",
   "metadata": {},
   "source": [
    "###  '=' Mənimsətmə əməliyyatı ilə dəyişənin qiymətini sonradan da dəyişə bilirik  \n",
    "(*Proqramçı Qeydi: = riyazi bərabərliklə eyni anlam daşıması üçün dəyişən immutable (dəyişilməsi icazə verilməyən) olmalıdır, əks halda bu əməliyyata bərabərdir demək yanlışdır*)"
   ]
  },
  {
   "cell_type": "code",
   "execution_count": 5,
   "id": "ac9a7c3f-ba71-4ae5-adc0-084ae1cc2834",
   "metadata": {},
   "outputs": [
    {
     "name": "stdout",
     "output_type": "stream",
     "text": [
      "Sadə yazı 99.5 40\n"
     ]
    }
   ],
   "source": [
    "%%\n",
    "   uzunluq,adamların_sayı,mətn   := 3.5, 40, \"Sadə yazı\"\n",
    "  uzunluq = 99.5\n",
    "  fmt.Println(mətn, uzunluq, adamların_sayı)"
   ]
  },
  {
   "cell_type": "markdown",
   "id": "b6dca48d-c577-42f6-b968-9d8fb5a5f4cc",
   "metadata": {},
   "source": [
    "#### Konstant Sabit , Proqramda sabit deyishilmeyen qiymetler uchun istifade edirik"
   ]
  },
  {
   "cell_type": "markdown",
   "id": "3882e71e-016a-4dea-8ba7-922c3559ffe5",
   "metadata": {},
   "source": [
    "<pre>\n",
    "    const ad = qiymət  \n",
    "    const ad [tip] = qiymət\n",
    "\n",
    "    const(\n",
    "        ad = qiymət1\n",
    "        ad2 = qiymət2\n",
    "    )\n",
    "</pre>"
   ]
  },
  {
   "cell_type": "markdown",
   "id": "c1ec69a9-2091-4af9-b52b-27ab46cb1c87",
   "metadata": {},
   "source": [
    "**Konstant** sonradan dəyişmək olmaz"
   ]
  },
  {
   "cell_type": "code",
   "execution_count": 6,
   "id": "1d9f7a91-e457-441b-9b3a-cd4f5108eb39",
   "metadata": {},
   "outputs": [
    {
     "name": "stdout",
     "output_type": "stream",
     "text": [
      "Pi ededi  3.14 Bakı Azərbaycan\n"
     ]
    }
   ],
   "source": [
    "%%\n",
    "const pi = 3.14\n",
    "const (\n",
    "\tpaytaxt = \"Bakı\"\n",
    "\tölkə = \"Azərbaycan\"\n",
    ")\n",
    "fmt.Println(\"Pi ededi \", pi, paytaxt, ölkə)"
   ]
  },
  {
   "cell_type": "markdown",
   "id": "90f9296f-f1b3-403b-9c20-8a7518364317",
   "metadata": {},
   "source": [
    "### Bir tipdən digər (çevrilə bilən) tipə aşkar keçirmək üsulu"
   ]
  },
  {
   "cell_type": "markdown",
   "id": "99f06b76-1b91-45d4-b573-eab47f55f491",
   "metadata": {},
   "source": [
    "**tip( deyishen_adi)**"
   ]
  },
  {
   "cell_type": "code",
   "execution_count": 7,
   "id": "01592a79-873f-4ea4-864c-622e8de2193c",
   "metadata": {},
   "outputs": [
    {
     "name": "stdout",
     "output_type": "stream",
     "text": [
      "3\n"
     ]
    }
   ],
   "source": [
    "%%\n",
    "uzunluq:=3.5\n",
    "var tam_uzunluq int = int(uzunluq)\n",
    "fmt.Println(tam_uzunluq)"
   ]
  },
  {
   "cell_type": "code",
   "execution_count": null,
   "id": "6e081410-1ba9-4ce9-9972-bc1c6e6858ec",
   "metadata": {},
   "outputs": [],
   "source": []
  }
 ],
 "metadata": {
  "kernelspec": {
   "display_name": "Go (gonb)",
   "language": "go",
   "name": "gonb"
  },
  "language_info": {
   "codemirror_mode": "",
   "file_extension": ".go",
   "mimetype": "",
   "name": "go",
   "nbconvert_exporter": "",
   "pygments_lexer": "",
   "version": "go1.20.5"
  }
 },
 "nbformat": 4,
 "nbformat_minor": 5
}
