{
 "cells": [
  {
   "cell_type": "markdown",
   "id": "26957337-407e-44dc-88b9-cd5cc11346c5",
   "metadata": {},
   "source": [
    "### Hello World in Golang"
   ]
  },
  {
   "cell_type": "code",
   "execution_count": 2,
   "id": "148c9466-6a6f-4a63-83b0-aca212df9257",
   "metadata": {},
   "outputs": [],
   "source": [
    "import \"fmt\""
   ]
  },
  {
   "cell_type": "code",
   "execution_count": 5,
   "id": "f720166a-1d65-4fc7-960b-31d4b1f76fc6",
   "metadata": {},
   "outputs": [
    {
     "name": "stdout",
     "output_type": "stream",
     "text": [
      "Hello World and BranchAndLink Team\n"
     ]
    }
   ],
   "source": [
    "func main() {\n",
    "fmt.Println(\"Hello World and BranchAndLink Team\")\n",
    "    }"
   ]
  },
  {
   "cell_type": "markdown",
   "id": "d690df4f-9b36-4332-bf0d-70079ad7cd69",
   "metadata": {},
   "source": [
    "#### To use Gonb better check https://github.com/janpfeifer/gonb/blob/main/examples/tutorial.ipynb"
   ]
  },
  {
   "cell_type": "code",
   "execution_count": null,
   "id": "743457e6-4d19-4e45-9158-a4907c7d4a53",
   "metadata": {},
   "outputs": [],
   "source": []
  }
 ],
 "metadata": {
  "kernelspec": {
   "display_name": "Go (gonb)",
   "language": "go",
   "name": "gonb"
  },
  "language_info": {
   "codemirror_mode": "",
   "file_extension": ".go",
   "mimetype": "",
   "name": "go",
   "nbconvert_exporter": "",
   "pygments_lexer": "",
   "version": "go1.20.5"
  }
 },
 "nbformat": 4,
 "nbformat_minor": 5
}
