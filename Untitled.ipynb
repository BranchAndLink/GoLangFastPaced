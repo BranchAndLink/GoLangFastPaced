{
 "cells": [
  {
   "cell_type": "code",
   "execution_count": 7,
   "id": "34b4c2b3-7ba4-4215-a3d4-8bde511d5ea8",
   "metadata": {},
   "outputs": [],
   "source": [
    "import \"fmt\"\n"
   ]
  },
  {
   "cell_type": "code",
   "execution_count": null,
   "id": "63330944-e719-4204-b04e-0412715c42b2",
   "metadata": {},
   "outputs": [],
   "source": []
  },
  {
   "cell_type": "code",
   "execution_count": 8,
   "id": "09bab878-6293-4c27-a996-b2c88d6d1e6b",
   "metadata": {},
   "outputs": [],
   "source": [
    "var farid=\"yaxci oglan\""
   ]
  },
  {
   "cell_type": "code",
   "execution_count": 10,
   "id": "8c7359aa-1ac1-4695-9478-fa94eeb8fa9e",
   "metadata": {},
   "outputs": [
    {
     "name": "stdout",
     "output_type": "stream",
     "text": [
      "yaxci oglan\n"
     ]
    }
   ],
   "source": [
    "%%\n",
    "fmt.Println(farid)\n"
   ]
  },
  {
   "cell_type": "markdown",
   "id": "321398a2-0812-461a-8299-dcdb4e1d50a6",
   "metadata": {},
   "source": [
    "### Salam aleykum\n"
   ]
  },
  {
   "cell_type": "code",
   "execution_count": null,
   "id": "28ddb9f8-5e07-44ae-8e6e-2683aebb0fbf",
   "metadata": {},
   "outputs": [],
   "source": []
  },
  {
   "cell_type": "code",
   "execution_count": null,
   "id": "9a9c0976-b082-4188-8b3d-54b6b037ccd1",
   "metadata": {},
   "outputs": [],
   "source": []
  }
 ],
 "metadata": {
  "kernelspec": {
   "display_name": "Go (gonb)",
   "language": "go",
   "name": "gonb"
  },
  "language_info": {
   "codemirror_mode": "",
   "file_extension": ".go",
   "mimetype": "",
   "name": "go",
   "nbconvert_exporter": "",
   "pygments_lexer": "",
   "version": "go1.20.5"
  }
 },
 "nbformat": 4,
 "nbformat_minor": 5
}
