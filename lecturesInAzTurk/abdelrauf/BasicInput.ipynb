{
 "cells": [
  {
   "cell_type": "markdown",
   "metadata": {},
   "source": [
    "#### Basic Input\n",
    "\n",
    "Bunun üçün \"fmt\" standard kitabxanadan istifade edirik   \n",
    "Burada **bosluqlarla format olunmus** stdin (klaviatura) daxilolmalarını dəyişənlərə mənimsətməni nəzərdən keçirəcəyik.    \n",
    "Scan və bacıları Scanln Scanf\n",
    "```Go\n",
    "func Scan(a ...any) (n int, err error)\n",
    "func Scanf(format string, a ...any) (n int, err error)\n",
    "func Scanln(a ...any) (n int, err error)\n",
    "Burada Arqumentlər:\n",
    "    format - format mətni \n",
    "    a istenilen tip və sayda dəyişən. Dəyişənin əvvəlinə & qoyuruq\n",
    "Funksiya qaytarır:\n",
    "  n - uğurlu Scan olunmuş element sayı\n",
    "  err - xəta. Baş vermədikdə nil olur\n",
    "\n",
    "```\n",
    "Bildiyimiz kimi stdin klaviaturaya bağlı olur, əgər istifadəçi proqramı çağırdığı zaman fayla bağlamayıbsa\n",
    "\n",
    "Əlavə oxu: \n",
    "- BasicOutput.ipynb nəzərdən keçirin\n",
    "- (ingiliscə) Command line stdin, stdout, stderr, Redirections, Pipe \n"
   ]
  },
  {
   "cell_type": "code",
   "execution_count": 13,
   "metadata": {},
   "outputs": [],
   "source": [
    "import \"fmt\""
   ]
  },
  {
   "cell_type": "markdown",
   "metadata": {},
   "source": [
    "Scan - funksiyasi \" \\n\\t\" boşluqlarla ayrılmış daxiletməni dəyişənlərə mənimsədəcək. \n",
    "\n",
    "fmt.Scan(&deyishen1, &deyishen2)\n",
    "\n",
    "Fikir verin ki  **& işarəsini dəyişənin əvvəlinə** əlavə edirik. Bu işarə funksiya və digər bölmələrdə aydın olacaq"
   ]
  },
  {
   "cell_type": "code",
   "execution_count": 14,
   "metadata": {},
   "outputs": [
    {
     "name": "stdout",
     "output_type": "stream",
     "text": [
      "a: 456 b: 546\n"
     ]
    }
   ],
   "source": [
    " //Gonb -de input işləmədiyindən Sscan la əvəzləyib daxiletməmizi input-da göstərəcəyik\n",
    "func main(){\n",
    "\tvar a int\n",
    "\tvar b int\n",
    "\n",
    "\t//fmt.Scan(&a,&b)  //Daxil edilən mətn: 456 enter düyməsi 546 enter\n",
    "\t input:=\"456 \\n 546 \"\n",
    "\t fmt.Sscan(input, &a, &b)\n",
    "\tfmt.Println(\"a:\", a, \"b:\", b)\n",
    "\t}"
   ]
  },
  {
   "cell_type": "markdown",
   "metadata": {},
   "source": [
    "fmt.Scanln -de eyni ile işləyir lakin yeni sətirə '\\n' kimi oxuyur\n",
    "\n",
    "Qeyd: Gonb -de input işləmədiyindən Sscanln la əvəzləyib daxiletməmizi input-da göstərəcəyik"
   ]
  },
  {
   "cell_type": "code",
   "execution_count": 15,
   "metadata": {},
   "outputs": [
    {
     "name": "stdout",
     "output_type": "stream",
     "text": [
      "a: 456 b: 0\n"
     ]
    }
   ],
   "source": [
    " //Gonb -de input işləmədiyindən Sscanln la əvəzləyib daxiletməmizi input-da göstərəcəyik\n",
    " func main(){\n",
    "\tvar a int\n",
    "\tvar b int\n",
    "\n",
    "\t//fmt.Scanln(&a,&b)  //Daxil edilən mətn: 456 enter düyməsi 546 enter\n",
    "\t input:=\"456 \\n 546 \"\n",
    "\t fmt.Sscanln(input, &a, &b)\n",
    "\n",
    "\tfmt.Println(\"a:\", a, \"b:\", b) \n",
    "\t// b budəfə 0 oldu çünki \\n yeni sətirə qədər oxuyub dayanır\n",
    "\t}"
   ]
  },
  {
   "cell_type": "markdown",
   "metadata": {},
   "source": [
    "Bu qebilden olanlara Scanf -de aiddir. Lakin evvelkilerden ferqli olaraq hansi tipde saxlayacagimizi formatla daha deqiq vermek olur\n"
   ]
  },
  {
   "cell_type": "code",
   "execution_count": 16,
   "metadata": {},
   "outputs": [
    {
     "name": "stdout",
     "output_type": "stream",
     "text": [
      "a: 456 b: 546\n"
     ]
    }
   ],
   "source": [
    " //Gonb -de input işləmədiyindən Sscanf la əvəzləyib daxiletməmizi input-da göstərəcəyik\n",
    " func main(){\n",
    "\tvar a int\n",
    "\tvar b float32\n",
    "\n",
    "\t//fmt.Scanf(\"%d %f\", &a,&b)  //Daxil edilən mətn: 456 boşluq 546 enter\n",
    "\t input:=\"456 546 \"\n",
    "\t fmt.Sscanf(input, \"%d %f\", &a, &b)\n",
    "\n",
    "\tfmt.Println(\"a:\", a, \"b:\", b)  \n",
    "\t}"
   ]
  },
  {
   "cell_type": "markdown",
   "metadata": {},
   "source": [
    "Qeyd edək ki fmt.Scan elə **fmt.Fscan (os.Stdin, ...)** dır.   \n",
    "Sadəcə burada **os.Stdin in yerinə özümüz açdığımız faylı** da vermək olur.   \n",
    "Sadə halda fmt.Scan istifadə edib İstifadəçidən istədiyi  **fayla bağlamağını** seçim kimi verə bilərik\n",
    "\n",
    "```bash\n",
    "./proqram  **< stdin_yazilari_olan_fayl.txt**\n",
    "```"
   ]
  },
  {
   "cell_type": "markdown",
   "metadata": {},
   "source": [
    "<span style=\"color:red\">Ümumən **Scan ve bacıları yalnız boşluqlarla ayrılmış formatlarla yaxşı işləyir**. </span>  \n",
    "Başqa hallar üçün isə ümumi sətiri oxuyub parse etmək lazımdır.  \n",
    "Bunu daha sonra keçəcəyik  \n",
    "<pre>\n",
    "import (\n",
    "    \"bufio\"\n",
    "    \"fmt\"\n",
    "    \"os\"\n",
    ")\n",
    "\n",
    "scanner := bufio.NewScanner(os.Stdin)\n",
    "</pre>"
   ]
  },
  {
   "cell_type": "markdown",
   "metadata": {},
   "source": []
  }
 ],
 "metadata": {
  "kernelspec": {
   "display_name": "Go (gonb)",
   "language": "go",
   "name": "gonb"
  },
  "language_info": {
   "codemirror_mode": "",
   "file_extension": ".go",
   "mimetype": "",
   "name": "go",
   "nbconvert_exporter": "",
   "pygments_lexer": "",
   "version": "go1.20.5"
  },
  "orig_nbformat": 4
 },
 "nbformat": 4,
 "nbformat_minor": 2
}
