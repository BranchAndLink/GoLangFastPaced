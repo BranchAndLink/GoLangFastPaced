{
 "cells": [
  {
   "cell_type": "markdown",
   "metadata": {},
   "source": [
    "#### Basic Input\n",
    "\n",
    "\n",
    "Bildiyimiz kimi stdin klaviaturaya bagli olur, eger fayla baglanmayibsa\n",
    "\n",
    "Ilk once BasicOutput.ipynb -a baxin\n",
    "\n"
   ]
  },
  {
   "cell_type": "markdown",
   "metadata": {},
   "source": [
    "Biz stdin-den daxilolmalari oyreneceyik. Ilk halda bosluqlarla format olunmusa baxacagiq.\n",
    "Bunun üçün fmt paketinin Scan Scanln Scanf den istifade edeceyik\n"
   ]
  },
  {
   "cell_type": "code",
   "execution_count": 3,
   "metadata": {},
   "outputs": [],
   "source": [
    "import \"fmt\""
   ]
  },
  {
   "cell_type": "markdown",
   "metadata": {},
   "source": [
    "Scan - funksiyasi \" \\n\\t\" boshluqlarla ayrilmis metnleri deyishenlere menimsedecek. \n",
    "\n",
    "fmt.Scan(&deyishen1, &deyishen2)\n",
    "\n",
    "Gorunduyu kimi deyishenin qabagina & isharesini elave edirik. Bu ishareni sonraki etaplarda tam anlayacagiq"
   ]
  },
  {
   "cell_type": "code",
   "execution_count": null,
   "metadata": {},
   "outputs": [],
   "source": [
    "%with_inputs 545 847\n",
    " \n",
    "func main(){\n",
    "\tvar a int\n",
    "\tvar b int\n",
    "\n",
    "\tfmt.Scan(&a,&b)\n",
    "\tfmt.Println(\"a:\", a, \"b:\", b)\n",
    "\t}"
   ]
  },
  {
   "cell_type": "code",
   "execution_count": null,
   "metadata": {},
   "outputs": [],
   "source": []
  }
 ],
 "metadata": {
  "kernelspec": {
   "display_name": "Go (gonb)",
   "language": "go",
   "name": "gonb"
  },
  "language_info": {
   "codemirror_mode": "",
   "file_extension": ".go",
   "mimetype": "",
   "name": "go",
   "nbconvert_exporter": "",
   "pygments_lexer": "",
   "version": "go1.20.5"
  },
  "orig_nbformat": 4
 },
 "nbformat": 4,
 "nbformat_minor": 2
}
