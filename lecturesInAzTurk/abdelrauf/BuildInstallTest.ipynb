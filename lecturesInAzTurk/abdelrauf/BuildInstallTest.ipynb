{
 "cells": [
  {
   "cell_type": "markdown",
   "metadata": {},
   "source": [
    "#### Build Install Test"
   ]
  },
  {
   "cell_type": "code",
   "execution_count": 40,
   "metadata": {},
   "outputs": [
    {
     "name": "stderr",
     "output_type": "stream",
     "text": [
      "rm: cannot remove 'example': No such file or directory\n",
      "exit status 1\n",
      "go: creating new go.mod: module example.com/hello\n"
     ]
    }
   ],
   "source": [
    "!rm -r example\n",
    "!mkdir -p example\n",
    "!cd example && go mod init example.com/hello"
   ]
  },
  {
   "cell_type": "code",
   "execution_count": 41,
   "metadata": {},
   "outputs": [],
   "source": [
    "\n",
    "!echo -e \"package main\\n \\\n",
    "import \\\"fmt\\\"\\n  \\\n",
    "func main()  {\\n\\\n",
    "\\tfmt.Println( \\\"Salam\\\" )\\n}\" >example/hello.go"
   ]
  },
  {
   "cell_type": "code",
   "execution_count": 42,
   "metadata": {},
   "outputs": [
    {
     "name": "stdout",
     "output_type": "stream",
     "text": [
      "hello.go\n"
     ]
    }
   ],
   "source": [
    "!cd example && go fmt ."
   ]
  },
  {
   "cell_type": "markdown",
   "metadata": {},
   "source": [
    "Proqramımızı qovluğun içindən birbaşa run da edə bilərik ```go run .```"
   ]
  },
  {
   "cell_type": "code",
   "execution_count": 43,
   "metadata": {},
   "outputs": [
    {
     "name": "stdout",
     "output_type": "stream",
     "text": [
      "Salam\n"
     ]
    }
   ],
   "source": [
    "!cd example && go run ."
   ]
  },
  {
   "cell_type": "markdown",
   "metadata": {},
   "source": [
    "Proqrami build etmək üçün ```go build .``` istifadə edirik"
   ]
  },
  {
   "cell_type": "code",
   "execution_count": 44,
   "metadata": {},
   "outputs": [],
   "source": [
    "!cd example && go build ."
   ]
  },
  {
   "cell_type": "markdown",
   "metadata": {},
   "source": [
    "-o option-ı verməklə çıxış faylının adını özümüzdə verə bilərik  \n",
    "```go build -o exe_path_ad```"
   ]
  },
  {
   "cell_type": "code",
   "execution_count": 45,
   "metadata": {},
   "outputs": [
    {
     "name": "stdout",
     "output_type": "stream",
     "text": [
      "Salam\n"
     ]
    }
   ],
   "source": [
    "!cd example && go build -o myhello\n",
    "!cd example && ./myhello"
   ]
  },
  {
   "cell_type": "markdown",
   "metadata": {},
   "source": [
    "Build zamanı -n option-ı və -x verərək go faylını build prosesinə baxmaq olur.   \n",
    "-n optionı ilə bütün gedən prosesi görmək olsa da fərqli olaraq build  getmir."
   ]
  },
  {
   "cell_type": "code",
   "execution_count": 46,
   "metadata": {},
   "outputs": [
    {
     "name": "stderr",
     "output_type": "stream",
     "text": [
      "\n",
      "#\n",
      "# command-line-arguments\n",
      "#\n",
      "\n",
      "mkdir -p $WORK/b001/\n",
      "cat >$WORK/b001/importcfg << 'EOF' # internal\n",
      "# import config\n",
      "packagefile fmt=/home/codespace/.cache/go-build/5a/5a85274bbefd6702b95fe9edb05543e0787d85e1a7dd4a638459c0d94279347e-d\n",
      "packagefile runtime=/home/codespace/.cache/go-build/47/47475b234b211c63b7b5248c5ffe186380c67b3a013d5e0a9bfc38ff287322ce-d\n",
      "EOF\n",
      "cd /workspaces/GoLangFastPaced/jupyterNotebooks/abdelrauf/example\n",
      "/usr/local/go/pkg/tool/linux_amd64/compile -o $WORK/b001/_pkg_.a -trimpath \"$WORK/b001=>\" -p main -complete -buildid 0lZJx4XgzTiq9kwogQYm/0lZJx4XgzTiq9kwogQYm -goversion go1.20.5 -c=2 -nolocalimports -importcfg $WORK/b001/importcfg -pack ./hello.go\n",
      "/usr/local/go/pkg/tool/linux_amd64/buildid -w $WORK/b001/_pkg_.a # internal\n",
      "cat >$WORK/b001/importcfg.link << 'EOF' # internal\n",
      "packagefile command-line-arguments=$WORK/b001/_pkg_.a\n",
      "packagefile fmt=/home/codespace/.cache/go-build/5a/5a85274bbefd6702b95fe9edb05543e0787d85e1a7dd4a638459c0d94279347e-d\n",
      "packagefile runtime=/home/codespace/.cache/go-build/47/47475b234b211c63b7b5248c5ffe186380c67b3a013d5e0a9bfc38ff287322ce-d\n",
      "packagefile errors=/home/codespace/.cache/go-build/16/1614d1e860779bdd7e63b9ace048ed5c7a97b04fbf64c21e3d5d9ed474dc6127-d\n",
      "packagefile internal/fmtsort=/home/codespace/.cache/go-build/38/387acd18f92d205195c39a0cd19fccf97740aca13e8ff884e8380ee620a42625-d\n",
      "packagefile io=/home/codespace/.cache/go-build/db/db976f4d0ab0631112d3df9d84973615392ec449f518ab2fdd80f012add5e0ea-d\n",
      "packagefile math=/home/codespace/.cache/go-build/9b/9b5cfacac4b76a1cd5bffe8ddf1205bd3311b3351271ef0478df6b24a330aac5-d\n",
      "packagefile os=/home/codespace/.cache/go-build/54/543e805161b3797fca3138c85e870dae0b983b5820a9d1d27dfb32787dfb17a8-d\n",
      "packagefile reflect=/home/codespace/.cache/go-build/ba/ba60b6d4a1e062811c877f7525496d90904df31d574ccddcafd18ab0765fd3e6-d\n",
      "packagefile sort=/home/codespace/.cache/go-build/9c/9c22541614fe877a88f3a267fb9a282f736945c545901a4ab92f6c87295594f0-d\n",
      "packagefile strconv=/home/codespace/.cache/go-build/61/61af2248c1b10fa37e5d7da74ce63bc2f3fc4b85d71c8a8d2472c6841263dbbc-d\n",
      "packagefile sync=/home/codespace/.cache/go-build/af/af0c9e835f263130088c123bb71d9f528ead461fe081b137543a23a2e6880e0c-d\n",
      "packagefile unicode/utf8=/home/codespace/.cache/go-build/55/55c78141439967c497ef1d8bcc1f724dd5b1fab6131ce80d6bc7ab4d338ac783-d\n",
      "packagefile internal/abi=/home/codespace/.cache/go-build/b9/b9fe5f7abd9676969136c0fda934dee047633039cae77c70d282251609443bce-d\n",
      "packagefile internal/bytealg=/home/codespace/.cache/go-build/b8/b87cc310d783a3a27ab80f0165651d417a52848d12f7adf3003d305eb87f3158-d\n",
      "packagefile internal/coverage/rtcov=/home/codespace/.cache/go-build/bc/bc4d12e895fb104d560e6b4192e952d2829d8194cf8a274c5f104c35d80b9774-d\n",
      "packagefile internal/cpu=/home/codespace/.cache/go-build/ae/ae76a5e84cb76a1bf351f5ab1b823a97e845dfbdea48a8c3bd64010d853b20ee-d\n",
      "packagefile internal/goarch=/home/codespace/.cache/go-build/e3/e3dc83e2820ca7ed5dbc544f0181cfd8829e3357e99876f40e5454c7abd3d7f7-d\n",
      "packagefile internal/goexperiment=/home/codespace/.cache/go-build/ac/acdb750114f8d21a951104fb87a789b829c55e1269d8e2d5ede8e8109dceb514-d\n",
      "packagefile internal/goos=/home/codespace/.cache/go-build/13/13c70de12e7d1cf949413b66cf278a25a60205c9fe2a48884df4cc75bf099dce-d\n",
      "packagefile runtime/internal/atomic=/home/codespace/.cache/go-build/02/021d982fd31ceb193751ff630bd0a0708326e65bad78c10d35fe284dc2ddb667-d\n",
      "packagefile runtime/internal/math=/home/codespace/.cache/go-build/e9/e9c1b787dae856726480d898196fec4bae10539b338bbb8373d00fe395fbb426-d\n",
      "packagefile runtime/internal/sys=/home/codespace/.cache/go-build/f4/f4b5f90f461eb546868335e492567ea93fafc7616321907072ff597df87dd8bc-d\n",
      "packagefile runtime/internal/syscall=/home/codespace/.cache/go-build/ba/baf2d32d6593f77b395fed92cf640776faf6fb971842ce63916341639d6d80e1-d\n",
      "packagefile internal/reflectlite=/home/codespace/.cache/go-build/01/012b08e178a6c8e813d3c48a5a52d73e938eeec3182f79894f2ba716aae9412c-d\n",
      "packagefile math/bits=/home/codespace/.cache/go-build/cb/cb87d7fb3a3d8b81084908cf252115ec4d0345b313c07eb3ee9929df39ac53f0-d\n",
      "packagefile internal/itoa=/home/codespace/.cache/go-build/2e/2e1ffdf15257231907ed22bea794e71342406c8066cf719ed7c3c1a295926451-d\n",
      "packagefile internal/poll=/home/codespace/.cache/go-build/dd/ddfa9bcc31f046a25a975333486f4ecddec59fb396184cbb6d2761492fc79e18-d\n",
      "packagefile internal/safefilepath=/home/codespace/.cache/go-build/f1/f186c3bc25497814c5681b3bbbd5b8e4bbcf455c65dc4a833e9446db8ac538a3-d\n",
      "packagefile internal/syscall/execenv=/home/codespace/.cache/go-build/8a/8a956c2b317f1c0d69bc02cbb6c6afb4fa7db43990bb723820e49c4949747892-d\n",
      "packagefile internal/syscall/unix=/home/codespace/.cache/go-build/0d/0dd2c0be76cd7c72277a5b8391db4040f85182d4204ac8d43ae635730dc7fa67-d\n",
      "packagefile internal/testlog=/home/codespace/.cache/go-build/34/34811ed3b55f7e3febc65f3d800e76be4adc05cfedea8fa873ace7b3092a6c07-d\n",
      "packagefile io/fs=/home/codespace/.cache/go-build/31/3138290bc0a2bc085e7839ef4ab7ba901be8b10750897a7e671a23a48a8c1e41-d\n",
      "packagefile sync/atomic=/home/codespace/.cache/go-build/5b/5bdd0d873301df7a24b744f11f78b678e44a684b6b4cd83829136aa69cac73f0-d\n",
      "packagefile syscall=/home/codespace/.cache/go-build/3a/3a6c5bb22516cd974a1b3a14c01500d92d73d33785b098d6a79de53586937925-d\n",
      "packagefile time=/home/codespace/.cache/go-build/7f/7f201b0f381f3a1af27c0a073b9f62698ab1d771b35a678e97f662bbbf1d30e0-d\n",
      "packagefile internal/unsafeheader=/home/codespace/.cache/go-build/a5/a5d0da800ef285eedd4592c5c0343f7ca289a8e9611c69d90f42fae894fe4580-d\n",
      "packagefile unicode=/home/codespace/.cache/go-build/2b/2be17f8a5ea974fc4bc4e294eb8d59a605226bb7b8ffa829b8417425bb792ff4-d\n",
      "packagefile internal/race=/home/codespace/.cache/go-build/09/090603aeb000493ecd31846063b3fc479da8f548f6c94ecd6524ee0d3eee540f-d\n",
      "packagefile internal/oserror=/home/codespace/.cache/go-build/25/25e65d202f732dc1c662bddad3dbbc0f733872a3033bf105f7734e562010d3f4-d\n",
      "packagefile path=/home/codespace/.cache/go-build/2e/2ef225fea25de35eeec1b70589fa74f75a89f9aedf763fc4e507e81ee24e9e63-d\n",
      "modinfo \"0w\\xaf\\f\\x92t\\b\\x02A\\xe1\\xc1\\a\\xe6\\xd6\\x18\\xe6path\\tcommand-line-arguments\\nbuild\\t-buildmode=exe\\nbuild\\t-compiler=gc\\nbuild\\tCGO_ENABLED=1\\nbuild\\tCGO_CFLAGS=\\nbuild\\tCGO_CPPFLAGS=\\nbuild\\tCGO_CXXFLAGS=\\nbuild\\tCGO_LDFLAGS=\\nbuild\\tGOARCH=amd64\\nbuild\\tGOOS=linux\\nbuild\\tGOAMD64=v1\\n\\xf92C1\\x86\\x18 r\\x00\\x82B\\x10A\\x16\\xd8\\xf2\"\n",
      "EOF\n",
      "mkdir -p $WORK/b001/exe/\n",
      "cd .\n",
      "/usr/local/go/pkg/tool/linux_amd64/link -o $WORK/b001/exe/a.out -importcfg $WORK/b001/importcfg.link -buildmode=exe -buildid=CUDQaEwoSWoMd-aemZem/0lZJx4XgzTiq9kwogQYm/0lZJx4XgzTiq9kwogQYm/CUDQaEwoSWoMd-aemZem -extld=gcc $WORK/b001/_pkg_.a\n",
      "/usr/local/go/pkg/tool/linux_amd64/buildid -w $WORK/b001/exe/a.out # internal\n",
      "mv $WORK/b001/exe/a.out hello\n"
     ]
    }
   ],
   "source": [
    "!cd example && go build -n hello.go"
   ]
  },
  {
   "cell_type": "markdown",
   "metadata": {},
   "source": [
    "build commandası genişdir.   \n",
    "bununla əlavə kompilyasiya və link və assembly flag-lər (-gcflags=  -ldflags= və -asmflags=) vermək olur.   \n",
    "başqa arxitektura üçün build etmək mümkündür.     \n",
    "Sadə halda generasiya olunmuş assembly-ə baxaq (Qeyd cross kompilyasiya və s gələcəkdə keçəcəyik)"
   ]
  },
  {
   "cell_type": "code",
   "execution_count": 47,
   "metadata": {},
   "outputs": [
    {
     "name": "stderr",
     "output_type": "stream",
     "text": [
      "# command-line-arguments\n",
      "main.main STEXT size=103 args=0x0 locals=0x40 funcid=0x0 align=0x0\n",
      "\t0x0000 00000 (/workspaces/GoLangFastPaced/jupyterNotebooks/abdelrauf/example/hello.go:5)\tTEXT\tmain.main(SB), ABIInternal, $64-0\n",
      "\t0x0000 00000 (/workspaces/GoLangFastPaced/jupyterNotebooks/abdelrauf/example/hello.go:5)\tCMPQ\tSP, 16(R14)\n",
      "\t0x0004 00004 (/workspaces/GoLangFastPaced/jupyterNotebooks/abdelrauf/example/hello.go:5)\tPCDATA\t$0, $-2\n",
      "\t0x0004 00004 (/workspaces/GoLangFastPaced/jupyterNotebooks/abdelrauf/example/hello.go:5)\tJLS\t92\n",
      "\t0x0006 00006 (/workspaces/GoLangFastPaced/jupyterNotebooks/abdelrauf/example/hello.go:5)\tPCDATA\t$0, $-1\n",
      "\t0x0006 00006 (/workspaces/GoLangFastPaced/jupyterNotebooks/abdelrauf/example/hello.go:5)\tSUBQ\t$64, SP\n",
      "\t0x000a 00010 (/workspaces/GoLangFastPaced/jupyterNotebooks/abdelrauf/example/hello.go:5)\tMOVQ\tBP, 56(SP)\n",
      "\t0x000f 00015 (/workspaces/GoLangFastPaced/jupyterNotebooks/abdelrauf/example/hello.go:5)\tLEAQ\t56(SP), BP\n",
      "\t0x0014 00020 (/workspaces/GoLangFastPaced/jupyterNotebooks/abdelrauf/example/hello.go:5)\tFUNCDATA\t$0, gclocals·g2BeySu+wFnoycgXfElmcg==(SB)\n",
      "\t0x0014 00020 (/workspaces/GoLangFastPaced/jupyterNotebooks/abdelrauf/example/hello.go:5)\tFUNCDATA\t$1, gclocals·EaPwxsZ75yY1hHMVZLmk6g==(SB)\n",
      "\t0x0014 00020 (/workspaces/GoLangFastPaced/jupyterNotebooks/abdelrauf/example/hello.go:5)\tFUNCDATA\t$2, main.main.stkobj(SB)\n",
      "\t0x0014 00020 (/workspaces/GoLangFastPaced/jupyterNotebooks/abdelrauf/example/hello.go:6)\tMOVUPS\tX15, main..autotmp_8+40(SP)\n",
      "\t0x001a 00026 (/workspaces/GoLangFastPaced/jupyterNotebooks/abdelrauf/example/hello.go:6)\tLEAQ\ttype:string(SB), DX\n",
      "\t0x0021 00033 (/workspaces/GoLangFastPaced/jupyterNotebooks/abdelrauf/example/hello.go:6)\tMOVQ\tDX, main..autotmp_8+40(SP)\n",
      "\t0x0026 00038 (/workspaces/GoLangFastPaced/jupyterNotebooks/abdelrauf/example/hello.go:6)\tLEAQ\tmain..stmp_0(SB), DX\n",
      "\t0x002d 00045 (/workspaces/GoLangFastPaced/jupyterNotebooks/abdelrauf/example/hello.go:6)\tMOVQ\tDX, main..autotmp_8+48(SP)\n",
      "\t0x0032 00050 (<unknown line number>)\tNOP\n",
      "\t0x0032 00050 (/usr/local/go/src/fmt/print.go:314)\tMOVQ\tos.Stdout(SB), BX\n",
      "\t0x0039 00057 (/usr/local/go/src/fmt/print.go:314)\tLEAQ\tgo:itab.*os.File,io.Writer(SB), AX\n",
      "\t0x0040 00064 (/usr/local/go/src/fmt/print.go:314)\tLEAQ\tmain..autotmp_8+40(SP), CX\n",
      "\t0x0045 00069 (/usr/local/go/src/fmt/print.go:314)\tMOVL\t$1, DI\n",
      "\t0x004a 00074 (/usr/local/go/src/fmt/print.go:314)\tMOVQ\tDI, SI\n",
      "\t0x004d 00077 (/usr/local/go/src/fmt/print.go:314)\tPCDATA\t$1, $0\n",
      "\t0x004d 00077 (/usr/local/go/src/fmt/print.go:314)\tCALL\tfmt.Fprintln(SB)\n",
      "\t0x0052 00082 (/workspaces/GoLangFastPaced/jupyterNotebooks/abdelrauf/example/hello.go:7)\tMOVQ\t56(SP), BP\n",
      "\t0x0057 00087 (/workspaces/GoLangFastPaced/jupyterNotebooks/abdelrauf/example/hello.go:7)\tADDQ\t$64, SP\n",
      "\t0x005b 00091 (/workspaces/GoLangFastPaced/jupyterNotebooks/abdelrauf/example/hello.go:7)\tRET\n",
      "\t0x005c 00092 (/workspaces/GoLangFastPaced/jupyterNotebooks/abdelrauf/example/hello.go:7)\tNOP\n",
      "\t0x005c 00092 (/workspaces/GoLangFastPaced/jupyterNotebooks/abdelrauf/example/hello.go:5)\tPCDATA\t$1, $-1\n",
      "\t0x005c 00092 (/workspaces/GoLangFastPaced/jupyterNotebooks/abdelrauf/example/hello.go:5)\tPCDATA\t$0, $-2\n",
      "\t0x005c 00092 (/workspaces/GoLangFastPaced/jupyterNotebooks/abdelrauf/example/hello.go:5)\tNOP\n",
      "\t0x0060 00096 (/workspaces/GoLangFastPaced/jupyterNotebooks/abdelrauf/example/hello.go:5)\tCALL\truntime.morestack_noctxt(SB)\n",
      "\t0x0065 00101 (/workspaces/GoLangFastPaced/jupyterNotebooks/abdelrauf/example/hello.go:5)\tPCDATA\t$0, $-1\n",
      "\t0x0065 00101 (/workspaces/GoLangFastPaced/jupyterNotebooks/abdelrauf/example/hello.go:5)\tJMP\t0\n",
      "\t0x0000 49 3b 66 10 76 56 48 83 ec 40 48 89 6c 24 38 48  I;f.vVH..@H.l$8H\n",
      "\t0x0010 8d 6c 24 38 44 0f 11 7c 24 28 48 8d 15 00 00 00  .l$8D..|$(H.....\n",
      "\t0x0020 00 48 89 54 24 28 48 8d 15 00 00 00 00 48 89 54  .H.T$(H......H.T\n",
      "\t0x0030 24 30 48 8b 1d 00 00 00 00 48 8d 05 00 00 00 00  $0H......H......\n",
      "\t0x0040 48 8d 4c 24 28 bf 01 00 00 00 48 89 fe e8 00 00  H.L$(.....H.....\n",
      "\t0x0050 00 00 48 8b 6c 24 38 48 83 c4 40 c3 0f 1f 40 00  ..H.l$8H..@...@.\n",
      "\t0x0060 e8 00 00 00 00 eb 99                             .......\n",
      "\trel 2+0 t=23 type:string+0\n",
      "\trel 2+0 t=23 type:*os.File+0\n",
      "\trel 29+4 t=14 type:string+0\n",
      "\trel 41+4 t=14 main..stmp_0+0\n",
      "\trel 53+4 t=14 os.Stdout+0\n",
      "\trel 60+4 t=14 go:itab.*os.File,io.Writer+0\n",
      "\trel 78+4 t=7 fmt.Fprintln+0\n",
      "\trel 97+4 t=7 runtime.morestack_noctxt+0\n",
      "go:cuinfo.producer.main SDWARFCUINFO dupok size=0\n",
      "\t0x0000 72 65 67 61 62 69                                regabi\n",
      "go:cuinfo.packagename.main SDWARFCUINFO dupok size=0\n",
      "\t0x0000 6d 61 69 6e                                      main\n",
      "go:info.fmt.Println$abstract SDWARFABSFCN dupok size=42\n",
      "\t0x0000 05 66 6d 74 2e 50 72 69 6e 74 6c 6e 00 01 01 13  .fmt.Println....\n",
      "\t0x0010 61 00 00 00 00 00 00 13 6e 00 01 00 00 00 00 13  a.......n.......\n",
      "\t0x0020 65 72 72 00 01 00 00 00 00 00                    err.......\n",
      "\trel 0+0 t=22 type:[]interface {}+0\n",
      "\trel 0+0 t=22 type:error+0\n",
      "\trel 0+0 t=22 type:int+0\n",
      "\trel 19+4 t=31 go:info.[]interface {}+0\n",
      "\trel 27+4 t=31 go:info.int+0\n",
      "\trel 37+4 t=31 go:info.error+0\n",
      "go:itab.*os.File,io.Writer SRODATA dupok size=32\n",
      "\t0x0000 00 00 00 00 00 00 00 00 00 00 00 00 00 00 00 00  ................\n",
      "\t0x0010 5a 22 ee 60 00 00 00 00 00 00 00 00 00 00 00 00  Z\".`............\n",
      "\trel 0+8 t=1 type:io.Writer+0\n",
      "\trel 8+8 t=1 type:*os.File+0\n",
      "\trel 24+8 t=-32767 os.(*File).Write+0\n",
      "main..inittask SNOPTRDATA size=32\n",
      "\t0x0000 00 00 00 00 00 00 00 00 01 00 00 00 00 00 00 00  ................\n",
      "\t0x0010 00 00 00 00 00 00 00 00 00 00 00 00 00 00 00 00  ................\n",
      "\trel 24+8 t=1 fmt..inittask+0\n",
      "go:string.\"Salam\" SRODATA dupok size=5\n",
      "\t0x0000 53 61 6c 61 6d                                   Salam\n",
      "main..stmp_0 SRODATA static size=16\n",
      "\t0x0000 00 00 00 00 00 00 00 00 05 00 00 00 00 00 00 00  ................\n",
      "\trel 0+8 t=1 go:string.\"Salam\"+0\n",
      "runtime.nilinterequal·f SRODATA dupok size=8\n",
      "\t0x0000 00 00 00 00 00 00 00 00                          ........\n",
      "\trel 0+8 t=1 runtime.nilinterequal+0\n",
      "runtime.memequal64·f SRODATA dupok size=8\n",
      "\t0x0000 00 00 00 00 00 00 00 00                          ........\n",
      "\trel 0+8 t=1 runtime.memequal64+0\n",
      "runtime.gcbits.0100000000000000 SRODATA dupok size=8\n",
      "\t0x0000 01 00 00 00 00 00 00 00                          ........\n",
      "type:.namedata.*[1]interface {}- SRODATA dupok size=18\n",
      "\t0x0000 00 10 2a 5b 31 5d 69 6e 74 65 72 66 61 63 65 20  ..*[1]interface \n",
      "\t0x0010 7b 7d                                            {}\n",
      "type:*[1]interface {} SRODATA dupok size=56\n",
      "\t0x0000 08 00 00 00 00 00 00 00 08 00 00 00 00 00 00 00  ................\n",
      "\t0x0010 a8 0e 57 36 08 08 08 36 00 00 00 00 00 00 00 00  ..W6...6........\n",
      "\t0x0020 00 00 00 00 00 00 00 00 00 00 00 00 00 00 00 00  ................\n",
      "\t0x0030 00 00 00 00 00 00 00 00                          ........\n",
      "\trel 24+8 t=1 runtime.memequal64·f+0\n",
      "\trel 32+8 t=1 runtime.gcbits.0100000000000000+0\n",
      "\trel 40+4 t=5 type:.namedata.*[1]interface {}-+0\n",
      "\trel 48+8 t=1 type:[1]interface {}+0\n",
      "runtime.gcbits.0200000000000000 SRODATA dupok size=8\n",
      "\t0x0000 02 00 00 00 00 00 00 00                          ........\n",
      "type:[1]interface {} SRODATA dupok size=72\n",
      "\t0x0000 10 00 00 00 00 00 00 00 10 00 00 00 00 00 00 00  ................\n",
      "\t0x0010 6e 20 6a 3d 02 08 08 11 00 00 00 00 00 00 00 00  n j=............\n",
      "\t0x0020 00 00 00 00 00 00 00 00 00 00 00 00 00 00 00 00  ................\n",
      "\t0x0030 00 00 00 00 00 00 00 00 00 00 00 00 00 00 00 00  ................\n",
      "\t0x0040 01 00 00 00 00 00 00 00                          ........\n",
      "\trel 24+8 t=1 runtime.nilinterequal·f+0\n",
      "\trel 32+8 t=1 runtime.gcbits.0200000000000000+0\n",
      "\trel 40+4 t=5 type:.namedata.*[1]interface {}-+0\n",
      "\trel 44+4 t=-32763 type:*[1]interface {}+0\n",
      "\trel 48+8 t=1 type:interface {}+0\n",
      "\trel 56+8 t=1 type:[]interface {}+0\n",
      "type:.importpath.fmt. SRODATA dupok size=5\n",
      "\t0x0000 00 03 66 6d 74                                   ..fmt\n",
      "gclocals·g2BeySu+wFnoycgXfElmcg== SRODATA dupok size=8\n",
      "\t0x0000 01 00 00 00 00 00 00 00                          ........\n",
      "gclocals·EaPwxsZ75yY1hHMVZLmk6g== SRODATA dupok size=9\n",
      "\t0x0000 01 00 00 00 02 00 00 00 00                       .........\n",
      "main.main.stkobj SRODATA static size=24\n",
      "\t0x0000 01 00 00 00 00 00 00 00 f0 ff ff ff 10 00 00 00  ................\n",
      "\t0x0010 10 00 00 00 00 00 00 00                          ........\n",
      "\trel 20+4 t=5 runtime.gcbits.0200000000000000+0\n"
     ]
    }
   ],
   "source": [
    "!cd example &&  go build -gcflags=\"-S\" hello.go"
   ]
  },
  {
   "cell_type": "markdown",
   "metadata": {},
   "source": [
    "GO build komandası manualı"
   ]
  },
  {
   "cell_type": "code",
   "execution_count": 48,
   "metadata": {},
   "outputs": [
    {
     "name": "stdout",
     "output_type": "stream",
     "text": [
      "usage: go build [-o output] [build flags] [packages]\n",
      "\n",
      "Build compiles the packages named by the import paths,\n",
      "along with their dependencies, but it does not install the results.\n",
      "\n",
      "If the arguments to build are a list of .go files from a single directory,\n",
      "build treats them as a list of source files specifying a single package.\n",
      "\n",
      "When compiling packages, build ignores files that end in '_test.go'.\n",
      "\n",
      "When compiling a single main package, build writes\n",
      "the resulting executable to an output file named after\n",
      "the first source file ('go build ed.go rx.go' writes 'ed' or 'ed.exe')\n",
      "or the source code directory ('go build unix/sam' writes 'sam' or 'sam.exe').\n",
      "The '.exe' suffix is added when writing a Windows executable.\n",
      "\n",
      "When compiling multiple packages or a single non-main package,\n",
      "build compiles the packages but discards the resulting object,\n",
      "serving only as a check that the packages can be built.\n",
      "\n",
      "The -o flag forces build to write the resulting executable or object\n",
      "to the named output file or directory, instead of the default behavior described\n",
      "in the last two paragraphs. If the named output is an existing directory or\n",
      "ends with a slash or backslash, then any resulting executables\n",
      "will be written to that directory.\n",
      "\n",
      "The build flags are shared by the build, clean, get, install, list, run,\n",
      "and test commands:\n",
      "\n",
      "\t-C dir\n",
      "\t\tChange to dir before running the command.\n",
      "\t\tAny files named on the command line are interpreted after\n",
      "\t\tchanging directories.\n",
      "\t-a\n",
      "\t\tforce rebuilding of packages that are already up-to-date.\n",
      "\t-n\n",
      "\t\tprint the commands but do not run them.\n",
      "\t-p n\n",
      "\t\tthe number of programs, such as build commands or\n",
      "\t\ttest binaries, that can be run in parallel.\n",
      "\t\tThe default is GOMAXPROCS, normally the number of CPUs available.\n",
      "\t-race\n",
      "\t\tenable data race detection.\n",
      "\t\tSupported only on linux/amd64, freebsd/amd64, darwin/amd64, darwin/arm64, windows/amd64,\n",
      "\t\tlinux/ppc64le and linux/arm64 (only for 48-bit VMA).\n",
      "\t-msan\n",
      "\t\tenable interoperation with memory sanitizer.\n",
      "\t\tSupported only on linux/amd64, linux/arm64, freebsd/amd64\n",
      "\t\tand only with Clang/LLVM as the host C compiler.\n",
      "\t\tPIE build mode will be used on all platforms except linux/amd64.\n",
      "\t-asan\n",
      "\t\tenable interoperation with address sanitizer.\n",
      "\t\tSupported only on linux/arm64, linux/amd64.\n",
      "\t\tSupported only on linux/amd64 or linux/arm64 and only with GCC 7 and higher\n",
      "\t\tor Clang/LLVM 9 and higher.\n",
      "\t-cover\n",
      "\t\tenable code coverage instrumentation (requires\n",
      "\t\tthat GOEXPERIMENT=coverageredesign be set).\n",
      "\t-coverpkg pattern1,pattern2,pattern3\n",
      "\t\tFor a build that targets package 'main' (e.g. building a Go\n",
      "\t\texecutable), apply coverage analysis to each package matching\n",
      "\t\tthe patterns. The default is to apply coverage analysis to\n",
      "\t\tpackages in the main Go module. See 'go help packages' for a\n",
      "\t\tdescription of package patterns.  Sets -cover.\n",
      "\t-v\n",
      "\t\tprint the names of packages as they are compiled.\n",
      "\t-work\n",
      "\t\tprint the name of the temporary work directory and\n",
      "\t\tdo not delete it when exiting.\n",
      "\t-x\n",
      "\t\tprint the commands.\n",
      "\n",
      "\t-asmflags '[pattern=]arg list'\n",
      "\t\targuments to pass on each go tool asm invocation.\n",
      "\t-buildmode mode\n",
      "\t\tbuild mode to use. See 'go help buildmode' for more.\n",
      "\t-buildvcs\n",
      "\t\tWhether to stamp binaries with version control information\n",
      "\t\t(\"true\", \"false\", or \"auto\"). By default (\"auto\"), version control\n",
      "\t\tinformation is stamped into a binary if the main package, the main module\n",
      "\t\tcontaining it, and the current directory are all in the same repository.\n",
      "\t\tUse -buildvcs=false to always omit version control information, or\n",
      "\t\t-buildvcs=true to error out if version control information is available but\n",
      "\t\tcannot be included due to a missing tool or ambiguous directory structure.\n",
      "\t-compiler name\n",
      "\t\tname of compiler to use, as in runtime.Compiler (gccgo or gc).\n",
      "\t-gccgoflags '[pattern=]arg list'\n",
      "\t\targuments to pass on each gccgo compiler/linker invocation.\n",
      "\t-gcflags '[pattern=]arg list'\n",
      "\t\targuments to pass on each go tool compile invocation.\n",
      "\t-installsuffix suffix\n",
      "\t\ta suffix to use in the name of the package installation directory,\n",
      "\t\tin order to keep output separate from default builds.\n",
      "\t\tIf using the -race flag, the install suffix is automatically set to race\n",
      "\t\tor, if set explicitly, has _race appended to it. Likewise for the -msan\n",
      "\t\tand -asan flags. Using a -buildmode option that requires non-default compile\n",
      "\t\tflags has a similar effect.\n",
      "\t-ldflags '[pattern=]arg list'\n",
      "\t\targuments to pass on each go tool link invocation.\n",
      "\t-linkshared\n",
      "\t\tbuild code that will be linked against shared libraries previously\n",
      "\t\tcreated with -buildmode=shared.\n",
      "\t-mod mode\n",
      "\t\tmodule download mode to use: readonly, vendor, or mod.\n",
      "\t\tBy default, if a vendor directory is present and the go version in go.mod\n",
      "\t\tis 1.14 or higher, the go command acts as if -mod=vendor were set.\n",
      "\t\tOtherwise, the go command acts as if -mod=readonly were set.\n",
      "\t\tSee https://golang.org/ref/mod#build-commands for details.\n",
      "\t-modcacherw\n",
      "\t\tleave newly-created directories in the module cache read-write\n",
      "\t\tinstead of making them read-only.\n",
      "\t-modfile file\n",
      "\t\tin module aware mode, read (and possibly write) an alternate go.mod\n",
      "\t\tfile instead of the one in the module root directory. A file named\n",
      "\t\t\"go.mod\" must still be present in order to determine the module root\n",
      "\t\tdirectory, but it is not accessed. When -modfile is specified, an\n",
      "\t\talternate go.sum file is also used: its path is derived from the\n",
      "\t\t-modfile flag by trimming the \".mod\" extension and appending \".sum\".\n",
      "\t-overlay file\n",
      "\t\tread a JSON config file that provides an overlay for build operations.\n",
      "\t\tThe file is a JSON struct with a single field, named 'Replace', that\n",
      "\t\tmaps each disk file path (a string) to its backing file path, so that\n",
      "\t\ta build will run as if the disk file path exists with the contents\n",
      "\t\tgiven by the backing file paths, or as if the disk file path does not\n",
      "\t\texist if its backing file path is empty. Support for the -overlay flag\n",
      "\t\thas some limitations: importantly, cgo files included from outside the\n",
      "\t\tinclude path must be in the same directory as the Go package they are\n",
      "\t\tincluded from, and overlays will not appear when binaries and tests are\n",
      "\t\trun through go run and go test respectively.\n",
      "\t-pgo file\n",
      "\t\tspecify the file path of a profile for profile-guided optimization (PGO).\n",
      "\t\tSpecial name \"auto\" lets the go command select a file named\n",
      "\t\t\"default.pgo\" in the main package's directory if that file exists.\n",
      "\t\tSpecial name \"off\" turns off PGO.\n",
      "\t-pkgdir dir\n",
      "\t\tinstall and load all packages from dir instead of the usual locations.\n",
      "\t\tFor example, when building with a non-standard configuration,\n",
      "\t\tuse -pkgdir to keep generated packages in a separate location.\n",
      "\t-tags tag,list\n",
      "\t\ta comma-separated list of additional build tags to consider satisfied\n",
      "\t\tduring the build. For more information about build tags, see\n",
      "\t\t'go help buildconstraint'. (Earlier versions of Go used a\n",
      "\t\tspace-separated list, and that form is deprecated but still recognized.)\n",
      "\t-trimpath\n",
      "\t\tremove all file system paths from the resulting executable.\n",
      "\t\tInstead of absolute file system paths, the recorded file names\n",
      "\t\twill begin either a module path@version (when using modules),\n",
      "\t\tor a plain import path (when using the standard library, or GOPATH).\n",
      "\t-toolexec 'cmd args'\n",
      "\t\ta program to use to invoke toolchain programs like vet and asm.\n",
      "\t\tFor example, instead of running asm, the go command will run\n",
      "\t\t'cmd args /path/to/asm <arguments for asm>'.\n",
      "\t\tThe TOOLEXEC_IMPORTPATH environment variable will be set,\n",
      "\t\tmatching 'go list -f {{.ImportPath}}' for the package being built.\n",
      "\n",
      "The -asmflags, -gccgoflags, -gcflags, and -ldflags flags accept a\n",
      "space-separated list of arguments to pass to an underlying tool\n",
      "during the build. To embed spaces in an element in the list, surround\n",
      "it with either single or double quotes. The argument list may be\n",
      "preceded by a package pattern and an equal sign, which restricts\n",
      "the use of that argument list to the building of packages matching\n",
      "that pattern (see 'go help packages' for a description of package\n",
      "patterns). Without a pattern, the argument list applies only to the\n",
      "packages named on the command line. The flags may be repeated\n",
      "with different patterns in order to specify different arguments for\n",
      "different sets of packages. If a package matches patterns given in\n",
      "multiple flags, the latest match on the command line wins.\n",
      "For example, 'go build -gcflags=-S fmt' prints the disassembly\n",
      "only for package fmt, while 'go build -gcflags=all=-S fmt'\n",
      "prints the disassembly for fmt and all its dependencies.\n",
      "\n",
      "For more about specifying packages, see 'go help packages'.\n",
      "For more about where packages and binaries are installed,\n",
      "run 'go help gopath'.\n",
      "For more about calling between Go and C/C++, run 'go help c'.\n",
      "\n",
      "Note: Build adheres to certain conventions such as those described\n",
      "by 'go help gopath'. Not all projects can follow these conventions,\n",
      "however. Installations that have their own conventions or that use\n",
      "a separate software build system may choose to use lower-level\n",
      "invocations such as 'go tool compile' and 'go tool link' to avoid\n",
      "some of the overheads and design decisions of the build tool.\n",
      "\n",
      "See also: go install, go get, go clean.\n"
     ]
    }
   ],
   "source": [
    "!go help build"
   ]
  },
  {
   "cell_type": "markdown",
   "metadata": {},
   "source": [
    "```go install``` $GOPATH path-da bin alt qovluğuna icra proqramlarını install edir"
   ]
  },
  {
   "cell_type": "code",
   "execution_count": 49,
   "metadata": {},
   "outputs": [
    {
     "name": "stdout",
     "output_type": "stream",
     "text": [
      "/go\n",
      "/go/bin/hello\n"
     ]
    }
   ],
   "source": [
    "!echo ${GOPATH}\n",
    "!cd example && go install\n",
    "!ls ${GOPATH}/bin/* | grep hello"
   ]
  },
  {
   "cell_type": "markdown",
   "metadata": {},
   "source": [
    "Go da test fayllar-da düzəltmək olur . Test faylların adı konvensiya olaraq **_test.go** ilə bitməlidir.   \n",
    "```go build``` əmrində bu cür fayllar ignor olacaq\n",
    "Bu faylları ```go test```   ilə icra etmək olar   \n",
    "və ya ```go test -c``` ilə test icra faylını yaratmaq olar.  \n"
   ]
  },
  {
   "cell_type": "code",
   "execution_count": 50,
   "metadata": {},
   "outputs": [
    {
     "name": "stdout",
     "output_type": "stream",
     "text": [
      "simple_test.go\n"
     ]
    }
   ],
   "source": [
    "!echo -e \"package main\\n \\\n",
    "import \\\"testing\\\"\\n  \\\n",
    "func simpleTest(t *testing.T)  {\\n\\\n",
    "\\tres:=2+2\\nif res!=4 {\\n  t.Errorf(\\\"%d olmalidir\\\",4)\\n}\\n}\" >example/simple_test.go\n",
    "!cd example && go fmt . && go mod tidy"
   ]
  },
  {
   "cell_type": "code",
   "execution_count": 51,
   "metadata": {},
   "outputs": [
    {
     "name": "stdout",
     "output_type": "stream",
     "text": [
      "testing: warning: no tests to run\n",
      "PASS\n",
      "ok  \texample.com/hello\t0.005s\n"
     ]
    }
   ],
   "source": [
    "!cd example && go test -v"
   ]
  },
  {
   "cell_type": "markdown",
   "metadata": {},
   "source": [
    "\n",
    "Bu məsələni **tests and bench** bölməsində təzədən keçəcəyik"
   ]
  }
 ],
 "metadata": {
  "kernelspec": {
   "display_name": "Go (gonb)",
   "language": "go",
   "name": "gonb"
  },
  "language_info": {
   "codemirror_mode": "",
   "file_extension": ".go",
   "mimetype": "",
   "name": "go",
   "nbconvert_exporter": "",
   "pygments_lexer": "",
   "version": "go1.20.5"
  },
  "orig_nbformat": 4
 },
 "nbformat": 4,
 "nbformat_minor": 2
}
